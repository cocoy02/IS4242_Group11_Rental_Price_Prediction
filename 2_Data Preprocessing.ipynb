{
  "cells": [
    {
      "cell_type": "code",
      "execution_count": 3,
      "metadata": {
        "id": "arzXfiTDMnf3"
      },
      "outputs": [],
      "source": [
        "# Imports\n",
        "import pandas as pd \n",
        "import numpy as np\n",
        "import seaborn as sns\n",
        "import matplotlib.pyplot as plt\n",
        "import scipy.stats as stats\n",
        "import re\n",
        "from datetime import datetime\n",
        "import warnings\n",
        "warnings.filterwarnings(\"ignore\")"
      ]
    },
    {
      "cell_type": "markdown",
      "metadata": {
        "id": "Spl0ww_yO9Vf"
      },
      "source": [
        "# Data Ingestion and Understanding"
      ]
    },
    {
      "cell_type": "code",
      "execution_count": 4,
      "metadata": {
        "id": "ONcHtQ-FMiXx"
      },
      "outputs": [],
      "source": [
        "# Read data\n",
        "df_srx = pd.read_excel(\"Data/df_srx_new.xlsx\")"
      ]
    },
    {
      "cell_type": "code",
      "execution_count": 5,
      "metadata": {
        "colab": {
          "base_uri": "https://localhost:8080/"
        },
        "id": "voWta6WsPFy4",
        "outputId": "80971212-1837-4acd-aaa5-39e3349a80d3"
      },
      "outputs": [
        {
          "data": {
            "text/plain": [
              "Unnamed: 0                9999\n",
              "PSF                       2303\n",
              "Property Name             2296\n",
              "Bathrooms                 3080\n",
              "Tenure                    2411\n",
              "Model                     3778\n",
              "No. of Units              2643\n",
              "District                  2296\n",
              "Take Over                 2296\n",
              "Property Type             2296\n",
              "Lease Term                2296\n",
              "Room Type                 2296\n",
              "Address                   2296\n",
              "Available from            6941\n",
              "Size                      2296\n",
              "Date Listed               2296\n",
              "Floor Level               9407\n",
              "Utility Amount            9987\n",
              "Bedrooms                  3312\n",
              "Developer                 2772\n",
              "Built Year                2967\n",
              "Furnish                   6430\n",
              "Asking                    2302\n",
              "HDB Town                  9999\n",
              "TOP                       9840\n",
              "Bus Stops                 3322\n",
              "Primary Schools           2431\n",
              "Groceries & Supermarts    2303\n",
              "Shopping Malls            2340\n",
              "Trains (MRT & LRT)        2345\n",
              "dtype: int64"
            ]
          },
          "execution_count": 5,
          "metadata": {},
          "output_type": "execute_result"
        }
      ],
      "source": [
        "df_srx.isnull().sum()"
      ]
    },
    {
      "cell_type": "code",
      "execution_count": 6,
      "metadata": {
        "colab": {
          "base_uri": "https://localhost:8080/"
        },
        "id": "d5WOJHo20Yai",
        "outputId": "faaf48c2-d2d0-48be-c2c8-3ba640979ede"
      },
      "outputs": [
        {
          "data": {
            "text/plain": [
              "Unnamed: 0                float64\n",
              "PSF                        object\n",
              "Property Name              object\n",
              "Bathrooms                 float64\n",
              "Tenure                     object\n",
              "Model                      object\n",
              "No. of Units              float64\n",
              "District                   object\n",
              "Take Over                  object\n",
              "Property Type              object\n",
              "Lease Term                 object\n",
              "Room Type                  object\n",
              "Address                    object\n",
              "Available from             object\n",
              "Size                       object\n",
              "Date Listed               float64\n",
              "Floor Level                object\n",
              "Utility Amount             object\n",
              "Bedrooms                   object\n",
              "Developer                  object\n",
              "Built Year                float64\n",
              "Furnish                    object\n",
              "Asking                     object\n",
              "HDB Town                  float64\n",
              "TOP                       float64\n",
              "Bus Stops                  object\n",
              "Primary Schools            object\n",
              "Groceries & Supermarts     object\n",
              "Shopping Malls             object\n",
              "Trains (MRT & LRT)         object\n",
              "dtype: object"
            ]
          },
          "execution_count": 6,
          "metadata": {},
          "output_type": "execute_result"
        }
      ],
      "source": [
        "df_srx.dtypes"
      ]
    },
    {
      "cell_type": "markdown",
      "metadata": {
        "id": "HTiV9PoCPC7o"
      },
      "source": [
        "# Data Cleaning"
      ]
    },
    {
      "cell_type": "code",
      "execution_count": 7,
      "metadata": {
        "colab": {
          "base_uri": "https://localhost:8080/"
        },
        "id": "JbjljzUMDT8o",
        "outputId": "da82b126-2f9c-43ff-bffa-403558d82ac8"
      },
      "outputs": [
        {
          "name": "stdout",
          "output_type": "stream",
          "text": [
            "Original: 9999\n",
            "df_srx: 7703\n"
          ]
        }
      ],
      "source": [
        "# Remove completely empty rows\n",
        "print(f'Original: {len(df_srx)}')\n",
        "df_srx = df_srx.dropna(how=\"all\")\n",
        "print(f'df_srx: {len(df_srx)}')"
      ]
    },
    {
      "cell_type": "code",
      "execution_count": 8,
      "metadata": {
        "colab": {
          "base_uri": "https://localhost:8080/"
        },
        "id": "K7OerkC63Ka5",
        "outputId": "560863aa-8217-4c0c-a42a-3a868bec67b7"
      },
      "outputs": [
        {
          "data": {
            "text/plain": [
              "Unnamed: 0                7703\n",
              "PSF                          7\n",
              "Property Name                0\n",
              "Bathrooms                  784\n",
              "Tenure                     115\n",
              "Model                     1482\n",
              "No. of Units               347\n",
              "District                     0\n",
              "Take Over                    0\n",
              "Property Type                0\n",
              "Lease Term                   0\n",
              "Room Type                    0\n",
              "Address                      0\n",
              "Available from            4645\n",
              "Size                         0\n",
              "Date Listed                  0\n",
              "Floor Level               7111\n",
              "Utility Amount            7691\n",
              "Bedrooms                  1016\n",
              "Developer                  476\n",
              "Built Year                 671\n",
              "Furnish                   4134\n",
              "Asking                       6\n",
              "HDB Town                  7703\n",
              "TOP                       7544\n",
              "Bus Stops                 1026\n",
              "Primary Schools            135\n",
              "Groceries & Supermarts       7\n",
              "Shopping Malls              44\n",
              "Trains (MRT & LRT)          49\n",
              "dtype: int64"
            ]
          },
          "execution_count": 8,
          "metadata": {},
          "output_type": "execute_result"
        }
      ],
      "source": [
        "df_srx.isnull().sum()"
      ]
    },
    {
      "cell_type": "code",
      "execution_count": 9,
      "metadata": {
        "colab": {
          "base_uri": "https://localhost:8080/"
        },
        "id": "qA5KOOJn8Erv",
        "outputId": "e637713b-485c-457d-fb88-c0a0fd95c87a"
      },
      "outputs": [
        {
          "name": "stdout",
          "output_type": "stream",
          "text": [
            "df_srx: 7703\n"
          ]
        }
      ],
      "source": [
        "# Remove duplicates\n",
        "df_srx = df_srx.drop_duplicates()\n",
        "\n",
        "print(f'df_srx: {len(df_srx)}')"
      ]
    },
    {
      "cell_type": "code",
      "execution_count": 10,
      "metadata": {
        "colab": {
          "base_uri": "https://localhost:8080/"
        },
        "id": "gMNKMt9L3NBC",
        "outputId": "a191bc91-5c37-459b-f807-7e84a797cb95"
      },
      "outputs": [
        {
          "name": "stdout",
          "output_type": "stream",
          "text": [
            "df_srx: 6930\n"
          ]
        }
      ],
      "source": [
        "df_srx = df_srx.replace(to_replace=r'\\t', value='', regex=True)\n",
        "df_srx['Available from'] = df_srx['Available from'].replace(to_replace=[np.nan,',Now'], value=datetime.now().date(), regex=True)\n",
        "df_srx['Available from'] = df_srx['Available from'].apply(lambda x: pd.to_datetime(x).date())\n",
        "#Keep Available From before today\n",
        "df_srx = df_srx[df_srx['Available from'] <= datetime.now().date()]\n",
        "print(f'df_srx: {len(df_srx)}')"
      ]
    },
    {
      "cell_type": "code",
      "execution_count": 11,
      "metadata": {
        "colab": {
          "base_uri": "https://localhost:8080/"
        },
        "id": "XqEu-gDn3VPm",
        "outputId": "bbd5dbc9-8228-49c8-86ec-eb59de88be97"
      },
      "outputs": [
        {
          "name": "stdout",
          "output_type": "stream",
          "text": [
            "df_srx: 6930\n"
          ]
        }
      ],
      "source": [
        "#Has property type\n",
        "df_srx = df_srx[pd.notnull(df_srx['Property Type'])]\n",
        "print(f'df_srx: {len(df_srx)}')"
      ]
    },
    {
      "cell_type": "code",
      "execution_count": 12,
      "metadata": {
        "id": "u2dyZCbKoxvp"
      },
      "outputs": [],
      "source": [
        "# Remove 3 empty date listed rows\n",
        "df_srx = df_srx[df_srx['Date Listed'].notna()]"
      ]
    },
    {
      "cell_type": "code",
      "execution_count": 13,
      "metadata": {
        "id": "GRkPefzc8PrF"
      },
      "outputs": [],
      "source": [
        "# Remove unnecessary columns \n",
        "df_srx = df_srx.drop(['Utility Amount', 'Available from', 'PSF', 'TOP', 'Floor Level', 'Furnish', 'Take Over', 'Bus Stops'], axis=1)"
      ]
    },
    {
      "cell_type": "markdown",
      "metadata": {
        "id": "TmLnfzLNUSXF"
      },
      "source": [
        "**Tenure**"
      ]
    },
    {
      "cell_type": "code",
      "execution_count": 14,
      "metadata": {
        "colab": {
          "base_uri": "https://localhost:8080/"
        },
        "id": "nma7tf0HUUhA",
        "outputId": "e78a31ac-6eec-41d6-c08c-93439ccf1ebb"
      },
      "outputs": [
        {
          "data": {
            "text/plain": [
              "LEASEHOLD/99 years           3812\n",
              "FREEHOLD                     2572\n",
              "999 years                     198\n",
              "LEASEHOLD/103 years           100\n",
              "110 Years from 01/11/2017      66\n",
              "929 Years from 01/01/1953      15\n",
              "956 Years from 27/05/1928      14\n",
              "100 Years from 01/02/1986      10\n",
              "LEASEHOLD/60 years              8\n",
              "947 Years from 15/05/1937       8\n",
              "Freehold                        4\n",
              "N.A                             2\n",
              "99 Years from 07/03/2018        1\n",
              "99 Years from 28/08/2013        1\n",
              "947 Years from 05/10/1934       1\n",
              "998 Years from 12/10/1885       1\n",
              "99 Years from 22/03/2012        1\n",
              "946 Years from 23/06/1938       1\n",
              "99 Years from 14/08/2018        1\n",
              "103 Years from 01/10/2010       1\n",
              "Name: Tenure, dtype: int64"
            ]
          },
          "execution_count": 14,
          "metadata": {},
          "output_type": "execute_result"
        }
      ],
      "source": [
        "df_srx[\"Tenure\"].value_counts()"
      ]
    },
    {
      "cell_type": "code",
      "execution_count": 15,
      "metadata": {
        "id": "kWqMieFJe3Mv"
      },
      "outputs": [],
      "source": [
        "df_srx[\"Tenure\"] = df_srx[\"Tenure\"].replace(np.nan, 99)\n",
        "df_srx[\"Tenure\"] = df_srx[\"Tenure\"].replace('N.A', 99)"
      ]
    },
    {
      "cell_type": "code",
      "execution_count": 16,
      "metadata": {
        "id": "9er5MYIfUfa6"
      },
      "outputs": [],
      "source": [
        "df_srx[\"Tenure\"] = df_srx[\"Tenure\"].apply(lambda x: str(x).lower().replace('leasehold/',''))\n",
        "df_srx[\"Tenure\"] = df_srx[\"Tenure\"].apply(lambda x: re.sub('years.*','', x))\n",
        "df_srx[\"Tenure\"] = df_srx[\"Tenure\"].apply(lambda x: 999 if x.find(\"freehold\") > -1 else int(x))"
      ]
    },
    {
      "cell_type": "code",
      "execution_count": 17,
      "metadata": {
        "colab": {
          "base_uri": "https://localhost:8080/"
        },
        "id": "LVllabDKXgMM",
        "outputId": "21b89495-6941-4bc3-f6e2-c1815e8b2deb"
      },
      "outputs": [
        {
          "data": {
            "text/plain": [
              "99     3931\n",
              "999    2774\n",
              "103     101\n",
              "110      66\n",
              "929      15\n",
              "956      14\n",
              "100      10\n",
              "947       9\n",
              "60        8\n",
              "998       1\n",
              "946       1\n",
              "Name: Tenure, dtype: int64"
            ]
          },
          "execution_count": 17,
          "metadata": {},
          "output_type": "execute_result"
        }
      ],
      "source": [
        "df_srx[\"Tenure\"].value_counts()"
      ]
    },
    {
      "cell_type": "code",
      "execution_count": 18,
      "metadata": {
        "id": "cjA4KURQsBid"
      },
      "outputs": [],
      "source": [
        "# Or only two categories: Leasehold and freehold\n",
        "# df_srx[\"Tenure\"] = df_srx[\"Tenure\"].replace(np.nan, \"Leasehold\")\n",
        "# df_srx[\"Tenure\"] = df_srx[\"Tenure\"].apply(lambda x: \"Freehold\" if x.find(\"freehold\") > -1 or x.find(\"999\") > -1 else \"Non-freehold\")"
      ]
    },
    {
      "cell_type": "markdown",
      "metadata": {
        "id": "v7YDVdK-WlkX"
      },
      "source": [
        "**District**"
      ]
    },
    {
      "cell_type": "code",
      "execution_count": 19,
      "metadata": {
        "colab": {
          "base_uri": "https://localhost:8080/"
        },
        "id": "_ein_Vk9WnrW",
        "outputId": "34f8e9a8-a275-46b3-beb6-767a40994de1"
      },
      "outputs": [
        {
          "data": {
            "text/plain": [
              "D9 - Orchard / River Valley                          952\n",
              "D10 - Tanglin / Holland / Bukit Timah                883\n",
              "D14 - Eunos / Geylang / Paya Lebar                   489\n",
              "D19 - Hougang / Punggol / Sengkang                   385\n",
              "D15 - East Coast / Marine Parade                     372\n",
              "D1 - Boat Quay / Raffles Place / Marina              323\n",
              "D3 - Alexandra / Commonwealth                        312\n",
              "D18 - Pasir Ris / Tampines                           295\n",
              "D5 - Buona Vista / West Coast / Clementi New Town    279\n",
              "D20 - Ang Mo Kio / Bishan / Thomson                  251\n",
              "D21 - Clementi Park / Upper Bukit Timah              244\n",
              "D11 - Newton / Novena                                241\n",
              "D23 - Dairy Farm / Bukit Panjang / Choa Chu Kang     210\n",
              "D22 - Boon Lay / Jurong / Tuas                       189\n",
              "D16 - Bedok / Upper East Coast                       187\n",
              "D13 - Macpherson / Potong Pasir                      180\n",
              "D12 - Balestier / Toa Payoh                          171\n",
              "D4 - Sentosa / Harbourfront                          171\n",
              "D2 - Chinatown / Tanjong Pagar                       168\n",
              "D27 - Sembawang / Yishun                             125\n",
              "D8 - Farrer Park / Serangoon Rd                      116\n",
              "D17 - Changi Airport / Changi Village                116\n",
              "D7 - Beach Road / Bugis / Rochor                      94\n",
              "D25 - Admiralty / Woodlands                           85\n",
              "D28 - Seletar / Yio Chu Kang                          67\n",
              "D26 - Mandai / Upper Thomson                          19\n",
              "D6 - City Hall / Clarke Quay                           6\n",
              "Name: District, dtype: int64"
            ]
          },
          "execution_count": 19,
          "metadata": {},
          "output_type": "execute_result"
        }
      ],
      "source": [
        "df_srx[\"District\"].value_counts()"
      ]
    },
    {
      "cell_type": "code",
      "execution_count": 20,
      "metadata": {
        "colab": {
          "base_uri": "https://localhost:8080/"
        },
        "id": "WjoCsavbgjgz",
        "outputId": "506c999f-2132-43b4-875a-09801cb0b80a"
      },
      "outputs": [
        {
          "data": {
            "text/plain": [
              "array([], dtype=float64)"
            ]
          },
          "execution_count": 20,
          "metadata": {},
          "output_type": "execute_result"
        }
      ],
      "source": [
        "null_districts_with_towns = df_srx[df_srx['District'].isna()]['HDB Town']\n",
        "unique_towns = null_districts_with_towns.unique()\n",
        "unique_towns"
      ]
    },
    {
      "cell_type": "code",
      "execution_count": 21,
      "metadata": {
        "id": "w2hyw9vlv1Dt"
      },
      "outputs": [],
      "source": [
        "df_srx[\"District\"] = df_srx[\"District\"].fillna(\"NULL\")\n",
        "for town in unique_towns:\n",
        "    avail_districts = df_srx[\"District\"][df_srx[\"District\"].str.contains(town)]\n",
        "    if avail_districts.empty:\n",
        "      pass\n",
        "    else:\n",
        "      df_srx.loc[df_srx[\"HDB Town\"] == town, [\"District\"]] = avail_districts.iloc[0]"
      ]
    },
    {
      "cell_type": "code",
      "execution_count": 22,
      "metadata": {
        "colab": {
          "base_uri": "https://localhost:8080/"
        },
        "id": "80ABknGwxTxe",
        "outputId": "99588106-d4c2-4b18-81ea-71bcd8775fea"
      },
      "outputs": [
        {
          "data": {
            "text/plain": [
              "array([], dtype=float64)"
            ]
          },
          "execution_count": 22,
          "metadata": {},
          "output_type": "execute_result"
        }
      ],
      "source": [
        "df_srx.loc[df_srx[\"District\"]==\"NULL\"][\"HDB Town\"].unique()"
      ]
    },
    {
      "cell_type": "code",
      "execution_count": 23,
      "metadata": {
        "id": "4mjlbsjGyI7W"
      },
      "outputs": [],
      "source": [
        "# Manually replace NaN values in District column based on info from external resources\n",
        "df_srx.loc[df_srx['HDB Town'] == 'Jurong West', [\"District\"]] = 'D22'\n",
        "df_srx.loc[df_srx['HDB Town'] == 'Jurong East', [\"District\"]] = 'D22'\n",
        "df_srx.loc[df_srx['HDB Town'] == 'Bukit Batok', [\"District\"]] = 'D21'\n",
        "df_srx.loc[df_srx['HDB Town'] == 'Kallang/Whampoa', [\"District\"]] = 'D11'\n",
        "df_srx.loc[df_srx['HDB Town'] == 'Queenstown', [\"District\"]] = 'D3'\n",
        "df_srx.loc[df_srx['HDB Town'] == 'Bukit Merah', [\"District\"]] = 'D3'\n",
        "df_srx.loc[df_srx['HDB Town'] == 'Central Area', [\"District\"]] = 'D1'"
      ]
    },
    {
      "cell_type": "code",
      "execution_count": 24,
      "metadata": {
        "colab": {
          "base_uri": "https://localhost:8080/"
        },
        "id": "DuadiHyMz1Xd",
        "outputId": "7ef403d3-843c-4c01-8cd3-4f566f169a4f"
      },
      "outputs": [
        {
          "data": {
            "text/plain": [
              "D9 - Orchard / River Valley                          952\n",
              "D10 - Tanglin / Holland / Bukit Timah                883\n",
              "D14 - Eunos / Geylang / Paya Lebar                   489\n",
              "D19 - Hougang / Punggol / Sengkang                   385\n",
              "D15 - East Coast / Marine Parade                     372\n",
              "D1 - Boat Quay / Raffles Place / Marina              323\n",
              "D3 - Alexandra / Commonwealth                        312\n",
              "D18 - Pasir Ris / Tampines                           295\n",
              "D5 - Buona Vista / West Coast / Clementi New Town    279\n",
              "D20 - Ang Mo Kio / Bishan / Thomson                  251\n",
              "D21 - Clementi Park / Upper Bukit Timah              244\n",
              "D11 - Newton / Novena                                241\n",
              "D23 - Dairy Farm / Bukit Panjang / Choa Chu Kang     210\n",
              "D22 - Boon Lay / Jurong / Tuas                       189\n",
              "D16 - Bedok / Upper East Coast                       187\n",
              "D13 - Macpherson / Potong Pasir                      180\n",
              "D12 - Balestier / Toa Payoh                          171\n",
              "D4 - Sentosa / Harbourfront                          171\n",
              "D2 - Chinatown / Tanjong Pagar                       168\n",
              "D27 - Sembawang / Yishun                             125\n",
              "D8 - Farrer Park / Serangoon Rd                      116\n",
              "D17 - Changi Airport / Changi Village                116\n",
              "D7 - Beach Road / Bugis / Rochor                      94\n",
              "D25 - Admiralty / Woodlands                           85\n",
              "D28 - Seletar / Yio Chu Kang                          67\n",
              "D26 - Mandai / Upper Thomson                          19\n",
              "D6 - City Hall / Clarke Quay                           6\n",
              "Name: District, dtype: int64"
            ]
          },
          "execution_count": 24,
          "metadata": {},
          "output_type": "execute_result"
        }
      ],
      "source": [
        "df_srx[\"District\"].value_counts()"
      ]
    },
    {
      "cell_type": "code",
      "execution_count": 25,
      "metadata": {
        "id": "wPvUDmwafo5V"
      },
      "outputs": [],
      "source": [
        "df_srx[\"District\"] = df_srx[\"District\"].apply(lambda x: re.sub(' -.*','',str(x)))"
      ]
    },
    {
      "cell_type": "code",
      "execution_count": 26,
      "metadata": {
        "colab": {
          "base_uri": "https://localhost:8080/"
        },
        "id": "22o1hOeWfzu0",
        "outputId": "abb6719b-6138-4e84-ea7f-a5d6eb0d493d"
      },
      "outputs": [
        {
          "data": {
            "text/plain": [
              "D9     952\n",
              "D10    883\n",
              "D14    489\n",
              "D19    385\n",
              "D15    372\n",
              "D1     323\n",
              "D3     312\n",
              "D18    295\n",
              "D5     279\n",
              "D20    251\n",
              "D21    244\n",
              "D11    241\n",
              "D23    210\n",
              "D22    189\n",
              "D16    187\n",
              "D13    180\n",
              "D12    171\n",
              "D4     171\n",
              "D2     168\n",
              "D27    125\n",
              "D8     116\n",
              "D17    116\n",
              "D7      94\n",
              "D25     85\n",
              "D28     67\n",
              "D26     19\n",
              "D6       6\n",
              "Name: District, dtype: int64"
            ]
          },
          "execution_count": 26,
          "metadata": {},
          "output_type": "execute_result"
        }
      ],
      "source": [
        "df_srx[\"District\"].value_counts()"
      ]
    },
    {
      "cell_type": "code",
      "execution_count": 27,
      "metadata": {
        "id": "xomSrpHSFKwD"
      },
      "outputs": [],
      "source": [
        "# Remove unnecessary HDB Town column \n",
        "df_srx = df_srx.drop(['HDB Town'], axis=1)"
      ]
    },
    {
      "cell_type": "markdown",
      "metadata": {
        "id": "m9lX-Q6BpDyz"
      },
      "source": [
        "**Size**"
      ]
    },
    {
      "cell_type": "code",
      "execution_count": 28,
      "metadata": {
        "colab": {
          "base_uri": "https://localhost:8080/"
        },
        "id": "XM33sWKV05Vi",
        "outputId": "c2ba1226-4c53-4fd9-fd6f-abdb8d54cc71"
      },
      "outputs": [
        {
          "data": {
            "text/plain": [
              "200 sqft (Built-up)      186\n",
              "150 sqft (Built-up)      176\n",
              "100 sqft (Built-up)      149\n",
              "689 sqft (Built-up)      104\n",
              "764 sqft (Built-up)      104\n",
              "                        ... \n",
              "626 sqft (Built-up)        1\n",
              "4,962 sqft (Built-up)      1\n",
              "2,853 sqft (Built-up)      1\n",
              "5,285 sqft (Built-up)      1\n",
              "88 sqft (Built-up)         1\n",
              "Name: Size, Length: 833, dtype: int64"
            ]
          },
          "execution_count": 28,
          "metadata": {},
          "output_type": "execute_result"
        }
      ],
      "source": [
        "df_srx[\"Size\"].value_counts()"
      ]
    },
    {
      "cell_type": "code",
      "execution_count": 29,
      "metadata": {
        "colab": {
          "base_uri": "https://localhost:8080/",
          "height": 177
        },
        "id": "ZKcVgPhP30-5",
        "outputId": "c2f3c360-fa92-4a50-db87-1b68368ca773"
      },
      "outputs": [
        {
          "data": {
            "text/html": [
              "<div>\n",
              "<style scoped>\n",
              "    .dataframe tbody tr th:only-of-type {\n",
              "        vertical-align: middle;\n",
              "    }\n",
              "\n",
              "    .dataframe tbody tr th {\n",
              "        vertical-align: top;\n",
              "    }\n",
              "\n",
              "    .dataframe thead th {\n",
              "        text-align: right;\n",
              "    }\n",
              "</style>\n",
              "<table border=\"1\" class=\"dataframe\">\n",
              "  <thead>\n",
              "    <tr style=\"text-align: right;\">\n",
              "      <th></th>\n",
              "      <th>Unnamed: 0</th>\n",
              "      <th>Property Name</th>\n",
              "      <th>Bathrooms</th>\n",
              "      <th>Tenure</th>\n",
              "      <th>Model</th>\n",
              "      <th>No. of Units</th>\n",
              "      <th>District</th>\n",
              "      <th>Property Type</th>\n",
              "      <th>Lease Term</th>\n",
              "      <th>Room Type</th>\n",
              "      <th>...</th>\n",
              "      <th>Size</th>\n",
              "      <th>Date Listed</th>\n",
              "      <th>Bedrooms</th>\n",
              "      <th>Developer</th>\n",
              "      <th>Built Year</th>\n",
              "      <th>Asking</th>\n",
              "      <th>Primary Schools</th>\n",
              "      <th>Groceries &amp; Supermarts</th>\n",
              "      <th>Shopping Malls</th>\n",
              "      <th>Trains (MRT &amp; LRT)</th>\n",
              "    </tr>\n",
              "  </thead>\n",
              "  <tbody>\n",
              "  </tbody>\n",
              "</table>\n",
              "<p>0 rows × 21 columns</p>\n",
              "</div>"
            ],
            "text/plain": [
              "Empty DataFrame\n",
              "Columns: [Unnamed: 0, Property Name, Bathrooms, Tenure, Model, No. of Units, District, Property Type, Lease Term, Room Type, Address, Size, Date Listed, Bedrooms, Developer, Built Year, Asking, Primary Schools, Groceries & Supermarts, Shopping Malls, Trains (MRT & LRT)]\n",
              "Index: []\n",
              "\n",
              "[0 rows x 21 columns]"
            ]
          },
          "execution_count": 29,
          "metadata": {},
          "output_type": "execute_result"
        }
      ],
      "source": [
        "df_srx[df_srx[\"Size\"].isnull()]"
      ]
    },
    {
      "cell_type": "code",
      "execution_count": 30,
      "metadata": {
        "id": "xLe9tThU1Bl7"
      },
      "outputs": [],
      "source": [
        "# 1 sqm = 10.764 sqft\n",
        "df_srx[\"Size\"] = df_srx[\"Size\"].fillna(0)\n",
        "df_srx[\"Size\"] = df_srx[\"Size\"].apply(lambda x: str(x).replace(',', ''))\n",
        "df_srx[\"Size\"] = df_srx[\"Size\"].apply(lambda x: int(x.split(' ')[0]) if x.find('sqft') > -1 else int(x.split(' ')[0])*10.764)"
      ]
    },
    {
      "cell_type": "code",
      "execution_count": 31,
      "metadata": {
        "colab": {
          "base_uri": "https://localhost:8080/"
        },
        "id": "1oKj3YprMBpa",
        "outputId": "2156b7d4-9d93-4f95-ce8e-c0bc0eef7d31"
      },
      "outputs": [
        {
          "data": {
            "text/plain": [
              "Condominium    3996\n",
              "Apartment      2934\n",
              "Name: Property Type, dtype: int64"
            ]
          },
          "execution_count": 31,
          "metadata": {},
          "output_type": "execute_result"
        }
      ],
      "source": [
        "df_srx['Property Type'].value_counts()"
      ]
    },
    {
      "cell_type": "code",
      "execution_count": 32,
      "metadata": {
        "colab": {
          "base_uri": "https://localhost:8080/"
        },
        "id": "K3bUkNGG6U3_",
        "outputId": "3f8a2e2a-e9f5-4ee8-f66d-4233680a64f9"
      },
      "outputs": [
        {
          "data": {
            "text/plain": [
              "(0, 10000]        6929\n",
              "(10000, 20000]       0\n",
              "(20000, 30000]       0\n",
              "(30000, 40000]       0\n",
              "(40000, 50000]       0\n",
              "(50000, 60000]       0\n",
              "(60000, 70000]       0\n",
              "(70000, 80000]       0\n",
              "Name: Size, dtype: int64"
            ]
          },
          "execution_count": 32,
          "metadata": {},
          "output_type": "execute_result"
        }
      ],
      "source": [
        "pd.cut(df_srx[\"Size\"], np.arange(0, 90000, 10000)).value_counts()"
      ]
    },
    {
      "cell_type": "code",
      "execution_count": 33,
      "metadata": {
        "colab": {
          "base_uri": "https://localhost:8080/",
          "height": 296
        },
        "id": "-ppf1oZ1_0Ap",
        "outputId": "1bc056bf-0739-4875-a837-5ebf2b2a27b2"
      },
      "outputs": [
        {
          "data": {
            "text/html": [
              "<div>\n",
              "<style scoped>\n",
              "    .dataframe tbody tr th:only-of-type {\n",
              "        vertical-align: middle;\n",
              "    }\n",
              "\n",
              "    .dataframe tbody tr th {\n",
              "        vertical-align: top;\n",
              "    }\n",
              "\n",
              "    .dataframe thead th {\n",
              "        text-align: right;\n",
              "    }\n",
              "</style>\n",
              "<table border=\"1\" class=\"dataframe\">\n",
              "  <thead>\n",
              "    <tr style=\"text-align: right;\">\n",
              "      <th></th>\n",
              "      <th>Unnamed: 0</th>\n",
              "      <th>Property Name</th>\n",
              "      <th>Bathrooms</th>\n",
              "      <th>Tenure</th>\n",
              "      <th>Model</th>\n",
              "      <th>No. of Units</th>\n",
              "      <th>District</th>\n",
              "      <th>Property Type</th>\n",
              "      <th>Lease Term</th>\n",
              "      <th>Room Type</th>\n",
              "      <th>...</th>\n",
              "      <th>Size</th>\n",
              "      <th>Date Listed</th>\n",
              "      <th>Bedrooms</th>\n",
              "      <th>Developer</th>\n",
              "      <th>Built Year</th>\n",
              "      <th>Asking</th>\n",
              "      <th>Primary Schools</th>\n",
              "      <th>Groceries &amp; Supermarts</th>\n",
              "      <th>Shopping Malls</th>\n",
              "      <th>Trains (MRT &amp; LRT)</th>\n",
              "    </tr>\n",
              "  </thead>\n",
              "  <tbody>\n",
              "    <tr>\n",
              "      <th>9729</th>\n",
              "      <td>NaN</td>\n",
              "      <td>Tenet</td>\n",
              "      <td>2.0</td>\n",
              "      <td>99</td>\n",
              "      <td>Executive Condominium</td>\n",
              "      <td>618.0</td>\n",
              "      <td>D18</td>\n",
              "      <td>Condominium</td>\n",
              "      <td>Flexible</td>\n",
              "      <td>Entire Unit</td>\n",
              "      <td>...</td>\n",
              "      <td>1121997</td>\n",
              "      <td>1.678800e+09</td>\n",
              "      <td>3</td>\n",
              "      <td>TQS Development Pte Ltd</td>\n",
              "      <td>NaN</td>\n",
              "      <td>$893</td>\n",
              "      <td>Elias Park Primary,0.74 km;Park View Primary,1...</td>\n",
              "      <td>NTUC Fairprice (Whitesands),0.92 km;Sheng Sion...</td>\n",
              "      <td>White Sands,0.92 km;Elias Mall,1.14 km;Pasir R...</td>\n",
              "      <td>TAMPINES NORTH MRT DUE 2029,CR6;PASIR RIS MRT,...</td>\n",
              "    </tr>\n",
              "  </tbody>\n",
              "</table>\n",
              "<p>1 rows × 21 columns</p>\n",
              "</div>"
            ],
            "text/plain": [
              "      Unnamed: 0 Property Name  Bathrooms  Tenure                  Model  \\\n",
              "9729         NaN         Tenet        2.0      99  Executive Condominium   \n",
              "\n",
              "      No. of Units District Property Type Lease Term    Room Type  ...  \\\n",
              "9729         618.0      D18   Condominium   Flexible  Entire Unit  ...   \n",
              "\n",
              "         Size   Date Listed  Bedrooms                Developer Built Year  \\\n",
              "9729  1121997  1.678800e+09         3  TQS Development Pte Ltd        NaN   \n",
              "\n",
              "      Asking                                    Primary Schools  \\\n",
              "9729    $893  Elias Park Primary,0.74 km;Park View Primary,1...   \n",
              "\n",
              "                                 Groceries & Supermarts  \\\n",
              "9729  NTUC Fairprice (Whitesands),0.92 km;Sheng Sion...   \n",
              "\n",
              "                                         Shopping Malls  \\\n",
              "9729  White Sands,0.92 km;Elias Mall,1.14 km;Pasir R...   \n",
              "\n",
              "                                     Trains (MRT & LRT)  \n",
              "9729  TAMPINES NORTH MRT DUE 2029,CR6;PASIR RIS MRT,...  \n",
              "\n",
              "[1 rows x 21 columns]"
            ]
          },
          "execution_count": 33,
          "metadata": {},
          "output_type": "execute_result"
        }
      ],
      "source": [
        "big = df_srx[df_srx[\"Size\"] > 20000]\n",
        "big"
      ]
    },
    {
      "cell_type": "code",
      "execution_count": 34,
      "metadata": {
        "id": "Ld2hvdpA_1Vg"
      },
      "outputs": [],
      "source": [
        "# Remove outlier of size 70,000+ sqft\n",
        "df_srx = df_srx[df_srx[\"Size\"] < 30000]"
      ]
    },
    {
      "cell_type": "markdown",
      "metadata": {
        "id": "20cPYXFFPhfh"
      },
      "source": [
        "**Bedrooms**"
      ]
    },
    {
      "cell_type": "code",
      "execution_count": 35,
      "metadata": {
        "colab": {
          "base_uri": "https://localhost:8080/"
        },
        "id": "giUFa7dxPi_g",
        "outputId": "1cd64e68-bd25-4635-cf84-0b48e3b167a0"
      },
      "outputs": [
        {
          "data": {
            "text/plain": [
              "2         1703\n",
              "3         1541\n",
              "1         1349\n",
              "4          617\n",
              "Studio     182\n",
              "3+1        160\n",
              "4+1        121\n",
              "1+1        102\n",
              "2+1         93\n",
              "5           76\n",
              "6           13\n",
              "5+1          9\n",
              "4+2          3\n",
              "Name: Bedrooms, dtype: int64"
            ]
          },
          "execution_count": 35,
          "metadata": {},
          "output_type": "execute_result"
        }
      ],
      "source": [
        "df_srx[\"Bedrooms\"].value_counts()"
      ]
    },
    {
      "cell_type": "code",
      "execution_count": 36,
      "metadata": {
        "id": "NUcPTfuMP2XX"
      },
      "outputs": [],
      "source": [
        "df_srx[\"Bedrooms\"] = df_srx[\"Bedrooms\"].fillna(0)\n",
        "df_srx.loc[df_srx[\"Bedrooms\"]==\"Studio\"] = 1\n",
        "df_srx.loc[df_srx[\"Bedrooms\"]==\"10+\"] = 10\n",
        "df_srx[\"Bedrooms\"] = df_srx[\"Bedrooms\"].astype('str').apply(lambda x: int(x[0])+1 if x.find(\"+\") > -1 else int(x) if len(x)<3 else 0)"
      ]
    },
    {
      "cell_type": "code",
      "execution_count": 37,
      "metadata": {
        "colab": {
          "base_uri": "https://localhost:8080/"
        },
        "id": "WAgqKXVrRNDQ",
        "outputId": "c24e0a55-ed71-46ff-d314-d98114c9ae7d"
      },
      "outputs": [
        {
          "data": {
            "text/plain": [
              "2    1805\n",
              "3    1634\n",
              "1    1531\n",
              "0     960\n",
              "4     777\n",
              "5     200\n",
              "6      22\n",
              "Name: Bedrooms, dtype: int64"
            ]
          },
          "execution_count": 37,
          "metadata": {},
          "output_type": "execute_result"
        }
      ],
      "source": [
        "df_srx[\"Bedrooms\"].value_counts()"
      ]
    },
    {
      "cell_type": "markdown",
      "metadata": {
        "id": "xEt7aBcXQLGu"
      },
      "source": [
        "**Bathrooms**"
      ]
    },
    {
      "cell_type": "code",
      "execution_count": 38,
      "metadata": {
        "colab": {
          "base_uri": "https://localhost:8080/"
        },
        "id": "Mg9p4Fi9QNyF",
        "outputId": "1972cec7-a00e-4bfe-b993-df2fb5685caf"
      },
      "outputs": [
        {
          "data": {
            "text/plain": [
              "2.0    2173\n",
              "1.0    2171\n",
              "3.0    1193\n",
              "4.0     467\n",
              "5.0     151\n",
              "6.0      32\n",
              "7.0       4\n",
              "Name: Bathrooms, dtype: int64"
            ]
          },
          "execution_count": 38,
          "metadata": {},
          "output_type": "execute_result"
        }
      ],
      "source": [
        "df_srx[\"Bathrooms\"].value_counts()"
      ]
    },
    {
      "cell_type": "code",
      "execution_count": 39,
      "metadata": {
        "id": "PImSGmgrQNcw"
      },
      "outputs": [],
      "source": [
        "df_srx[\"Bathrooms\"] = df_srx[\"Bathrooms\"].fillna(0)\n",
        "df_srx.loc[df_srx[\"Bathrooms\"] > 10] = 0\n",
        "df_srx[\"Bathrooms\"] = df_srx[\"Bathrooms\"].astype(int)"
      ]
    },
    {
      "cell_type": "code",
      "execution_count": 40,
      "metadata": {
        "colab": {
          "base_uri": "https://localhost:8080/"
        },
        "id": "LF81S4bMBEmn",
        "outputId": "7db96222-e09e-440c-df04-af9f90efc8d1"
      },
      "outputs": [
        {
          "data": {
            "text/plain": [
              "2    2173\n",
              "1    2171\n",
              "3    1193\n",
              "0     738\n",
              "4     467\n",
              "5     151\n",
              "6      32\n",
              "7       4\n",
              "Name: Bathrooms, dtype: int64"
            ]
          },
          "execution_count": 40,
          "metadata": {},
          "output_type": "execute_result"
        }
      ],
      "source": [
        "df_srx[\"Bathrooms\"].value_counts()"
      ]
    },
    {
      "cell_type": "markdown",
      "metadata": {
        "id": "ofzYljWfXClP"
      },
      "source": [
        "**Furnish**"
      ]
    },
    {
      "cell_type": "code",
      "execution_count": 41,
      "metadata": {
        "id": "Raja8rgBXFLD"
      },
      "outputs": [],
      "source": [
        "# df_srx[\"Furnish\"].value_counts()"
      ]
    },
    {
      "cell_type": "code",
      "execution_count": 42,
      "metadata": {
        "id": "K364WvucByrW"
      },
      "outputs": [],
      "source": [
        "# df_srx[\"Furnish\"] = df_srx[\"Furnish\"].apply(lambda x: \"Unknown\" if str(x) in (\"0\", \"1\", \"10\", \"nan\") else str(x))"
      ]
    },
    {
      "cell_type": "code",
      "execution_count": 43,
      "metadata": {
        "id": "4eP7Dsc1EFii"
      },
      "outputs": [],
      "source": [
        "# df_srx[\"Furnish\"].value_counts()"
      ]
    },
    {
      "cell_type": "markdown",
      "metadata": {
        "id": "XV71GxTx7RdN"
      },
      "source": [
        "**Property Type**"
      ]
    },
    {
      "cell_type": "code",
      "execution_count": 44,
      "metadata": {
        "colab": {
          "base_uri": "https://localhost:8080/"
        },
        "id": "sVU1Uoef7VDm",
        "outputId": "a2c9ea15-e928-4fae-fc1d-b63b52f4f1af"
      },
      "outputs": [
        {
          "data": {
            "text/plain": [
              "array(['Condominium', 'Apartment', 1], dtype=object)"
            ]
          },
          "execution_count": 44,
          "metadata": {},
          "output_type": "execute_result"
        }
      ],
      "source": [
        "df_srx['Property Type'].unique()"
      ]
    },
    {
      "cell_type": "code",
      "execution_count": 45,
      "metadata": {
        "id": "yGNuN84c7XV7"
      },
      "outputs": [],
      "source": [
        "df_srx['Property'] = df_srx['Property Type'].apply(lambda x: 'HDB' if 'HDB' in str(x) else 'Condominium' if 'Condo' in str(x) else np.nan)"
      ]
    },
    {
      "cell_type": "code",
      "execution_count": 46,
      "metadata": {
        "colab": {
          "base_uri": "https://localhost:8080/"
        },
        "id": "9C4295mP7912",
        "outputId": "490fe298-7b9a-454d-ba76-247727641ab3"
      },
      "outputs": [
        {
          "data": {
            "text/plain": [
              "Condominium    3886\n",
              "Name: Property, dtype: int64"
            ]
          },
          "execution_count": 46,
          "metadata": {},
          "output_type": "execute_result"
        }
      ],
      "source": [
        "df_srx['Property'].value_counts()"
      ]
    },
    {
      "cell_type": "code",
      "execution_count": 47,
      "metadata": {
        "id": "1J5yk9Ii7ZG0"
      },
      "outputs": [],
      "source": [
        "#Only keep condo & hdb\n",
        "df_srx = df_srx[pd.notnull(df_srx['Property'])]"
      ]
    },
    {
      "cell_type": "markdown",
      "metadata": {
        "id": "1YQ7G8vR8Km2"
      },
      "source": [
        "**Asking**"
      ]
    },
    {
      "cell_type": "code",
      "execution_count": 48,
      "metadata": {
        "id": "ekxOlCMP8MX0"
      },
      "outputs": [],
      "source": [
        "def findPrice(x):\n",
        "    if str(x) == 'nan':\n",
        "        return np.nan\n",
        "    price = re.findall(r'\\d+\\,\\d+',x)\n",
        "    if len(price) == 0:\n",
        "        return np.nan\n",
        "    else:\n",
        "        return int(re.sub(',','',price[0]))"
      ]
    },
    {
      "cell_type": "code",
      "execution_count": 49,
      "metadata": {
        "id": "oFkYHyKS8OG6"
      },
      "outputs": [],
      "source": [
        "df_srx['Asking'] = df_srx['Asking'].apply(findPrice)"
      ]
    },
    {
      "cell_type": "code",
      "execution_count": 50,
      "metadata": {
        "id": "zthjEEF5J213"
      },
      "outputs": [],
      "source": [
        "#Remove those have same posting info but the price are different; take an average\n",
        "srx = df_srx.groupby([ 'Property Name',  'Address']).aggregate({'Asking':'mean'}).reset_index()\n",
        "df_srx = pd.merge(df_srx.drop(['Asking'], axis=1), srx.drop_duplicates(), on = [ 'Property Name',  'Address'], how=\"inner\")"
      ]
    },
    {
      "cell_type": "code",
      "execution_count": 51,
      "metadata": {
        "colab": {
          "base_uri": "https://localhost:8080/"
        },
        "id": "ROsXjTupJ7XK",
        "outputId": "0d127fb3-349a-4e4e-c105-0ce03afde14b"
      },
      "outputs": [
        {
          "data": {
            "text/plain": [
              "(3886, 22)"
            ]
          },
          "execution_count": 51,
          "metadata": {},
          "output_type": "execute_result"
        }
      ],
      "source": [
        "df_srx.shape"
      ]
    },
    {
      "cell_type": "markdown",
      "metadata": {
        "id": "6L1snsGy8dNR"
      },
      "source": [
        "**Built Year**"
      ]
    },
    {
      "cell_type": "code",
      "execution_count": 52,
      "metadata": {
        "colab": {
          "base_uri": "https://localhost:8080/",
          "height": 467
        },
        "id": "VBGojeLO8eu-",
        "outputId": "48789fee-32f7-481e-851e-1f062fe0706f"
      },
      "outputs": [
        {
          "data": {
            "text/plain": [
              "<AxesSubplot: xlabel='Property', ylabel='Built Year'>"
            ]
          },
          "execution_count": 52,
          "metadata": {},
          "output_type": "execute_result"
        },
        {
          "data": {
            "image/png": "[encoded data removed]",
            "text/plain": [
              "<Figure size 640x480 with 1 Axes>"
            ]
          },
          "metadata": {},
          "output_type": "display_data"
        }
      ],
      "source": [
        "df_srx['Built Year'] = df_srx['Built Year'].astype(float)\n",
        "sns.boxplot(y=\"Built Year\", x=\"Property\", data=df_srx)"
      ]
    },
    {
      "cell_type": "code",
      "execution_count": 53,
      "metadata": {
        "colab": {
          "base_uri": "https://localhost:8080/"
        },
        "id": "GR75iWT9Mig-",
        "outputId": "8253d136-8b0d-4cc2-cfe5-fff35178eb72"
      },
      "outputs": [
        {
          "data": {
            "text/plain": [
              "0       2022.0\n",
              "1       2022.0\n",
              "2       2022.0\n",
              "3       2022.0\n",
              "4       2022.0\n",
              "         ...  \n",
              "3881    2014.0\n",
              "3882    1997.0\n",
              "3883    2011.0\n",
              "3884    2013.0\n",
              "3885    2013.0\n",
              "Name: Built Year, Length: 3886, dtype: float64"
            ]
          },
          "execution_count": 53,
          "metadata": {},
          "output_type": "execute_result"
        }
      ],
      "source": [
        "df_srx['Built Year']"
      ]
    },
    {
      "cell_type": "code",
      "execution_count": 54,
      "metadata": {
        "id": "S0zxlCVc8iKY"
      },
      "outputs": [],
      "source": [
        "#Imputation HDB nan as mean\n",
        "# print(df_srx['Built Year'][df_srx['Property'] == 'HDB'].describe())\n",
        "# df_srx['Built Year'][(df_srx['Property'] == 'HDB') & pd.isnull(df_srx['Built Year'])] = 1992"
      ]
    },
    {
      "cell_type": "code",
      "execution_count": 55,
      "metadata": {
        "colab": {
          "base_uri": "https://localhost:8080/"
        },
        "id": "z_TlmU7L8jzl",
        "outputId": "6e51f5e6-fcfd-461b-d03e-3ac36704ba0e"
      },
      "outputs": [
        {
          "name": "stdout",
          "output_type": "stream",
          "text": [
            "count    3649.000000\n",
            "mean     2008.110715\n",
            "std        10.597362\n",
            "min      1920.000000\n",
            "25%      2000.000000\n",
            "50%      2011.000000\n",
            "75%      2016.000000\n",
            "max      2022.000000\n",
            "Name: Built Year, dtype: float64\n"
          ]
        }
      ],
      "source": [
        "#Imputation Condo nan as mean\n",
        "print(df_srx['Built Year'][df_srx['Property'] == 'Condominium'].describe())\n",
        "df_srx['Built Year'][(df_srx['Property'] == 'Condominium') & pd.isnull(df_srx['Built Year'])]  = 2008"
      ]
    },
    {
      "cell_type": "code",
      "execution_count": 56,
      "metadata": {
        "id": "Au0XtXFn8lur"
      },
      "outputs": [],
      "source": [
        "df_srx['Built Year'] = df_srx['Built Year'].astype(int)"
      ]
    },
    {
      "cell_type": "markdown",
      "metadata": {
        "id": "RlTyi3Jx82EL"
      },
      "source": [
        "**Primary Schools, Groceries & Supermarts, Shopping Malls**"
      ]
    },
    {
      "cell_type": "code",
      "execution_count": 57,
      "metadata": {
        "id": "Agg98j7Y83-S"
      },
      "outputs": [],
      "source": [
        "def findKM(x):\n",
        "    if str(x) == 'nan':\n",
        "        return np.nan\n",
        "    return min([float(s) for s in re.findall(r'\\d+\\.\\d+', x)])"
      ]
    },
    {
      "cell_type": "code",
      "execution_count": 58,
      "metadata": {
        "id": "_VLcVGe6870J"
      },
      "outputs": [],
      "source": [
        "df_srx['Shopping Malls'] = df_srx['Shopping Malls'].apply(findKM)\n",
        "df_srx['Primary Schools'] = df_srx['Primary Schools'].apply(findKM)\n",
        "df_srx['Groceries & Supermarts'] = df_srx['Groceries & Supermarts'].apply(findKM)"
      ]
    },
    {
      "cell_type": "code",
      "execution_count": 59,
      "metadata": {
        "id": "MlI6Aevs9FNF"
      },
      "outputs": [],
      "source": [
        "#Imputation nan as 1km\n",
        "df_srx['Primary Schools'][pd.isnull(df_srx['Primary Schools'])] = 1\n",
        "df_srx['Shopping Malls'][pd.isnull(df_srx['Shopping Malls'])] = 1\n",
        "df_srx['Groceries & Supermarts'][pd.isnull(df_srx['Groceries & Supermarts'])] = 1"
      ]
    },
    {
      "cell_type": "markdown",
      "metadata": {
        "id": "jc2sy01doY_T"
      },
      "source": [
        "**Date listed**"
      ]
    },
    {
      "cell_type": "code",
      "execution_count": 60,
      "metadata": {
        "id": "oTaBm6QeobRl"
      },
      "outputs": [],
      "source": [
        "df_srx['Date Listed'] = df_srx['Date Listed'].apply(lambda x: datetime.fromtimestamp(x))"
      ]
    },
    {
      "cell_type": "markdown",
      "metadata": {
        "id": "mgYN1_BkKK0Z"
      },
      "source": [
        "**MRT**"
      ]
    },
    {
      "cell_type": "code",
      "execution_count": 61,
      "metadata": {
        "id": "Qltvvj0pLuz9"
      },
      "outputs": [],
      "source": [
        "def findFirstMRT(x):\n",
        "  if str(x) == \"nan\":\n",
        "    return \"\"\n",
        "  mrts = x.split(\";\")\n",
        "  final = []\n",
        "  for mrt in mrts:\n",
        "    if \"DUE\" not in mrt:\n",
        "      final.append(mrt)\n",
        "  return final[0] if len(final) !=0 else \"\""
      ]
    },
    {
      "cell_type": "code",
      "execution_count": 62,
      "metadata": {
        "id": "m3UDHCvfKSh5"
      },
      "outputs": [],
      "source": [
        "df_srx['Trains (MRT & LRT)'] = df_srx['Trains (MRT & LRT)'].apply(findFirstMRT)"
      ]
    },
    {
      "cell_type": "markdown",
      "metadata": {
        "id": "lIPDji2BNJee"
      },
      "source": [
        "**No. of units**"
      ]
    },
    {
      "cell_type": "code",
      "execution_count": 63,
      "metadata": {
        "colab": {
          "base_uri": "https://localhost:8080/"
        },
        "id": "Bzu7527zNT4u",
        "outputId": "e0ab5258-1148-46b7-d473-e7d59ee85b51"
      },
      "outputs": [
        {
          "data": {
            "text/plain": [
              "Index(['Unnamed: 0', 'Property Name', 'Bathrooms', 'Tenure', 'Model',\n",
              "       'No. of Units', 'District', 'Property Type', 'Lease Term', 'Room Type',\n",
              "       'Address', 'Size', 'Date Listed', 'Bedrooms', 'Developer', 'Built Year',\n",
              "       'Primary Schools', 'Groceries & Supermarts', 'Shopping Malls',\n",
              "       'Trains (MRT & LRT)', 'Property', 'Asking'],\n",
              "      dtype='object')"
            ]
          },
          "execution_count": 63,
          "metadata": {},
          "output_type": "execute_result"
        }
      ],
      "source": [
        "df_srx.columns"
      ]
    },
    {
      "cell_type": "code",
      "execution_count": 64,
      "metadata": {
        "id": "f-JmlVrMNLTY"
      },
      "outputs": [],
      "source": [
        "df_srx['Neighborhood'] = df_srx['No. of Units'].apply(lambda x: \"Small\" if x<=450 else \"Big\")"
      ]
    },
    {
      "cell_type": "markdown",
      "metadata": {
        "id": "axUA0UBLOytI"
      },
      "source": [
        "**Imputation - Bathrooms**"
      ]
    },
    {
      "cell_type": "code",
      "execution_count": 65,
      "metadata": {
        "colab": {
          "base_uri": "https://localhost:8080/"
        },
        "id": "ZVcj6M-TfZJD",
        "outputId": "92ab679e-2012-47cb-a702-23643c27385c"
      },
      "outputs": [
        {
          "data": {
            "text/plain": [
              "Unnamed: 0                3886\n",
              "Property Name                0\n",
              "Bathrooms                    0\n",
              "Tenure                       0\n",
              "Model                      659\n",
              "No. of Units               220\n",
              "District                     0\n",
              "Property Type                0\n",
              "Lease Term                   0\n",
              "Room Type                    0\n",
              "Address                      0\n",
              "Size                         0\n",
              "Date Listed                  0\n",
              "Bedrooms                     0\n",
              "Developer                  142\n",
              "Built Year                   0\n",
              "Primary Schools              0\n",
              "Groceries & Supermarts       0\n",
              "Shopping Malls               0\n",
              "Trains (MRT & LRT)           0\n",
              "Property                     0\n",
              "Asking                       6\n",
              "Neighborhood                 0\n",
              "dtype: int64"
            ]
          },
          "execution_count": 65,
          "metadata": {},
          "output_type": "execute_result"
        }
      ],
      "source": [
        "df_srx.isnull().sum()"
      ]
    },
    {
      "cell_type": "code",
      "execution_count": 66,
      "metadata": {
        "colab": {
          "base_uri": "https://localhost:8080/"
        },
        "id": "kvfDrDejAvK0",
        "outputId": "ed965c83-ed42-4e65-f3b7-c38971f1228e"
      },
      "outputs": [
        {
          "data": {
            "text/plain": [
              "4000"
            ]
          },
          "execution_count": 66,
          "metadata": {},
          "output_type": "execute_result"
        }
      ],
      "source": [
        "# Find max size of flats that require bathroom imputation\n",
        "df_srx[df_srx[\"Bathrooms\"]==0][\"Size\"].max()"
      ]
    },
    {
      "cell_type": "code",
      "execution_count": 67,
      "metadata": {
        "id": "Ccl_4PdXCbBJ"
      },
      "outputs": [],
      "source": [
        "df_srx[\"Bathrooms\"] = df_srx[\"Bathrooms\"].replace(0, np.nan)"
      ]
    },
    {
      "cell_type": "code",
      "execution_count": 68,
      "metadata": {
        "id": "HjPZ0c4zCz3Q"
      },
      "outputs": [],
      "source": [
        "total_bins = pd.cut(df_srx[\"Size\"], np.arange(0, 30000, 400)) \n",
        "bath = df_srx.groupby(pd.cut(df_srx[\"Size\"], np.arange(0, 12000, 400)) ).median()[\"Bathrooms\"]"
      ]
    },
    {
      "cell_type": "code",
      "execution_count": 69,
      "metadata": {
        "id": "rUZhI6Qj6pxG"
      },
      "outputs": [],
      "source": [
        "df_srx[\"Bathrooms\"] = df_srx[\"Bathrooms\"].fillna(total_bins.replace(bath))"
      ]
    },
    {
      "cell_type": "code",
      "execution_count": 70,
      "metadata": {
        "colab": {
          "base_uri": "https://localhost:8080/"
        },
        "id": "ZfgXdDCXG_cm",
        "outputId": "38a8ba8a-d487-4e34-e91c-773f5f35a5b2"
      },
      "outputs": [
        {
          "data": {
            "text/plain": [
              "1.0    1303\n",
              "2.0    1210\n",
              "3.0     897\n",
              "4.0     339\n",
              "5.0     111\n",
              "6.0      23\n",
              "7.0       3\n",
              "Name: Bathrooms, dtype: int64"
            ]
          },
          "execution_count": 70,
          "metadata": {},
          "output_type": "execute_result"
        }
      ],
      "source": [
        "df_srx[\"Bathrooms\"].value_counts()"
      ]
    },
    {
      "cell_type": "markdown",
      "metadata": {
        "id": "LE3RVia8Jej6"
      },
      "source": [
        "**Imputation - Bedrooms**"
      ]
    },
    {
      "cell_type": "code",
      "execution_count": 71,
      "metadata": {
        "colab": {
          "base_uri": "https://localhost:8080/"
        },
        "id": "q_VrljNoJgtS",
        "outputId": "e90bc471-0764-445b-a57a-eb7a41008003"
      },
      "outputs": [
        {
          "data": {
            "text/plain": [
              "2000"
            ]
          },
          "execution_count": 71,
          "metadata": {},
          "output_type": "execute_result"
        }
      ],
      "source": [
        "# Find max size of flats that require bedroom imputation\n",
        "df_srx[df_srx[\"Bedrooms\"]==0][\"Size\"].max()"
      ]
    },
    {
      "cell_type": "code",
      "execution_count": 72,
      "metadata": {
        "id": "fslh_ddNIZrr"
      },
      "outputs": [],
      "source": [
        "df_srx[\"Bedrooms\"] = df_srx[\"Bedrooms\"].replace(0, np.nan)"
      ]
    },
    {
      "cell_type": "code",
      "execution_count": 73,
      "metadata": {
        "colab": {
          "base_uri": "https://localhost:8080/"
        },
        "id": "kUSBy-5ZIcCO",
        "outputId": "e0826c96-68ee-4924-8e4d-a43e51646637"
      },
      "outputs": [
        {
          "data": {
            "text/plain": [
              "Size\n",
              "(0, 400]          1.0\n",
              "(400, 800]        2.0\n",
              "(800, 1200]       3.0\n",
              "(1200, 1600]      3.0\n",
              "(1600, 2000]      3.0\n",
              "(2000, 2400]      4.0\n",
              "(2400, 2800]      4.0\n",
              "(2800, 3200]      4.0\n",
              "(3200, 3600]      4.0\n",
              "(3600, 4000]      4.0\n",
              "(4000, 4400]      5.0\n",
              "(4400, 4800]      5.0\n",
              "(4800, 5200]      5.0\n",
              "(5200, 5600]      5.0\n",
              "(5600, 6000]      5.0\n",
              "(6000, 6400]      5.0\n",
              "(6400, 6800]      NaN\n",
              "(6800, 7200]      5.0\n",
              "(7200, 7600]      NaN\n",
              "(7600, 8000]      4.0\n",
              "(8000, 8400]      NaN\n",
              "(8400, 8800]      5.5\n",
              "(8800, 9200]      NaN\n",
              "(9200, 9600]      NaN\n",
              "(9600, 10000]     NaN\n",
              "(10000, 10400]    NaN\n",
              "(10400, 10800]    NaN\n",
              "(10800, 11200]    NaN\n",
              "(11200, 11600]    NaN\n",
              "(11600, 12000]    NaN\n",
              "(12000, 12400]    NaN\n",
              "(12400, 12800]    NaN\n",
              "Name: Bedrooms, dtype: float64"
            ]
          },
          "execution_count": 73,
          "metadata": {},
          "output_type": "execute_result"
        }
      ],
      "source": [
        "bed = df_srx.groupby(pd.cut(df_srx[\"Size\"], np.arange(0, 13000, 400))).median()[\"Bedrooms\"]\n",
        "bed"
      ]
    },
    {
      "cell_type": "code",
      "execution_count": 74,
      "metadata": {
        "id": "uV_usKw1IjIO"
      },
      "outputs": [],
      "source": [
        "df_srx[\"Bedrooms\"] = df_srx[\"Bedrooms\"].fillna(total_bins.replace(bed))"
      ]
    },
    {
      "cell_type": "code",
      "execution_count": 75,
      "metadata": {
        "colab": {
          "base_uri": "https://localhost:8080/"
        },
        "id": "KFYJ0lr8JFb0",
        "outputId": "0ed6494a-a650-4fdb-eefb-28c9b4c3c274"
      },
      "outputs": [
        {
          "data": {
            "text/plain": [
              "1.0    1126\n",
              "3.0    1121\n",
              "2.0     913\n",
              "4.0     567\n",
              "5.0     146\n",
              "6.0      13\n",
              "Name: Bedrooms, dtype: int64"
            ]
          },
          "execution_count": 75,
          "metadata": {},
          "output_type": "execute_result"
        }
      ],
      "source": [
        "df_srx[\"Bedrooms\"].value_counts()"
      ]
    },
    {
      "cell_type": "markdown",
      "metadata": {
        "id": "I-eO05vh4ose"
      },
      "source": [
        "**Imputation - Room Type**"
      ]
    },
    {
      "cell_type": "code",
      "execution_count": 76,
      "metadata": {
        "colab": {
          "base_uri": "https://localhost:8080/"
        },
        "id": "mgDTyRWN5xDY",
        "outputId": "355f04ef-8431-4133-d574-902b6612aa5b"
      },
      "outputs": [
        {
          "data": {
            "text/plain": [
              "Entire Unit    3254\n",
              "Common          334\n",
              "N.A             180\n",
              "Master          118\n",
              "Name: Room Type, dtype: int64"
            ]
          },
          "execution_count": 76,
          "metadata": {},
          "output_type": "execute_result"
        }
      ],
      "source": [
        "df_srx['Room Type'].value_counts()"
      ]
    },
    {
      "cell_type": "code",
      "execution_count": 77,
      "metadata": {
        "id": "RvXpLa9u6uph"
      },
      "outputs": [],
      "source": [
        "df_srx['Room Type'] = df_srx['Room Type'].apply(lambda x: 'Entire Unit' if (x=='N.A')|(x==1)|(x==10)|(x==0) else x)"
      ]
    },
    {
      "cell_type": "code",
      "execution_count": 78,
      "metadata": {
        "colab": {
          "base_uri": "https://localhost:8080/"
        },
        "id": "jH-X7uOh5Klk",
        "outputId": "c892ffec-cedd-4d91-f372-339a2006c923"
      },
      "outputs": [
        {
          "data": {
            "text/plain": [
              "Entire Unit    3434\n",
              "Common          334\n",
              "Master          118\n",
              "Name: Room Type, dtype: int64"
            ]
          },
          "execution_count": 78,
          "metadata": {},
          "output_type": "execute_result"
        }
      ],
      "source": [
        "df_srx['Room Type'].value_counts()"
      ]
    },
    {
      "cell_type": "markdown",
      "metadata": {
        "id": "unjyt0rm9OGY"
      },
      "source": [
        "**Imputation - Asking**"
      ]
    },
    {
      "cell_type": "code",
      "execution_count": 79,
      "metadata": {
        "colab": {
          "base_uri": "https://localhost:8080/"
        },
        "id": "vHWik0kz9VQl",
        "outputId": "97efc974-c14d-49aa-e36a-6543d19db007"
      },
      "outputs": [
        {
          "data": {
            "text/plain": [
              "200"
            ]
          },
          "execution_count": 79,
          "metadata": {},
          "output_type": "execute_result"
        }
      ],
      "source": [
        "# Find max size of flats that require asking price imputation\n",
        "df_srx[pd.isnull(df_srx[\"Asking\"])][\"Size\"].max()"
      ]
    },
    {
      "cell_type": "code",
      "execution_count": 80,
      "metadata": {
        "id": "somKM5E29hh7"
      },
      "outputs": [],
      "source": [
        "df_srx[\"Asking\"] = df_srx[\"Asking\"].replace(0, np.nan)"
      ]
    },
    {
      "cell_type": "code",
      "execution_count": 81,
      "metadata": {
        "colab": {
          "base_uri": "https://localhost:8080/"
        },
        "id": "LEP4XMGg9mrE",
        "outputId": "046a0f53-9b73-4b38-f2c5-db10266b5610"
      },
      "outputs": [
        {
          "data": {
            "text/plain": [
              "Size\n",
              "(0, 400]        2625.000000\n",
              "(400, 800]      4849.377049\n",
              "(800, 1200]     5000.000000\n",
              "(1200, 1600]    6000.000000\n",
              "(1600, 2000]    8630.500000\n",
              "Name: Asking, dtype: float64"
            ]
          },
          "execution_count": 81,
          "metadata": {},
          "output_type": "execute_result"
        }
      ],
      "source": [
        "asking = df_srx.groupby(pd.cut(df_srx[\"Size\"], np.arange(0, 2400, 400))).median()[\"Asking\"]\n",
        "asking"
      ]
    },
    {
      "cell_type": "code",
      "execution_count": 82,
      "metadata": {
        "id": "RkSR39cr9vC2"
      },
      "outputs": [],
      "source": [
        "df_srx[\"Asking\"] = df_srx[\"Asking\"].fillna(total_bins.replace(asking))"
      ]
    },
    {
      "cell_type": "markdown",
      "metadata": {
        "id": "kyV8etPsOCNg"
      },
      "source": [
        "# Outlier Analysis"
      ]
    },
    {
      "cell_type": "code",
      "execution_count": 83,
      "metadata": {
        "colab": {
          "base_uri": "https://localhost:8080/"
        },
        "id": "-_N7sSFR-HET",
        "outputId": "07f1d734-5893-4018-e001-31e074f1de66"
      },
      "outputs": [
        {
          "data": {
            "text/plain": [
              "Index(['Unnamed: 0', 'Property Name', 'Bathrooms', 'Tenure', 'Model',\n",
              "       'No. of Units', 'District', 'Property Type', 'Lease Term', 'Room Type',\n",
              "       'Address', 'Size', 'Date Listed', 'Bedrooms', 'Developer', 'Built Year',\n",
              "       'Primary Schools', 'Groceries & Supermarts', 'Shopping Malls',\n",
              "       'Trains (MRT & LRT)', 'Property', 'Asking', 'Neighborhood'],\n",
              "      dtype='object')"
            ]
          },
          "execution_count": 83,
          "metadata": {},
          "output_type": "execute_result"
        }
      ],
      "source": [
        "df_srx.columns"
      ]
    },
    {
      "cell_type": "code",
      "execution_count": 84,
      "metadata": {
        "id": "K1ZSTc-uOIhT"
      },
      "outputs": [],
      "source": [
        "numerical_columns = ['Bedrooms','Bathrooms','Size', 'Built Year']"
      ]
    },
    {
      "cell_type": "code",
      "execution_count": 85,
      "metadata": {
        "colab": {
          "base_uri": "https://localhost:8080/"
        },
        "id": "L4-PjV7FOPCh",
        "outputId": "07d50272-d5c7-4eb2-ba6c-f2d0929ca3ea"
      },
      "outputs": [
        {
          "name": "stdout",
          "output_type": "stream",
          "text": [
            "Bedrooms has outliers percentage of 0.33%\n",
            "Bathrooms has outliers percentage of 0.67%\n",
            "Size has outliers percentage of 7.93%\n",
            "Built Year has outliers percentage of 0.08%\n"
          ]
        }
      ],
      "source": [
        "for k,v in df_srx[numerical_columns].items():\n",
        "    q1 = v.quantile(0.25)\n",
        "    q3 = v.quantile(0.75)\n",
        "    irq = q3 - q1\n",
        "    v_col = v[(v <= q1 - 1.5 * irq) | (v >= q3 + 1.5 * irq)]\n",
        "    perc = np.shape(v_col)[0] * 100.0 / np.shape(df_srx[numerical_columns])[0]\n",
        "    print(\"%s has outliers percentage of %.2f%%\" % (k, perc))"
      ]
    },
    {
      "cell_type": "markdown",
      "metadata": {
        "id": "SQj9POzYOcNf"
      },
      "source": [
        "# Heatmap of correlation"
      ]
    },
    {
      "cell_type": "code",
      "execution_count": 86,
      "metadata": {
        "colab": {
          "base_uri": "https://localhost:8080/",
          "height": 606
        },
        "id": "20cP-B48OhfP",
        "outputId": "2e5d7dd1-bf7d-42b1-d2c9-8628c90ecfcf"
      },
      "outputs": [
        {
          "data": {
            "text/plain": [
              "<AxesSubplot: >"
            ]
          },
          "execution_count": 86,
          "metadata": {},
          "output_type": "execute_result"
        },
        {
          "data": {
            "image/png": "[encoded data removed]",
            "text/plain": [
              "<Figure size 640x480 with 2 Axes>"
            ]
          },
          "metadata": {},
          "output_type": "display_data"
        }
      ],
      "source": [
        "sns.heatmap(df_srx.corr(), annot=True)"
      ]
    },
    {
      "cell_type": "code",
      "execution_count": 87,
      "metadata": {
        "colab": {
          "base_uri": "https://localhost:8080/",
          "height": 399
        },
        "id": "AOXsYN_xPbad",
        "outputId": "8c35750e-3a78-48a3-ed44-2a9114bbcda6"
      },
      "outputs": [
        {
          "data": {
            "text/html": [
              "<div>\n",
              "<style scoped>\n",
              "    .dataframe tbody tr th:only-of-type {\n",
              "        vertical-align: middle;\n",
              "    }\n",
              "\n",
              "    .dataframe tbody tr th {\n",
              "        vertical-align: top;\n",
              "    }\n",
              "\n",
              "    .dataframe thead th {\n",
              "        text-align: right;\n",
              "    }\n",
              "</style>\n",
              "<table border=\"1\" class=\"dataframe\">\n",
              "  <thead>\n",
              "    <tr style=\"text-align: right;\">\n",
              "      <th></th>\n",
              "      <th>Unnamed: 0</th>\n",
              "      <th>Bathrooms</th>\n",
              "      <th>Tenure</th>\n",
              "      <th>No. of Units</th>\n",
              "      <th>Size</th>\n",
              "      <th>Bedrooms</th>\n",
              "      <th>Built Year</th>\n",
              "      <th>Primary Schools</th>\n",
              "      <th>Groceries &amp; Supermarts</th>\n",
              "      <th>Shopping Malls</th>\n",
              "      <th>Asking</th>\n",
              "    </tr>\n",
              "  </thead>\n",
              "  <tbody>\n",
              "    <tr>\n",
              "      <th>count</th>\n",
              "      <td>0.0</td>\n",
              "      <td>3886.000000</td>\n",
              "      <td>3886.000000</td>\n",
              "      <td>3666.000000</td>\n",
              "      <td>3886.000000</td>\n",
              "      <td>3886.000000</td>\n",
              "      <td>3886.000000</td>\n",
              "      <td>3886.000000</td>\n",
              "      <td>3886.000000</td>\n",
              "      <td>3886.000000</td>\n",
              "      <td>3886.000000</td>\n",
              "    </tr>\n",
              "    <tr>\n",
              "      <th>mean</th>\n",
              "      <td>NaN</td>\n",
              "      <td>2.183222</td>\n",
              "      <td>393.325013</td>\n",
              "      <td>489.288052</td>\n",
              "      <td>1166.684508</td>\n",
              "      <td>2.416624</td>\n",
              "      <td>2008.103963</td>\n",
              "      <td>0.686140</td>\n",
              "      <td>0.543055</td>\n",
              "      <td>0.712241</td>\n",
              "      <td>7026.283854</td>\n",
              "    </tr>\n",
              "    <tr>\n",
              "      <th>std</th>\n",
              "      <td>NaN</td>\n",
              "      <td>1.119334</td>\n",
              "      <td>422.012120</td>\n",
              "      <td>319.451558</td>\n",
              "      <td>944.949019</td>\n",
              "      <td>1.174864</td>\n",
              "      <td>10.269070</td>\n",
              "      <td>0.368735</td>\n",
              "      <td>0.295054</td>\n",
              "      <td>0.448385</td>\n",
              "      <td>6277.091652</td>\n",
              "    </tr>\n",
              "    <tr>\n",
              "      <th>min</th>\n",
              "      <td>NaN</td>\n",
              "      <td>1.000000</td>\n",
              "      <td>99.000000</td>\n",
              "      <td>11.000000</td>\n",
              "      <td>1.000000</td>\n",
              "      <td>1.000000</td>\n",
              "      <td>1920.000000</td>\n",
              "      <td>0.060000</td>\n",
              "      <td>0.000000</td>\n",
              "      <td>0.000000</td>\n",
              "      <td>1000.000000</td>\n",
              "    </tr>\n",
              "    <tr>\n",
              "      <th>25%</th>\n",
              "      <td>NaN</td>\n",
              "      <td>1.000000</td>\n",
              "      <td>99.000000</td>\n",
              "      <td>231.000000</td>\n",
              "      <td>570.250000</td>\n",
              "      <td>1.000000</td>\n",
              "      <td>2000.000000</td>\n",
              "      <td>0.430000</td>\n",
              "      <td>0.320000</td>\n",
              "      <td>0.360000</td>\n",
              "      <td>3961.666667</td>\n",
              "    </tr>\n",
              "    <tr>\n",
              "      <th>50%</th>\n",
              "      <td>NaN</td>\n",
              "      <td>2.000000</td>\n",
              "      <td>99.000000</td>\n",
              "      <td>448.000000</td>\n",
              "      <td>969.000000</td>\n",
              "      <td>2.000000</td>\n",
              "      <td>2010.000000</td>\n",
              "      <td>0.620000</td>\n",
              "      <td>0.500000</td>\n",
              "      <td>0.620000</td>\n",
              "      <td>5233.333333</td>\n",
              "    </tr>\n",
              "    <tr>\n",
              "      <th>75%</th>\n",
              "      <td>NaN</td>\n",
              "      <td>3.000000</td>\n",
              "      <td>999.000000</td>\n",
              "      <td>696.000000</td>\n",
              "      <td>1442.750000</td>\n",
              "      <td>3.000000</td>\n",
              "      <td>2016.000000</td>\n",
              "      <td>0.840000</td>\n",
              "      <td>0.700000</td>\n",
              "      <td>0.950000</td>\n",
              "      <td>7612.437500</td>\n",
              "    </tr>\n",
              "    <tr>\n",
              "      <th>max</th>\n",
              "      <td>NaN</td>\n",
              "      <td>7.000000</td>\n",
              "      <td>999.000000</td>\n",
              "      <td>1715.000000</td>\n",
              "      <td>8514.000000</td>\n",
              "      <td>6.000000</td>\n",
              "      <td>2022.000000</td>\n",
              "      <td>1.890000</td>\n",
              "      <td>1.930000</td>\n",
              "      <td>1.980000</td>\n",
              "      <td>69000.000000</td>\n",
              "    </tr>\n",
              "  </tbody>\n",
              "</table>\n",
              "</div>"
            ],
            "text/plain": [
              "       Unnamed: 0    Bathrooms       Tenure  No. of Units         Size  \\\n",
              "count         0.0  3886.000000  3886.000000   3666.000000  3886.000000   \n",
              "mean          NaN     2.183222   393.325013    489.288052  1166.684508   \n",
              "std           NaN     1.119334   422.012120    319.451558   944.949019   \n",
              "min           NaN     1.000000    99.000000     11.000000     1.000000   \n",
              "25%           NaN     1.000000    99.000000    231.000000   570.250000   \n",
              "50%           NaN     2.000000    99.000000    448.000000   969.000000   \n",
              "75%           NaN     3.000000   999.000000    696.000000  1442.750000   \n",
              "max           NaN     7.000000   999.000000   1715.000000  8514.000000   \n",
              "\n",
              "          Bedrooms   Built Year  Primary Schools  Groceries & Supermarts  \\\n",
              "count  3886.000000  3886.000000      3886.000000             3886.000000   \n",
              "mean      2.416624  2008.103963         0.686140                0.543055   \n",
              "std       1.174864    10.269070         0.368735                0.295054   \n",
              "min       1.000000  1920.000000         0.060000                0.000000   \n",
              "25%       1.000000  2000.000000         0.430000                0.320000   \n",
              "50%       2.000000  2010.000000         0.620000                0.500000   \n",
              "75%       3.000000  2016.000000         0.840000                0.700000   \n",
              "max       6.000000  2022.000000         1.890000                1.930000   \n",
              "\n",
              "       Shopping Malls        Asking  \n",
              "count     3886.000000   3886.000000  \n",
              "mean         0.712241   7026.283854  \n",
              "std          0.448385   6277.091652  \n",
              "min          0.000000   1000.000000  \n",
              "25%          0.360000   3961.666667  \n",
              "50%          0.620000   5233.333333  \n",
              "75%          0.950000   7612.437500  \n",
              "max          1.980000  69000.000000  "
            ]
          },
          "execution_count": 87,
          "metadata": {},
          "output_type": "execute_result"
        }
      ],
      "source": [
        "df_srx.describe()"
      ]
    },
    {
      "cell_type": "code",
      "execution_count": 88,
      "metadata": {
        "id": "GsiaBpBA-EyE"
      },
      "outputs": [],
      "source": [
        "df_srx.drop([ 'Model', 'Property Type'], axis=1, inplace=True)"
      ]
    },
    {
      "cell_type": "markdown",
      "metadata": {
        "id": "qjwha5cmPS1f"
      },
      "source": [
        "# Split dataframe into HDB and Condo"
      ]
    },
    {
      "cell_type": "code",
      "execution_count": 91,
      "metadata": {},
      "outputs": [
        {
          "data": {
            "text/html": [
              "<div>\n",
              "<style scoped>\n",
              "    .dataframe tbody tr th:only-of-type {\n",
              "        vertical-align: middle;\n",
              "    }\n",
              "\n",
              "    .dataframe tbody tr th {\n",
              "        vertical-align: top;\n",
              "    }\n",
              "\n",
              "    .dataframe thead th {\n",
              "        text-align: right;\n",
              "    }\n",
              "</style>\n",
              "<table border=\"1\" class=\"dataframe\">\n",
              "  <thead>\n",
              "    <tr style=\"text-align: right;\">\n",
              "      <th></th>\n",
              "      <th>Property Name</th>\n",
              "      <th>Bathrooms</th>\n",
              "      <th>Tenure</th>\n",
              "      <th>No. of Units</th>\n",
              "      <th>District</th>\n",
              "      <th>Lease Term</th>\n",
              "      <th>Room Type</th>\n",
              "      <th>Address</th>\n",
              "      <th>Size</th>\n",
              "      <th>Date Listed</th>\n",
              "      <th>Bedrooms</th>\n",
              "      <th>Developer</th>\n",
              "      <th>Built Year</th>\n",
              "      <th>Primary Schools</th>\n",
              "      <th>Groceries &amp; Supermarts</th>\n",
              "      <th>Shopping Malls</th>\n",
              "      <th>Trains (MRT &amp; LRT)</th>\n",
              "      <th>Property</th>\n",
              "      <th>Asking</th>\n",
              "      <th>Neighborhood</th>\n",
              "    </tr>\n",
              "  </thead>\n",
              "  <tbody>\n",
              "    <tr>\n",
              "      <th>0</th>\n",
              "      <td>JadeScape</td>\n",
              "      <td>1.0</td>\n",
              "      <td>99</td>\n",
              "      <td>1206.0</td>\n",
              "      <td>D20</td>\n",
              "      <td>Flexible</td>\n",
              "      <td>Entire Unit</td>\n",
              "      <td>8 Shunfu Road (575745)</td>\n",
              "      <td>646</td>\n",
              "      <td>2023-01-30 22:08:56</td>\n",
              "      <td>2.0</td>\n",
              "      <td>Qingjian Realty (Marymount) Pte Ltd</td>\n",
              "      <td>2022</td>\n",
              "      <td>0.60</td>\n",
              "      <td>0.44</td>\n",
              "      <td>0.79</td>\n",
              "      <td>MARYMOUNT MRT,CC16</td>\n",
              "      <td>Condominium</td>\n",
              "      <td>5750.0</td>\n",
              "      <td>Big</td>\n",
              "    </tr>\n",
              "    <tr>\n",
              "      <th>1</th>\n",
              "      <td>JadeScape</td>\n",
              "      <td>2.0</td>\n",
              "      <td>99</td>\n",
              "      <td>1206.0</td>\n",
              "      <td>D20</td>\n",
              "      <td>Flexible</td>\n",
              "      <td>Entire Unit</td>\n",
              "      <td>8 Shunfu Road (575745)</td>\n",
              "      <td>1055</td>\n",
              "      <td>2023-04-01 14:30:22</td>\n",
              "      <td>3.0</td>\n",
              "      <td>Qingjian Realty (Marymount) Pte Ltd</td>\n",
              "      <td>2022</td>\n",
              "      <td>0.60</td>\n",
              "      <td>0.44</td>\n",
              "      <td>0.79</td>\n",
              "      <td>MARYMOUNT MRT,CC16</td>\n",
              "      <td>Condominium</td>\n",
              "      <td>5750.0</td>\n",
              "      <td>Big</td>\n",
              "    </tr>\n",
              "    <tr>\n",
              "      <th>2</th>\n",
              "      <td>JadeScape</td>\n",
              "      <td>2.0</td>\n",
              "      <td>99</td>\n",
              "      <td>1206.0</td>\n",
              "      <td>D20</td>\n",
              "      <td>Flexible</td>\n",
              "      <td>Entire Unit</td>\n",
              "      <td>8 Shunfu Road (575745)</td>\n",
              "      <td>764</td>\n",
              "      <td>2022-12-23 23:57:59</td>\n",
              "      <td>2.0</td>\n",
              "      <td>Qingjian Realty (Marymount) Pte Ltd</td>\n",
              "      <td>2022</td>\n",
              "      <td>0.60</td>\n",
              "      <td>0.44</td>\n",
              "      <td>0.79</td>\n",
              "      <td>MARYMOUNT MRT,CC16</td>\n",
              "      <td>Condominium</td>\n",
              "      <td>5750.0</td>\n",
              "      <td>Big</td>\n",
              "    </tr>\n",
              "    <tr>\n",
              "      <th>3</th>\n",
              "      <td>JadeScape</td>\n",
              "      <td>1.0</td>\n",
              "      <td>99</td>\n",
              "      <td>1206.0</td>\n",
              "      <td>D20</td>\n",
              "      <td>2+ years</td>\n",
              "      <td>Entire Unit</td>\n",
              "      <td>8 Shunfu Road (575745)</td>\n",
              "      <td>646</td>\n",
              "      <td>2023-02-07 11:33:19</td>\n",
              "      <td>2.0</td>\n",
              "      <td>Qingjian Realty (Marymount) Pte Ltd</td>\n",
              "      <td>2022</td>\n",
              "      <td>0.60</td>\n",
              "      <td>0.44</td>\n",
              "      <td>0.79</td>\n",
              "      <td>MARYMOUNT MRT,CC16</td>\n",
              "      <td>Condominium</td>\n",
              "      <td>5750.0</td>\n",
              "      <td>Big</td>\n",
              "    </tr>\n",
              "    <tr>\n",
              "      <th>4</th>\n",
              "      <td>JadeScape</td>\n",
              "      <td>2.0</td>\n",
              "      <td>99</td>\n",
              "      <td>1206.0</td>\n",
              "      <td>D20</td>\n",
              "      <td>Flexible</td>\n",
              "      <td>Entire Unit</td>\n",
              "      <td>8 Shunfu Road (575745)</td>\n",
              "      <td>1015</td>\n",
              "      <td>2023-01-29 10:23:55</td>\n",
              "      <td>4.0</td>\n",
              "      <td>Qingjian Realty (Marymount) Pte Ltd</td>\n",
              "      <td>2022</td>\n",
              "      <td>0.60</td>\n",
              "      <td>0.44</td>\n",
              "      <td>0.79</td>\n",
              "      <td>MARYMOUNT MRT,CC16</td>\n",
              "      <td>Condominium</td>\n",
              "      <td>5750.0</td>\n",
              "      <td>Big</td>\n",
              "    </tr>\n",
              "    <tr>\n",
              "      <th>...</th>\n",
              "      <td>...</td>\n",
              "      <td>...</td>\n",
              "      <td>...</td>\n",
              "      <td>...</td>\n",
              "      <td>...</td>\n",
              "      <td>...</td>\n",
              "      <td>...</td>\n",
              "      <td>...</td>\n",
              "      <td>...</td>\n",
              "      <td>...</td>\n",
              "      <td>...</td>\n",
              "      <td>...</td>\n",
              "      <td>...</td>\n",
              "      <td>...</td>\n",
              "      <td>...</td>\n",
              "      <td>...</td>\n",
              "      <td>...</td>\n",
              "      <td>...</td>\n",
              "      <td>...</td>\n",
              "      <td>...</td>\n",
              "    </tr>\n",
              "    <tr>\n",
              "      <th>3881</th>\n",
              "      <td>Parc Rosewood</td>\n",
              "      <td>1.0</td>\n",
              "      <td>99</td>\n",
              "      <td>689.0</td>\n",
              "      <td>D25</td>\n",
              "      <td>Flexible</td>\n",
              "      <td>Entire Unit</td>\n",
              "      <td>81 Rosewood Drive (737788)</td>\n",
              "      <td>431</td>\n",
              "      <td>2023-03-17 10:21:24</td>\n",
              "      <td>1.0</td>\n",
              "      <td>Kensington Land Pte Ltd</td>\n",
              "      <td>2014</td>\n",
              "      <td>0.45</td>\n",
              "      <td>0.49</td>\n",
              "      <td>0.86</td>\n",
              "      <td>WOODLANDS SOUTH MRT,TE3</td>\n",
              "      <td>Condominium</td>\n",
              "      <td>3000.0</td>\n",
              "      <td>Big</td>\n",
              "    </tr>\n",
              "    <tr>\n",
              "      <th>3882</th>\n",
              "      <td>Dover Parkview</td>\n",
              "      <td>3.0</td>\n",
              "      <td>99</td>\n",
              "      <td>686.0</td>\n",
              "      <td>D5</td>\n",
              "      <td>2+ years</td>\n",
              "      <td>Entire Unit</td>\n",
              "      <td>32 Dover Rise (138686)</td>\n",
              "      <td>936</td>\n",
              "      <td>2023-01-29 22:52:51</td>\n",
              "      <td>2.0</td>\n",
              "      <td>Dover Palisades Pte Ltd (Far East Organization)</td>\n",
              "      <td>1997</td>\n",
              "      <td>0.66</td>\n",
              "      <td>0.23</td>\n",
              "      <td>0.56</td>\n",
              "      <td>BUONA VISTA MRT,CC22</td>\n",
              "      <td>Condominium</td>\n",
              "      <td>5000.0</td>\n",
              "      <td>Big</td>\n",
              "    </tr>\n",
              "    <tr>\n",
              "      <th>3883</th>\n",
              "      <td>Shelford Suites</td>\n",
              "      <td>3.0</td>\n",
              "      <td>999</td>\n",
              "      <td>77.0</td>\n",
              "      <td>D11</td>\n",
              "      <td>Flexible</td>\n",
              "      <td>Entire Unit</td>\n",
              "      <td>Shelford Road</td>\n",
              "      <td>1292</td>\n",
              "      <td>2023-03-14 00:31:03</td>\n",
              "      <td>3.0</td>\n",
              "      <td>City Developments Ltd</td>\n",
              "      <td>2011</td>\n",
              "      <td>0.76</td>\n",
              "      <td>0.42</td>\n",
              "      <td>0.43</td>\n",
              "      <td>BOTANIC GARDENS MRT,CC19</td>\n",
              "      <td>Condominium</td>\n",
              "      <td>6800.0</td>\n",
              "      <td>Small</td>\n",
              "    </tr>\n",
              "    <tr>\n",
              "      <th>3884</th>\n",
              "      <td>The Laurels</td>\n",
              "      <td>2.0</td>\n",
              "      <td>999</td>\n",
              "      <td>229.0</td>\n",
              "      <td>D9</td>\n",
              "      <td>Flexible</td>\n",
              "      <td>Entire Unit</td>\n",
              "      <td>38 Cairnhill Road (229658)</td>\n",
              "      <td>882</td>\n",
              "      <td>2023-03-19 21:47:38</td>\n",
              "      <td>2.0</td>\n",
              "      <td>Sing Holdings (Cairnhill) Pte Ltd</td>\n",
              "      <td>2013</td>\n",
              "      <td>0.64</td>\n",
              "      <td>0.14</td>\n",
              "      <td>0.14</td>\n",
              "      <td>SOMERSET MRT,NS23</td>\n",
              "      <td>Condominium</td>\n",
              "      <td>7000.0</td>\n",
              "      <td>Small</td>\n",
              "    </tr>\n",
              "    <tr>\n",
              "      <th>3885</th>\n",
              "      <td>Terrene At Bukit Timah</td>\n",
              "      <td>2.0</td>\n",
              "      <td>999</td>\n",
              "      <td>172.0</td>\n",
              "      <td>D21</td>\n",
              "      <td>Flexible</td>\n",
              "      <td>Entire Unit</td>\n",
              "      <td>2 Toh Tuck Road (598674)</td>\n",
              "      <td>1200</td>\n",
              "      <td>2022-01-04 18:03:54</td>\n",
              "      <td>3.0</td>\n",
              "      <td>Premier Land Development Pte Ltd</td>\n",
              "      <td>2013</td>\n",
              "      <td>0.57</td>\n",
              "      <td>0.64</td>\n",
              "      <td>0.59</td>\n",
              "      <td>BEAUTY WORLD MRT,DT5</td>\n",
              "      <td>Condominium</td>\n",
              "      <td>5200.0</td>\n",
              "      <td>Small</td>\n",
              "    </tr>\n",
              "  </tbody>\n",
              "</table>\n",
              "<p>3744 rows × 20 columns</p>\n",
              "</div>"
            ],
            "text/plain": [
              "               Property Name  Bathrooms  Tenure  No. of Units District  \\\n",
              "0                  JadeScape        1.0      99        1206.0      D20   \n",
              "1                  JadeScape        2.0      99        1206.0      D20   \n",
              "2                  JadeScape        2.0      99        1206.0      D20   \n",
              "3                  JadeScape        1.0      99        1206.0      D20   \n",
              "4                  JadeScape        2.0      99        1206.0      D20   \n",
              "...                      ...        ...     ...           ...      ...   \n",
              "3881           Parc Rosewood        1.0      99         689.0      D25   \n",
              "3882          Dover Parkview        3.0      99         686.0       D5   \n",
              "3883         Shelford Suites        3.0     999          77.0      D11   \n",
              "3884             The Laurels        2.0     999         229.0       D9   \n",
              "3885  Terrene At Bukit Timah        2.0     999         172.0      D21   \n",
              "\n",
              "     Lease Term    Room Type                     Address  Size  \\\n",
              "0      Flexible  Entire Unit      8 Shunfu Road (575745)   646   \n",
              "1      Flexible  Entire Unit      8 Shunfu Road (575745)  1055   \n",
              "2      Flexible  Entire Unit      8 Shunfu Road (575745)   764   \n",
              "3      2+ years  Entire Unit      8 Shunfu Road (575745)   646   \n",
              "4      Flexible  Entire Unit      8 Shunfu Road (575745)  1015   \n",
              "...         ...          ...                         ...   ...   \n",
              "3881   Flexible  Entire Unit  81 Rosewood Drive (737788)   431   \n",
              "3882   2+ years  Entire Unit      32 Dover Rise (138686)   936   \n",
              "3883   Flexible  Entire Unit               Shelford Road  1292   \n",
              "3884   Flexible  Entire Unit  38 Cairnhill Road (229658)   882   \n",
              "3885   Flexible  Entire Unit    2 Toh Tuck Road (598674)  1200   \n",
              "\n",
              "             Date Listed  Bedrooms  \\\n",
              "0    2023-01-30 22:08:56       2.0   \n",
              "1    2023-04-01 14:30:22       3.0   \n",
              "2    2022-12-23 23:57:59       2.0   \n",
              "3    2023-02-07 11:33:19       2.0   \n",
              "4    2023-01-29 10:23:55       4.0   \n",
              "...                  ...       ...   \n",
              "3881 2023-03-17 10:21:24       1.0   \n",
              "3882 2023-01-29 22:52:51       2.0   \n",
              "3883 2023-03-14 00:31:03       3.0   \n",
              "3884 2023-03-19 21:47:38       2.0   \n",
              "3885 2022-01-04 18:03:54       3.0   \n",
              "\n",
              "                                            Developer  Built Year  \\\n",
              "0                 Qingjian Realty (Marymount) Pte Ltd        2022   \n",
              "1                 Qingjian Realty (Marymount) Pte Ltd        2022   \n",
              "2                 Qingjian Realty (Marymount) Pte Ltd        2022   \n",
              "3                 Qingjian Realty (Marymount) Pte Ltd        2022   \n",
              "4                 Qingjian Realty (Marymount) Pte Ltd        2022   \n",
              "...                                               ...         ...   \n",
              "3881                          Kensington Land Pte Ltd        2014   \n",
              "3882  Dover Palisades Pte Ltd (Far East Organization)        1997   \n",
              "3883                            City Developments Ltd        2011   \n",
              "3884                Sing Holdings (Cairnhill) Pte Ltd        2013   \n",
              "3885                 Premier Land Development Pte Ltd        2013   \n",
              "\n",
              "      Primary Schools  Groceries & Supermarts  Shopping Malls  \\\n",
              "0                0.60                    0.44            0.79   \n",
              "1                0.60                    0.44            0.79   \n",
              "2                0.60                    0.44            0.79   \n",
              "3                0.60                    0.44            0.79   \n",
              "4                0.60                    0.44            0.79   \n",
              "...               ...                     ...             ...   \n",
              "3881             0.45                    0.49            0.86   \n",
              "3882             0.66                    0.23            0.56   \n",
              "3883             0.76                    0.42            0.43   \n",
              "3884             0.64                    0.14            0.14   \n",
              "3885             0.57                    0.64            0.59   \n",
              "\n",
              "            Trains (MRT & LRT)     Property  Asking Neighborhood  \n",
              "0           MARYMOUNT MRT,CC16  Condominium  5750.0          Big  \n",
              "1           MARYMOUNT MRT,CC16  Condominium  5750.0          Big  \n",
              "2           MARYMOUNT MRT,CC16  Condominium  5750.0          Big  \n",
              "3           MARYMOUNT MRT,CC16  Condominium  5750.0          Big  \n",
              "4           MARYMOUNT MRT,CC16  Condominium  5750.0          Big  \n",
              "...                        ...          ...     ...          ...  \n",
              "3881   WOODLANDS SOUTH MRT,TE3  Condominium  3000.0          Big  \n",
              "3882      BUONA VISTA MRT,CC22  Condominium  5000.0          Big  \n",
              "3883  BOTANIC GARDENS MRT,CC19  Condominium  6800.0        Small  \n",
              "3884         SOMERSET MRT,NS23  Condominium  7000.0        Small  \n",
              "3885      BEAUTY WORLD MRT,DT5  Condominium  5200.0        Small  \n",
              "\n",
              "[3744 rows x 20 columns]"
            ]
          },
          "execution_count": 91,
          "metadata": {},
          "output_type": "execute_result"
        }
      ],
      "source": [
        "df_srx_condo"
      ]
    },
    {
      "cell_type": "code",
      "execution_count": 92,
      "metadata": {},
      "outputs": [
        {
          "data": {
            "text/plain": [
              "Index(['Property Name', 'Bathrooms', 'Tenure', 'No. of Units', 'District',\n",
              "       'Lease Term', 'Room Type', 'Address', 'Size', 'Date Listed', 'Bedrooms',\n",
              "       'Developer', 'Built Year', 'Primary Schools', 'Groceries & Supermarts',\n",
              "       'Shopping Malls', 'Trains (MRT & LRT)', 'Property', 'Asking',\n",
              "       'Neighborhood'],\n",
              "      dtype='object')"
            ]
          },
          "execution_count": 92,
          "metadata": {},
          "output_type": "execute_result"
        }
      ],
      "source": [
        "df_srx_condo.columns"
      ]
    },
    {
      "cell_type": "code",
      "execution_count": 104,
      "metadata": {
        "id": "JNx_qGqqPcNC"
      },
      "outputs": [],
      "source": [
        "#Condo\n",
        "df_srx_condo = df_srx[df_srx['Property'] == 'Condominium']\n",
        "df_srx_condo = df_srx_condo[df_srx['Developer'].notna()]\n",
        "df_srx_condo.isnull().sum()\n",
        "df_srx_condo = df_srx_condo.drop(['Unnamed: 0'], axis=1)\n",
        "\n",
        "from sklearn.compose import ColumnTransformer\n",
        "from sklearn.preprocessing import MinMaxScaler\n",
        "import joblib\n",
        "\n",
        "ct = ColumnTransformer([('minmax', MinMaxScaler(), ['Bathrooms', 'No. of Units', \n",
        " 'Size', 'Bedrooms','Primary Schools', 'Groceries & Supermarts',\n",
        "       'Shopping Malls'])\n",
        "                       ],\n",
        "                       remainder='passthrough')\n",
        "\n",
        "ct.fit(df_srx_condo)\n",
        "joblib.dump(ct, 'Price Data Preprocess.sav')\n",
        "\n",
        "df_srx_condo_preprocessed = pd.DataFrame(ct.transform(df_srx_condo), columns = ct.get_feature_names_out())\n"
      ]
    },
    {
      "cell_type": "code",
      "execution_count": 114,
      "metadata": {},
      "outputs": [],
      "source": [
        "df_srx_condo_preprocessed.columns = [col.replace('minmax__','') for col in df_srx_condo_preprocessed.columns]\n",
        "df_srx_condo_preprocessed.columns = [col.replace('remainder__','') for col in df_srx_condo_preprocessed.columns]"
      ]
    },
    {
      "cell_type": "code",
      "execution_count": 116,
      "metadata": {},
      "outputs": [],
      "source": [
        "df_srx_condo_preprocessed.to_csv(\"df_srx_Condo.csv\")"
      ]
    }
  ],
  "metadata": {
    "colab": {
      "provenance": []
    },
    "kernelspec": {
      "display_name": "Python 3",
      "name": "python3"
    },
    "language_info": {
      "codemirror_mode": {
        "name": "ipython",
        "version": 3
      },
      "file_extension": ".py",
      "mimetype": "text/x-python",
      "name": "python",
      "nbconvert_exporter": "python",
      "pygments_lexer": "ipython3",
      "version": "3.9.16"
    }
  },
  "nbformat": 4,
  "nbformat_minor": 0
}
