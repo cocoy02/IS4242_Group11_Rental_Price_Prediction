{
  "nbformat": 4,
  "nbformat_minor": 0,
  "metadata": {
    "colab": {
      "provenance": []
    },
    "kernelspec": {
      "name": "python3",
      "display_name": "Python 3"
    },
    "language_info": {
      "name": "python"
    }
  },
  "cells": [
    {
      "cell_type": "code",
      "source": [
        "# Imports\n",
        "import pandas as pd \n",
        "import numpy as np\n",
        "import seaborn as sns\n",
        "import matplotlib.pyplot as plt\n",
        "import scipy.stats as stats\n",
        "import re\n",
        "from datetime import datetime\n",
        "import warnings\n",
        "warnings.filterwarnings(\"ignore\")"
      ],
      "metadata": {
        "id": "arzXfiTDMnf3"
      },
      "execution_count": null,
      "outputs": []
    },
    {
      "cell_type": "markdown",
      "source": [
        "# Data Ingestion and Understanding"
      ],
      "metadata": {
        "id": "Spl0ww_yO9Vf"
      }
    },
    {
      "cell_type": "code",
      "source": [
        "# Read data\n",
        "df_srx = pd.read_excel(\"df_srx_new.xlsx\")"
      ],
      "metadata": {
        "id": "ONcHtQ-FMiXx"
      },
      "execution_count": null,
      "outputs": []
    },
    {
      "cell_type": "code",
      "source": [
        "df_srx.isnull().sum()"
      ],
      "metadata": {
        "colab": {
          "base_uri": "https://localhost:8080/"
        },
        "id": "voWta6WsPFy4",
        "outputId": "80971212-1837-4acd-aaa5-39e3349a80d3"
      },
      "execution_count": null,
      "outputs": [
        {
          "output_type": "execute_result",
          "data": {
            "text/plain": [
              "Unnamed: 0                9999\n",
              "PSF                       2303\n",
              "Property Name             2296\n",
              "Bathrooms                 3080\n",
              "Tenure                    2411\n",
              "Model                     3778\n",
              "No. of Units              2643\n",
              "District                  2296\n",
              "Take Over                 2296\n",
              "Property Type             2296\n",
              "Lease Term                2296\n",
              "Room Type                 2296\n",
              "Address                   2296\n",
              "Available from            6941\n",
              "Size                      2296\n",
              "Date Listed               2296\n",
              "Floor Level               9407\n",
              "Utility Amount            9987\n",
              "Bedrooms                  3312\n",
              "Developer                 2772\n",
              "Built Year                2967\n",
              "Furnish                   6430\n",
              "Asking                    2302\n",
              "HDB Town                  9999\n",
              "TOP                       9840\n",
              "Bus Stops                 3322\n",
              "Primary Schools           2431\n",
              "Groceries & Supermarts    2303\n",
              "Shopping Malls            2340\n",
              "Trains (MRT & LRT)        2345\n",
              "dtype: int64"
            ]
          },
          "metadata": {},
          "execution_count": 34
        }
      ]
    },
    {
      "cell_type": "code",
      "source": [
        "df_srx.dtypes"
      ],
      "metadata": {
        "colab": {
          "base_uri": "https://localhost:8080/"
        },
        "id": "d5WOJHo20Yai",
        "outputId": "faaf48c2-d2d0-48be-c2c8-3ba640979ede"
      },
      "execution_count": null,
      "outputs": [
        {
          "output_type": "execute_result",
          "data": {
            "text/plain": [
              "Unnamed: 0                float64\n",
              "PSF                        object\n",
              "Property Name              object\n",
              "Bathrooms                 float64\n",
              "Tenure                     object\n",
              "Model                      object\n",
              "No. of Units              float64\n",
              "District                   object\n",
              "Take Over                  object\n",
              "Property Type              object\n",
              "Lease Term                 object\n",
              "Room Type                  object\n",
              "Address                    object\n",
              "Available from             object\n",
              "Size                       object\n",
              "Date Listed               float64\n",
              "Floor Level                object\n",
              "Utility Amount             object\n",
              "Bedrooms                   object\n",
              "Developer                  object\n",
              "Built Year                float64\n",
              "Furnish                    object\n",
              "Asking                     object\n",
              "HDB Town                  float64\n",
              "TOP                       float64\n",
              "Bus Stops                  object\n",
              "Primary Schools            object\n",
              "Groceries & Supermarts     object\n",
              "Shopping Malls             object\n",
              "Trains (MRT & LRT)         object\n",
              "dtype: object"
            ]
          },
          "metadata": {},
          "execution_count": 35
        }
      ]
    },
    {
      "cell_type": "markdown",
      "source": [
        "# Data Cleaning"
      ],
      "metadata": {
        "id": "HTiV9PoCPC7o"
      }
    },
    {
      "cell_type": "code",
      "source": [
        "# Remove completely empty rows\n",
        "print(f'Original: {len(df_srx)}')\n",
        "df_srx = df_srx.dropna(how=\"all\")\n",
        "print(f'df_srx: {len(df_srx)}')"
      ],
      "metadata": {
        "id": "JbjljzUMDT8o",
        "colab": {
          "base_uri": "https://localhost:8080/"
        },
        "outputId": "da82b126-2f9c-43ff-bffa-403558d82ac8"
      },
      "execution_count": null,
      "outputs": [
        {
          "output_type": "stream",
          "name": "stdout",
          "text": [
            "Original: 9999\n",
            "df_srx: 7703\n"
          ]
        }
      ]
    },
    {
      "cell_type": "code",
      "source": [
        "df_srx.isnull().sum()"
      ],
      "metadata": {
        "colab": {
          "base_uri": "https://localhost:8080/"
        },
        "id": "K7OerkC63Ka5",
        "outputId": "560863aa-8217-4c0c-a42a-3a868bec67b7"
      },
      "execution_count": null,
      "outputs": [
        {
          "output_type": "execute_result",
          "data": {
            "text/plain": [
              "Unnamed: 0                7703\n",
              "PSF                          7\n",
              "Property Name                0\n",
              "Bathrooms                  784\n",
              "Tenure                     115\n",
              "Model                     1482\n",
              "No. of Units               347\n",
              "District                     0\n",
              "Take Over                    0\n",
              "Property Type                0\n",
              "Lease Term                   0\n",
              "Room Type                    0\n",
              "Address                      0\n",
              "Available from            4645\n",
              "Size                         0\n",
              "Date Listed                  0\n",
              "Floor Level               7111\n",
              "Utility Amount            7691\n",
              "Bedrooms                  1016\n",
              "Developer                  476\n",
              "Built Year                 671\n",
              "Furnish                   4134\n",
              "Asking                       6\n",
              "HDB Town                  7703\n",
              "TOP                       7544\n",
              "Bus Stops                 1026\n",
              "Primary Schools            135\n",
              "Groceries & Supermarts       7\n",
              "Shopping Malls              44\n",
              "Trains (MRT & LRT)          49\n",
              "dtype: int64"
            ]
          },
          "metadata": {},
          "execution_count": 37
        }
      ]
    },
    {
      "cell_type": "code",
      "source": [
        "# Remove duplicates\n",
        "df_srx = df_srx.drop_duplicates()\n",
        "\n",
        "print(f'df_srx: {len(df_srx)}')"
      ],
      "metadata": {
        "id": "qA5KOOJn8Erv",
        "colab": {
          "base_uri": "https://localhost:8080/"
        },
        "outputId": "e637713b-485c-457d-fb88-c0a0fd95c87a"
      },
      "execution_count": null,
      "outputs": [
        {
          "output_type": "stream",
          "name": "stdout",
          "text": [
            "df_srx: 7703\n"
          ]
        }
      ]
    },
    {
      "cell_type": "code",
      "source": [
        "df_srx = df_srx.replace(to_replace=r'\\t', value='', regex=True)\n",
        "df_srx['Available from'] = df_srx['Available from'].replace(to_replace=[np.nan,',Now'], value=datetime.now().date(), regex=True)\n",
        "df_srx['Available from'] = df_srx['Available from'].apply(lambda x: pd.to_datetime(x).date())\n",
        "#Keep Available From before today\n",
        "df_srx = df_srx[df_srx['Available from'] <= datetime.now().date()]\n",
        "print(f'df_srx: {len(df_srx)}')"
      ],
      "metadata": {
        "colab": {
          "base_uri": "https://localhost:8080/"
        },
        "id": "gMNKMt9L3NBC",
        "outputId": "a191bc91-5c37-459b-f807-7e84a797cb95"
      },
      "execution_count": null,
      "outputs": [
        {
          "output_type": "stream",
          "name": "stdout",
          "text": [
            "df_srx: 6905\n"
          ]
        }
      ]
    },
    {
      "cell_type": "code",
      "source": [
        "#Has property type\n",
        "df_srx = df_srx[pd.notnull(df_srx['Property Type'])]\n",
        "print(f'df_srx: {len(df_srx)}')"
      ],
      "metadata": {
        "colab": {
          "base_uri": "https://localhost:8080/"
        },
        "id": "XqEu-gDn3VPm",
        "outputId": "bbd5dbc9-8228-49c8-86ec-eb59de88be97"
      },
      "execution_count": null,
      "outputs": [
        {
          "output_type": "stream",
          "name": "stdout",
          "text": [
            "df_srx: 6905\n"
          ]
        }
      ]
    },
    {
      "cell_type": "code",
      "source": [
        "# Remove 3 empty date listed rows\n",
        "df_srx = df_srx[df_srx['Date Listed'].notna()]"
      ],
      "metadata": {
        "id": "u2dyZCbKoxvp"
      },
      "execution_count": null,
      "outputs": []
    },
    {
      "cell_type": "code",
      "source": [
        "# Remove unnecessary columns \n",
        "df_srx = df_srx.drop(['Utility Amount', 'Available from', 'PSF', 'TOP', 'Floor Level', 'Furnish', 'Take Over', 'Bus Stops'], axis=1)"
      ],
      "metadata": {
        "id": "GRkPefzc8PrF"
      },
      "execution_count": null,
      "outputs": []
    },
    {
      "cell_type": "markdown",
      "source": [
        "**Tenure**"
      ],
      "metadata": {
        "id": "TmLnfzLNUSXF"
      }
    },
    {
      "cell_type": "code",
      "source": [
        "df_srx[\"Tenure\"].value_counts()"
      ],
      "metadata": {
        "colab": {
          "base_uri": "https://localhost:8080/"
        },
        "id": "nma7tf0HUUhA",
        "outputId": "e78a31ac-6eec-41d6-c08c-93439ccf1ebb"
      },
      "execution_count": null,
      "outputs": [
        {
          "output_type": "execute_result",
          "data": {
            "text/plain": [
              "LEASEHOLD/99 years           3801\n",
              "FREEHOLD                     2561\n",
              "999 years                     196\n",
              "LEASEHOLD/103 years           100\n",
              "110 Years from 01/11/2017      66\n",
              "929 Years from 01/01/1953      15\n",
              "956 Years from 27/05/1928      14\n",
              "100 Years from 01/02/1986      10\n",
              "LEASEHOLD/60 years              8\n",
              "947 Years from 15/05/1937       8\n",
              "Freehold                        4\n",
              "N.A                             2\n",
              "99 Years from 07/03/2018        1\n",
              "99 Years from 28/08/2013        1\n",
              "947 Years from 05/10/1934       1\n",
              "998 Years from 12/10/1885       1\n",
              "99 Years from 22/03/2012        1\n",
              "946 Years from 23/06/1938       1\n",
              "99 Years from 14/08/2018        1\n",
              "103 Years from 01/10/2010       1\n",
              "Name: Tenure, dtype: int64"
            ]
          },
          "metadata": {},
          "execution_count": 43
        }
      ]
    },
    {
      "cell_type": "code",
      "source": [
        "df_srx[\"Tenure\"] = df_srx[\"Tenure\"].replace(np.nan, 99)\n",
        "df_srx[\"Tenure\"] = df_srx[\"Tenure\"].replace('N.A', 99)"
      ],
      "metadata": {
        "id": "kWqMieFJe3Mv"
      },
      "execution_count": null,
      "outputs": []
    },
    {
      "cell_type": "code",
      "source": [
        "df_srx[\"Tenure\"] = df_srx[\"Tenure\"].apply(lambda x: str(x).lower().replace('leasehold/',''))\n",
        "df_srx[\"Tenure\"] = df_srx[\"Tenure\"].apply(lambda x: re.sub('years.*','', x))\n",
        "df_srx[\"Tenure\"] = df_srx[\"Tenure\"].apply(lambda x: 999 if x.find(\"freehold\") > -1 else int(x))"
      ],
      "metadata": {
        "id": "9er5MYIfUfa6"
      },
      "execution_count": null,
      "outputs": []
    },
    {
      "cell_type": "code",
      "source": [
        "df_srx[\"Tenure\"].value_counts()"
      ],
      "metadata": {
        "colab": {
          "base_uri": "https://localhost:8080/"
        },
        "id": "LVllabDKXgMM",
        "outputId": "21b89495-6941-4bc3-f6e2-c1815e8b2deb"
      },
      "execution_count": null,
      "outputs": [
        {
          "output_type": "execute_result",
          "data": {
            "text/plain": [
              "99     3919\n",
              "999    2761\n",
              "103     101\n",
              "110      66\n",
              "929      15\n",
              "956      14\n",
              "100      10\n",
              "947       9\n",
              "60        8\n",
              "998       1\n",
              "946       1\n",
              "Name: Tenure, dtype: int64"
            ]
          },
          "metadata": {},
          "execution_count": 46
        }
      ]
    },
    {
      "cell_type": "code",
      "source": [
        "# Or only two categories: Leasehold and freehold\n",
        "# df_srx[\"Tenure\"] = df_srx[\"Tenure\"].replace(np.nan, \"Leasehold\")\n",
        "# df_srx[\"Tenure\"] = df_srx[\"Tenure\"].apply(lambda x: \"Freehold\" if x.find(\"freehold\") > -1 or x.find(\"999\") > -1 else \"Non-freehold\")"
      ],
      "metadata": {
        "id": "cjA4KURQsBid"
      },
      "execution_count": null,
      "outputs": []
    },
    {
      "cell_type": "markdown",
      "source": [
        "**District**"
      ],
      "metadata": {
        "id": "v7YDVdK-WlkX"
      }
    },
    {
      "cell_type": "code",
      "source": [
        "df_srx[\"District\"].value_counts()"
      ],
      "metadata": {
        "colab": {
          "base_uri": "https://localhost:8080/"
        },
        "id": "_ein_Vk9WnrW",
        "outputId": "34f8e9a8-a275-46b3-beb6-767a40994de1"
      },
      "execution_count": null,
      "outputs": [
        {
          "output_type": "execute_result",
          "data": {
            "text/plain": [
              "D9 - Orchard / River Valley                          946\n",
              "D10 - Tanglin / Holland / Bukit Timah                880\n",
              "D14 - Eunos / Geylang / Paya Lebar                   487\n",
              "D19 - Hougang / Punggol / Sengkang                   382\n",
              "D15 - East Coast / Marine Parade                     371\n",
              "D1 - Boat Quay / Raffles Place / Marina              323\n",
              "D3 - Alexandra / Commonwealth                        310\n",
              "D18 - Pasir Ris / Tampines                           295\n",
              "D5 - Buona Vista / West Coast / Clementi New Town    279\n",
              "D20 - Ang Mo Kio / Bishan / Thomson                  251\n",
              "D21 - Clementi Park / Upper Bukit Timah              244\n",
              "D11 - Newton / Novena                                240\n",
              "D23 - Dairy Farm / Bukit Panjang / Choa Chu Kang     210\n",
              "D22 - Boon Lay / Jurong / Tuas                       188\n",
              "D16 - Bedok / Upper East Coast                       186\n",
              "D13 - Macpherson / Potong Pasir                      180\n",
              "D12 - Balestier / Toa Payoh                          171\n",
              "D4 - Sentosa / Harbourfront                          168\n",
              "D2 - Chinatown / Tanjong Pagar                       167\n",
              "D27 - Sembawang / Yishun                             125\n",
              "D8 - Farrer Park / Serangoon Rd                      116\n",
              "D17 - Changi Airport / Changi Village                115\n",
              "D7 - Beach Road / Bugis / Rochor                      94\n",
              "D25 - Admiralty / Woodlands                           85\n",
              "D28 - Seletar / Yio Chu Kang                          67\n",
              "D26 - Mandai / Upper Thomson                          19\n",
              "D6 - City Hall / Clarke Quay                           6\n",
              "Name: District, dtype: int64"
            ]
          },
          "metadata": {},
          "execution_count": 48
        }
      ]
    },
    {
      "cell_type": "code",
      "source": [
        "null_districts_with_towns = df_srx[df_srx['District'].isna()]['HDB Town']\n",
        "unique_towns = null_districts_with_towns.unique()\n",
        "unique_towns"
      ],
      "metadata": {
        "colab": {
          "base_uri": "https://localhost:8080/"
        },
        "id": "WjoCsavbgjgz",
        "outputId": "506c999f-2132-43b4-875a-09801cb0b80a"
      },
      "execution_count": null,
      "outputs": [
        {
          "output_type": "execute_result",
          "data": {
            "text/plain": [
              "array([], dtype=float64)"
            ]
          },
          "metadata": {},
          "execution_count": 49
        }
      ]
    },
    {
      "cell_type": "code",
      "source": [
        "df_srx[\"District\"] = df_srx[\"District\"].fillna(\"NULL\")\n",
        "for town in unique_towns:\n",
        "    avail_districts = df_srx[\"District\"][df_srx[\"District\"].str.contains(town)]\n",
        "    if avail_districts.empty:\n",
        "      pass\n",
        "    else:\n",
        "      df_srx.loc[df_srx[\"HDB Town\"] == town, [\"District\"]] = avail_districts.iloc[0]"
      ],
      "metadata": {
        "id": "w2hyw9vlv1Dt"
      },
      "execution_count": null,
      "outputs": []
    },
    {
      "cell_type": "code",
      "source": [
        "df_srx.loc[df_srx[\"District\"]==\"NULL\"][\"HDB Town\"].unique()"
      ],
      "metadata": {
        "colab": {
          "base_uri": "https://localhost:8080/"
        },
        "id": "80ABknGwxTxe",
        "outputId": "99588106-d4c2-4b18-81ea-71bcd8775fea"
      },
      "execution_count": null,
      "outputs": [
        {
          "output_type": "execute_result",
          "data": {
            "text/plain": [
              "array([], dtype=float64)"
            ]
          },
          "metadata": {},
          "execution_count": 51
        }
      ]
    },
    {
      "cell_type": "code",
      "source": [
        "# Manually replace NaN values in District column based on info from external resources\n",
        "df_srx.loc[df_srx['HDB Town'] == 'Jurong West', [\"District\"]] = 'D22'\n",
        "df_srx.loc[df_srx['HDB Town'] == 'Jurong East', [\"District\"]] = 'D22'\n",
        "df_srx.loc[df_srx['HDB Town'] == 'Bukit Batok', [\"District\"]] = 'D21'\n",
        "df_srx.loc[df_srx['HDB Town'] == 'Kallang/Whampoa', [\"District\"]] = 'D11'\n",
        "df_srx.loc[df_srx['HDB Town'] == 'Queenstown', [\"District\"]] = 'D3'\n",
        "df_srx.loc[df_srx['HDB Town'] == 'Bukit Merah', [\"District\"]] = 'D3'\n",
        "df_srx.loc[df_srx['HDB Town'] == 'Central Area', [\"District\"]] = 'D1'"
      ],
      "metadata": {
        "id": "4mjlbsjGyI7W"
      },
      "execution_count": null,
      "outputs": []
    },
    {
      "cell_type": "code",
      "source": [
        "df_srx[\"District\"].value_counts()"
      ],
      "metadata": {
        "colab": {
          "base_uri": "https://localhost:8080/"
        },
        "id": "DuadiHyMz1Xd",
        "outputId": "7ef403d3-843c-4c01-8cd3-4f566f169a4f"
      },
      "execution_count": null,
      "outputs": [
        {
          "output_type": "execute_result",
          "data": {
            "text/plain": [
              "D9 - Orchard / River Valley                          946\n",
              "D10 - Tanglin / Holland / Bukit Timah                880\n",
              "D14 - Eunos / Geylang / Paya Lebar                   487\n",
              "D19 - Hougang / Punggol / Sengkang                   382\n",
              "D15 - East Coast / Marine Parade                     371\n",
              "D1 - Boat Quay / Raffles Place / Marina              323\n",
              "D3 - Alexandra / Commonwealth                        310\n",
              "D18 - Pasir Ris / Tampines                           295\n",
              "D5 - Buona Vista / West Coast / Clementi New Town    279\n",
              "D20 - Ang Mo Kio / Bishan / Thomson                  251\n",
              "D21 - Clementi Park / Upper Bukit Timah              244\n",
              "D11 - Newton / Novena                                240\n",
              "D23 - Dairy Farm / Bukit Panjang / Choa Chu Kang     210\n",
              "D22 - Boon Lay / Jurong / Tuas                       188\n",
              "D16 - Bedok / Upper East Coast                       186\n",
              "D13 - Macpherson / Potong Pasir                      180\n",
              "D12 - Balestier / Toa Payoh                          171\n",
              "D4 - Sentosa / Harbourfront                          168\n",
              "D2 - Chinatown / Tanjong Pagar                       167\n",
              "D27 - Sembawang / Yishun                             125\n",
              "D8 - Farrer Park / Serangoon Rd                      116\n",
              "D17 - Changi Airport / Changi Village                115\n",
              "D7 - Beach Road / Bugis / Rochor                      94\n",
              "D25 - Admiralty / Woodlands                           85\n",
              "D28 - Seletar / Yio Chu Kang                          67\n",
              "D26 - Mandai / Upper Thomson                          19\n",
              "D6 - City Hall / Clarke Quay                           6\n",
              "Name: District, dtype: int64"
            ]
          },
          "metadata": {},
          "execution_count": 53
        }
      ]
    },
    {
      "cell_type": "code",
      "source": [
        "df_srx[\"District\"] = df_srx[\"District\"].apply(lambda x: re.sub(' -.*','',str(x)))"
      ],
      "metadata": {
        "id": "wPvUDmwafo5V"
      },
      "execution_count": null,
      "outputs": []
    },
    {
      "cell_type": "code",
      "source": [
        "df_srx[\"District\"].value_counts()"
      ],
      "metadata": {
        "colab": {
          "base_uri": "https://localhost:8080/"
        },
        "id": "22o1hOeWfzu0",
        "outputId": "abb6719b-6138-4e84-ea7f-a5d6eb0d493d"
      },
      "execution_count": null,
      "outputs": [
        {
          "output_type": "execute_result",
          "data": {
            "text/plain": [
              "D9     946\n",
              "D10    880\n",
              "D14    487\n",
              "D19    382\n",
              "D15    371\n",
              "D1     323\n",
              "D3     310\n",
              "D18    295\n",
              "D5     279\n",
              "D20    251\n",
              "D21    244\n",
              "D11    240\n",
              "D23    210\n",
              "D22    188\n",
              "D16    186\n",
              "D13    180\n",
              "D12    171\n",
              "D4     168\n",
              "D2     167\n",
              "D27    125\n",
              "D8     116\n",
              "D17    115\n",
              "D7      94\n",
              "D25     85\n",
              "D28     67\n",
              "D26     19\n",
              "D6       6\n",
              "Name: District, dtype: int64"
            ]
          },
          "metadata": {},
          "execution_count": 55
        }
      ]
    },
    {
      "cell_type": "code",
      "source": [
        "# Remove unnecessary HDB Town column \n",
        "df_srx = df_srx.drop(['HDB Town'], axis=1)"
      ],
      "metadata": {
        "id": "xomSrpHSFKwD"
      },
      "execution_count": null,
      "outputs": []
    },
    {
      "cell_type": "markdown",
      "source": [
        "**Size**"
      ],
      "metadata": {
        "id": "m9lX-Q6BpDyz"
      }
    },
    {
      "cell_type": "code",
      "source": [
        "df_srx[\"Size\"].value_counts()"
      ],
      "metadata": {
        "colab": {
          "base_uri": "https://localhost:8080/"
        },
        "id": "XM33sWKV05Vi",
        "outputId": "c2ba1226-4c53-4fd9-fd6f-abdb8d54cc71"
      },
      "execution_count": null,
      "outputs": [
        {
          "output_type": "execute_result",
          "data": {
            "text/plain": [
              "200 sqft (Built-up)      185\n",
              "150 sqft (Built-up)      176\n",
              "100 sqft (Built-up)      149\n",
              "764 sqft (Built-up)      104\n",
              "689 sqft (Built-up)      104\n",
              "                        ... \n",
              "123 sqft (Built-up)        1\n",
              "2,175 sqft (Built-up)      1\n",
              "3,520 sqft (Built-up)      1\n",
              "1,527 sqft (Built-up)      1\n",
              "88 sqft (Built-up)         1\n",
              "Name: Size, Length: 832, dtype: int64"
            ]
          },
          "metadata": {},
          "execution_count": 57
        }
      ]
    },
    {
      "cell_type": "code",
      "source": [
        "df_srx[df_srx[\"Size\"].isnull()]"
      ],
      "metadata": {
        "colab": {
          "base_uri": "https://localhost:8080/",
          "height": 177
        },
        "id": "ZKcVgPhP30-5",
        "outputId": "c2f3c360-fa92-4a50-db87-1b68368ca773"
      },
      "execution_count": null,
      "outputs": [
        {
          "output_type": "execute_result",
          "data": {
            "text/plain": [
              "Empty DataFrame\n",
              "Columns: [Unnamed: 0, Property Name, Bathrooms, Tenure, Model, No. of Units, District, Property Type, Lease Term, Room Type, Address, Size, Date Listed, Bedrooms, Developer, Built Year, Asking, Primary Schools, Groceries & Supermarts, Shopping Malls, Trains (MRT & LRT)]\n",
              "Index: []\n",
              "\n",
              "[0 rows x 21 columns]"
            ],
            "text/html": [
              "\n",
              "  <div id=\"df-54bc4d64-e62f-4699-b74a-0a622cf53cfc\">\n",
              "    <div class=\"colab-df-container\">\n",
              "      <div>\n",
              "<style scoped>\n",
              "    .dataframe tbody tr th:only-of-type {\n",
              "        vertical-align: middle;\n",
              "    }\n",
              "\n",
              "    .dataframe tbody tr th {\n",
              "        vertical-align: top;\n",
              "    }\n",
              "\n",
              "    .dataframe thead th {\n",
              "        text-align: right;\n",
              "    }\n",
              "</style>\n",
              "<table border=\"1\" class=\"dataframe\">\n",
              "  <thead>\n",
              "    <tr style=\"text-align: right;\">\n",
              "      <th></th>\n",
              "      <th>Unnamed: 0</th>\n",
              "      <th>Property Name</th>\n",
              "      <th>Bathrooms</th>\n",
              "      <th>Tenure</th>\n",
              "      <th>Model</th>\n",
              "      <th>No. of Units</th>\n",
              "      <th>District</th>\n",
              "      <th>Property Type</th>\n",
              "      <th>Lease Term</th>\n",
              "      <th>Room Type</th>\n",
              "      <th>...</th>\n",
              "      <th>Size</th>\n",
              "      <th>Date Listed</th>\n",
              "      <th>Bedrooms</th>\n",
              "      <th>Developer</th>\n",
              "      <th>Built Year</th>\n",
              "      <th>Asking</th>\n",
              "      <th>Primary Schools</th>\n",
              "      <th>Groceries &amp; Supermarts</th>\n",
              "      <th>Shopping Malls</th>\n",
              "      <th>Trains (MRT &amp; LRT)</th>\n",
              "    </tr>\n",
              "  </thead>\n",
              "  <tbody>\n",
              "  </tbody>\n",
              "</table>\n",
              "<p>0 rows × 21 columns</p>\n",
              "</div>\n",
              "      <button class=\"colab-df-convert\" onclick=\"convertToInteractive('df-54bc4d64-e62f-4699-b74a-0a622cf53cfc')\"\n",
              "              title=\"Convert this dataframe to an interactive table.\"\n",
              "              style=\"display:none;\">\n",
              "        \n",
              "  <svg xmlns=\"http://www.w3.org/2000/svg\" height=\"24px\"viewBox=\"0 0 24 24\"\n",
              "       width=\"24px\">\n",
              "    <path d=\"M0 0h24v24H0V0z\" fill=\"none\"/>\n",
              "    <path d=\"M18.56 5.44l.94 2.06.94-2.06 2.06-.94-2.06-.94-.94-2.06-.94 2.06-2.06.94zm-11 1L8.5 8.5l.94-2.06 2.06-.94-2.06-.94L8.5 2.5l-.94 2.06-2.06.94zm10 10l.94 2.06.94-2.06 2.06-.94-2.06-.94-.94-2.06-.94 2.06-2.06.94z\"/><path d=\"M17.41 7.96l-1.37-1.37c-.4-.4-.92-.59-1.43-.59-.52 0-1.04.2-1.43.59L10.3 9.45l-7.72 7.72c-.78.78-.78 2.05 0 2.83L4 21.41c.39.39.9.59 1.41.59.51 0 1.02-.2 1.41-.59l7.78-7.78 2.81-2.81c.8-.78.8-2.07 0-2.86zM5.41 20L4 18.59l7.72-7.72 1.47 1.35L5.41 20z\"/>\n",
              "  </svg>\n",
              "      </button>\n",
              "      \n",
              "  <style>\n",
              "    .colab-df-container {\n",
              "      display:flex;\n",
              "      flex-wrap:wrap;\n",
              "      gap: 12px;\n",
              "    }\n",
              "\n",
              "    .colab-df-convert {\n",
              "      background-color: #E8F0FE;\n",
              "      border: none;\n",
              "      border-radius: 50%;\n",
              "      cursor: pointer;\n",
              "      display: none;\n",
              "      fill: #1967D2;\n",
              "      height: 32px;\n",
              "      padding: 0 0 0 0;\n",
              "      width: 32px;\n",
              "    }\n",
              "\n",
              "    .colab-df-convert:hover {\n",
              "      background-color: #E2EBFA;\n",
              "      box-shadow: 0px 1px 2px rgba(60, 64, 67, 0.3), 0px 1px 3px 1px rgba(60, 64, 67, 0.15);\n",
              "      fill: #174EA6;\n",
              "    }\n",
              "\n",
              "    [theme=dark] .colab-df-convert {\n",
              "      background-color: #3B4455;\n",
              "      fill: #D2E3FC;\n",
              "    }\n",
              "\n",
              "    [theme=dark] .colab-df-convert:hover {\n",
              "      background-color: #434B5C;\n",
              "      box-shadow: 0px 1px 3px 1px rgba(0, 0, 0, 0.15);\n",
              "      filter: drop-shadow(0px 1px 2px rgba(0, 0, 0, 0.3));\n",
              "      fill: #FFFFFF;\n",
              "    }\n",
              "  </style>\n",
              "\n",
              "      <script>\n",
              "        const buttonEl =\n",
              "          document.querySelector('#df-54bc4d64-e62f-4699-b74a-0a622cf53cfc button.colab-df-convert');\n",
              "        buttonEl.style.display =\n",
              "          google.colab.kernel.accessAllowed ? 'block' : 'none';\n",
              "\n",
              "        async function convertToInteractive(key) {\n",
              "          const element = document.querySelector('#df-54bc4d64-e62f-4699-b74a-0a622cf53cfc');\n",
              "          const dataTable =\n",
              "            await google.colab.kernel.invokeFunction('convertToInteractive',\n",
              "                                                     [key], {});\n",
              "          if (!dataTable) return;\n",
              "\n",
              "          const docLinkHtml = 'Like what you see? Visit the ' +\n",
              "            '<a target=\"_blank\" href=https://colab.research.google.com/notebooks/data_table.ipynb>data table notebook</a>'\n",
              "            + ' to learn more about interactive tables.';\n",
              "          element.innerHTML = '';\n",
              "          dataTable['output_type'] = 'display_data';\n",
              "          await google.colab.output.renderOutput(dataTable, element);\n",
              "          const docLink = document.createElement('div');\n",
              "          docLink.innerHTML = docLinkHtml;\n",
              "          element.appendChild(docLink);\n",
              "        }\n",
              "      </script>\n",
              "    </div>\n",
              "  </div>\n",
              "  "
            ]
          },
          "metadata": {},
          "execution_count": 58
        }
      ]
    },
    {
      "cell_type": "code",
      "source": [
        "# 1 sqm = 10.764 sqft\n",
        "df_srx[\"Size\"] = df_srx[\"Size\"].fillna(0)\n",
        "df_srx[\"Size\"] = df_srx[\"Size\"].apply(lambda x: str(x).replace(',', ''))\n",
        "df_srx[\"Size\"] = df_srx[\"Size\"].apply(lambda x: int(x.split(' ')[0]) if x.find('sqft') > -1 else int(x.split(' ')[0])*10.764)"
      ],
      "metadata": {
        "id": "xLe9tThU1Bl7"
      },
      "execution_count": null,
      "outputs": []
    },
    {
      "cell_type": "code",
      "source": [
        "df_srx['Property Type'].value_counts()"
      ],
      "metadata": {
        "colab": {
          "base_uri": "https://localhost:8080/"
        },
        "id": "1oKj3YprMBpa",
        "outputId": "2156b7d4-9d93-4f95-ce8e-c0bc0eef7d31"
      },
      "execution_count": null,
      "outputs": [
        {
          "output_type": "execute_result",
          "data": {
            "text/plain": [
              "Condominium    3982\n",
              "Apartment      2923\n",
              "Name: Property Type, dtype: int64"
            ]
          },
          "metadata": {},
          "execution_count": 63
        }
      ]
    },
    {
      "cell_type": "code",
      "source": [
        "pd.cut(df_srx[\"Size\"], np.arange(0, 90000, 10000)).value_counts()"
      ],
      "metadata": {
        "colab": {
          "base_uri": "https://localhost:8080/"
        },
        "id": "K3bUkNGG6U3_",
        "outputId": "3f8a2e2a-e9f5-4ee8-f66d-4233680a64f9"
      },
      "execution_count": null,
      "outputs": [
        {
          "output_type": "execute_result",
          "data": {
            "text/plain": [
              "(0, 10000]        6904\n",
              "(10000, 20000]       0\n",
              "(20000, 30000]       0\n",
              "(30000, 40000]       0\n",
              "(40000, 50000]       0\n",
              "(50000, 60000]       0\n",
              "(60000, 70000]       0\n",
              "(70000, 80000]       0\n",
              "Name: Size, dtype: int64"
            ]
          },
          "metadata": {},
          "execution_count": 65
        }
      ]
    },
    {
      "cell_type": "code",
      "source": [
        "big = df_srx[df_srx[\"Size\"] > 20000]\n",
        "big"
      ],
      "metadata": {
        "colab": {
          "base_uri": "https://localhost:8080/",
          "height": 296
        },
        "id": "-ppf1oZ1_0Ap",
        "outputId": "1bc056bf-0739-4875-a837-5ebf2b2a27b2"
      },
      "execution_count": null,
      "outputs": [
        {
          "output_type": "execute_result",
          "data": {
            "text/plain": [
              "      Unnamed: 0 Property Name  Bathrooms  Tenure                  Model  \\\n",
              "9729         NaN         Tenet        2.0      99  Executive Condominium   \n",
              "\n",
              "      No. of Units District Property Type Lease Term    Room Type  ...  \\\n",
              "9729         618.0      D18   Condominium   Flexible  Entire Unit  ...   \n",
              "\n",
              "         Size   Date Listed  Bedrooms                Developer Built Year  \\\n",
              "9729  1121997  1.678800e+09         3  TQS Development Pte Ltd        NaN   \n",
              "\n",
              "      Asking                                    Primary Schools  \\\n",
              "9729    $893  Elias Park Primary,0.74 km;Park View Primary,1...   \n",
              "\n",
              "                                 Groceries & Supermarts  \\\n",
              "9729  NTUC Fairprice (Whitesands),0.92 km;Sheng Sion...   \n",
              "\n",
              "                                         Shopping Malls  \\\n",
              "9729  White Sands,0.92 km;Elias Mall,1.14 km;Pasir R...   \n",
              "\n",
              "                                     Trains (MRT & LRT)  \n",
              "9729  TAMPINES NORTH MRT DUE 2029,CR6;PASIR RIS MRT,...  \n",
              "\n",
              "[1 rows x 21 columns]"
            ],
            "text/html": [
              "\n",
              "  <div id=\"df-0f902094-a139-4ea9-8815-798feeaa7e67\">\n",
              "    <div class=\"colab-df-container\">\n",
              "      <div>\n",
              "<style scoped>\n",
              "    .dataframe tbody tr th:only-of-type {\n",
              "        vertical-align: middle;\n",
              "    }\n",
              "\n",
              "    .dataframe tbody tr th {\n",
              "        vertical-align: top;\n",
              "    }\n",
              "\n",
              "    .dataframe thead th {\n",
              "        text-align: right;\n",
              "    }\n",
              "</style>\n",
              "<table border=\"1\" class=\"dataframe\">\n",
              "  <thead>\n",
              "    <tr style=\"text-align: right;\">\n",
              "      <th></th>\n",
              "      <th>Unnamed: 0</th>\n",
              "      <th>Property Name</th>\n",
              "      <th>Bathrooms</th>\n",
              "      <th>Tenure</th>\n",
              "      <th>Model</th>\n",
              "      <th>No. of Units</th>\n",
              "      <th>District</th>\n",
              "      <th>Property Type</th>\n",
              "      <th>Lease Term</th>\n",
              "      <th>Room Type</th>\n",
              "      <th>...</th>\n",
              "      <th>Size</th>\n",
              "      <th>Date Listed</th>\n",
              "      <th>Bedrooms</th>\n",
              "      <th>Developer</th>\n",
              "      <th>Built Year</th>\n",
              "      <th>Asking</th>\n",
              "      <th>Primary Schools</th>\n",
              "      <th>Groceries &amp; Supermarts</th>\n",
              "      <th>Shopping Malls</th>\n",
              "      <th>Trains (MRT &amp; LRT)</th>\n",
              "    </tr>\n",
              "  </thead>\n",
              "  <tbody>\n",
              "    <tr>\n",
              "      <th>9729</th>\n",
              "      <td>NaN</td>\n",
              "      <td>Tenet</td>\n",
              "      <td>2.0</td>\n",
              "      <td>99</td>\n",
              "      <td>Executive Condominium</td>\n",
              "      <td>618.0</td>\n",
              "      <td>D18</td>\n",
              "      <td>Condominium</td>\n",
              "      <td>Flexible</td>\n",
              "      <td>Entire Unit</td>\n",
              "      <td>...</td>\n",
              "      <td>1121997</td>\n",
              "      <td>1.678800e+09</td>\n",
              "      <td>3</td>\n",
              "      <td>TQS Development Pte Ltd</td>\n",
              "      <td>NaN</td>\n",
              "      <td>$893</td>\n",
              "      <td>Elias Park Primary,0.74 km;Park View Primary,1...</td>\n",
              "      <td>NTUC Fairprice (Whitesands),0.92 km;Sheng Sion...</td>\n",
              "      <td>White Sands,0.92 km;Elias Mall,1.14 km;Pasir R...</td>\n",
              "      <td>TAMPINES NORTH MRT DUE 2029,CR6;PASIR RIS MRT,...</td>\n",
              "    </tr>\n",
              "  </tbody>\n",
              "</table>\n",
              "<p>1 rows × 21 columns</p>\n",
              "</div>\n",
              "      <button class=\"colab-df-convert\" onclick=\"convertToInteractive('df-0f902094-a139-4ea9-8815-798feeaa7e67')\"\n",
              "              title=\"Convert this dataframe to an interactive table.\"\n",
              "              style=\"display:none;\">\n",
              "        \n",
              "  <svg xmlns=\"http://www.w3.org/2000/svg\" height=\"24px\"viewBox=\"0 0 24 24\"\n",
              "       width=\"24px\">\n",
              "    <path d=\"M0 0h24v24H0V0z\" fill=\"none\"/>\n",
              "    <path d=\"M18.56 5.44l.94 2.06.94-2.06 2.06-.94-2.06-.94-.94-2.06-.94 2.06-2.06.94zm-11 1L8.5 8.5l.94-2.06 2.06-.94-2.06-.94L8.5 2.5l-.94 2.06-2.06.94zm10 10l.94 2.06.94-2.06 2.06-.94-2.06-.94-.94-2.06-.94 2.06-2.06.94z\"/><path d=\"M17.41 7.96l-1.37-1.37c-.4-.4-.92-.59-1.43-.59-.52 0-1.04.2-1.43.59L10.3 9.45l-7.72 7.72c-.78.78-.78 2.05 0 2.83L4 21.41c.39.39.9.59 1.41.59.51 0 1.02-.2 1.41-.59l7.78-7.78 2.81-2.81c.8-.78.8-2.07 0-2.86zM5.41 20L4 18.59l7.72-7.72 1.47 1.35L5.41 20z\"/>\n",
              "  </svg>\n",
              "      </button>\n",
              "      \n",
              "  <style>\n",
              "    .colab-df-container {\n",
              "      display:flex;\n",
              "      flex-wrap:wrap;\n",
              "      gap: 12px;\n",
              "    }\n",
              "\n",
              "    .colab-df-convert {\n",
              "      background-color: #E8F0FE;\n",
              "      border: none;\n",
              "      border-radius: 50%;\n",
              "      cursor: pointer;\n",
              "      display: none;\n",
              "      fill: #1967D2;\n",
              "      height: 32px;\n",
              "      padding: 0 0 0 0;\n",
              "      width: 32px;\n",
              "    }\n",
              "\n",
              "    .colab-df-convert:hover {\n",
              "      background-color: #E2EBFA;\n",
              "      box-shadow: 0px 1px 2px rgba(60, 64, 67, 0.3), 0px 1px 3px 1px rgba(60, 64, 67, 0.15);\n",
              "      fill: #174EA6;\n",
              "    }\n",
              "\n",
              "    [theme=dark] .colab-df-convert {\n",
              "      background-color: #3B4455;\n",
              "      fill: #D2E3FC;\n",
              "    }\n",
              "\n",
              "    [theme=dark] .colab-df-convert:hover {\n",
              "      background-color: #434B5C;\n",
              "      box-shadow: 0px 1px 3px 1px rgba(0, 0, 0, 0.15);\n",
              "      filter: drop-shadow(0px 1px 2px rgba(0, 0, 0, 0.3));\n",
              "      fill: #FFFFFF;\n",
              "    }\n",
              "  </style>\n",
              "\n",
              "      <script>\n",
              "        const buttonEl =\n",
              "          document.querySelector('#df-0f902094-a139-4ea9-8815-798feeaa7e67 button.colab-df-convert');\n",
              "        buttonEl.style.display =\n",
              "          google.colab.kernel.accessAllowed ? 'block' : 'none';\n",
              "\n",
              "        async function convertToInteractive(key) {\n",
              "          const element = document.querySelector('#df-0f902094-a139-4ea9-8815-798feeaa7e67');\n",
              "          const dataTable =\n",
              "            await google.colab.kernel.invokeFunction('convertToInteractive',\n",
              "                                                     [key], {});\n",
              "          if (!dataTable) return;\n",
              "\n",
              "          const docLinkHtml = 'Like what you see? Visit the ' +\n",
              "            '<a target=\"_blank\" href=https://colab.research.google.com/notebooks/data_table.ipynb>data table notebook</a>'\n",
              "            + ' to learn more about interactive tables.';\n",
              "          element.innerHTML = '';\n",
              "          dataTable['output_type'] = 'display_data';\n",
              "          await google.colab.output.renderOutput(dataTable, element);\n",
              "          const docLink = document.createElement('div');\n",
              "          docLink.innerHTML = docLinkHtml;\n",
              "          element.appendChild(docLink);\n",
              "        }\n",
              "      </script>\n",
              "    </div>\n",
              "  </div>\n",
              "  "
            ]
          },
          "metadata": {},
          "execution_count": 66
        }
      ]
    },
    {
      "cell_type": "code",
      "source": [
        "# Remove outlier of size 70,000+ sqft\n",
        "df_srx = df_srx[df_srx[\"Size\"] < 30000]"
      ],
      "metadata": {
        "id": "Ld2hvdpA_1Vg"
      },
      "execution_count": null,
      "outputs": []
    },
    {
      "cell_type": "markdown",
      "source": [
        "**Bedrooms**"
      ],
      "metadata": {
        "id": "20cPYXFFPhfh"
      }
    },
    {
      "cell_type": "code",
      "source": [
        "df_srx[\"Bedrooms\"].value_counts()"
      ],
      "metadata": {
        "colab": {
          "base_uri": "https://localhost:8080/"
        },
        "id": "giUFa7dxPi_g",
        "outputId": "1cd64e68-bd25-4635-cf84-0b48e3b167a0"
      },
      "execution_count": null,
      "outputs": [
        {
          "output_type": "execute_result",
          "data": {
            "text/plain": [
              "2         1695\n",
              "3         1536\n",
              "1         1344\n",
              "4          615\n",
              "Studio     181\n",
              "3+1        159\n",
              "4+1        120\n",
              "1+1        102\n",
              "2+1         91\n",
              "5           76\n",
              "6           13\n",
              "5+1          9\n",
              "4+2          3\n",
              "Name: Bedrooms, dtype: int64"
            ]
          },
          "metadata": {},
          "execution_count": 68
        }
      ]
    },
    {
      "cell_type": "code",
      "source": [
        "df_srx[\"Bedrooms\"] = df_srx[\"Bedrooms\"].fillna(0)\n",
        "df_srx.loc[df_srx[\"Bedrooms\"]==\"Studio\"] = 1\n",
        "df_srx.loc[df_srx[\"Bedrooms\"]==\"10+\"] = 10\n",
        "df_srx[\"Bedrooms\"] = df_srx[\"Bedrooms\"].astype('str').apply(lambda x: int(x[0])+1 if x.find(\"+\") > -1 else int(x) if len(x)<3 else 0)"
      ],
      "metadata": {
        "id": "NUcPTfuMP2XX"
      },
      "execution_count": null,
      "outputs": []
    },
    {
      "cell_type": "code",
      "source": [
        "df_srx[\"Bedrooms\"].value_counts()"
      ],
      "metadata": {
        "colab": {
          "base_uri": "https://localhost:8080/"
        },
        "id": "WAgqKXVrRNDQ",
        "outputId": "c24e0a55-ed71-46ff-d314-d98114c9ae7d"
      },
      "execution_count": null,
      "outputs": [
        {
          "output_type": "execute_result",
          "data": {
            "text/plain": [
              "2    1797\n",
              "3    1627\n",
              "1    1525\n",
              "0     960\n",
              "4     774\n",
              "5     199\n",
              "6      22\n",
              "Name: Bedrooms, dtype: int64"
            ]
          },
          "metadata": {},
          "execution_count": 70
        }
      ]
    },
    {
      "cell_type": "markdown",
      "source": [
        "**Bathrooms**"
      ],
      "metadata": {
        "id": "xEt7aBcXQLGu"
      }
    },
    {
      "cell_type": "code",
      "source": [
        "df_srx[\"Bathrooms\"].value_counts()"
      ],
      "metadata": {
        "colab": {
          "base_uri": "https://localhost:8080/"
        },
        "id": "Mg9p4Fi9QNyF",
        "outputId": "1972cec7-a00e-4bfe-b993-df2fb5685caf"
      },
      "execution_count": null,
      "outputs": [
        {
          "output_type": "execute_result",
          "data": {
            "text/plain": [
              "1.0    2165\n",
              "2.0    2160\n",
              "3.0    1190\n",
              "4.0     465\n",
              "5.0     150\n",
              "6.0      32\n",
              "7.0       4\n",
              "Name: Bathrooms, dtype: int64"
            ]
          },
          "metadata": {},
          "execution_count": 71
        }
      ]
    },
    {
      "cell_type": "code",
      "source": [
        "df_srx[\"Bathrooms\"] = df_srx[\"Bathrooms\"].fillna(0)\n",
        "df_srx.loc[df_srx[\"Bathrooms\"] > 10] = 0\n",
        "df_srx[\"Bathrooms\"] = df_srx[\"Bathrooms\"].astype(int)"
      ],
      "metadata": {
        "id": "PImSGmgrQNcw"
      },
      "execution_count": null,
      "outputs": []
    },
    {
      "cell_type": "code",
      "source": [
        "df_srx[\"Bathrooms\"].value_counts()"
      ],
      "metadata": {
        "colab": {
          "base_uri": "https://localhost:8080/"
        },
        "id": "LF81S4bMBEmn",
        "outputId": "7db96222-e09e-440c-df04-af9f90efc8d1"
      },
      "execution_count": null,
      "outputs": [
        {
          "output_type": "execute_result",
          "data": {
            "text/plain": [
              "1    2165\n",
              "2    2160\n",
              "3    1190\n",
              "0     738\n",
              "4     465\n",
              "5     150\n",
              "6      32\n",
              "7       4\n",
              "Name: Bathrooms, dtype: int64"
            ]
          },
          "metadata": {},
          "execution_count": 73
        }
      ]
    },
    {
      "cell_type": "markdown",
      "source": [
        "**Furnish**"
      ],
      "metadata": {
        "id": "ofzYljWfXClP"
      }
    },
    {
      "cell_type": "code",
      "source": [
        "# df_srx[\"Furnish\"].value_counts()"
      ],
      "metadata": {
        "id": "Raja8rgBXFLD"
      },
      "execution_count": null,
      "outputs": []
    },
    {
      "cell_type": "code",
      "source": [
        "# df_srx[\"Furnish\"] = df_srx[\"Furnish\"].apply(lambda x: \"Unknown\" if str(x) in (\"0\", \"1\", \"10\", \"nan\") else str(x))"
      ],
      "metadata": {
        "id": "K364WvucByrW"
      },
      "execution_count": null,
      "outputs": []
    },
    {
      "cell_type": "code",
      "source": [
        "# df_srx[\"Furnish\"].value_counts()"
      ],
      "metadata": {
        "id": "4eP7Dsc1EFii"
      },
      "execution_count": null,
      "outputs": []
    },
    {
      "cell_type": "markdown",
      "source": [
        "**Property Type**"
      ],
      "metadata": {
        "id": "XV71GxTx7RdN"
      }
    },
    {
      "cell_type": "code",
      "source": [
        "df_srx['Property Type'].unique()"
      ],
      "metadata": {
        "colab": {
          "base_uri": "https://localhost:8080/"
        },
        "id": "sVU1Uoef7VDm",
        "outputId": "a2c9ea15-e928-4fae-fc1d-b63b52f4f1af"
      },
      "execution_count": null,
      "outputs": [
        {
          "output_type": "execute_result",
          "data": {
            "text/plain": [
              "array(['Condominium', 'Apartment', 1], dtype=object)"
            ]
          },
          "metadata": {},
          "execution_count": 74
        }
      ]
    },
    {
      "cell_type": "code",
      "source": [
        "df_srx['Property'] = df_srx['Property Type'].apply(lambda x: 'HDB' if 'HDB' in str(x) else 'Condominium' if 'Condo' in str(x) else np.nan)"
      ],
      "metadata": {
        "id": "yGNuN84c7XV7"
      },
      "execution_count": null,
      "outputs": []
    },
    {
      "cell_type": "code",
      "source": [
        "df_srx['Property'].value_counts()"
      ],
      "metadata": {
        "colab": {
          "base_uri": "https://localhost:8080/"
        },
        "id": "9C4295mP7912",
        "outputId": "490fe298-7b9a-454d-ba76-247727641ab3"
      },
      "execution_count": null,
      "outputs": [
        {
          "output_type": "execute_result",
          "data": {
            "text/plain": [
              "Condominium    3873\n",
              "Name: Property, dtype: int64"
            ]
          },
          "metadata": {},
          "execution_count": 76
        }
      ]
    },
    {
      "cell_type": "code",
      "source": [
        "#Only keep condo & hdb\n",
        "df_srx = df_srx[pd.notnull(df_srx['Property'])]"
      ],
      "metadata": {
        "id": "1J5yk9Ii7ZG0"
      },
      "execution_count": null,
      "outputs": []
    },
    {
      "cell_type": "markdown",
      "source": [
        "**Asking**"
      ],
      "metadata": {
        "id": "1YQ7G8vR8Km2"
      }
    },
    {
      "cell_type": "code",
      "source": [
        "def findPrice(x):\n",
        "    if str(x) == 'nan':\n",
        "        return np.nan\n",
        "    price = re.findall(r'\\d+\\,\\d+',x)\n",
        "    if len(price) == 0:\n",
        "        return np.nan\n",
        "    else:\n",
        "        return int(re.sub(',','',price[0]))"
      ],
      "metadata": {
        "id": "ekxOlCMP8MX0"
      },
      "execution_count": null,
      "outputs": []
    },
    {
      "cell_type": "code",
      "source": [
        "df_srx['Asking'] = df_srx['Asking'].apply(findPrice)"
      ],
      "metadata": {
        "id": "oFkYHyKS8OG6"
      },
      "execution_count": null,
      "outputs": []
    },
    {
      "cell_type": "code",
      "source": [
        "#Remove those have same posting info but the price are different; take an average\n",
        "srx = df_srx.groupby([ 'Property Name',  'Address']).aggregate({'Asking':'mean'}).reset_index()\n",
        "df_srx = pd.merge(df_srx.drop(['Asking'], axis=1), srx.drop_duplicates(), on = [ 'Property Name',  'Address'], how=\"inner\")"
      ],
      "metadata": {
        "id": "zthjEEF5J213"
      },
      "execution_count": null,
      "outputs": []
    },
    {
      "cell_type": "code",
      "source": [
        "df_srx.shape"
      ],
      "metadata": {
        "colab": {
          "base_uri": "https://localhost:8080/"
        },
        "id": "ROsXjTupJ7XK",
        "outputId": "0d127fb3-349a-4e4e-c105-0ce03afde14b"
      },
      "execution_count": null,
      "outputs": [
        {
          "output_type": "execute_result",
          "data": {
            "text/plain": [
              "(3873, 22)"
            ]
          },
          "metadata": {},
          "execution_count": 81
        }
      ]
    },
    {
      "cell_type": "markdown",
      "source": [
        "**Built Year**"
      ],
      "metadata": {
        "id": "6L1snsGy8dNR"
      }
    },
    {
      "cell_type": "code",
      "source": [
        "df_srx['Built Year'] = df_srx['Built Year'].astype(float)\n",
        "sns.boxplot(y=\"Built Year\", x=\"Property\", data=df_srx)"
      ],
      "metadata": {
        "colab": {
          "base_uri": "https://localhost:8080/",
          "height": 467
        },
        "id": "VBGojeLO8eu-",
        "outputId": "48789fee-32f7-481e-851e-1f062fe0706f"
      },
      "execution_count": null,
      "outputs": [
        {
          "output_type": "execute_result",
          "data": {
            "text/plain": [
              "<Axes: xlabel='Property', ylabel='Built Year'>"
            ]
          },
          "metadata": {},
          "execution_count": 82
        },
        {
          "output_type": "display_data",
          "data": {
            "text/plain": [
              "<Figure size 640x480 with 1 Axes>"
            ],
            "image/png": "[encoded data removed]"
          },
          "metadata": {}
        }
      ]
    },
    {
      "cell_type": "code",
      "source": [
        "df_srx['Built Year']"
      ],
      "metadata": {
        "colab": {
          "base_uri": "https://localhost:8080/"
        },
        "id": "GR75iWT9Mig-",
        "outputId": "8253d136-8b0d-4cc2-cfe5-fff35178eb72"
      },
      "execution_count": null,
      "outputs": [
        {
          "output_type": "execute_result",
          "data": {
            "text/plain": [
              "0       2022.0\n",
              "1       2022.0\n",
              "2       2022.0\n",
              "3       2022.0\n",
              "4       2022.0\n",
              "         ...  \n",
              "3868    1994.0\n",
              "3869    2014.0\n",
              "3870    1997.0\n",
              "3871    2011.0\n",
              "3872    2013.0\n",
              "Name: Built Year, Length: 3873, dtype: float64"
            ]
          },
          "metadata": {},
          "execution_count": 84
        }
      ]
    },
    {
      "cell_type": "code",
      "source": [
        "#Imputation HDB nan as mean\n",
        "# print(df_srx['Built Year'][df_srx['Property'] == 'HDB'].describe())\n",
        "# df_srx['Built Year'][(df_srx['Property'] == 'HDB') & pd.isnull(df_srx['Built Year'])] = 1992"
      ],
      "metadata": {
        "id": "S0zxlCVc8iKY"
      },
      "execution_count": null,
      "outputs": []
    },
    {
      "cell_type": "code",
      "source": [
        "#Imputation Condo nan as mean\n",
        "print(df_srx['Built Year'][df_srx['Property'] == 'Condominium'].describe())\n",
        "df_srx['Built Year'][(df_srx['Property'] == 'Condominium') & pd.isnull(df_srx['Built Year'])]  = 2008"
      ],
      "metadata": {
        "colab": {
          "base_uri": "https://localhost:8080/"
        },
        "id": "z_TlmU7L8jzl",
        "outputId": "6e51f5e6-fcfd-461b-d03e-3ac36704ba0e"
      },
      "execution_count": null,
      "outputs": [
        {
          "output_type": "stream",
          "name": "stdout",
          "text": [
            "count    3637.000000\n",
            "mean     2008.104207\n",
            "std        10.605117\n",
            "min      1920.000000\n",
            "25%      2000.000000\n",
            "50%      2011.000000\n",
            "75%      2016.000000\n",
            "max      2022.000000\n",
            "Name: Built Year, dtype: float64\n"
          ]
        }
      ]
    },
    {
      "cell_type": "code",
      "source": [
        "df_srx['Built Year'] = df_srx['Built Year'].astype(int)"
      ],
      "metadata": {
        "id": "Au0XtXFn8lur"
      },
      "execution_count": null,
      "outputs": []
    },
    {
      "cell_type": "markdown",
      "source": [
        "**Primary Schools, Groceries & Supermarts, Shopping Malls**"
      ],
      "metadata": {
        "id": "RlTyi3Jx82EL"
      }
    },
    {
      "cell_type": "code",
      "source": [
        "def findKM(x):\n",
        "    if str(x) == 'nan':\n",
        "        return np.nan\n",
        "    return min([float(s) for s in re.findall(r'\\d+\\.\\d+', x)])"
      ],
      "metadata": {
        "id": "Agg98j7Y83-S"
      },
      "execution_count": null,
      "outputs": []
    },
    {
      "cell_type": "code",
      "source": [
        "df_srx['Shopping Malls'] = df_srx['Shopping Malls'].apply(findKM)\n",
        "df_srx['Primary Schools'] = df_srx['Primary Schools'].apply(findKM)\n",
        "df_srx['Groceries & Supermarts'] = df_srx['Groceries & Supermarts'].apply(findKM)"
      ],
      "metadata": {
        "id": "_VLcVGe6870J"
      },
      "execution_count": null,
      "outputs": []
    },
    {
      "cell_type": "code",
      "source": [
        "#Imputation nan as 1km\n",
        "df_srx['Primary Schools'][pd.isnull(df_srx['Primary Schools'])] = 1\n",
        "df_srx['Shopping Malls'][pd.isnull(df_srx['Shopping Malls'])] = 1\n",
        "df_srx['Groceries & Supermarts'][pd.isnull(df_srx['Groceries & Supermarts'])] = 1"
      ],
      "metadata": {
        "id": "MlI6Aevs9FNF"
      },
      "execution_count": null,
      "outputs": []
    },
    {
      "cell_type": "markdown",
      "source": [
        "**Date listed**"
      ],
      "metadata": {
        "id": "jc2sy01doY_T"
      }
    },
    {
      "cell_type": "code",
      "source": [
        "df_srx['Date Listed'] = df_srx['Date Listed'].apply(lambda x: datetime.fromtimestamp(x))"
      ],
      "metadata": {
        "id": "oTaBm6QeobRl"
      },
      "execution_count": null,
      "outputs": []
    },
    {
      "cell_type": "markdown",
      "source": [
        "**MRT**"
      ],
      "metadata": {
        "id": "mgYN1_BkKK0Z"
      }
    },
    {
      "cell_type": "code",
      "source": [
        "def findFirstMRT(x):\n",
        "  if str(x) == \"nan\":\n",
        "    return \"\"\n",
        "  mrts = x.split(\";\")\n",
        "  final = []\n",
        "  for mrt in mrts:\n",
        "    if \"DUE\" not in mrt:\n",
        "      final.append(mrt)\n",
        "  return final[0] if len(final) !=0 else \"\""
      ],
      "metadata": {
        "id": "Qltvvj0pLuz9"
      },
      "execution_count": null,
      "outputs": []
    },
    {
      "cell_type": "code",
      "source": [
        "df_srx['Trains (MRT & LRT)'] = df_srx['Trains (MRT & LRT)'].apply(findFirstMRT)"
      ],
      "metadata": {
        "id": "m3UDHCvfKSh5"
      },
      "execution_count": null,
      "outputs": []
    },
    {
      "cell_type": "markdown",
      "source": [
        "**No. of units**"
      ],
      "metadata": {
        "id": "lIPDji2BNJee"
      }
    },
    {
      "cell_type": "code",
      "source": [
        "df_srx.columns"
      ],
      "metadata": {
        "colab": {
          "base_uri": "https://localhost:8080/"
        },
        "id": "Bzu7527zNT4u",
        "outputId": "e0ab5258-1148-46b7-d473-e7d59ee85b51"
      },
      "execution_count": null,
      "outputs": [
        {
          "output_type": "execute_result",
          "data": {
            "text/plain": [
              "Index(['Unnamed: 0', 'Property Name', 'Bathrooms', 'Tenure', 'Model',\n",
              "       'No. of Units', 'District', 'Property Type', 'Lease Term', 'Room Type',\n",
              "       'Address', 'Size', 'Date Listed', 'Bedrooms', 'Developer', 'Built Year',\n",
              "       'Primary Schools', 'Groceries & Supermarts', 'Shopping Malls',\n",
              "       'Trains (MRT & LRT)', 'Property', 'Asking'],\n",
              "      dtype='object')"
            ]
          },
          "metadata": {},
          "execution_count": 93
        }
      ]
    },
    {
      "cell_type": "code",
      "source": [
        "df_srx['Neighborhood'] = df_srx['No. of Units'].apply(lambda x: \"Small\" if x<=450 else \"Big\")"
      ],
      "metadata": {
        "id": "f-JmlVrMNLTY"
      },
      "execution_count": null,
      "outputs": []
    },
    {
      "cell_type": "markdown",
      "source": [
        "**Imputation - Bathrooms**"
      ],
      "metadata": {
        "id": "axUA0UBLOytI"
      }
    },
    {
      "cell_type": "code",
      "source": [
        "df_srx.isnull().sum()"
      ],
      "metadata": {
        "colab": {
          "base_uri": "https://localhost:8080/"
        },
        "id": "ZVcj6M-TfZJD",
        "outputId": "92ab679e-2012-47cb-a702-23643c27385c"
      },
      "execution_count": null,
      "outputs": [
        {
          "output_type": "execute_result",
          "data": {
            "text/plain": [
              "Unnamed: 0                3873\n",
              "Property Name                0\n",
              "Bathrooms                    0\n",
              "Tenure                       0\n",
              "Model                      656\n",
              "No. of Units               219\n",
              "District                     0\n",
              "Property Type                0\n",
              "Lease Term                   0\n",
              "Room Type                    0\n",
              "Address                      0\n",
              "Size                         0\n",
              "Date Listed                  0\n",
              "Bedrooms                     0\n",
              "Developer                  142\n",
              "Built Year                   0\n",
              "Primary Schools              0\n",
              "Groceries & Supermarts       0\n",
              "Shopping Malls               0\n",
              "Trains (MRT & LRT)           0\n",
              "Property                     0\n",
              "Asking                       6\n",
              "Neighborhood                 0\n",
              "dtype: int64"
            ]
          },
          "metadata": {},
          "execution_count": 95
        }
      ]
    },
    {
      "cell_type": "code",
      "source": [
        "# Find max size of flats that require bathroom imputation\n",
        "df_srx[df_srx[\"Bathrooms\"]==0][\"Size\"].max()"
      ],
      "metadata": {
        "colab": {
          "base_uri": "https://localhost:8080/"
        },
        "id": "kvfDrDejAvK0",
        "outputId": "ed965c83-ed42-4e65-f3b7-c38971f1228e"
      },
      "execution_count": null,
      "outputs": [
        {
          "output_type": "execute_result",
          "data": {
            "text/plain": [
              "4000"
            ]
          },
          "metadata": {},
          "execution_count": 96
        }
      ]
    },
    {
      "cell_type": "code",
      "source": [
        "df_srx[\"Bathrooms\"] = df_srx[\"Bathrooms\"].replace(0, np.nan)"
      ],
      "metadata": {
        "id": "Ccl_4PdXCbBJ"
      },
      "execution_count": null,
      "outputs": []
    },
    {
      "cell_type": "code",
      "source": [
        "total_bins = pd.cut(df_srx[\"Size\"], np.arange(0, 30000, 400)) \n",
        "bath = df_srx.groupby(pd.cut(df_srx[\"Size\"], np.arange(0, 12000, 400)) ).median()[\"Bathrooms\"]"
      ],
      "metadata": {
        "id": "HjPZ0c4zCz3Q"
      },
      "execution_count": null,
      "outputs": []
    },
    {
      "cell_type": "code",
      "source": [
        "df_srx[\"Bathrooms\"] = df_srx[\"Bathrooms\"].fillna(total_bins.replace(bath))"
      ],
      "metadata": {
        "id": "rUZhI6Qj6pxG"
      },
      "execution_count": null,
      "outputs": []
    },
    {
      "cell_type": "code",
      "source": [
        "df_srx[\"Bathrooms\"].value_counts()"
      ],
      "metadata": {
        "colab": {
          "base_uri": "https://localhost:8080/"
        },
        "id": "ZfgXdDCXG_cm",
        "outputId": "38a8ba8a-d487-4e34-e91c-773f5f35a5b2"
      },
      "execution_count": null,
      "outputs": [
        {
          "output_type": "execute_result",
          "data": {
            "text/plain": [
              "1.0    1301\n",
              "2.0    1205\n",
              "3.0     894\n",
              "4.0     337\n",
              "5.0     110\n",
              "6.0      23\n",
              "7.0       3\n",
              "Name: Bathrooms, dtype: int64"
            ]
          },
          "metadata": {},
          "execution_count": 100
        }
      ]
    },
    {
      "cell_type": "markdown",
      "source": [
        "**Imputation - Bedrooms**"
      ],
      "metadata": {
        "id": "LE3RVia8Jej6"
      }
    },
    {
      "cell_type": "code",
      "source": [
        "# Find max size of flats that require bedroom imputation\n",
        "df_srx[df_srx[\"Bedrooms\"]==0][\"Size\"].max()"
      ],
      "metadata": {
        "colab": {
          "base_uri": "https://localhost:8080/"
        },
        "id": "q_VrljNoJgtS",
        "outputId": "e90bc471-0764-445b-a57a-eb7a41008003"
      },
      "execution_count": null,
      "outputs": [
        {
          "output_type": "execute_result",
          "data": {
            "text/plain": [
              "2000"
            ]
          },
          "metadata": {},
          "execution_count": 101
        }
      ]
    },
    {
      "cell_type": "code",
      "source": [
        "df_srx[\"Bedrooms\"] = df_srx[\"Bedrooms\"].replace(0, np.nan)"
      ],
      "metadata": {
        "id": "fslh_ddNIZrr"
      },
      "execution_count": null,
      "outputs": []
    },
    {
      "cell_type": "code",
      "source": [
        "bed = df_srx.groupby(pd.cut(df_srx[\"Size\"], np.arange(0, 13000, 400))).median()[\"Bedrooms\"]\n",
        "bed"
      ],
      "metadata": {
        "colab": {
          "base_uri": "https://localhost:8080/"
        },
        "id": "kUSBy-5ZIcCO",
        "outputId": "e0826c96-68ee-4924-8e4d-a43e51646637"
      },
      "execution_count": null,
      "outputs": [
        {
          "output_type": "execute_result",
          "data": {
            "text/plain": [
              "Size\n",
              "(0, 400]          1.0\n",
              "(400, 800]        2.0\n",
              "(800, 1200]       3.0\n",
              "(1200, 1600]      3.0\n",
              "(1600, 2000]      3.0\n",
              "(2000, 2400]      4.0\n",
              "(2400, 2800]      4.0\n",
              "(2800, 3200]      4.0\n",
              "(3200, 3600]      4.0\n",
              "(3600, 4000]      4.0\n",
              "(4000, 4400]      5.0\n",
              "(4400, 4800]      5.0\n",
              "(4800, 5200]      5.0\n",
              "(5200, 5600]      5.0\n",
              "(5600, 6000]      5.0\n",
              "(6000, 6400]      5.0\n",
              "(6400, 6800]      NaN\n",
              "(6800, 7200]      5.0\n",
              "(7200, 7600]      NaN\n",
              "(7600, 8000]      4.0\n",
              "(8000, 8400]      NaN\n",
              "(8400, 8800]      5.5\n",
              "(8800, 9200]      NaN\n",
              "(9200, 9600]      NaN\n",
              "(9600, 10000]     NaN\n",
              "(10000, 10400]    NaN\n",
              "(10400, 10800]    NaN\n",
              "(10800, 11200]    NaN\n",
              "(11200, 11600]    NaN\n",
              "(11600, 12000]    NaN\n",
              "(12000, 12400]    NaN\n",
              "(12400, 12800]    NaN\n",
              "Name: Bedrooms, dtype: float64"
            ]
          },
          "metadata": {},
          "execution_count": 103
        }
      ]
    },
    {
      "cell_type": "code",
      "source": [
        "df_srx[\"Bedrooms\"] = df_srx[\"Bedrooms\"].fillna(total_bins.replace(bed))"
      ],
      "metadata": {
        "id": "uV_usKw1IjIO"
      },
      "execution_count": null,
      "outputs": []
    },
    {
      "cell_type": "code",
      "source": [
        "df_srx[\"Bedrooms\"].value_counts()"
      ],
      "metadata": {
        "colab": {
          "base_uri": "https://localhost:8080/"
        },
        "id": "KFYJ0lr8JFb0",
        "outputId": "0ed6494a-a650-4fdb-eefb-28c9b4c3c274"
      },
      "execution_count": null,
      "outputs": [
        {
          "output_type": "execute_result",
          "data": {
            "text/plain": [
              "1.0    1124\n",
              "3.0    1118\n",
              "2.0     909\n",
              "4.0     564\n",
              "5.0     145\n",
              "6.0      13\n",
              "Name: Bedrooms, dtype: int64"
            ]
          },
          "metadata": {},
          "execution_count": 105
        }
      ]
    },
    {
      "cell_type": "markdown",
      "source": [
        "**Imputation - Room Type**"
      ],
      "metadata": {
        "id": "I-eO05vh4ose"
      }
    },
    {
      "cell_type": "code",
      "source": [
        "df_srx['Room Type'].value_counts()"
      ],
      "metadata": {
        "colab": {
          "base_uri": "https://localhost:8080/"
        },
        "id": "mgDTyRWN5xDY",
        "outputId": "355f04ef-8431-4133-d574-902b6612aa5b"
      },
      "execution_count": null,
      "outputs": [
        {
          "output_type": "execute_result",
          "data": {
            "text/plain": [
              "Entire Unit    3241\n",
              "Common          334\n",
              "N.A             180\n",
              "Master          118\n",
              "Name: Room Type, dtype: int64"
            ]
          },
          "metadata": {},
          "execution_count": 106
        }
      ]
    },
    {
      "cell_type": "code",
      "source": [
        "df_srx['Room Type'] = df_srx['Room Type'].apply(lambda x: 'Entire Unit' if (x=='N.A')|(x==1)|(x==10)|(x==0) else x)"
      ],
      "metadata": {
        "id": "RvXpLa9u6uph"
      },
      "execution_count": null,
      "outputs": []
    },
    {
      "cell_type": "code",
      "source": [
        "df_srx['Room Type'].value_counts()"
      ],
      "metadata": {
        "colab": {
          "base_uri": "https://localhost:8080/"
        },
        "id": "jH-X7uOh5Klk",
        "outputId": "c892ffec-cedd-4d91-f372-339a2006c923"
      },
      "execution_count": null,
      "outputs": [
        {
          "output_type": "execute_result",
          "data": {
            "text/plain": [
              "Entire Unit    3421\n",
              "Common          334\n",
              "Master          118\n",
              "Name: Room Type, dtype: int64"
            ]
          },
          "metadata": {},
          "execution_count": 108
        }
      ]
    },
    {
      "cell_type": "markdown",
      "source": [
        "**Imputation - Asking**"
      ],
      "metadata": {
        "id": "unjyt0rm9OGY"
      }
    },
    {
      "cell_type": "code",
      "source": [
        "# Find max size of flats that require asking price imputation\n",
        "df_srx[pd.isnull(df_srx[\"Asking\"])][\"Size\"].max()"
      ],
      "metadata": {
        "colab": {
          "base_uri": "https://localhost:8080/"
        },
        "id": "vHWik0kz9VQl",
        "outputId": "97efc974-c14d-49aa-e36a-6543d19db007"
      },
      "execution_count": null,
      "outputs": [
        {
          "output_type": "execute_result",
          "data": {
            "text/plain": [
              "200"
            ]
          },
          "metadata": {},
          "execution_count": 109
        }
      ]
    },
    {
      "cell_type": "code",
      "source": [
        "df_srx[\"Asking\"] = df_srx[\"Asking\"].replace(0, np.nan)"
      ],
      "metadata": {
        "id": "somKM5E29hh7"
      },
      "execution_count": null,
      "outputs": []
    },
    {
      "cell_type": "code",
      "source": [
        "asking = df_srx.groupby(pd.cut(df_srx[\"Size\"], np.arange(0, 2400, 400))).median()[\"Asking\"]\n",
        "asking"
      ],
      "metadata": {
        "colab": {
          "base_uri": "https://localhost:8080/"
        },
        "id": "LEP4XMGg9mrE",
        "outputId": "046a0f53-9b73-4b38-f2c5-db10266b5610"
      },
      "execution_count": null,
      "outputs": [
        {
          "output_type": "execute_result",
          "data": {
            "text/plain": [
              "Size\n",
              "(0, 400]        2625.000000\n",
              "(400, 800]      4849.377049\n",
              "(800, 1200]     5000.000000\n",
              "(1200, 1600]    6000.000000\n",
              "(1600, 2000]    8611.000000\n",
              "Name: Asking, dtype: float64"
            ]
          },
          "metadata": {},
          "execution_count": 111
        }
      ]
    },
    {
      "cell_type": "code",
      "source": [
        "df_srx[\"Asking\"] = df_srx[\"Asking\"].fillna(total_bins.replace(asking))"
      ],
      "metadata": {
        "id": "RkSR39cr9vC2"
      },
      "execution_count": null,
      "outputs": []
    },
    {
      "cell_type": "markdown",
      "source": [
        "# Outlier Analysis"
      ],
      "metadata": {
        "id": "kyV8etPsOCNg"
      }
    },
    {
      "cell_type": "code",
      "source": [
        "df_srx.columns"
      ],
      "metadata": {
        "colab": {
          "base_uri": "https://localhost:8080/"
        },
        "id": "-_N7sSFR-HET",
        "outputId": "07f1d734-5893-4018-e001-31e074f1de66"
      },
      "execution_count": null,
      "outputs": [
        {
          "output_type": "execute_result",
          "data": {
            "text/plain": [
              "Index(['Unnamed: 0', 'Property Name', 'Bathrooms', 'Tenure', 'Model',\n",
              "       'No. of Units', 'District', 'Property Type', 'Lease Term', 'Room Type',\n",
              "       'Address', 'Size', 'Date Listed', 'Bedrooms', 'Developer', 'Built Year',\n",
              "       'Primary Schools', 'Groceries & Supermarts', 'Shopping Malls',\n",
              "       'Trains (MRT & LRT)', 'Property', 'Asking', 'Neighborhood'],\n",
              "      dtype='object')"
            ]
          },
          "metadata": {},
          "execution_count": 117
        }
      ]
    },
    {
      "cell_type": "code",
      "source": [
        "numerical_columns = ['Bedrooms','Bathrooms','Size', 'Built Year']"
      ],
      "metadata": {
        "id": "K1ZSTc-uOIhT"
      },
      "execution_count": null,
      "outputs": []
    },
    {
      "cell_type": "code",
      "source": [
        "for k,v in df_srx[numerical_columns].items():\n",
        "    q1 = v.quantile(0.25)\n",
        "    q3 = v.quantile(0.75)\n",
        "    irq = q3 - q1\n",
        "    v_col = v[(v <= q1 - 1.5 * irq) | (v >= q3 + 1.5 * irq)]\n",
        "    perc = np.shape(v_col)[0] * 100.0 / np.shape(df_srx[numerical_columns])[0]\n",
        "    print(\"%s has outliers percentage of %.2f%%\" % (k, perc))"
      ],
      "metadata": {
        "colab": {
          "base_uri": "https://localhost:8080/"
        },
        "id": "L4-PjV7FOPCh",
        "outputId": "07d50272-d5c7-4eb2-ba6c-f2d0929ca3ea"
      },
      "execution_count": null,
      "outputs": [
        {
          "output_type": "stream",
          "name": "stdout",
          "text": [
            "Bedrooms has outliers percentage of 0.34%\n",
            "Bathrooms has outliers percentage of 0.67%\n",
            "Size has outliers percentage of 7.93%\n",
            "Built Year has outliers percentage of 0.08%\n"
          ]
        }
      ]
    },
    {
      "cell_type": "markdown",
      "source": [
        "# Heatmap of correlation"
      ],
      "metadata": {
        "id": "SQj9POzYOcNf"
      }
    },
    {
      "cell_type": "code",
      "source": [
        "sns.heatmap(df_srx.corr(), annot=True)"
      ],
      "metadata": {
        "colab": {
          "base_uri": "https://localhost:8080/",
          "height": 606
        },
        "id": "20cP-B48OhfP",
        "outputId": "2e5d7dd1-bf7d-42b1-d2c9-8628c90ecfcf"
      },
      "execution_count": null,
      "outputs": [
        {
          "output_type": "execute_result",
          "data": {
            "text/plain": [
              "<Axes: >"
            ]
          },
          "metadata": {},
          "execution_count": 120
        },
        {
          "output_type": "display_data",
          "data": {
            "text/plain": [
              "<Figure size 640x480 with 2 Axes>"
            ],
            "image/png": "[encoded data removed]"
          },
          "metadata": {}
        }
      ]
    },
    {
      "cell_type": "code",
      "source": [
        "df_srx.describe()"
      ],
      "metadata": {
        "colab": {
          "base_uri": "https://localhost:8080/",
          "height": 399
        },
        "id": "AOXsYN_xPbad",
        "outputId": "8c35750e-3a78-48a3-ed44-2a9114bbcda6"
      },
      "execution_count": null,
      "outputs": [
        {
          "output_type": "execute_result",
          "data": {
            "text/plain": [
              "       Unnamed: 0    Bathrooms       Tenure  No. of Units         Size  \\\n",
              "count         0.0  3873.000000  3873.000000   3654.000000  3873.000000   \n",
              "mean          NaN     2.181771   393.151046    489.696223  1166.087013   \n",
              "std           NaN     1.118961   421.947208    319.610845   945.454009   \n",
              "min           NaN     1.000000    99.000000     11.000000     1.000000   \n",
              "25%           NaN     1.000000    99.000000    231.000000   570.000000   \n",
              "50%           NaN     2.000000    99.000000    449.000000   969.000000   \n",
              "75%           NaN     3.000000   999.000000    696.000000  1442.000000   \n",
              "max           NaN     7.000000   999.000000   1715.000000  8514.000000   \n",
              "\n",
              "          Bedrooms   Built Year  Primary Schools  Groceries & Supermarts  \\\n",
              "count  3873.000000  3873.000000      3873.000000             3873.000000   \n",
              "mean      2.415440  2008.097857         0.685877                0.543336   \n",
              "std       1.174646    10.276874         0.368909                0.295149   \n",
              "min       1.000000  1920.000000         0.060000                0.000000   \n",
              "25%       1.000000  2000.000000         0.430000                0.320000   \n",
              "50%       2.000000  2010.000000         0.620000                0.500000   \n",
              "75%       3.000000  2016.000000         0.840000                0.700000   \n",
              "max       6.000000  2022.000000         1.890000                1.930000   \n",
              "\n",
              "       Shopping Malls        Asking  \n",
              "count     3873.000000   3873.000000  \n",
              "mean         0.712375   7025.371442  \n",
              "std          0.448712   6284.795374  \n",
              "min          0.000000   1000.000000  \n",
              "25%          0.360000   3960.000000  \n",
              "50%          0.620000   5233.333333  \n",
              "75%          0.950000   7612.437500  \n",
              "max          1.980000  69000.000000  "
            ],
            "text/html": [
              "\n",
              "  <div id=\"df-65f49ec9-bd56-461e-8fa8-0de024795b1e\">\n",
              "    <div class=\"colab-df-container\">\n",
              "      <div>\n",
              "<style scoped>\n",
              "    .dataframe tbody tr th:only-of-type {\n",
              "        vertical-align: middle;\n",
              "    }\n",
              "\n",
              "    .dataframe tbody tr th {\n",
              "        vertical-align: top;\n",
              "    }\n",
              "\n",
              "    .dataframe thead th {\n",
              "        text-align: right;\n",
              "    }\n",
              "</style>\n",
              "<table border=\"1\" class=\"dataframe\">\n",
              "  <thead>\n",
              "    <tr style=\"text-align: right;\">\n",
              "      <th></th>\n",
              "      <th>Unnamed: 0</th>\n",
              "      <th>Bathrooms</th>\n",
              "      <th>Tenure</th>\n",
              "      <th>No. of Units</th>\n",
              "      <th>Size</th>\n",
              "      <th>Bedrooms</th>\n",
              "      <th>Built Year</th>\n",
              "      <th>Primary Schools</th>\n",
              "      <th>Groceries &amp; Supermarts</th>\n",
              "      <th>Shopping Malls</th>\n",
              "      <th>Asking</th>\n",
              "    </tr>\n",
              "  </thead>\n",
              "  <tbody>\n",
              "    <tr>\n",
              "      <th>count</th>\n",
              "      <td>0.0</td>\n",
              "      <td>3873.000000</td>\n",
              "      <td>3873.000000</td>\n",
              "      <td>3654.000000</td>\n",
              "      <td>3873.000000</td>\n",
              "      <td>3873.000000</td>\n",
              "      <td>3873.000000</td>\n",
              "      <td>3873.000000</td>\n",
              "      <td>3873.000000</td>\n",
              "      <td>3873.000000</td>\n",
              "      <td>3873.000000</td>\n",
              "    </tr>\n",
              "    <tr>\n",
              "      <th>mean</th>\n",
              "      <td>NaN</td>\n",
              "      <td>2.181771</td>\n",
              "      <td>393.151046</td>\n",
              "      <td>489.696223</td>\n",
              "      <td>1166.087013</td>\n",
              "      <td>2.415440</td>\n",
              "      <td>2008.097857</td>\n",
              "      <td>0.685877</td>\n",
              "      <td>0.543336</td>\n",
              "      <td>0.712375</td>\n",
              "      <td>7025.371442</td>\n",
              "    </tr>\n",
              "    <tr>\n",
              "      <th>std</th>\n",
              "      <td>NaN</td>\n",
              "      <td>1.118961</td>\n",
              "      <td>421.947208</td>\n",
              "      <td>319.610845</td>\n",
              "      <td>945.454009</td>\n",
              "      <td>1.174646</td>\n",
              "      <td>10.276874</td>\n",
              "      <td>0.368909</td>\n",
              "      <td>0.295149</td>\n",
              "      <td>0.448712</td>\n",
              "      <td>6284.795374</td>\n",
              "    </tr>\n",
              "    <tr>\n",
              "      <th>min</th>\n",
              "      <td>NaN</td>\n",
              "      <td>1.000000</td>\n",
              "      <td>99.000000</td>\n",
              "      <td>11.000000</td>\n",
              "      <td>1.000000</td>\n",
              "      <td>1.000000</td>\n",
              "      <td>1920.000000</td>\n",
              "      <td>0.060000</td>\n",
              "      <td>0.000000</td>\n",
              "      <td>0.000000</td>\n",
              "      <td>1000.000000</td>\n",
              "    </tr>\n",
              "    <tr>\n",
              "      <th>25%</th>\n",
              "      <td>NaN</td>\n",
              "      <td>1.000000</td>\n",
              "      <td>99.000000</td>\n",
              "      <td>231.000000</td>\n",
              "      <td>570.000000</td>\n",
              "      <td>1.000000</td>\n",
              "      <td>2000.000000</td>\n",
              "      <td>0.430000</td>\n",
              "      <td>0.320000</td>\n",
              "      <td>0.360000</td>\n",
              "      <td>3960.000000</td>\n",
              "    </tr>\n",
              "    <tr>\n",
              "      <th>50%</th>\n",
              "      <td>NaN</td>\n",
              "      <td>2.000000</td>\n",
              "      <td>99.000000</td>\n",
              "      <td>449.000000</td>\n",
              "      <td>969.000000</td>\n",
              "      <td>2.000000</td>\n",
              "      <td>2010.000000</td>\n",
              "      <td>0.620000</td>\n",
              "      <td>0.500000</td>\n",
              "      <td>0.620000</td>\n",
              "      <td>5233.333333</td>\n",
              "    </tr>\n",
              "    <tr>\n",
              "      <th>75%</th>\n",
              "      <td>NaN</td>\n",
              "      <td>3.000000</td>\n",
              "      <td>999.000000</td>\n",
              "      <td>696.000000</td>\n",
              "      <td>1442.000000</td>\n",
              "      <td>3.000000</td>\n",
              "      <td>2016.000000</td>\n",
              "      <td>0.840000</td>\n",
              "      <td>0.700000</td>\n",
              "      <td>0.950000</td>\n",
              "      <td>7612.437500</td>\n",
              "    </tr>\n",
              "    <tr>\n",
              "      <th>max</th>\n",
              "      <td>NaN</td>\n",
              "      <td>7.000000</td>\n",
              "      <td>999.000000</td>\n",
              "      <td>1715.000000</td>\n",
              "      <td>8514.000000</td>\n",
              "      <td>6.000000</td>\n",
              "      <td>2022.000000</td>\n",
              "      <td>1.890000</td>\n",
              "      <td>1.930000</td>\n",
              "      <td>1.980000</td>\n",
              "      <td>69000.000000</td>\n",
              "    </tr>\n",
              "  </tbody>\n",
              "</table>\n",
              "</div>\n",
              "      <button class=\"colab-df-convert\" onclick=\"convertToInteractive('df-65f49ec9-bd56-461e-8fa8-0de024795b1e')\"\n",
              "              title=\"Convert this dataframe to an interactive table.\"\n",
              "              style=\"display:none;\">\n",
              "        \n",
              "  <svg xmlns=\"http://www.w3.org/2000/svg\" height=\"24px\"viewBox=\"0 0 24 24\"\n",
              "       width=\"24px\">\n",
              "    <path d=\"M0 0h24v24H0V0z\" fill=\"none\"/>\n",
              "    <path d=\"M18.56 5.44l.94 2.06.94-2.06 2.06-.94-2.06-.94-.94-2.06-.94 2.06-2.06.94zm-11 1L8.5 8.5l.94-2.06 2.06-.94-2.06-.94L8.5 2.5l-.94 2.06-2.06.94zm10 10l.94 2.06.94-2.06 2.06-.94-2.06-.94-.94-2.06-.94 2.06-2.06.94z\"/><path d=\"M17.41 7.96l-1.37-1.37c-.4-.4-.92-.59-1.43-.59-.52 0-1.04.2-1.43.59L10.3 9.45l-7.72 7.72c-.78.78-.78 2.05 0 2.83L4 21.41c.39.39.9.59 1.41.59.51 0 1.02-.2 1.41-.59l7.78-7.78 2.81-2.81c.8-.78.8-2.07 0-2.86zM5.41 20L4 18.59l7.72-7.72 1.47 1.35L5.41 20z\"/>\n",
              "  </svg>\n",
              "      </button>\n",
              "      \n",
              "  <style>\n",
              "    .colab-df-container {\n",
              "      display:flex;\n",
              "      flex-wrap:wrap;\n",
              "      gap: 12px;\n",
              "    }\n",
              "\n",
              "    .colab-df-convert {\n",
              "      background-color: #E8F0FE;\n",
              "      border: none;\n",
              "      border-radius: 50%;\n",
              "      cursor: pointer;\n",
              "      display: none;\n",
              "      fill: #1967D2;\n",
              "      height: 32px;\n",
              "      padding: 0 0 0 0;\n",
              "      width: 32px;\n",
              "    }\n",
              "\n",
              "    .colab-df-convert:hover {\n",
              "      background-color: #E2EBFA;\n",
              "      box-shadow: 0px 1px 2px rgba(60, 64, 67, 0.3), 0px 1px 3px 1px rgba(60, 64, 67, 0.15);\n",
              "      fill: #174EA6;\n",
              "    }\n",
              "\n",
              "    [theme=dark] .colab-df-convert {\n",
              "      background-color: #3B4455;\n",
              "      fill: #D2E3FC;\n",
              "    }\n",
              "\n",
              "    [theme=dark] .colab-df-convert:hover {\n",
              "      background-color: #434B5C;\n",
              "      box-shadow: 0px 1px 3px 1px rgba(0, 0, 0, 0.15);\n",
              "      filter: drop-shadow(0px 1px 2px rgba(0, 0, 0, 0.3));\n",
              "      fill: #FFFFFF;\n",
              "    }\n",
              "  </style>\n",
              "\n",
              "      <script>\n",
              "        const buttonEl =\n",
              "          document.querySelector('#df-65f49ec9-bd56-461e-8fa8-0de024795b1e button.colab-df-convert');\n",
              "        buttonEl.style.display =\n",
              "          google.colab.kernel.accessAllowed ? 'block' : 'none';\n",
              "\n",
              "        async function convertToInteractive(key) {\n",
              "          const element = document.querySelector('#df-65f49ec9-bd56-461e-8fa8-0de024795b1e');\n",
              "          const dataTable =\n",
              "            await google.colab.kernel.invokeFunction('convertToInteractive',\n",
              "                                                     [key], {});\n",
              "          if (!dataTable) return;\n",
              "\n",
              "          const docLinkHtml = 'Like what you see? Visit the ' +\n",
              "            '<a target=\"_blank\" href=https://colab.research.google.com/notebooks/data_table.ipynb>data table notebook</a>'\n",
              "            + ' to learn more about interactive tables.';\n",
              "          element.innerHTML = '';\n",
              "          dataTable['output_type'] = 'display_data';\n",
              "          await google.colab.output.renderOutput(dataTable, element);\n",
              "          const docLink = document.createElement('div');\n",
              "          docLink.innerHTML = docLinkHtml;\n",
              "          element.appendChild(docLink);\n",
              "        }\n",
              "      </script>\n",
              "    </div>\n",
              "  </div>\n",
              "  "
            ]
          },
          "metadata": {},
          "execution_count": 121
        }
      ]
    },
    {
      "cell_type": "code",
      "source": [
        "df_srx.drop([ 'Model', 'Property Type'], axis=1, inplace=True)"
      ],
      "metadata": {
        "id": "GsiaBpBA-EyE"
      },
      "execution_count": null,
      "outputs": []
    },
    {
      "cell_type": "markdown",
      "source": [
        "# Split dataframe into HDB and Condo"
      ],
      "metadata": {
        "id": "qjwha5cmPS1f"
      }
    },
    {
      "cell_type": "code",
      "source": [
        "# #HDB\n",
        "# df_srx_hdb = df_srx[df_srx['Property'] == 'HDB']\n",
        "# df_srx_hdb = df_srx_hdb.drop(['Developer','Unnamed: 0'], axis=1)\n",
        "# df_srx_hdb\n",
        "# df_srx_hdb.to_csv(\"df_srx_HDB.csv\")"
      ],
      "metadata": {
        "id": "eRFh0yMpPV8j"
      },
      "execution_count": null,
      "outputs": []
    },
    {
      "cell_type": "code",
      "source": [
        "#Condo\n",
        "df_srx_condo = df_srx[df_srx['Property'] == 'Condominium']\n",
        "df_srx_condo = df_srx_condo[df_srx['Developer'].notna()]\n",
        "df_srx_condo.isnull().sum()\n",
        "df_srx_condo = df_srx_condo.drop(['Unnamed: 0'], axis=1)\n",
        "df_srx_condo.to_csv(\"df_srx_Condo.csv\")"
      ],
      "metadata": {
        "id": "JNx_qGqqPcNC"
      },
      "execution_count": null,
      "outputs": []
    }
  ]
}