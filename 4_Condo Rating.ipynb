{
  "cells": [
    {
      "cell_type": "code",
      "execution_count": 1,
      "metadata": {
        "colab": {
          "base_uri": "https://localhost:8080/"
        },
        "id": "bjkHK5GYi9cA",
        "outputId": "c8bd88b4-8c95-47ec-d398-132a0743288a"
      },
      "outputs": [
        {
          "name": "stderr",
          "output_type": "stream",
          "text": [
            "/Users/yco/opt/anaconda3/envs/IS4242/lib/python3.9/site-packages/tqdm/auto.py:21: TqdmWarning: IProgress not found. Please update jupyter and ipywidgets. See https://ipywidgets.readthedocs.io/en/stable/user_install.html\n",
            "  from .autonotebook import tqdm as notebook_tqdm\n",
            "2023-04-12 08:31:09.606896: I tensorflow/core/platform/cpu_feature_guard.cc:182] This TensorFlow binary is optimized to use available CPU instructions in performance-critical operations.\n",
            "To enable the following instructions: AVX2 FMA, in other operations, rebuild TensorFlow with the appropriate compiler flags.\n"
          ]
        }
      ],
      "source": [
        "# !pip install bertopic\n",
        "# !pip install bertopic[visualization]\n",
        "from bertopic import BERTopic"
      ]
    },
    {
      "cell_type": "code",
      "execution_count": 2,
      "metadata": {
        "id": "9Ru1DBXQfHHj"
      },
      "outputs": [],
      "source": [
        "# Import Model\n",
        "import joblib\n",
        "model = joblib.load(\"model_bert_new.pkl\")"
      ]
    },
    {
      "cell_type": "code",
      "execution_count": 3,
      "metadata": {
        "colab": {
          "base_uri": "https://localhost:8080/",
          "height": 517
        },
        "id": "jR46uhkkgKn5",
        "outputId": "067f5f37-6715-4608-f7db-8f8d9487cd02"
      },
      "outputs": [
        {
          "data": {
            "application/vnd.plotly.v1+json": {
              "config": {
                "plotlyServerURL": "https://plot.ly"
              },
              "data": [
                {
                  "marker": {
                    "color": "#D55E00"
                  },
                  "orientation": "h",
                  "type": "bar",
                  "x": [
                    0.040287783817960714,
                    0.04101425776742945,
                    0.04268148979882568,
                    0.06407568986603511,
                    0.06765322476762901
                  ],
                  "xaxis": "x",
                  "y": [
                    "bus  ",
                    "good  ",
                    "location  ",
                    "mrt  ",
                    "condo  "
                  ],
                  "yaxis": "y"
                },
                {
                  "marker": {
                    "color": "#0072B2"
                  },
                  "orientation": "h",
                  "type": "bar",
                  "x": [
                    0.05109489551619546,
                    0.057006855108185706,
                    0.06541471256572817,
                    0.07769249260703677,
                    0.0966017829011058
                  ],
                  "xaxis": "x2",
                  "y": [
                    "noisy  ",
                    "year  ",
                    "place  ",
                    "peaceful  ",
                    "quiet  "
                  ],
                  "yaxis": "y2"
                },
                {
                  "marker": {
                    "color": "#CC79A7"
                  },
                  "orientation": "h",
                  "type": "bar",
                  "x": [
                    0.05620566666331828,
                    0.06841729672968071,
                    0.0899702381480612,
                    0.1037406596663358,
                    0.17497145796697033
                  ],
                  "xaxis": "x3",
                  "y": [
                    "guard  ",
                    "maintenance  ",
                    "review  ",
                    "security  ",
                    "management  "
                  ],
                  "yaxis": "y3"
                },
                {
                  "marker": {
                    "color": "#E69F00"
                  },
                  "orientation": "h",
                  "type": "bar",
                  "x": [
                    0.07026547393933152,
                    0.07143801934166764,
                    0.10394983466610722,
                    0.14927459252831501,
                    0.2683315899177242
                  ],
                  "xaxis": "x4",
                  "y": [
                    "tennis  ",
                    "court  ",
                    "swimming  ",
                    "gym  ",
                    "pool  "
                  ],
                  "yaxis": "y4"
                },
                {
                  "marker": {
                    "color": "#56B4E9"
                  },
                  "orientation": "h",
                  "type": "bar",
                  "x": [
                    0.11964009187021911,
                    0.12528469251412439,
                    0.15947420825283418,
                    0.18021089143133057,
                    0.281435322709186
                  ],
                  "xaxis": "x5",
                  "y": [
                    "money  ",
                    "value  ",
                    "property  ",
                    "investment  ",
                    "price  "
                  ],
                  "yaxis": "y5"
                },
                {
                  "marker": {
                    "color": "#009E73"
                  },
                  "orientation": "h",
                  "type": "bar",
                  "x": [
                    0.10603396377517459,
                    0.10603396377517459,
                    0.12710069662170057,
                    0.15252083594604066,
                    0.24531889380983915
                  ],
                  "xaxis": "x6",
                  "y": [
                    "rent  ",
                    "landlord  ",
                    "renting  ",
                    "rental  ",
                    "tenant  "
                  ],
                  "yaxis": "y6"
                },
                {
                  "marker": {
                    "color": "#F0E442"
                  },
                  "orientation": "h",
                  "type": "bar",
                  "x": [
                    0.08186867121305155,
                    0.08705973727058833,
                    0.10950563747375165,
                    0.15066804347683727,
                    0.5826578582550644
                  ],
                  "xaxis": "x7",
                  "y": [
                    "breaking  ",
                    "breakdown  ",
                    "break  ",
                    "elevator  ",
                    "lift  "
                  ],
                  "yaxis": "y7"
                }
              ],
              "layout": {
                "annotations": [
                  {
                    "font": {
                      "size": 16
                    },
                    "showarrow": false,
                    "text": "Topic 0",
                    "x": 0.0875,
                    "xanchor": "center",
                    "xref": "paper",
                    "y": 1,
                    "yanchor": "bottom",
                    "yref": "paper"
                  },
                  {
                    "font": {
                      "size": 16
                    },
                    "showarrow": false,
                    "text": "Topic 1",
                    "x": 0.36250000000000004,
                    "xanchor": "center",
                    "xref": "paper",
                    "y": 1,
                    "yanchor": "bottom",
                    "yref": "paper"
                  },
                  {
                    "font": {
                      "size": 16
                    },
                    "showarrow": false,
                    "text": "Topic 2",
                    "x": 0.6375000000000001,
                    "xanchor": "center",
                    "xref": "paper",
                    "y": 1,
                    "yanchor": "bottom",
                    "yref": "paper"
                  },
                  {
                    "font": {
                      "size": 16
                    },
                    "showarrow": false,
                    "text": "Topic 3",
                    "x": 0.9125,
                    "xanchor": "center",
                    "xref": "paper",
                    "y": 1,
                    "yanchor": "bottom",
                    "yref": "paper"
                  },
                  {
                    "font": {
                      "size": 16
                    },
                    "showarrow": false,
                    "text": "Topic 4",
                    "x": 0.0875,
                    "xanchor": "center",
                    "xref": "paper",
                    "y": 0.4,
                    "yanchor": "bottom",
                    "yref": "paper"
                  },
                  {
                    "font": {
                      "size": 16
                    },
                    "showarrow": false,
                    "text": "Topic 5",
                    "x": 0.36250000000000004,
                    "xanchor": "center",
                    "xref": "paper",
                    "y": 0.4,
                    "yanchor": "bottom",
                    "yref": "paper"
                  },
                  {
                    "font": {
                      "size": 16
                    },
                    "showarrow": false,
                    "text": "Topic 6",
                    "x": 0.6375000000000001,
                    "xanchor": "center",
                    "xref": "paper",
                    "y": 0.4,
                    "yanchor": "bottom",
                    "yref": "paper"
                  }
                ],
                "height": 500,
                "hoverlabel": {
                  "bgcolor": "white",
                  "font": {
                    "family": "Rockwell",
                    "size": 16
                  }
                },
                "showlegend": false,
                "template": {
                  "data": {
                    "bar": [
                      {
                        "error_x": {
                          "color": "#2a3f5f"
                        },
                        "error_y": {
                          "color": "#2a3f5f"
                        },
                        "marker": {
                          "line": {
                            "color": "white",
                            "width": 0.5
                          },
                          "pattern": {
                            "fillmode": "overlay",
                            "size": 10,
                            "solidity": 0.2
                          }
                        },
                        "type": "bar"
                      }
                    ],
                    "barpolar": [
                      {
                        "marker": {
                          "line": {
                            "color": "white",
                            "width": 0.5
                          },
                          "pattern": {
                            "fillmode": "overlay",
                            "size": 10,
                            "solidity": 0.2
                          }
                        },
                        "type": "barpolar"
                      }
                    ],
                    "carpet": [
                      {
                        "aaxis": {
                          "endlinecolor": "#2a3f5f",
                          "gridcolor": "#C8D4E3",
                          "linecolor": "#C8D4E3",
                          "minorgridcolor": "#C8D4E3",
                          "startlinecolor": "#2a3f5f"
                        },
                        "baxis": {
                          "endlinecolor": "#2a3f5f",
                          "gridcolor": "#C8D4E3",
                          "linecolor": "#C8D4E3",
                          "minorgridcolor": "#C8D4E3",
                          "startlinecolor": "#2a3f5f"
                        },
                        "type": "carpet"
                      }
                    ],
                    "choropleth": [
                      {
                        "colorbar": {
                          "outlinewidth": 0,
                          "ticks": ""
                        },
                        "type": "choropleth"
                      }
                    ],
                    "contour": [
                      {
                        "colorbar": {
                          "outlinewidth": 0,
                          "ticks": ""
                        },
                        "colorscale": [
                          [
                            0,
                            "#0d0887"
                          ],
                          [
                            0.1111111111111111,
                            "#46039f"
                          ],
                          [
                            0.2222222222222222,
                            "#7201a8"
                          ],
                          [
                            0.3333333333333333,
                            "#9c179e"
                          ],
                          [
                            0.4444444444444444,
                            "#bd3786"
                          ],
                          [
                            0.5555555555555556,
                            "#d8576b"
                          ],
                          [
                            0.6666666666666666,
                            "#ed7953"
                          ],
                          [
                            0.7777777777777778,
                            "#fb9f3a"
                          ],
                          [
                            0.8888888888888888,
                            "#fdca26"
                          ],
                          [
                            1,
                            "#f0f921"
                          ]
                        ],
                        "type": "contour"
                      }
                    ],
                    "contourcarpet": [
                      {
                        "colorbar": {
                          "outlinewidth": 0,
                          "ticks": ""
                        },
                        "type": "contourcarpet"
                      }
                    ],
                    "heatmap": [
                      {
                        "colorbar": {
                          "outlinewidth": 0,
                          "ticks": ""
                        },
                        "colorscale": [
                          [
                            0,
                            "#0d0887"
                          ],
                          [
                            0.1111111111111111,
                            "#46039f"
                          ],
                          [
                            0.2222222222222222,
                            "#7201a8"
                          ],
                          [
                            0.3333333333333333,
                            "#9c179e"
                          ],
                          [
                            0.4444444444444444,
                            "#bd3786"
                          ],
                          [
                            0.5555555555555556,
                            "#d8576b"
                          ],
                          [
                            0.6666666666666666,
                            "#ed7953"
                          ],
                          [
                            0.7777777777777778,
                            "#fb9f3a"
                          ],
                          [
                            0.8888888888888888,
                            "#fdca26"
                          ],
                          [
                            1,
                            "#f0f921"
                          ]
                        ],
                        "type": "heatmap"
                      }
                    ],
                    "heatmapgl": [
                      {
                        "colorbar": {
                          "outlinewidth": 0,
                          "ticks": ""
                        },
                        "colorscale": [
                          [
                            0,
                            "#0d0887"
                          ],
                          [
                            0.1111111111111111,
                            "#46039f"
                          ],
                          [
                            0.2222222222222222,
                            "#7201a8"
                          ],
                          [
                            0.3333333333333333,
                            "#9c179e"
                          ],
                          [
                            0.4444444444444444,
                            "#bd3786"
                          ],
                          [
                            0.5555555555555556,
                            "#d8576b"
                          ],
                          [
                            0.6666666666666666,
                            "#ed7953"
                          ],
                          [
                            0.7777777777777778,
                            "#fb9f3a"
                          ],
                          [
                            0.8888888888888888,
                            "#fdca26"
                          ],
                          [
                            1,
                            "#f0f921"
                          ]
                        ],
                        "type": "heatmapgl"
                      }
                    ],
                    "histogram": [
                      {
                        "marker": {
                          "pattern": {
                            "fillmode": "overlay",
                            "size": 10,
                            "solidity": 0.2
                          }
                        },
                        "type": "histogram"
                      }
                    ],
                    "histogram2d": [
                      {
                        "colorbar": {
                          "outlinewidth": 0,
                          "ticks": ""
                        },
                        "colorscale": [
                          [
                            0,
                            "#0d0887"
                          ],
                          [
                            0.1111111111111111,
                            "#46039f"
                          ],
                          [
                            0.2222222222222222,
                            "#7201a8"
                          ],
                          [
                            0.3333333333333333,
                            "#9c179e"
                          ],
                          [
                            0.4444444444444444,
                            "#bd3786"
                          ],
                          [
                            0.5555555555555556,
                            "#d8576b"
                          ],
                          [
                            0.6666666666666666,
                            "#ed7953"
                          ],
                          [
                            0.7777777777777778,
                            "#fb9f3a"
                          ],
                          [
                            0.8888888888888888,
                            "#fdca26"
                          ],
                          [
                            1,
                            "#f0f921"
                          ]
                        ],
                        "type": "histogram2d"
                      }
                    ],
                    "histogram2dcontour": [
                      {
                        "colorbar": {
                          "outlinewidth": 0,
                          "ticks": ""
                        },
                        "colorscale": [
                          [
                            0,
                            "#0d0887"
                          ],
                          [
                            0.1111111111111111,
                            "#46039f"
                          ],
                          [
                            0.2222222222222222,
                            "#7201a8"
                          ],
                          [
                            0.3333333333333333,
                            "#9c179e"
                          ],
                          [
                            0.4444444444444444,
                            "#bd3786"
                          ],
                          [
                            0.5555555555555556,
                            "#d8576b"
                          ],
                          [
                            0.6666666666666666,
                            "#ed7953"
                          ],
                          [
                            0.7777777777777778,
                            "#fb9f3a"
                          ],
                          [
                            0.8888888888888888,
                            "#fdca26"
                          ],
                          [
                            1,
                            "#f0f921"
                          ]
                        ],
                        "type": "histogram2dcontour"
                      }
                    ],
                    "mesh3d": [
                      {
                        "colorbar": {
                          "outlinewidth": 0,
                          "ticks": ""
                        },
                        "type": "mesh3d"
                      }
                    ],
                    "parcoords": [
                      {
                        "line": {
                          "colorbar": {
                            "outlinewidth": 0,
                            "ticks": ""
                          }
                        },
                        "type": "parcoords"
                      }
                    ],
                    "pie": [
                      {
                        "automargin": true,
                        "type": "pie"
                      }
                    ],
                    "scatter": [
                      {
                        "fillpattern": {
                          "fillmode": "overlay",
                          "size": 10,
                          "solidity": 0.2
                        },
                        "type": "scatter"
                      }
                    ],
                    "scatter3d": [
                      {
                        "line": {
                          "colorbar": {
                            "outlinewidth": 0,
                            "ticks": ""
                          }
                        },
                        "marker": {
                          "colorbar": {
                            "outlinewidth": 0,
                            "ticks": ""
                          }
                        },
                        "type": "scatter3d"
                      }
                    ],
                    "scattercarpet": [
                      {
                        "marker": {
                          "colorbar": {
                            "outlinewidth": 0,
                            "ticks": ""
                          }
                        },
                        "type": "scattercarpet"
                      }
                    ],
                    "scattergeo": [
                      {
                        "marker": {
                          "colorbar": {
                            "outlinewidth": 0,
                            "ticks": ""
                          }
                        },
                        "type": "scattergeo"
                      }
                    ],
                    "scattergl": [
                      {
                        "marker": {
                          "colorbar": {
                            "outlinewidth": 0,
                            "ticks": ""
                          }
                        },
                        "type": "scattergl"
                      }
                    ],
                    "scattermapbox": [
                      {
                        "marker": {
                          "colorbar": {
                            "outlinewidth": 0,
                            "ticks": ""
                          }
                        },
                        "type": "scattermapbox"
                      }
                    ],
                    "scatterpolar": [
                      {
                        "marker": {
                          "colorbar": {
                            "outlinewidth": 0,
                            "ticks": ""
                          }
                        },
                        "type": "scatterpolar"
                      }
                    ],
                    "scatterpolargl": [
                      {
                        "marker": {
                          "colorbar": {
                            "outlinewidth": 0,
                            "ticks": ""
                          }
                        },
                        "type": "scatterpolargl"
                      }
                    ],
                    "scatterternary": [
                      {
                        "marker": {
                          "colorbar": {
                            "outlinewidth": 0,
                            "ticks": ""
                          }
                        },
                        "type": "scatterternary"
                      }
                    ],
                    "surface": [
                      {
                        "colorbar": {
                          "outlinewidth": 0,
                          "ticks": ""
                        },
                        "colorscale": [
                          [
                            0,
                            "#0d0887"
                          ],
                          [
                            0.1111111111111111,
                            "#46039f"
                          ],
                          [
                            0.2222222222222222,
                            "#7201a8"
                          ],
                          [
                            0.3333333333333333,
                            "#9c179e"
                          ],
                          [
                            0.4444444444444444,
                            "#bd3786"
                          ],
                          [
                            0.5555555555555556,
                            "#d8576b"
                          ],
                          [
                            0.6666666666666666,
                            "#ed7953"
                          ],
                          [
                            0.7777777777777778,
                            "#fb9f3a"
                          ],
                          [
                            0.8888888888888888,
                            "#fdca26"
                          ],
                          [
                            1,
                            "#f0f921"
                          ]
                        ],
                        "type": "surface"
                      }
                    ],
                    "table": [
                      {
                        "cells": {
                          "fill": {
                            "color": "#EBF0F8"
                          },
                          "line": {
                            "color": "white"
                          }
                        },
                        "header": {
                          "fill": {
                            "color": "#C8D4E3"
                          },
                          "line": {
                            "color": "white"
                          }
                        },
                        "type": "table"
                      }
                    ]
                  },
                  "layout": {
                    "annotationdefaults": {
                      "arrowcolor": "#2a3f5f",
                      "arrowhead": 0,
                      "arrowwidth": 1
                    },
                    "autotypenumbers": "strict",
                    "coloraxis": {
                      "colorbar": {
                        "outlinewidth": 0,
                        "ticks": ""
                      }
                    },
                    "colorscale": {
                      "diverging": [
                        [
                          0,
                          "#8e0152"
                        ],
                        [
                          0.1,
                          "#c51b7d"
                        ],
                        [
                          0.2,
                          "#de77ae"
                        ],
                        [
                          0.3,
                          "#f1b6da"
                        ],
                        [
                          0.4,
                          "#fde0ef"
                        ],
                        [
                          0.5,
                          "#f7f7f7"
                        ],
                        [
                          0.6,
                          "#e6f5d0"
                        ],
                        [
                          0.7,
                          "#b8e186"
                        ],
                        [
                          0.8,
                          "#7fbc41"
                        ],
                        [
                          0.9,
                          "#4d9221"
                        ],
                        [
                          1,
                          "#276419"
                        ]
                      ],
                      "sequential": [
                        [
                          0,
                          "#0d0887"
                        ],
                        [
                          0.1111111111111111,
                          "#46039f"
                        ],
                        [
                          0.2222222222222222,
                          "#7201a8"
                        ],
                        [
                          0.3333333333333333,
                          "#9c179e"
                        ],
                        [
                          0.4444444444444444,
                          "#bd3786"
                        ],
                        [
                          0.5555555555555556,
                          "#d8576b"
                        ],
                        [
                          0.6666666666666666,
                          "#ed7953"
                        ],
                        [
                          0.7777777777777778,
                          "#fb9f3a"
                        ],
                        [
                          0.8888888888888888,
                          "#fdca26"
                        ],
                        [
                          1,
                          "#f0f921"
                        ]
                      ],
                      "sequentialminus": [
                        [
                          0,
                          "#0d0887"
                        ],
                        [
                          0.1111111111111111,
                          "#46039f"
                        ],
                        [
                          0.2222222222222222,
                          "#7201a8"
                        ],
                        [
                          0.3333333333333333,
                          "#9c179e"
                        ],
                        [
                          0.4444444444444444,
                          "#bd3786"
                        ],
                        [
                          0.5555555555555556,
                          "#d8576b"
                        ],
                        [
                          0.6666666666666666,
                          "#ed7953"
                        ],
                        [
                          0.7777777777777778,
                          "#fb9f3a"
                        ],
                        [
                          0.8888888888888888,
                          "#fdca26"
                        ],
                        [
                          1,
                          "#f0f921"
                        ]
                      ]
                    },
                    "colorway": [
                      "#636efa",
                      "#EF553B",
                      "#00cc96",
                      "#ab63fa",
                      "#FFA15A",
                      "#19d3f3",
                      "#FF6692",
                      "#B6E880",
                      "#FF97FF",
                      "#FECB52"
                    ],
                    "font": {
                      "color": "#2a3f5f"
                    },
                    "geo": {
                      "bgcolor": "white",
                      "lakecolor": "white",
                      "landcolor": "white",
                      "showlakes": true,
                      "showland": true,
                      "subunitcolor": "#C8D4E3"
                    },
                    "hoverlabel": {
                      "align": "left"
                    },
                    "hovermode": "closest",
                    "mapbox": {
                      "style": "light"
                    },
                    "paper_bgcolor": "white",
                    "plot_bgcolor": "white",
                    "polar": {
                      "angularaxis": {
                        "gridcolor": "#EBF0F8",
                        "linecolor": "#EBF0F8",
                        "ticks": ""
                      },
                      "bgcolor": "white",
                      "radialaxis": {
                        "gridcolor": "#EBF0F8",
                        "linecolor": "#EBF0F8",
                        "ticks": ""
                      }
                    },
                    "scene": {
                      "xaxis": {
                        "backgroundcolor": "white",
                        "gridcolor": "#DFE8F3",
                        "gridwidth": 2,
                        "linecolor": "#EBF0F8",
                        "showbackground": true,
                        "ticks": "",
                        "zerolinecolor": "#EBF0F8"
                      },
                      "yaxis": {
                        "backgroundcolor": "white",
                        "gridcolor": "#DFE8F3",
                        "gridwidth": 2,
                        "linecolor": "#EBF0F8",
                        "showbackground": true,
                        "ticks": "",
                        "zerolinecolor": "#EBF0F8"
                      },
                      "zaxis": {
                        "backgroundcolor": "white",
                        "gridcolor": "#DFE8F3",
                        "gridwidth": 2,
                        "linecolor": "#EBF0F8",
                        "showbackground": true,
                        "ticks": "",
                        "zerolinecolor": "#EBF0F8"
                      }
                    },
                    "shapedefaults": {
                      "line": {
                        "color": "#2a3f5f"
                      }
                    },
                    "ternary": {
                      "aaxis": {
                        "gridcolor": "#DFE8F3",
                        "linecolor": "#A2B1C6",
                        "ticks": ""
                      },
                      "baxis": {
                        "gridcolor": "#DFE8F3",
                        "linecolor": "#A2B1C6",
                        "ticks": ""
                      },
                      "bgcolor": "white",
                      "caxis": {
                        "gridcolor": "#DFE8F3",
                        "linecolor": "#A2B1C6",
                        "ticks": ""
                      }
                    },
                    "title": {
                      "x": 0.05
                    },
                    "xaxis": {
                      "automargin": true,
                      "gridcolor": "#EBF0F8",
                      "linecolor": "#EBF0F8",
                      "ticks": "",
                      "title": {
                        "standoff": 15
                      },
                      "zerolinecolor": "#EBF0F8",
                      "zerolinewidth": 2
                    },
                    "yaxis": {
                      "automargin": true,
                      "gridcolor": "#EBF0F8",
                      "linecolor": "#EBF0F8",
                      "ticks": "",
                      "title": {
                        "standoff": 15
                      },
                      "zerolinecolor": "#EBF0F8",
                      "zerolinewidth": 2
                    }
                  }
                },
                "title": {
                  "font": {
                    "color": "Black",
                    "size": 22
                  },
                  "text": "Topic Word Scores",
                  "x": 0.5,
                  "xanchor": "center",
                  "yanchor": "top"
                },
                "width": 1000,
                "xaxis": {
                  "anchor": "y",
                  "domain": [
                    0,
                    0.175
                  ],
                  "showgrid": true
                },
                "xaxis2": {
                  "anchor": "y2",
                  "domain": [
                    0.275,
                    0.45
                  ],
                  "showgrid": true
                },
                "xaxis3": {
                  "anchor": "y3",
                  "domain": [
                    0.55,
                    0.7250000000000001
                  ],
                  "showgrid": true
                },
                "xaxis4": {
                  "anchor": "y4",
                  "domain": [
                    0.825,
                    1
                  ],
                  "showgrid": true
                },
                "xaxis5": {
                  "anchor": "y5",
                  "domain": [
                    0,
                    0.175
                  ],
                  "showgrid": true
                },
                "xaxis6": {
                  "anchor": "y6",
                  "domain": [
                    0.275,
                    0.45
                  ],
                  "showgrid": true
                },
                "xaxis7": {
                  "anchor": "y7",
                  "domain": [
                    0.55,
                    0.7250000000000001
                  ],
                  "showgrid": true
                },
                "xaxis8": {
                  "anchor": "y8",
                  "domain": [
                    0.825,
                    1
                  ],
                  "showgrid": true
                },
                "yaxis": {
                  "anchor": "x",
                  "domain": [
                    0.6000000000000001,
                    1
                  ],
                  "showgrid": true
                },
                "yaxis2": {
                  "anchor": "x2",
                  "domain": [
                    0.6000000000000001,
                    1
                  ],
                  "showgrid": true
                },
                "yaxis3": {
                  "anchor": "x3",
                  "domain": [
                    0.6000000000000001,
                    1
                  ],
                  "showgrid": true
                },
                "yaxis4": {
                  "anchor": "x4",
                  "domain": [
                    0.6000000000000001,
                    1
                  ],
                  "showgrid": true
                },
                "yaxis5": {
                  "anchor": "x5",
                  "domain": [
                    0,
                    0.4
                  ],
                  "showgrid": true
                },
                "yaxis6": {
                  "anchor": "x6",
                  "domain": [
                    0,
                    0.4
                  ],
                  "showgrid": true
                },
                "yaxis7": {
                  "anchor": "x7",
                  "domain": [
                    0,
                    0.4
                  ],
                  "showgrid": true
                },
                "yaxis8": {
                  "anchor": "x8",
                  "domain": [
                    0,
                    0.4
                  ],
                  "showgrid": true
                }
              }
            }
          },
          "metadata": {},
          "output_type": "display_data"
        }
      ],
      "source": [
        "# Visualize Model\n",
        "model.visualize_barchart()"
      ]
    },
    {
      "cell_type": "code",
      "execution_count": 4,
      "metadata": {
        "colab": {
          "base_uri": "https://localhost:8080/"
        },
        "id": "baTc8PHIgkyA",
        "outputId": "617a781a-fc96-442e-9375-f56cd9025987"
      },
      "outputs": [],
      "source": [
        "# !pip install requests_html\n",
        "import requests\n",
        "import urllib\n",
        "import pandas as pd\n",
        "from requests_html import HTML\n",
        "from requests_html import HTMLSession\n",
        "from bs4 import BeautifulSoup\n",
        "\n",
        "import nltk\n",
        "# nltk.download('stopwords')\n",
        "# nltk.download('averaged_perceptron_tagger')\n",
        "# nltk.download('wordnet')\n",
        "# nltk.download('vader_lexicon')\n",
        "# nltk.download('brown')\n",
        "# nltk.download('punkt')\n",
        "# nltk.download('omw-1.4')\n",
        "\n",
        "from nltk import sent_tokenize\n",
        "from nltk.tokenize import word_tokenize\n",
        "\n",
        "from string import punctuation\n",
        "from nltk.stem import WordNetLemmatizer \n",
        "from nltk.corpus import stopwords\n",
        "\n",
        "stop_words = stopwords.words('english')\n",
        "lemmatizer = WordNetLemmatizer()\n",
        "\n",
        "from nltk.sentiment import SentimentIntensityAnalyzer\n",
        "sia = SentimentIntensityAnalyzer()\n",
        "\n",
        "def get_source(url):\n",
        "    try:\n",
        "        session = HTMLSession()\n",
        "        response = session.get(url)\n",
        "        return response\n",
        "    except requests.exceptions.RequestException as e:\n",
        "        print(e)\n",
        "\n",
        "def scrape(q):\n",
        "    q = urllib.parse.quote_plus(q)\n",
        "    result = get_source(\"https://www.google.com/search?q=\" + q)\n",
        "    lst = list(result.html.absolute_links)\n",
        "    exclude_domains = ('google', 'https://google.', 'https://webcache.googleusercontent.', 'http://webcache.googleusercontent.', 'https://policies.google.',\n",
        "                       'https://support.google.','https://maps.google.','https://www.instagram.','https://www.youtube.', 'facebook', 'tripadvisor')\n",
        "    links = lst.copy()\n",
        "    for url in lst:\n",
        "        for domain in exclude_domains:\n",
        "            if domain in url:\n",
        "                try:\n",
        "                  links.remove(url)\n",
        "                except:\n",
        "                  continue\n",
        "                continue\n",
        "\n",
        "    return links\n",
        "\n",
        "def filter_text(txt):\n",
        "    stop_words = [\"inbox\",\"©\",\":\",\"=\",\"@\", \"copyright\", \"cookies\",\"..\",\"\\xa0\",\"min\",\"redirecting…\",\"seconds…\", \"#\", '()', \"captcha\",'redirect','anti-virus','malware','JavaScript','developer','technology','subscribe','learn more…','support us', 'articles', 'article', 'content', 'blog', '.com']\n",
        "    if not txt or len(txt)<30:\n",
        "        return False\n",
        "    for x in stop_words:\n",
        "        if x in txt.lower():\n",
        "            return False\n",
        "    return True\n",
        "\n",
        "def get_text(links):\n",
        "    result = []\n",
        "    for url in links:\n",
        "      try:\n",
        "        page = requests.get(url)\n",
        "        soup = BeautifulSoup(page.content, \"html.parser\")\n",
        "        # soup = str(soup.find_all('div')).split('>')\n",
        "        # main = url.split('/')\n",
        "        # text = list(set(filter(lambda x:\"<br\" in x or \"</p\" in x, soup)))\n",
        "        # text = list(filter(lambda x:filter_text(x), text))\n",
        "        p = set(map(lambda x : x.get_text(), soup.find_all('p')))\n",
        "        text = list(filter(lambda x:filter_text(x), p))\n",
        "        result.extend(text)\n",
        "      except:\n",
        "        continue\n",
        "    df = pd.DataFrame(result, columns = ['Content'])\n",
        "    return df\n",
        "\n",
        "def process_text(text):\n",
        "    # remove '\\n' present in the raw reviews\n",
        "    text = text.replace('\\n', ' ')\n",
        "    # lower text\n",
        "    text = text.lower()\n",
        "    # split sentence into words\n",
        "    token = word_tokenize(text)\n",
        "    # spelling error check\n",
        "    # token = [checker(x) for x in token]\n",
        "    # remove punctuation\n",
        "    table = str.maketrans('', '', punctuation)\n",
        "    stripped = [x.translate(table) for x in token]\n",
        "    # remove remaining tokens that are not alphabetic\n",
        "    word = [x for x in stripped if x.isalpha()]\n",
        "    # filter out stop words\n",
        "    stop_words = set(stopwords.words('english'))\n",
        "    stop_words.remove('not')\n",
        "    word = [x for x in word if not x in stop_words]\n",
        "    # lemmatization\n",
        "    lemmatized_output = [lemmatizer.lemmatize(x) for x in word]\n",
        "    # join all words into one sentence\n",
        "    result = \" \".join(lemmatized_output)\n",
        "    return result\n",
        "\n",
        "def clean_text(df):\n",
        "    df['review_splitted'] = df['Content'].apply(sent_tokenize)\n",
        "    df['cleaned'] = df['review_splitted'].apply(lambda reviews: [process_text(sentence) for sentence in reviews])\n",
        "    # clean the full text\n",
        "    df['cleaned_text'] = df['Content'].apply(lambda review: process_text(review))\n",
        "    return df\n",
        "\n",
        "def run(name):\n",
        "    links = scrape(name + \" condominium review\")\n",
        "    df = get_text(links)\n",
        "    df = clean_text(df)\n",
        "    return df"
      ]
    },
    {
      "cell_type": "code",
      "execution_count": 5,
      "metadata": {
        "id": "dt05SprggUQb"
      },
      "outputs": [],
      "source": [
        "from transformers import pipeline, AutoTokenizer\n",
        "from transformers import AutoModelForTokenClassification, AutoModelForSequenceClassification\n",
        "from transformers import AutoConfig\n",
        "from bertopic import BERTopic\n",
        "import joblib\n",
        "from tqdm import tqdm\n",
        "tqdm.pandas()\n",
        "\n",
        "def sentiment_analysis(sentence):\n",
        "    '''\n",
        "    Predict sentiment for each sentence\n",
        "\n",
        "    Parameters\n",
        "    ----------\n",
        "    sentence: list of sentences to predict\n",
        "\n",
        "    Results\n",
        "    -------\n",
        "    results: llist of dictionaries, result from the sentiment analysis model\n",
        "    '''\n",
        "    # fine tuned model from yelp dataset\n",
        "    finetuned_model = \"potatobunny/results-yelp\"  # from huggingface repo\n",
        "    tokenizer = AutoTokenizer.from_pretrained('bert-base-uncased', config=AutoConfig.from_pretrained(finetuned_model), padding=True, truncation=True)\n",
        "    model = AutoModelForSequenceClassification.from_pretrained(finetuned_model)\n",
        "    classifier = pipeline(\"sentiment-analysis\", model=model, tokenizer=tokenizer)\n",
        "    results = classifier(sentence)\n",
        "    return results\n",
        "\n",
        "def get_sentiment(df):\n",
        "    '''\n",
        "    Get dataframe with sentiment\n",
        "\n",
        "    Parameters\n",
        "    ----------\n",
        "    df: DataFrame result from run_scrape\n",
        "\n",
        "    Results\n",
        "    -------\n",
        "    final_df: DataFrame with 2 columns, Review: list of sentences that has been cleaned, Sentiment: the sentiment results for the list of sentences\n",
        "    '''\n",
        "    map_label = {'LABEL_1': 'Positive', 'LABEL_0': 'Negative'}\n",
        "\n",
        "    reviews = df['cleaned'].drop_duplicates().dropna().to_list()\n",
        "    sa_result = []\n",
        "    for sentences in tqdm(reviews):\n",
        "        # get sentiment for each sentences\n",
        "        res = sentiment_analysis(sentences)\n",
        "        sa_result.append(res)\n",
        "\n",
        "    final_df = pd.DataFrame(pd.Series(reviews), columns = ['Review'])\n",
        "    final_df['Sentiment'] = pd.Series(sa_result)\n",
        "\n",
        "    # map label to 'Positive' and 'Negative'\n",
        "    final_df['Sentiment Score'] = final_df['Sentiment'].progress_apply(lambda sa: [res['score'] for res in sa])\n",
        "    final_df['Sentiment'] = final_df['Sentiment'].progress_apply(lambda sa: [map_label[label['label']] for label in sa])\n",
        "    return final_df\n",
        "\n",
        "\n",
        "def predict_topic(sentences, model):\n",
        "    '''\n",
        "    Get topic for each sentence\n",
        "\n",
        "    Parameters\n",
        "    ----------\n",
        "    sentences: list of sentences\n",
        "    model: pre-trained model\n",
        "\n",
        "    Results\n",
        "    -------\n",
        "    lst_topics: list of topics corresponding to the sentences\n",
        "    '''\n",
        "    lst_topics = []\n",
        "    for i in sentences:\n",
        "        idx = model.find_topics(i, top_n = 1)[0][0]\n",
        "        topics = ''\n",
        "        if idx == 1:\n",
        "            topics = \"Environment\"\n",
        "        elif idx == 0:\n",
        "            topics = \"Location\"\n",
        "        elif idx == 2:\n",
        "            topics = \"Service and Management\"\n",
        "        elif (idx == 3) or (idx == 6):\n",
        "            topics = \"Facilities\"\n",
        "        elif (idx == 4) or (idx == 5):\n",
        "            topics = \"Financial Value\"\n",
        "        lst_topics.append(topics)\n",
        "    return lst_topics\n",
        "\n",
        "def get_topics(df, model):\n",
        "    '''\n",
        "    Get dataframe with sentiment\n",
        "\n",
        "    Parameters\n",
        "    ----------\n",
        "    df: DataFrame result from get_sentiment\n",
        "\n",
        "    Results\n",
        "    -------\n",
        "    df: DataFrame appended with 1 column, list of topics from predict_topic\n",
        "    '''\n",
        "    df['Topics'] = df['Review'].progress_apply(lambda x: predict_topic(x, model))\n",
        "    return df\n",
        "\n",
        "def run_analysis(df):\n",
        "    '''\n",
        "    Get dataframe with sentiment and topics\n",
        "\n",
        "    Parameters\n",
        "    ----------\n",
        "    df: DataFrame from run_scrape\n",
        "\n",
        "    Results\n",
        "    -------\n",
        "    final_result: DataFrame with 3 columns, list of cleaned sentences, list of sentiment, and list of topics\n",
        "    '''\n",
        "    sa_result = get_sentiment(df)\n",
        "    print('\\nSentiment Analysis - done')\n",
        "    final_result = get_topics(sa_result, model)\n",
        "    print('\\nTopic modelling - done')\n",
        "    return final_result"
      ]
    },
    {
      "cell_type": "code",
      "execution_count": 7,
      "metadata": {
        "colab": {
          "base_uri": "https://localhost:8080/",
          "height": 36
        },
        "id": "ah3foO2EgvKr",
        "outputId": "c54b08fe-fa75-4092-f456-0353eee15eab"
      },
      "outputs": [
        {
          "data": {
            "text/plain": [
              "'Tangerine Grove'"
            ]
          },
          "execution_count": 7,
          "metadata": {},
          "output_type": "execute_result"
        }
      ],
      "source": [
        "# List of Condo to Scrape\n",
        "train_df = pd.read_csv(\"Data/Reviews/condo_missing_values.csv\") # file to upload\n",
        "lst = train_df[\"Condominium Name\"].unique()\n",
        "lst[331]"
      ]
    },
    {
      "cell_type": "code",
      "execution_count": 7,
      "metadata": {
        "id": "nyNDfmqUg2Xp"
      },
      "outputs": [],
      "source": [
        "def get_final_score(result):\n",
        "  index = {'Location': 0, 'Facilities': 1, 'Financial Value': 2, 'Service and Management': 3, 'Environment': 4}\n",
        "  lstOfScore = [[], [], [], [], []]\n",
        "  final_score = []\n",
        "  for idx in range (len(result)):\n",
        "    row = result.iloc[idx]\n",
        "    for j in range (len(row['Topics'])):\n",
        "      if (row['Topics'][j] == \"\"):\n",
        "        continue\n",
        "      try:\n",
        "        if (row['Sentiment'][j] == 'Positive'):\n",
        "          lstOfScore[index[row['Topics'][j]]].append(row['Sentiment Score'][j])\n",
        "        else:\n",
        "          lstOfScore[index[row['Topics'][j]]].append(-1*row['Sentiment Score'][j])\n",
        "      except:\n",
        "        continue\n",
        "  for x in lstOfScore:\n",
        "    try:\n",
        "      final_score.append(sum(x)/len(x))\n",
        "    except:\n",
        "      final_score.append(0)\n",
        "  return final_score"
      ]
    },
    {
      "cell_type": "code",
      "execution_count": 8,
      "metadata": {
        "id": "LcXiQVd1g6pN"
      },
      "outputs": [],
      "source": [
        "# Variable to store\n",
        "score = []"
      ]
    },
    {
      "cell_type": "code",
      "execution_count": null,
      "metadata": {
        "colab": {
          "base_uri": "https://localhost:8080/",
          "height": 732
        },
        "id": "Vw1K4g47zIwW",
        "outputId": "ca7b7b10-95fd-414f-8462-796ba95a6135"
      },
      "outputs": [
        {
          "name": "stderr",
          "output_type": "stream",
          "text": [
            "100%|██████████| 66/66 [02:31<00:00,  2.30s/it]\n",
            "100%|██████████| 66/66 [00:00<00:00, 70564.38it/s]\n",
            "100%|██████████| 66/66 [00:00<00:00, 69887.42it/s]\n"
          ]
        },
        {
          "name": "stdout",
          "output_type": "stream",
          "text": [
            "\n",
            "Sentiment Analysis - done\n"
          ]
        },
        {
          "name": "stderr",
          "output_type": "stream",
          "text": [
            "100%|██████████| 66/66 [00:01<00:00, 33.85it/s]\n"
          ]
        },
        {
          "name": "stdout",
          "output_type": "stream",
          "text": [
            "\n",
            "Topic modelling - done\n"
          ]
        },
        {
          "data": {
            "text/html": [
              "\n",
              "  <div id=\"df-6b4b02c9-890d-4f62-9766-163954558544\">\n",
              "    <div class=\"colab-df-container\">\n",
              "      <div>\n",
              "<style scoped>\n",
              "    .dataframe tbody tr th:only-of-type {\n",
              "        vertical-align: middle;\n",
              "    }\n",
              "\n",
              "    .dataframe tbody tr th {\n",
              "        vertical-align: top;\n",
              "    }\n",
              "\n",
              "    .dataframe thead th {\n",
              "        text-align: right;\n",
              "    }\n",
              "</style>\n",
              "<table border=\"1\" class=\"dataframe\">\n",
              "  <thead>\n",
              "    <tr style=\"text-align: right;\">\n",
              "      <th></th>\n",
              "      <th>Review</th>\n",
              "      <th>Sentiment</th>\n",
              "      <th>Sentiment Score</th>\n",
              "      <th>Topics</th>\n",
              "    </tr>\n",
              "  </thead>\n",
              "  <tbody>\n",
              "    <tr>\n",
              "      <th>0</th>\n",
              "      <td>[agiou titou heraklio greece excellent locatio...</td>\n",
              "      <td>[Positive]</td>\n",
              "      <td>[0.9996849298477173]</td>\n",
              "      <td>[]</td>\n",
              "    </tr>\n",
              "    <tr>\n",
              "      <th>1</th>\n",
              "      <td>[child age welcome]</td>\n",
              "      <td>[Positive]</td>\n",
              "      <td>[0.9996901750564575]</td>\n",
              "      <td>[Environment]</td>\n",
              "    </tr>\n",
              "    <tr>\n",
              "      <th>2</th>\n",
              "      <td>[crib subject availability]</td>\n",
              "      <td>[Positive]</td>\n",
              "      <td>[0.998102605342865]</td>\n",
              "      <td>[]</td>\n",
              "    </tr>\n",
              "    <tr>\n",
              "      <th>3</th>\n",
              "      <td>[spacious spotless tastefully decorated apartm...</td>\n",
              "      <td>[Positive, Positive, Positive, Positive, Posit...</td>\n",
              "      <td>[0.9996845722198486, 0.9996802806854248, 0.999...</td>\n",
              "      <td>[Location, Environment, Facilities, Facilities...</td>\n",
              "    </tr>\n",
              "    <tr>\n",
              "      <th>4</th>\n",
              "      <td>[cancellation prepayment policy vary according...</td>\n",
              "      <td>[Negative, Positive]</td>\n",
              "      <td>[0.9969967603683472, 0.9996849298477173]</td>\n",
              "      <td>[Financial Value, Financial Value]</td>\n",
              "    </tr>\n",
              "    <tr>\n",
              "      <th>...</th>\n",
              "      <td>...</td>\n",
              "      <td>...</td>\n",
              "      <td>...</td>\n",
              "      <td>...</td>\n",
              "    </tr>\n",
              "    <tr>\n",
              "      <th>61</th>\n",
              "      <td>[room rental chinatown mrt]</td>\n",
              "      <td>[Positive]</td>\n",
              "      <td>[0.912261426448822]</td>\n",
              "      <td>[Location]</td>\n",
              "    </tr>\n",
              "    <tr>\n",
              "      <th>62</th>\n",
              "      <td>[last room big clean cozy nice condo master ro...</td>\n",
              "      <td>[Positive]</td>\n",
              "      <td>[0.999685525894165]</td>\n",
              "      <td>[Location]</td>\n",
              "    </tr>\n",
              "    <tr>\n",
              "      <th>63</th>\n",
              "      <td>[sign property account search private transact...</td>\n",
              "      <td>[Positive]</td>\n",
              "      <td>[0.9996176958084106]</td>\n",
              "      <td>[Financial Value]</td>\n",
              "    </tr>\n",
              "    <tr>\n",
              "      <th>64</th>\n",
              "      <td>[irwell hill residence walk orchard road great...</td>\n",
              "      <td>[Positive, Positive]</td>\n",
              "      <td>[0.9996856451034546, 0.9996798038482666]</td>\n",
              "      <td>[Location, Location]</td>\n",
              "    </tr>\n",
              "    <tr>\n",
              "      <th>65</th>\n",
              "      <td>[reef king dock latest waterfront home right d...</td>\n",
              "      <td>[Positive, Positive]</td>\n",
              "      <td>[0.998482882976532, 0.9996588230133057]</td>\n",
              "      <td>[Location, ]</td>\n",
              "    </tr>\n",
              "  </tbody>\n",
              "</table>\n",
              "<p>66 rows × 4 columns</p>\n",
              "</div>\n",
              "      <button class=\"colab-df-convert\" onclick=\"convertToInteractive('df-6b4b02c9-890d-4f62-9766-163954558544')\"\n",
              "              title=\"Convert this dataframe to an interactive table.\"\n",
              "              style=\"display:none;\">\n",
              "        \n",
              "  <svg xmlns=\"http://www.w3.org/2000/svg\" height=\"24px\"viewBox=\"0 0 24 24\"\n",
              "       width=\"24px\">\n",
              "    <path d=\"M0 0h24v24H0V0z\" fill=\"none\"/>\n",
              "    <path d=\"M18.56 5.44l.94 2.06.94-2.06 2.06-.94-2.06-.94-.94-2.06-.94 2.06-2.06.94zm-11 1L8.5 8.5l.94-2.06 2.06-.94-2.06-.94L8.5 2.5l-.94 2.06-2.06.94zm10 10l.94 2.06.94-2.06 2.06-.94-2.06-.94-.94-2.06-.94 2.06-2.06.94z\"/><path d=\"M17.41 7.96l-1.37-1.37c-.4-.4-.92-.59-1.43-.59-.52 0-1.04.2-1.43.59L10.3 9.45l-7.72 7.72c-.78.78-.78 2.05 0 2.83L4 21.41c.39.39.9.59 1.41.59.51 0 1.02-.2 1.41-.59l7.78-7.78 2.81-2.81c.8-.78.8-2.07 0-2.86zM5.41 20L4 18.59l7.72-7.72 1.47 1.35L5.41 20z\"/>\n",
              "  </svg>\n",
              "      </button>\n",
              "      \n",
              "  <style>\n",
              "    .colab-df-container {\n",
              "      display:flex;\n",
              "      flex-wrap:wrap;\n",
              "      gap: 12px;\n",
              "    }\n",
              "\n",
              "    .colab-df-convert {\n",
              "      background-color: #E8F0FE;\n",
              "      border: none;\n",
              "      border-radius: 50%;\n",
              "      cursor: pointer;\n",
              "      display: none;\n",
              "      fill: #1967D2;\n",
              "      height: 32px;\n",
              "      padding: 0 0 0 0;\n",
              "      width: 32px;\n",
              "    }\n",
              "\n",
              "    .colab-df-convert:hover {\n",
              "      background-color: #E2EBFA;\n",
              "      box-shadow: 0px 1px 2px rgba(60, 64, 67, 0.3), 0px 1px 3px 1px rgba(60, 64, 67, 0.15);\n",
              "      fill: #174EA6;\n",
              "    }\n",
              "\n",
              "    [theme=dark] .colab-df-convert {\n",
              "      background-color: #3B4455;\n",
              "      fill: #D2E3FC;\n",
              "    }\n",
              "\n",
              "    [theme=dark] .colab-df-convert:hover {\n",
              "      background-color: #434B5C;\n",
              "      box-shadow: 0px 1px 3px 1px rgba(0, 0, 0, 0.15);\n",
              "      filter: drop-shadow(0px 1px 2px rgba(0, 0, 0, 0.3));\n",
              "      fill: #FFFFFF;\n",
              "    }\n",
              "  </style>\n",
              "\n",
              "      <script>\n",
              "        const buttonEl =\n",
              "          document.querySelector('#df-6b4b02c9-890d-4f62-9766-163954558544 button.colab-df-convert');\n",
              "        buttonEl.style.display =\n",
              "          google.colab.kernel.accessAllowed ? 'block' : 'none';\n",
              "\n",
              "        async function convertToInteractive(key) {\n",
              "          const element = document.querySelector('#df-6b4b02c9-890d-4f62-9766-163954558544');\n",
              "          const dataTable =\n",
              "            await google.colab.kernel.invokeFunction('convertToInteractive',\n",
              "                                                     [key], {});\n",
              "          if (!dataTable) return;\n",
              "\n",
              "          const docLinkHtml = 'Like what you see? Visit the ' +\n",
              "            '<a target=\"_blank\" href=https://colab.research.google.com/notebooks/data_table.ipynb>data table notebook</a>'\n",
              "            + ' to learn more about interactive tables.';\n",
              "          element.innerHTML = '';\n",
              "          dataTable['output_type'] = 'display_data';\n",
              "          await google.colab.output.renderOutput(dataTable, element);\n",
              "          const docLink = document.createElement('div');\n",
              "          docLink.innerHTML = docLinkHtml;\n",
              "          element.appendChild(docLink);\n",
              "        }\n",
              "      </script>\n",
              "    </div>\n",
              "  </div>\n",
              "  "
            ],
            "text/plain": [
              "                                               Review  \\\n",
              "0   [agiou titou heraklio greece excellent locatio...   \n",
              "1                                 [child age welcome]   \n",
              "2                         [crib subject availability]   \n",
              "3   [spacious spotless tastefully decorated apartm...   \n",
              "4   [cancellation prepayment policy vary according...   \n",
              "..                                                ...   \n",
              "61                        [room rental chinatown mrt]   \n",
              "62  [last room big clean cozy nice condo master ro...   \n",
              "63  [sign property account search private transact...   \n",
              "64  [irwell hill residence walk orchard road great...   \n",
              "65  [reef king dock latest waterfront home right d...   \n",
              "\n",
              "                                            Sentiment  \\\n",
              "0                                          [Positive]   \n",
              "1                                          [Positive]   \n",
              "2                                          [Positive]   \n",
              "3   [Positive, Positive, Positive, Positive, Posit...   \n",
              "4                                [Negative, Positive]   \n",
              "..                                                ...   \n",
              "61                                         [Positive]   \n",
              "62                                         [Positive]   \n",
              "63                                         [Positive]   \n",
              "64                               [Positive, Positive]   \n",
              "65                               [Positive, Positive]   \n",
              "\n",
              "                                      Sentiment Score  \\\n",
              "0                                [0.9996849298477173]   \n",
              "1                                [0.9996901750564575]   \n",
              "2                                 [0.998102605342865]   \n",
              "3   [0.9996845722198486, 0.9996802806854248, 0.999...   \n",
              "4            [0.9969967603683472, 0.9996849298477173]   \n",
              "..                                                ...   \n",
              "61                                [0.912261426448822]   \n",
              "62                                [0.999685525894165]   \n",
              "63                               [0.9996176958084106]   \n",
              "64           [0.9996856451034546, 0.9996798038482666]   \n",
              "65            [0.998482882976532, 0.9996588230133057]   \n",
              "\n",
              "                                               Topics  \n",
              "0                                                  []  \n",
              "1                                       [Environment]  \n",
              "2                                                  []  \n",
              "3   [Location, Environment, Facilities, Facilities...  \n",
              "4                  [Financial Value, Financial Value]  \n",
              "..                                                ...  \n",
              "61                                         [Location]  \n",
              "62                                         [Location]  \n",
              "63                                  [Financial Value]  \n",
              "64                               [Location, Location]  \n",
              "65                                       [Location, ]  \n",
              "\n",
              "[66 rows x 4 columns]"
            ]
          },
          "execution_count": 11,
          "metadata": {},
          "output_type": "execute_result"
        }
      ],
      "source": [
        "# df = run(\"Central Green\")\n",
        "# result = run_analysis(df)\n",
        "# result"
      ]
    },
    {
      "cell_type": "code",
      "execution_count": 9,
      "metadata": {
        "colab": {
          "base_uri": "https://localhost:8080/",
          "height": 722,
          "referenced_widgets": [
            "fd77607ff65a473da226431d755efa8b",
            "f9102314b1e9417598a39f3187b404bc",
            "6612ead3a926431b87131d76c709c528",
            "a0de3a22ca6b46f6be415e5b3b0bd060",
            "2ae15bc2cc9b4d148e743fbae2dde2d1",
            "d3edf87746e44365ab47acbfc4e447b4",
            "2217d2390cf94c77891b0fd9758bc6ed",
            "ab43e40503c847399ca493c15c315b72",
            "52bd19db086d48f9b9ae4071bb3e5c74",
            "278951a8d1d344829e1123c1ce98511b",
            "2eb67faeb34c4ee6b1e378fda1bebbe5",
            "ef313a5754cc484aaa6a2339904917f6",
            "3e19d1941bcd4ec5b518b2ae9a563aa2",
            "3e7773694b8345e0b603e42d0cae8fa1",
            "7c3d884e320b457bb098b326980499c7",
            "105302fa3f004058a35e5a182d984b61",
            "5d886d11369f42948dc9740541af1630",
            "88e7b087bd0f4536ae990e5f5faad7d0",
            "3569f3cde0194d5c8dcaf2707d64fb15",
            "b01923d3ac0e4eb0bac5f9d654bff326",
            "1b370927e4e74d72bd28cd45960367d5",
            "96b0d7faf6054802ac34fa13c1b0c247",
            "199c4c71066e402e8fb04fbe51d2374b",
            "0b5bec45f4ce4e829f0425022744e3ea",
            "60abc08cb6ff45f19f0ef20743b142d7",
            "f9ad2cf5c5a24d85b65f3b6e57224635",
            "a4e4fa7265bb4fe5b41990e80fa9f48b",
            "8edba3e4e0e6463daac9fc5f530f5fa6",
            "7e0e088f26994dddab18c2277b816bba",
            "5740347b2f7b478bbd9b0377593c9a5d",
            "01fa21c4aa844b688f6b01b9113d2020",
            "70e87283ad79436287c0e51cd7347168",
            "cb97a1c49cd544b6b024d078d602c891",
            "d78a2e3ba9f74ad0813a23684cb20709",
            "af0cfe25e6d74fb4b811ea207e326a72",
            "3e55c6bd293343aba233a0d4e7202c33",
            "2c5335be2dc14a138d83e44708b67dad",
            "723c68b915ac4d679eb550159302bb70",
            "05cc6cb5098943aaaf2898b072ab71ad",
            "86c24165251b400483123ba73ee28dff",
            "9a545f802f894a29b28e66665af6b21f",
            "6dc5c7a5cb4945bb857bcf5a47e0fa1d",
            "73f9510e1ac645a4816168815df0124d",
            "012fc913018f4d2c9209870a629758d9",
            "52d3abb30c5b4fa3943ead9dc7643a3e",
            "edcd156362e14628915641e51e5a2045",
            "d257a3a5ea5b4506aa65b5f9a9efb701",
            "796c194dd76346448be7944217f53b3a",
            "c21fb0bfecd34750abfe394ab89fba8d",
            "670bfaae4902416ca5a069c8d0494590",
            "8a1d8947a85544b59c3563bd01877c24",
            "a28f84953e61493aa2e4f3985b192aa7",
            "6281b3d1c7234510a025578006d42f38",
            "b1043b31300a45fea20d0da1cc974ac7",
            "c9a6f37d19e84fe087314987ccc73afb",
            "8216a0d8f16f42e0aa8eef227e9c9b18",
            "1210a2d5966d478bb1c084217a20ee1e",
            "96be08db28ba48b29a20f07dbfc785c8",
            "9b59966acee541959d9fb23657a75e40",
            "4de38b5f50f6475ca001af2cebd1b914",
            "277edd0df1d54740aaff96d7edc54561",
            "359cd848eaff41738dcc289e0bf968e6",
            "599dd7a682c5413090d47ea03bbd068c",
            "2e9173d47737488f87906a8d5bd1e378",
            "e379f065bb9b49938d8b680f54a1877a",
            "c4f68594a82b45edb1655681a0f13e6f"
          ]
        },
        "id": "uSNMcWYtg7X1",
        "outputId": "882c0875-4cf2-4b98-c161-a042fe4c99e2"
      },
      "outputs": [
        {
          "name": "stderr",
          "output_type": "stream",
          "text": [
            "100%|██████████| 36/36 [01:25<00:00,  2.38s/it]\n",
            "100%|██████████| 36/36 [00:00<00:00, 36927.11it/s]\n",
            "100%|██████████| 36/36 [00:00<00:00, 62189.02it/s]\n"
          ]
        },
        {
          "name": "stdout",
          "output_type": "stream",
          "text": [
            "\n",
            "Sentiment Analysis - done\n"
          ]
        },
        {
          "name": "stderr",
          "output_type": "stream",
          "text": [
            "100%|██████████| 36/36 [00:00<00:00, 48.12it/s]\n"
          ]
        },
        {
          "name": "stdout",
          "output_type": "stream",
          "text": [
            "\n",
            "Topic modelling - done\n"
          ]
        },
        {
          "name": "stderr",
          "output_type": "stream",
          "text": [
            "100%|██████████| 41/41 [01:39<00:00,  2.42s/it]\n",
            "100%|██████████| 41/41 [00:00<00:00, 22092.30it/s]\n",
            "100%|██████████| 41/41 [00:00<00:00, 65611.01it/s]\n"
          ]
        },
        {
          "name": "stdout",
          "output_type": "stream",
          "text": [
            "\n",
            "Sentiment Analysis - done\n"
          ]
        },
        {
          "name": "stderr",
          "output_type": "stream",
          "text": [
            "100%|██████████| 41/41 [00:01<00:00, 35.33it/s]\n"
          ]
        },
        {
          "name": "stdout",
          "output_type": "stream",
          "text": [
            "\n",
            "Topic modelling - done\n"
          ]
        },
        {
          "name": "stderr",
          "output_type": "stream",
          "text": [
            "100%|██████████| 45/45 [01:48<00:00,  2.41s/it]\n",
            "100%|██████████| 45/45 [00:00<00:00, 53819.13it/s]\n",
            "100%|██████████| 45/45 [00:00<00:00, 72565.81it/s]\n"
          ]
        },
        {
          "name": "stdout",
          "output_type": "stream",
          "text": [
            "\n",
            "Sentiment Analysis - done\n"
          ]
        },
        {
          "name": "stderr",
          "output_type": "stream",
          "text": [
            "100%|██████████| 45/45 [00:00<00:00, 62.69it/s]\n"
          ]
        },
        {
          "name": "stdout",
          "output_type": "stream",
          "text": [
            "\n",
            "Topic modelling - done\n"
          ]
        },
        {
          "name": "stderr",
          "output_type": "stream",
          "text": [
            "100%|██████████| 94/94 [03:41<00:00,  2.35s/it]\n",
            "100%|██████████| 94/94 [00:00<00:00, 43060.79it/s]\n",
            "100%|██████████| 94/94 [00:00<00:00, 121574.03it/s]\n"
          ]
        },
        {
          "name": "stdout",
          "output_type": "stream",
          "text": [
            "\n",
            "Sentiment Analysis - done\n"
          ]
        },
        {
          "name": "stderr",
          "output_type": "stream",
          "text": [
            "100%|██████████| 94/94 [00:01<00:00, 57.53it/s]\n"
          ]
        },
        {
          "name": "stdout",
          "output_type": "stream",
          "text": [
            "\n",
            "Topic modelling - done\n"
          ]
        },
        {
          "name": "stderr",
          "output_type": "stream",
          "text": [
            "100%|██████████| 80/80 [02:54<00:00,  2.18s/it]\n",
            "100%|██████████| 80/80 [00:00<00:00, 42892.03it/s]\n",
            "100%|██████████| 80/80 [00:00<00:00, 101128.49it/s]\n"
          ]
        },
        {
          "name": "stdout",
          "output_type": "stream",
          "text": [
            "\n",
            "Sentiment Analysis - done\n"
          ]
        },
        {
          "name": "stderr",
          "output_type": "stream",
          "text": [
            "100%|██████████| 80/80 [00:01<00:00, 55.98it/s]\n"
          ]
        },
        {
          "name": "stdout",
          "output_type": "stream",
          "text": [
            "\n",
            "Topic modelling - done\n"
          ]
        },
        {
          "name": "stderr",
          "output_type": "stream",
          "text": [
            "100%|██████████| 68/68 [02:29<00:00,  2.20s/it]\n",
            "100%|██████████| 68/68 [00:00<00:00, 35320.45it/s]\n",
            "100%|██████████| 68/68 [00:00<00:00, 74158.26it/s]\n"
          ]
        },
        {
          "name": "stdout",
          "output_type": "stream",
          "text": [
            "\n",
            "Sentiment Analysis - done\n"
          ]
        },
        {
          "name": "stderr",
          "output_type": "stream",
          "text": [
            "100%|██████████| 68/68 [00:01<00:00, 58.31it/s]\n"
          ]
        },
        {
          "name": "stdout",
          "output_type": "stream",
          "text": [
            "\n",
            "Topic modelling - done\n"
          ]
        },
        {
          "name": "stderr",
          "output_type": "stream",
          "text": [
            "100%|██████████| 22/22 [00:47<00:00,  2.17s/it]\n",
            "100%|██████████| 22/22 [00:00<00:00, 49004.08it/s]\n",
            "100%|██████████| 22/22 [00:00<00:00, 39636.89it/s]\n"
          ]
        },
        {
          "name": "stdout",
          "output_type": "stream",
          "text": [
            "\n",
            "Sentiment Analysis - done\n"
          ]
        },
        {
          "name": "stderr",
          "output_type": "stream",
          "text": [
            "100%|██████████| 22/22 [00:00<00:00, 64.48it/s]\n"
          ]
        },
        {
          "name": "stdout",
          "output_type": "stream",
          "text": [
            "\n",
            "Topic modelling - done\n"
          ]
        },
        {
          "name": "stderr",
          "output_type": "stream",
          "text": [
            "100%|██████████| 77/77 [02:57<00:00,  2.31s/it]\n",
            "100%|██████████| 77/77 [00:00<00:00, 30638.59it/s]\n",
            "100%|██████████| 77/77 [00:00<00:00, 102300.10it/s]\n"
          ]
        },
        {
          "name": "stdout",
          "output_type": "stream",
          "text": [
            "\n",
            "Sentiment Analysis - done\n"
          ]
        },
        {
          "name": "stderr",
          "output_type": "stream",
          "text": [
            "100%|██████████| 77/77 [00:01<00:00, 55.97it/s]\n"
          ]
        },
        {
          "name": "stdout",
          "output_type": "stream",
          "text": [
            "\n",
            "Topic modelling - done\n"
          ]
        },
        {
          "name": "stderr",
          "output_type": "stream",
          "text": [
            "100%|██████████| 15/15 [00:32<00:00,  2.18s/it]\n",
            "100%|██████████| 15/15 [00:00<00:00, 30002.17it/s]\n",
            "100%|██████████| 15/15 [00:00<00:00, 27654.75it/s]\n"
          ]
        },
        {
          "name": "stdout",
          "output_type": "stream",
          "text": [
            "\n",
            "Sentiment Analysis - done\n"
          ]
        },
        {
          "name": "stderr",
          "output_type": "stream",
          "text": [
            "100%|██████████| 15/15 [00:00<00:00, 72.71it/s]\n"
          ]
        },
        {
          "name": "stdout",
          "output_type": "stream",
          "text": [
            "\n",
            "Topic modelling - done\n"
          ]
        },
        {
          "name": "stderr",
          "output_type": "stream",
          "text": [
            "100%|██████████| 80/80 [03:09<00:00,  2.36s/it]\n",
            "100%|██████████| 80/80 [00:00<00:00, 43531.96it/s]\n",
            "100%|██████████| 80/80 [00:00<00:00, 135847.90it/s]\n"
          ]
        },
        {
          "name": "stdout",
          "output_type": "stream",
          "text": [
            "\n",
            "Sentiment Analysis - done\n"
          ]
        },
        {
          "name": "stderr",
          "output_type": "stream",
          "text": [
            "100%|██████████| 80/80 [00:01<00:00, 48.69it/s]\n"
          ]
        },
        {
          "name": "stdout",
          "output_type": "stream",
          "text": [
            "\n",
            "Topic modelling - done\n"
          ]
        },
        {
          "name": "stderr",
          "output_type": "stream",
          "text": [
            "100%|██████████| 41/41 [01:34<00:00,  2.30s/it]\n",
            "100%|██████████| 41/41 [00:00<00:00, 22129.26it/s]\n",
            "100%|██████████| 41/41 [00:00<00:00, 62624.35it/s]\n"
          ]
        },
        {
          "name": "stdout",
          "output_type": "stream",
          "text": [
            "\n",
            "Sentiment Analysis - done\n"
          ]
        },
        {
          "name": "stderr",
          "output_type": "stream",
          "text": [
            "100%|██████████| 41/41 [00:00<00:00, 59.51it/s]\n"
          ]
        },
        {
          "name": "stdout",
          "output_type": "stream",
          "text": [
            "\n",
            "Topic modelling - done\n"
          ]
        },
        {
          "name": "stderr",
          "output_type": "stream",
          "text": [
            "100%|██████████| 25/25 [00:56<00:00,  2.28s/it]\n",
            "100%|██████████| 25/25 [00:00<00:00, 17496.68it/s]\n",
            "100%|██████████| 25/25 [00:00<00:00, 37543.00it/s]\n"
          ]
        },
        {
          "name": "stdout",
          "output_type": "stream",
          "text": [
            "\n",
            "Sentiment Analysis - done\n"
          ]
        },
        {
          "name": "stderr",
          "output_type": "stream",
          "text": [
            "100%|██████████| 25/25 [00:00<00:00, 64.56it/s]\n"
          ]
        },
        {
          "name": "stdout",
          "output_type": "stream",
          "text": [
            "\n",
            "Topic modelling - done\n"
          ]
        },
        {
          "name": "stderr",
          "output_type": "stream",
          "text": [
            "100%|██████████| 20/20 [00:42<00:00,  2.14s/it]\n",
            "100%|██████████| 20/20 [00:00<00:00, 41672.17it/s]\n",
            "100%|██████████| 20/20 [00:00<00:00, 42646.71it/s]\n"
          ]
        },
        {
          "name": "stdout",
          "output_type": "stream",
          "text": [
            "\n",
            "Sentiment Analysis - done\n"
          ]
        },
        {
          "name": "stderr",
          "output_type": "stream",
          "text": [
            "100%|██████████| 20/20 [00:00<00:00, 45.15it/s]\n"
          ]
        },
        {
          "name": "stdout",
          "output_type": "stream",
          "text": [
            "\n",
            "Topic modelling - done\n"
          ]
        },
        {
          "name": "stderr",
          "output_type": "stream",
          "text": [
            "100%|██████████| 56/56 [01:59<00:00,  2.13s/it]\n",
            "100%|██████████| 56/56 [00:00<00:00, 75451.66it/s]\n",
            "100%|██████████| 56/56 [00:00<00:00, 89037.54it/s]\n"
          ]
        },
        {
          "name": "stdout",
          "output_type": "stream",
          "text": [
            "\n",
            "Sentiment Analysis - done\n"
          ]
        },
        {
          "name": "stderr",
          "output_type": "stream",
          "text": [
            "100%|██████████| 56/56 [00:01<00:00, 43.10it/s]\n"
          ]
        },
        {
          "name": "stdout",
          "output_type": "stream",
          "text": [
            "\n",
            "Topic modelling - done\n"
          ]
        },
        {
          "name": "stderr",
          "output_type": "stream",
          "text": [
            "100%|██████████| 39/39 [01:28<00:00,  2.26s/it]\n",
            "100%|██████████| 39/39 [00:00<00:00, 20955.40it/s]\n",
            "100%|██████████| 39/39 [00:00<00:00, 74864.01it/s]\n"
          ]
        },
        {
          "name": "stdout",
          "output_type": "stream",
          "text": [
            "\n",
            "Sentiment Analysis - done\n"
          ]
        },
        {
          "name": "stderr",
          "output_type": "stream",
          "text": [
            "100%|██████████| 39/39 [00:00<00:00, 43.93it/s]\n"
          ]
        },
        {
          "name": "stdout",
          "output_type": "stream",
          "text": [
            "\n",
            "Topic modelling - done\n"
          ]
        },
        {
          "name": "stderr",
          "output_type": "stream",
          "text": [
            "100%|██████████| 18/18 [00:39<00:00,  2.22s/it]\n",
            "100%|██████████| 18/18 [00:00<00:00, 41278.01it/s]\n",
            "100%|██████████| 18/18 [00:00<00:00, 35164.17it/s]\n"
          ]
        },
        {
          "name": "stdout",
          "output_type": "stream",
          "text": [
            "\n",
            "Sentiment Analysis - done\n"
          ]
        },
        {
          "name": "stderr",
          "output_type": "stream",
          "text": [
            "100%|██████████| 18/18 [00:00<00:00, 71.43it/s]\n"
          ]
        },
        {
          "name": "stdout",
          "output_type": "stream",
          "text": [
            "\n",
            "Topic modelling - done\n"
          ]
        },
        {
          "name": "stderr",
          "output_type": "stream",
          "text": [
            "100%|██████████| 13/13 [00:28<00:00,  2.23s/it]\n",
            "100%|██████████| 13/13 [00:00<00:00, 19206.04it/s]\n",
            "100%|██████████| 13/13 [00:00<00:00, 25623.10it/s]\n"
          ]
        },
        {
          "name": "stdout",
          "output_type": "stream",
          "text": [
            "\n",
            "Sentiment Analysis - done\n"
          ]
        },
        {
          "name": "stderr",
          "output_type": "stream",
          "text": [
            "100%|██████████| 13/13 [00:00<00:00, 59.69it/s]\n"
          ]
        },
        {
          "name": "stdout",
          "output_type": "stream",
          "text": [
            "\n",
            "Topic modelling - done\n"
          ]
        },
        {
          "name": "stderr",
          "output_type": "stream",
          "text": [
            "100%|██████████| 65/65 [02:26<00:00,  2.26s/it]\n",
            "100%|██████████| 65/65 [00:00<00:00, 35383.49it/s]\n",
            "100%|██████████| 65/65 [00:00<00:00, 116658.01it/s]\n"
          ]
        },
        {
          "name": "stdout",
          "output_type": "stream",
          "text": [
            "\n",
            "Sentiment Analysis - done\n"
          ]
        },
        {
          "name": "stderr",
          "output_type": "stream",
          "text": [
            "100%|██████████| 65/65 [00:01<00:00, 59.58it/s]\n"
          ]
        },
        {
          "name": "stdout",
          "output_type": "stream",
          "text": [
            "\n",
            "Topic modelling - done\n"
          ]
        },
        {
          "name": "stderr",
          "output_type": "stream",
          "text": [
            "100%|██████████| 22/22 [00:49<00:00,  2.23s/it]\n",
            "100%|██████████| 22/22 [00:00<00:00, 44534.12it/s]\n",
            "100%|██████████| 22/22 [00:00<00:00, 42542.50it/s]\n"
          ]
        },
        {
          "name": "stdout",
          "output_type": "stream",
          "text": [
            "\n",
            "Sentiment Analysis - done\n"
          ]
        },
        {
          "name": "stderr",
          "output_type": "stream",
          "text": [
            "100%|██████████| 22/22 [00:00<00:00, 56.14it/s]\n"
          ]
        },
        {
          "name": "stdout",
          "output_type": "stream",
          "text": [
            "\n",
            "Topic modelling - done\n"
          ]
        },
        {
          "name": "stderr",
          "output_type": "stream",
          "text": [
            "100%|██████████| 10/10 [00:22<00:00,  2.24s/it]\n",
            "100%|██████████| 10/10 [00:00<00:00, 19840.61it/s]\n",
            "100%|██████████| 10/10 [00:00<00:00, 21631.27it/s]\n"
          ]
        },
        {
          "name": "stdout",
          "output_type": "stream",
          "text": [
            "\n",
            "Sentiment Analysis - done\n"
          ]
        },
        {
          "name": "stderr",
          "output_type": "stream",
          "text": [
            "100%|██████████| 10/10 [00:00<00:00, 69.40it/s]\n"
          ]
        },
        {
          "name": "stdout",
          "output_type": "stream",
          "text": [
            "\n",
            "Topic modelling - done\n"
          ]
        },
        {
          "name": "stderr",
          "output_type": "stream",
          "text": [
            "100%|██████████| 12/12 [00:26<00:00,  2.25s/it]\n",
            "100%|██████████| 12/12 [00:00<00:00, 21666.66it/s]\n",
            "100%|██████████| 12/12 [00:00<00:00, 23109.11it/s]\n"
          ]
        },
        {
          "name": "stdout",
          "output_type": "stream",
          "text": [
            "\n",
            "Sentiment Analysis - done\n"
          ]
        },
        {
          "name": "stderr",
          "output_type": "stream",
          "text": [
            "100%|██████████| 12/12 [00:00<00:00, 57.61it/s]\n"
          ]
        },
        {
          "name": "stdout",
          "output_type": "stream",
          "text": [
            "\n",
            "Topic modelling - done\n"
          ]
        },
        {
          "name": "stderr",
          "output_type": "stream",
          "text": [
            "100%|██████████| 8/8 [00:17<00:00,  2.18s/it]\n",
            "100%|██████████| 8/8 [00:00<00:00, 7701.27it/s]\n",
            "100%|██████████| 8/8 [00:00<00:00, 21385.87it/s]\n"
          ]
        },
        {
          "name": "stdout",
          "output_type": "stream",
          "text": [
            "\n",
            "Sentiment Analysis - done\n"
          ]
        },
        {
          "name": "stderr",
          "output_type": "stream",
          "text": [
            "100%|██████████| 8/8 [00:00<00:00, 82.63it/s]\n"
          ]
        },
        {
          "name": "stdout",
          "output_type": "stream",
          "text": [
            "\n",
            "Topic modelling - done\n"
          ]
        },
        {
          "name": "stderr",
          "output_type": "stream",
          "text": [
            "100%|██████████| 14/14 [00:30<00:00,  2.18s/it]\n",
            "100%|██████████| 14/14 [00:00<00:00, 30252.58it/s]\n",
            "100%|██████████| 14/14 [00:00<00:00, 28122.73it/s]\n"
          ]
        },
        {
          "name": "stdout",
          "output_type": "stream",
          "text": [
            "\n",
            "Sentiment Analysis - done\n"
          ]
        },
        {
          "name": "stderr",
          "output_type": "stream",
          "text": [
            "100%|██████████| 14/14 [00:00<00:00, 62.37it/s]\n"
          ]
        },
        {
          "name": "stdout",
          "output_type": "stream",
          "text": [
            "\n",
            "Topic modelling - done\n"
          ]
        },
        {
          "name": "stderr",
          "output_type": "stream",
          "text": [
            "100%|██████████| 10/10 [00:21<00:00,  2.18s/it]\n",
            "100%|██████████| 10/10 [00:00<00:00, 21194.06it/s]\n",
            "100%|██████████| 10/10 [00:00<00:00, 21465.22it/s]\n"
          ]
        },
        {
          "name": "stdout",
          "output_type": "stream",
          "text": [
            "\n",
            "Sentiment Analysis - done\n"
          ]
        },
        {
          "name": "stderr",
          "output_type": "stream",
          "text": [
            "100%|██████████| 10/10 [00:00<00:00, 66.40it/s]\n"
          ]
        },
        {
          "name": "stdout",
          "output_type": "stream",
          "text": [
            "\n",
            "Topic modelling - done\n"
          ]
        },
        {
          "name": "stderr",
          "output_type": "stream",
          "text": [
            "100%|██████████| 14/14 [00:31<00:00,  2.24s/it]\n",
            "100%|██████████| 14/14 [00:00<00:00, 20227.44it/s]\n",
            "100%|██████████| 14/14 [00:00<00:00, 32263.88it/s]\n"
          ]
        },
        {
          "name": "stdout",
          "output_type": "stream",
          "text": [
            "\n",
            "Sentiment Analysis - done\n"
          ]
        },
        {
          "name": "stderr",
          "output_type": "stream",
          "text": [
            "100%|██████████| 14/14 [00:00<00:00, 62.94it/s]\n"
          ]
        },
        {
          "name": "stdout",
          "output_type": "stream",
          "text": [
            "\n",
            "Topic modelling - done\n"
          ]
        },
        {
          "name": "stderr",
          "output_type": "stream",
          "text": [
            "100%|██████████| 38/38 [01:26<00:00,  2.27s/it]\n",
            "100%|██████████| 38/38 [00:00<00:00, 71956.46it/s]\n",
            "100%|██████████| 38/38 [00:00<00:00, 62405.46it/s]\n"
          ]
        },
        {
          "name": "stdout",
          "output_type": "stream",
          "text": [
            "\n",
            "Sentiment Analysis - done\n"
          ]
        },
        {
          "name": "stderr",
          "output_type": "stream",
          "text": [
            "100%|██████████| 38/38 [00:00<00:00, 51.11it/s]\n"
          ]
        },
        {
          "name": "stdout",
          "output_type": "stream",
          "text": [
            "\n",
            "Topic modelling - done\n"
          ]
        },
        {
          "name": "stderr",
          "output_type": "stream",
          "text": [
            "100%|██████████| 37/37 [01:23<00:00,  2.26s/it]\n",
            "100%|██████████| 37/37 [00:00<00:00, 16751.86it/s]\n",
            "100%|██████████| 37/37 [00:00<00:00, 64797.18it/s]\n"
          ]
        },
        {
          "name": "stdout",
          "output_type": "stream",
          "text": [
            "\n",
            "Sentiment Analysis - done\n"
          ]
        },
        {
          "name": "stderr",
          "output_type": "stream",
          "text": [
            "100%|██████████| 37/37 [00:00<00:00, 40.82it/s]\n"
          ]
        },
        {
          "name": "stdout",
          "output_type": "stream",
          "text": [
            "\n",
            "Topic modelling - done\n"
          ]
        },
        {
          "name": "stderr",
          "output_type": "stream",
          "text": [
            "100%|██████████| 29/29 [01:10<00:00,  2.44s/it]\n",
            "100%|██████████| 29/29 [00:00<00:00, 52930.73it/s]\n",
            "100%|██████████| 29/29 [00:00<00:00, 56653.38it/s]\n"
          ]
        },
        {
          "name": "stdout",
          "output_type": "stream",
          "text": [
            "\n",
            "Sentiment Analysis - done\n"
          ]
        },
        {
          "name": "stderr",
          "output_type": "stream",
          "text": [
            "100%|██████████| 29/29 [00:00<00:00, 57.42it/s]\n"
          ]
        },
        {
          "name": "stdout",
          "output_type": "stream",
          "text": [
            "\n",
            "Topic modelling - done\n"
          ]
        },
        {
          "name": "stderr",
          "output_type": "stream",
          "text": [
            "100%|██████████| 44/44 [01:48<00:00,  2.47s/it]\n",
            "100%|██████████| 44/44 [00:00<00:00, 58438.69it/s]\n",
            "100%|██████████| 44/44 [00:00<00:00, 75326.28it/s]\n"
          ]
        },
        {
          "name": "stdout",
          "output_type": "stream",
          "text": [
            "\n",
            "Sentiment Analysis - done\n"
          ]
        },
        {
          "name": "stderr",
          "output_type": "stream",
          "text": [
            "100%|██████████| 44/44 [00:00<00:00, 61.12it/s]\n"
          ]
        },
        {
          "name": "stdout",
          "output_type": "stream",
          "text": [
            "\n",
            "Topic modelling - done\n"
          ]
        },
        {
          "name": "stderr",
          "output_type": "stream",
          "text": [
            "100%|██████████| 44/44 [01:52<00:00,  2.55s/it]\n",
            "100%|██████████| 44/44 [00:00<00:00, 27848.10it/s]\n",
            "100%|██████████| 44/44 [00:00<00:00, 73233.88it/s]\n"
          ]
        },
        {
          "name": "stdout",
          "output_type": "stream",
          "text": [
            "\n",
            "Sentiment Analysis - done\n"
          ]
        },
        {
          "name": "stderr",
          "output_type": "stream",
          "text": [
            "100%|██████████| 44/44 [00:01<00:00, 32.77it/s]\n"
          ]
        },
        {
          "name": "stdout",
          "output_type": "stream",
          "text": [
            "\n",
            "Topic modelling - done\n"
          ]
        },
        {
          "name": "stderr",
          "output_type": "stream",
          "text": [
            "100%|██████████| 27/27 [01:05<00:00,  2.44s/it]\n",
            "100%|██████████| 27/27 [00:00<00:00, 54761.22it/s]\n",
            "100%|██████████| 27/27 [00:00<00:00, 43825.93it/s]\n"
          ]
        },
        {
          "name": "stdout",
          "output_type": "stream",
          "text": [
            "\n",
            "Sentiment Analysis - done\n"
          ]
        },
        {
          "name": "stderr",
          "output_type": "stream",
          "text": [
            "100%|██████████| 27/27 [00:00<00:00, 66.09it/s]\n"
          ]
        },
        {
          "name": "stdout",
          "output_type": "stream",
          "text": [
            "\n",
            "Topic modelling - done\n"
          ]
        },
        {
          "name": "stderr",
          "output_type": "stream",
          "text": [
            "100%|██████████| 34/34 [01:23<00:00,  2.44s/it]\n",
            "100%|██████████| 34/34 [00:00<00:00, 21742.09it/s]\n",
            "100%|██████████| 34/34 [00:00<00:00, 52065.11it/s]\n"
          ]
        },
        {
          "name": "stdout",
          "output_type": "stream",
          "text": [
            "\n",
            "Sentiment Analysis - done\n"
          ]
        },
        {
          "name": "stderr",
          "output_type": "stream",
          "text": [
            "100%|██████████| 34/34 [00:00<00:00, 62.44it/s]\n"
          ]
        },
        {
          "name": "stdout",
          "output_type": "stream",
          "text": [
            "\n",
            "Topic modelling - done\n"
          ]
        },
        {
          "name": "stderr",
          "output_type": "stream",
          "text": [
            "100%|██████████| 13/13 [00:30<00:00,  2.36s/it]\n",
            "100%|██████████| 13/13 [00:00<00:00, 24897.69it/s]\n",
            "100%|██████████| 13/13 [00:00<00:00, 25539.09it/s]\n"
          ]
        },
        {
          "name": "stdout",
          "output_type": "stream",
          "text": [
            "\n",
            "Sentiment Analysis - done\n"
          ]
        },
        {
          "name": "stderr",
          "output_type": "stream",
          "text": [
            "100%|██████████| 13/13 [00:00<00:00, 57.52it/s]\n"
          ]
        },
        {
          "name": "stdout",
          "output_type": "stream",
          "text": [
            "\n",
            "Topic modelling - done\n"
          ]
        },
        {
          "name": "stderr",
          "output_type": "stream",
          "text": [
            "100%|██████████| 19/19 [00:46<00:00,  2.44s/it]\n",
            "100%|██████████| 19/19 [00:00<00:00, 39334.54it/s]\n",
            "100%|██████████| 19/19 [00:00<00:00, 34739.22it/s]\n"
          ]
        },
        {
          "name": "stdout",
          "output_type": "stream",
          "text": [
            "\n",
            "Sentiment Analysis - done\n"
          ]
        },
        {
          "name": "stderr",
          "output_type": "stream",
          "text": [
            "100%|██████████| 19/19 [00:00<00:00, 71.62it/s]\n"
          ]
        },
        {
          "name": "stdout",
          "output_type": "stream",
          "text": [
            "\n",
            "Topic modelling - done\n"
          ]
        },
        {
          "name": "stderr",
          "output_type": "stream",
          "text": [
            "100%|██████████| 49/49 [01:58<00:00,  2.42s/it]\n",
            "100%|██████████| 49/49 [00:00<00:00, 89747.12it/s]\n",
            "100%|██████████| 49/49 [00:00<00:00, 87791.92it/s]\n"
          ]
        },
        {
          "name": "stdout",
          "output_type": "stream",
          "text": [
            "\n",
            "Sentiment Analysis - done\n"
          ]
        },
        {
          "name": "stderr",
          "output_type": "stream",
          "text": [
            "100%|██████████| 49/49 [00:00<00:00, 70.62it/s]\n"
          ]
        },
        {
          "name": "stdout",
          "output_type": "stream",
          "text": [
            "\n",
            "Topic modelling - done\n"
          ]
        },
        {
          "name": "stderr",
          "output_type": "stream",
          "text": [
            "100%|██████████| 232/232 [09:07<00:00,  2.36s/it]\n",
            "100%|██████████| 232/232 [00:00<00:00, 63825.17it/s]\n",
            "100%|██████████| 232/232 [00:00<00:00, 209399.30it/s]\n"
          ]
        },
        {
          "name": "stdout",
          "output_type": "stream",
          "text": [
            "\n",
            "Sentiment Analysis - done\n"
          ]
        },
        {
          "name": "stderr",
          "output_type": "stream",
          "text": [
            "100%|██████████| 232/232 [00:04<00:00, 48.28it/s]\n"
          ]
        },
        {
          "name": "stdout",
          "output_type": "stream",
          "text": [
            "\n",
            "Topic modelling - done\n"
          ]
        },
        {
          "name": "stderr",
          "output_type": "stream",
          "text": [
            "100%|██████████| 20/20 [00:47<00:00,  2.39s/it]\n",
            "100%|██████████| 20/20 [00:00<00:00, 45027.42it/s]\n",
            "100%|██████████| 20/20 [00:00<00:00, 43667.92it/s]\n"
          ]
        },
        {
          "name": "stdout",
          "output_type": "stream",
          "text": [
            "\n",
            "Sentiment Analysis - done\n"
          ]
        },
        {
          "name": "stderr",
          "output_type": "stream",
          "text": [
            "100%|██████████| 20/20 [00:00<00:00, 71.42it/s]\n"
          ]
        },
        {
          "name": "stdout",
          "output_type": "stream",
          "text": [
            "\n",
            "Topic modelling - done\n"
          ]
        },
        {
          "name": "stderr",
          "output_type": "stream",
          "text": [
            "100%|██████████| 30/30 [01:17<00:00,  2.57s/it]\n",
            "100%|██████████| 30/30 [00:00<00:00, 19725.52it/s]\n",
            "100%|██████████| 30/30 [00:00<00:00, 58254.22it/s]\n"
          ]
        },
        {
          "name": "stdout",
          "output_type": "stream",
          "text": [
            "\n",
            "Sentiment Analysis - done\n"
          ]
        },
        {
          "name": "stderr",
          "output_type": "stream",
          "text": [
            "100%|██████████| 30/30 [00:00<00:00, 60.71it/s]\n"
          ]
        },
        {
          "name": "stdout",
          "output_type": "stream",
          "text": [
            "\n",
            "Topic modelling - done\n"
          ]
        },
        {
          "name": "stderr",
          "output_type": "stream",
          "text": [
            "100%|██████████| 28/28 [01:22<00:00,  2.95s/it]\n",
            "100%|██████████| 28/28 [00:00<00:00, 54801.92it/s]\n",
            "100%|██████████| 28/28 [00:00<00:00, 45678.92it/s]\n"
          ]
        },
        {
          "name": "stdout",
          "output_type": "stream",
          "text": [
            "\n",
            "Sentiment Analysis - done\n"
          ]
        },
        {
          "name": "stderr",
          "output_type": "stream",
          "text": [
            "100%|██████████| 28/28 [00:00<00:00, 38.02it/s]\n"
          ]
        },
        {
          "name": "stdout",
          "output_type": "stream",
          "text": [
            "\n",
            "Topic modelling - done\n"
          ]
        },
        {
          "name": "stderr",
          "output_type": "stream",
          "text": [
            "100%|██████████| 62/62 [02:56<00:00,  2.85s/it]\n",
            "100%|██████████| 62/62 [00:00<00:00, 34198.69it/s]\n",
            "100%|██████████| 62/62 [00:00<00:00, 85880.73it/s]\n"
          ]
        },
        {
          "name": "stdout",
          "output_type": "stream",
          "text": [
            "\n",
            "Sentiment Analysis - done\n"
          ]
        },
        {
          "name": "stderr",
          "output_type": "stream",
          "text": [
            "100%|██████████| 62/62 [00:01<00:00, 41.13it/s]\n"
          ]
        },
        {
          "name": "stdout",
          "output_type": "stream",
          "text": [
            "\n",
            "Topic modelling - done\n"
          ]
        },
        {
          "name": "stderr",
          "output_type": "stream",
          "text": [
            "100%|██████████| 32/32 [01:19<00:00,  2.48s/it]\n",
            "100%|██████████| 32/32 [00:00<00:00, 49618.38it/s]\n",
            "100%|██████████| 32/32 [00:00<00:00, 69868.68it/s]\n"
          ]
        },
        {
          "name": "stdout",
          "output_type": "stream",
          "text": [
            "\n",
            "Sentiment Analysis - done\n"
          ]
        },
        {
          "name": "stderr",
          "output_type": "stream",
          "text": [
            "100%|██████████| 32/32 [00:00<00:00, 50.62it/s]\n"
          ]
        },
        {
          "name": "stdout",
          "output_type": "stream",
          "text": [
            "\n",
            "Topic modelling - done\n"
          ]
        },
        {
          "name": "stderr",
          "output_type": "stream",
          "text": [
            "100%|██████████| 70/70 [02:39<00:00,  2.28s/it]\n",
            "100%|██████████| 70/70 [00:00<00:00, 122333.87it/s]\n",
            "100%|██████████| 70/70 [00:00<00:00, 125631.70it/s]\n"
          ]
        },
        {
          "name": "stdout",
          "output_type": "stream",
          "text": [
            "\n",
            "Sentiment Analysis - done\n"
          ]
        },
        {
          "name": "stderr",
          "output_type": "stream",
          "text": [
            "100%|██████████| 70/70 [00:01<00:00, 54.12it/s]\n"
          ]
        },
        {
          "name": "stdout",
          "output_type": "stream",
          "text": [
            "\n",
            "Topic modelling - done\n"
          ]
        },
        {
          "name": "stderr",
          "output_type": "stream",
          "text": [
            "100%|██████████| 12/12 [00:26<00:00,  2.19s/it]\n",
            "100%|██████████| 12/12 [00:00<00:00, 25254.21it/s]\n",
            "100%|██████████| 12/12 [00:00<00:00, 23162.29it/s]\n"
          ]
        },
        {
          "name": "stdout",
          "output_type": "stream",
          "text": [
            "\n",
            "Sentiment Analysis - done\n"
          ]
        },
        {
          "name": "stderr",
          "output_type": "stream",
          "text": [
            "100%|██████████| 12/12 [00:00<00:00, 56.17it/s]\n"
          ]
        },
        {
          "name": "stdout",
          "output_type": "stream",
          "text": [
            "\n",
            "Topic modelling - done\n"
          ]
        },
        {
          "name": "stderr",
          "output_type": "stream",
          "text": [
            "100%|██████████| 77/77 [02:53<00:00,  2.26s/it]\n",
            "100%|██████████| 77/77 [00:00<00:00, 137022.24it/s]\n",
            "100%|██████████| 77/77 [00:00<00:00, 138076.70it/s]\n"
          ]
        },
        {
          "name": "stdout",
          "output_type": "stream",
          "text": [
            "\n",
            "Sentiment Analysis - done\n"
          ]
        },
        {
          "name": "stderr",
          "output_type": "stream",
          "text": [
            "100%|██████████| 77/77 [00:01<00:00, 51.81it/s]\n"
          ]
        },
        {
          "name": "stdout",
          "output_type": "stream",
          "text": [
            "\n",
            "Topic modelling - done\n"
          ]
        },
        {
          "name": "stderr",
          "output_type": "stream",
          "text": [
            "100%|██████████| 13/13 [00:27<00:00,  2.14s/it]\n",
            "100%|██████████| 13/13 [00:00<00:00, 21740.81it/s]\n",
            "100%|██████████| 13/13 [00:00<00:00, 26637.01it/s]\n"
          ]
        },
        {
          "name": "stdout",
          "output_type": "stream",
          "text": [
            "\n",
            "Sentiment Analysis - done\n"
          ]
        },
        {
          "name": "stderr",
          "output_type": "stream",
          "text": [
            "100%|██████████| 13/13 [00:00<00:00, 62.98it/s]\n"
          ]
        },
        {
          "name": "stdout",
          "output_type": "stream",
          "text": [
            "\n",
            "Topic modelling - done\n"
          ]
        },
        {
          "name": "stderr",
          "output_type": "stream",
          "text": [
            "100%|██████████| 55/55 [02:03<00:00,  2.25s/it]\n",
            "100%|██████████| 55/55 [00:00<00:00, 31094.05it/s]\n",
            "100%|██████████| 55/55 [00:00<00:00, 86887.65it/s]\n"
          ]
        },
        {
          "name": "stdout",
          "output_type": "stream",
          "text": [
            "\n",
            "Sentiment Analysis - done\n"
          ]
        },
        {
          "name": "stderr",
          "output_type": "stream",
          "text": [
            "100%|██████████| 55/55 [00:00<00:00, 60.67it/s]\n"
          ]
        },
        {
          "name": "stdout",
          "output_type": "stream",
          "text": [
            "\n",
            "Topic modelling - done\n"
          ]
        },
        {
          "name": "stderr",
          "output_type": "stream",
          "text": [
            "100%|██████████| 10/10 [00:23<00:00,  2.40s/it]\n",
            "100%|██████████| 10/10 [00:00<00:00, 21465.22it/s]\n",
            "100%|██████████| 10/10 [00:00<00:00, 20971.52it/s]\n"
          ]
        },
        {
          "name": "stdout",
          "output_type": "stream",
          "text": [
            "\n",
            "Sentiment Analysis - done\n"
          ]
        },
        {
          "name": "stderr",
          "output_type": "stream",
          "text": [
            "100%|██████████| 10/10 [00:00<00:00, 69.88it/s]\n"
          ]
        },
        {
          "name": "stdout",
          "output_type": "stream",
          "text": [
            "\n",
            "Topic modelling - done\n"
          ]
        },
        {
          "name": "stderr",
          "output_type": "stream",
          "text": [
            "100%|██████████| 41/41 [01:38<00:00,  2.41s/it]\n",
            "100%|██████████| 41/41 [00:00<00:00, 54506.01it/s]\n",
            "100%|██████████| 41/41 [00:00<00:00, 66679.51it/s]\n"
          ]
        },
        {
          "name": "stdout",
          "output_type": "stream",
          "text": [
            "\n",
            "Sentiment Analysis - done\n"
          ]
        },
        {
          "name": "stderr",
          "output_type": "stream",
          "text": [
            "100%|██████████| 41/41 [00:00<00:00, 52.79it/s]\n"
          ]
        },
        {
          "name": "stdout",
          "output_type": "stream",
          "text": [
            "\n",
            "Topic modelling - done\n"
          ]
        },
        {
          "name": "stderr",
          "output_type": "stream",
          "text": [
            "100%|██████████| 36/36 [01:20<00:00,  2.24s/it]\n",
            "100%|██████████| 36/36 [00:00<00:00, 75159.26it/s]\n",
            "100%|██████████| 36/36 [00:00<00:00, 94965.37it/s]\n"
          ]
        },
        {
          "name": "stdout",
          "output_type": "stream",
          "text": [
            "\n",
            "Sentiment Analysis - done\n"
          ]
        },
        {
          "name": "stderr",
          "output_type": "stream",
          "text": [
            "100%|██████████| 36/36 [00:00<00:00, 60.97it/s]\n"
          ]
        },
        {
          "name": "stdout",
          "output_type": "stream",
          "text": [
            "\n",
            "Topic modelling - done\n"
          ]
        },
        {
          "name": "stderr",
          "output_type": "stream",
          "text": [
            "100%|██████████| 76/76 [02:53<00:00,  2.29s/it]\n",
            "100%|██████████| 76/76 [00:00<00:00, 113078.08it/s]\n",
            "100%|██████████| 76/76 [00:00<00:00, 133263.84it/s]\n"
          ]
        },
        {
          "name": "stdout",
          "output_type": "stream",
          "text": [
            "\n",
            "Sentiment Analysis - done\n"
          ]
        },
        {
          "name": "stderr",
          "output_type": "stream",
          "text": [
            "100%|██████████| 76/76 [00:01<00:00, 53.48it/s]\n"
          ]
        },
        {
          "name": "stdout",
          "output_type": "stream",
          "text": [
            "\n",
            "Topic modelling - done\n"
          ]
        },
        {
          "name": "stderr",
          "output_type": "stream",
          "text": [
            "100%|██████████| 64/64 [02:25<00:00,  2.28s/it]\n",
            "100%|██████████| 64/64 [00:00<00:00, 34821.05it/s]\n",
            "100%|██████████| 64/64 [00:00<00:00, 86592.08it/s]\n"
          ]
        },
        {
          "name": "stdout",
          "output_type": "stream",
          "text": [
            "\n",
            "Sentiment Analysis - done\n"
          ]
        },
        {
          "name": "stderr",
          "output_type": "stream",
          "text": [
            "100%|██████████| 64/64 [00:01<00:00, 44.21it/s]\n"
          ]
        },
        {
          "name": "stdout",
          "output_type": "stream",
          "text": [
            "\n",
            "Topic modelling - done\n"
          ]
        },
        {
          "name": "stderr",
          "output_type": "stream",
          "text": [
            "100%|██████████| 13/13 [00:29<00:00,  2.24s/it]\n",
            "100%|██████████| 13/13 [00:00<00:00, 24539.13it/s]\n",
            "100%|██████████| 13/13 [00:00<00:00, 31336.75it/s]\n"
          ]
        },
        {
          "name": "stdout",
          "output_type": "stream",
          "text": [
            "\n",
            "Sentiment Analysis - done\n"
          ]
        },
        {
          "name": "stderr",
          "output_type": "stream",
          "text": [
            "100%|██████████| 13/13 [00:00<00:00, 66.51it/s]\n"
          ]
        },
        {
          "name": "stdout",
          "output_type": "stream",
          "text": [
            "\n",
            "Topic modelling - done\n"
          ]
        },
        {
          "name": "stderr",
          "output_type": "stream",
          "text": [
            "100%|██████████| 100/100 [03:46<00:00,  2.27s/it]\n",
            "100%|██████████| 100/100 [00:00<00:00, 49090.64it/s]\n",
            "100%|██████████| 100/100 [00:00<00:00, 145736.76it/s]\n"
          ]
        },
        {
          "name": "stdout",
          "output_type": "stream",
          "text": [
            "\n",
            "Sentiment Analysis - done\n"
          ]
        },
        {
          "name": "stderr",
          "output_type": "stream",
          "text": [
            "100%|██████████| 100/100 [00:01<00:00, 60.93it/s]\n"
          ]
        },
        {
          "name": "stdout",
          "output_type": "stream",
          "text": [
            "\n",
            "Topic modelling - done\n"
          ]
        },
        {
          "name": "stderr",
          "output_type": "stream",
          "text": [
            "100%|██████████| 92/92 [03:31<00:00,  2.30s/it]\n",
            "100%|██████████| 92/92 [00:00<00:00, 166039.57it/s]\n",
            "100%|██████████| 92/92 [00:00<00:00, 214852.99it/s]\n"
          ]
        },
        {
          "name": "stdout",
          "output_type": "stream",
          "text": [
            "\n",
            "Sentiment Analysis - done\n"
          ]
        },
        {
          "name": "stderr",
          "output_type": "stream",
          "text": [
            "100%|██████████| 92/92 [00:02<00:00, 36.13it/s]\n"
          ]
        },
        {
          "name": "stdout",
          "output_type": "stream",
          "text": [
            "\n",
            "Topic modelling - done\n"
          ]
        },
        {
          "name": "stderr",
          "output_type": "stream",
          "text": [
            "100%|██████████| 81/81 [03:04<00:00,  2.27s/it]\n",
            "100%|██████████| 81/81 [00:00<00:00, 103044.78it/s]\n",
            "100%|██████████| 81/81 [00:00<00:00, 133440.15it/s]\n"
          ]
        },
        {
          "name": "stdout",
          "output_type": "stream",
          "text": [
            "\n",
            "Sentiment Analysis - done\n"
          ]
        },
        {
          "name": "stderr",
          "output_type": "stream",
          "text": [
            "100%|██████████| 81/81 [00:01<00:00, 56.25it/s]\n"
          ]
        },
        {
          "name": "stdout",
          "output_type": "stream",
          "text": [
            "\n",
            "Topic modelling - done\n"
          ]
        },
        {
          "name": "stderr",
          "output_type": "stream",
          "text": [
            "100%|██████████| 52/52 [01:56<00:00,  2.23s/it]\n",
            "100%|██████████| 52/52 [00:00<00:00, 91678.78it/s]\n",
            "100%|██████████| 52/52 [00:00<00:00, 90274.75it/s]\n"
          ]
        },
        {
          "name": "stdout",
          "output_type": "stream",
          "text": [
            "\n",
            "Sentiment Analysis - done\n"
          ]
        },
        {
          "name": "stderr",
          "output_type": "stream",
          "text": [
            "100%|██████████| 52/52 [00:01<00:00, 46.44it/s]\n"
          ]
        },
        {
          "name": "stdout",
          "output_type": "stream",
          "text": [
            "\n",
            "Topic modelling - done\n"
          ]
        },
        {
          "name": "stderr",
          "output_type": "stream",
          "text": [
            "100%|██████████| 19/19 [00:42<00:00,  2.24s/it]\n",
            "100%|██████████| 19/19 [00:00<00:00, 20565.62it/s]\n",
            "100%|██████████| 19/19 [00:00<00:00, 32930.49it/s]\n"
          ]
        },
        {
          "name": "stdout",
          "output_type": "stream",
          "text": [
            "\n",
            "Sentiment Analysis - done\n"
          ]
        },
        {
          "name": "stderr",
          "output_type": "stream",
          "text": [
            "100%|██████████| 19/19 [00:00<00:00, 42.65it/s]\n"
          ]
        },
        {
          "name": "stdout",
          "output_type": "stream",
          "text": [
            "\n",
            "Topic modelling - done\n"
          ]
        },
        {
          "name": "stderr",
          "output_type": "stream",
          "text": [
            "100%|██████████| 59/59 [02:11<00:00,  2.23s/it]\n",
            "100%|██████████| 59/59 [00:00<00:00, 100187.83it/s]\n",
            "100%|██████████| 59/59 [00:00<00:00, 90052.38it/s]\n"
          ]
        },
        {
          "name": "stdout",
          "output_type": "stream",
          "text": [
            "\n",
            "Sentiment Analysis - done\n"
          ]
        },
        {
          "name": "stderr",
          "output_type": "stream",
          "text": [
            "100%|██████████| 59/59 [00:01<00:00, 50.86it/s]\n"
          ]
        },
        {
          "name": "stdout",
          "output_type": "stream",
          "text": [
            "\n",
            "Topic modelling - done\n"
          ]
        },
        {
          "name": "stderr",
          "output_type": "stream",
          "text": [
            "100%|██████████| 107/107 [03:58<00:00,  2.23s/it]\n",
            "100%|██████████| 107/107 [00:00<00:00, 54643.92it/s]\n",
            "100%|██████████| 107/107 [00:00<00:00, 167960.53it/s]\n"
          ]
        },
        {
          "name": "stdout",
          "output_type": "stream",
          "text": [
            "\n",
            "Sentiment Analysis - done\n"
          ]
        },
        {
          "name": "stderr",
          "output_type": "stream",
          "text": [
            "100%|██████████| 107/107 [00:01<00:00, 55.45it/s]\n"
          ]
        },
        {
          "name": "stdout",
          "output_type": "stream",
          "text": [
            "\n",
            "Topic modelling - done\n"
          ]
        },
        {
          "name": "stderr",
          "output_type": "stream",
          "text": [
            "100%|██████████| 12/12 [00:26<00:00,  2.24s/it]\n",
            "100%|██████████| 12/12 [00:00<00:00, 24244.53it/s]\n",
            "100%|██████████| 12/12 [00:00<00:00, 26200.75it/s]\n"
          ]
        },
        {
          "name": "stdout",
          "output_type": "stream",
          "text": [
            "\n",
            "Sentiment Analysis - done\n"
          ]
        },
        {
          "name": "stderr",
          "output_type": "stream",
          "text": [
            "100%|██████████| 12/12 [00:00<00:00, 69.00it/s]\n"
          ]
        },
        {
          "name": "stdout",
          "output_type": "stream",
          "text": [
            "\n",
            "Topic modelling - done\n"
          ]
        },
        {
          "name": "stderr",
          "output_type": "stream",
          "text": [
            "100%|██████████| 17/17 [00:37<00:00,  2.18s/it]\n",
            "100%|██████████| 17/17 [00:00<00:00, 33475.67it/s]\n",
            "100%|██████████| 17/17 [00:00<00:00, 35651.58it/s]\n"
          ]
        },
        {
          "name": "stdout",
          "output_type": "stream",
          "text": [
            "\n",
            "Sentiment Analysis - done\n"
          ]
        },
        {
          "name": "stderr",
          "output_type": "stream",
          "text": [
            "100%|██████████| 17/17 [00:00<00:00, 68.16it/s]\n"
          ]
        },
        {
          "name": "stdout",
          "output_type": "stream",
          "text": [
            "\n",
            "Topic modelling - done\n"
          ]
        },
        {
          "name": "stderr",
          "output_type": "stream",
          "text": [
            "100%|██████████| 17/17 [00:38<00:00,  2.25s/it]\n",
            "100%|██████████| 17/17 [00:00<00:00, 34429.34it/s]\n",
            "100%|██████████| 17/17 [00:00<00:00, 33713.08it/s]\n"
          ]
        },
        {
          "name": "stdout",
          "output_type": "stream",
          "text": [
            "\n",
            "Sentiment Analysis - done\n"
          ]
        },
        {
          "name": "stderr",
          "output_type": "stream",
          "text": [
            "100%|██████████| 17/17 [00:00<00:00, 41.07it/s]\n"
          ]
        },
        {
          "name": "stdout",
          "output_type": "stream",
          "text": [
            "\n",
            "Topic modelling - done\n"
          ]
        },
        {
          "name": "stderr",
          "output_type": "stream",
          "text": [
            "100%|██████████| 51/51 [01:54<00:00,  2.24s/it]\n",
            "100%|██████████| 51/51 [00:00<00:00, 86011.06it/s]\n",
            "100%|██████████| 51/51 [00:00<00:00, 75426.48it/s]\n"
          ]
        },
        {
          "name": "stdout",
          "output_type": "stream",
          "text": [
            "\n",
            "Sentiment Analysis - done\n"
          ]
        },
        {
          "name": "stderr",
          "output_type": "stream",
          "text": [
            "100%|██████████| 51/51 [00:01<00:00, 33.63it/s]\n"
          ]
        },
        {
          "name": "stdout",
          "output_type": "stream",
          "text": [
            "\n",
            "Topic modelling - done\n"
          ]
        },
        {
          "name": "stderr",
          "output_type": "stream",
          "text": [
            "100%|██████████| 47/47 [01:42<00:00,  2.18s/it]\n",
            "100%|██████████| 47/47 [00:00<00:00, 74983.75it/s]\n",
            "100%|██████████| 47/47 [00:00<00:00, 86234.60it/s]\n"
          ]
        },
        {
          "name": "stdout",
          "output_type": "stream",
          "text": [
            "\n",
            "Sentiment Analysis - done\n"
          ]
        },
        {
          "name": "stderr",
          "output_type": "stream",
          "text": [
            "100%|██████████| 47/47 [00:01<00:00, 46.92it/s]\n"
          ]
        },
        {
          "name": "stdout",
          "output_type": "stream",
          "text": [
            "\n",
            "Topic modelling - done\n"
          ]
        },
        {
          "name": "stderr",
          "output_type": "stream",
          "text": [
            "100%|██████████| 14/14 [00:30<00:00,  2.17s/it]\n",
            "100%|██████████| 14/14 [00:00<00:00, 28217.33it/s]\n",
            "100%|██████████| 14/14 [00:00<00:00, 27235.74it/s]\n"
          ]
        },
        {
          "name": "stdout",
          "output_type": "stream",
          "text": [
            "\n",
            "Sentiment Analysis - done\n"
          ]
        },
        {
          "name": "stderr",
          "output_type": "stream",
          "text": [
            "100%|██████████| 14/14 [00:00<00:00, 61.68it/s]\n"
          ]
        },
        {
          "name": "stdout",
          "output_type": "stream",
          "text": [
            "\n",
            "Topic modelling - done\n"
          ]
        },
        {
          "name": "stderr",
          "output_type": "stream",
          "text": [
            "100%|██████████| 17/17 [00:37<00:00,  2.18s/it]\n",
            "100%|██████████| 17/17 [00:00<00:00, 34630.00it/s]\n",
            "100%|██████████| 17/17 [00:00<00:00, 44260.19it/s]\n"
          ]
        },
        {
          "name": "stdout",
          "output_type": "stream",
          "text": [
            "\n",
            "Sentiment Analysis - done\n"
          ]
        },
        {
          "name": "stderr",
          "output_type": "stream",
          "text": [
            "100%|██████████| 17/17 [00:00<00:00, 65.90it/s]\n"
          ]
        },
        {
          "name": "stdout",
          "output_type": "stream",
          "text": [
            "\n",
            "Topic modelling - done\n"
          ]
        },
        {
          "name": "stderr",
          "output_type": "stream",
          "text": [
            "100%|██████████| 36/36 [01:20<00:00,  2.23s/it]\n",
            "100%|██████████| 36/36 [00:00<00:00, 52392.42it/s]\n",
            "100%|██████████| 36/36 [00:00<00:00, 68696.52it/s]\n"
          ]
        },
        {
          "name": "stdout",
          "output_type": "stream",
          "text": [
            "\n",
            "Sentiment Analysis - done\n"
          ]
        },
        {
          "name": "stderr",
          "output_type": "stream",
          "text": [
            "100%|██████████| 36/36 [00:00<00:00, 65.83it/s]\n"
          ]
        },
        {
          "name": "stdout",
          "output_type": "stream",
          "text": [
            "\n",
            "Topic modelling - done\n"
          ]
        },
        {
          "name": "stderr",
          "output_type": "stream",
          "text": [
            "100%|██████████| 81/81 [03:00<00:00,  2.23s/it]\n",
            "100%|██████████| 81/81 [00:00<00:00, 111389.71it/s]\n",
            "100%|██████████| 81/81 [00:00<00:00, 121075.77it/s]\n"
          ]
        },
        {
          "name": "stdout",
          "output_type": "stream",
          "text": [
            "\n",
            "Sentiment Analysis - done\n"
          ]
        },
        {
          "name": "stderr",
          "output_type": "stream",
          "text": [
            "100%|██████████| 81/81 [00:01<00:00, 55.11it/s]\n"
          ]
        },
        {
          "name": "stdout",
          "output_type": "stream",
          "text": [
            "\n",
            "Topic modelling - done\n"
          ]
        },
        {
          "name": "stderr",
          "output_type": "stream",
          "text": [
            "100%|██████████| 27/27 [01:01<00:00,  2.27s/it]\n",
            "100%|██████████| 27/27 [00:00<00:00, 52526.07it/s]\n",
            "100%|██████████| 27/27 [00:00<00:00, 49713.00it/s]\n"
          ]
        },
        {
          "name": "stdout",
          "output_type": "stream",
          "text": [
            "\n",
            "Sentiment Analysis - done\n"
          ]
        },
        {
          "name": "stderr",
          "output_type": "stream",
          "text": [
            "100%|██████████| 27/27 [00:00<00:00, 48.64it/s]\n"
          ]
        },
        {
          "name": "stdout",
          "output_type": "stream",
          "text": [
            "\n",
            "Topic modelling - done\n"
          ]
        },
        {
          "name": "stderr",
          "output_type": "stream",
          "text": [
            "100%|██████████| 86/86 [03:13<00:00,  2.25s/it]\n",
            "100%|██████████| 86/86 [00:00<00:00, 40110.10it/s]\n",
            "100%|██████████| 86/86 [00:00<00:00, 131886.71it/s]\n"
          ]
        },
        {
          "name": "stdout",
          "output_type": "stream",
          "text": [
            "\n",
            "Sentiment Analysis - done\n"
          ]
        },
        {
          "name": "stderr",
          "output_type": "stream",
          "text": [
            "100%|██████████| 86/86 [00:01<00:00, 57.53it/s]\n"
          ]
        },
        {
          "name": "stdout",
          "output_type": "stream",
          "text": [
            "\n",
            "Topic modelling - done\n"
          ]
        },
        {
          "name": "stderr",
          "output_type": "stream",
          "text": [
            "100%|██████████| 103/103 [03:52<00:00,  2.26s/it]\n",
            "100%|██████████| 103/103 [00:00<00:00, 114562.00it/s]\n",
            "100%|██████████| 103/103 [00:00<00:00, 161984.74it/s]\n"
          ]
        },
        {
          "name": "stdout",
          "output_type": "stream",
          "text": [
            "\n",
            "Sentiment Analysis - done\n"
          ]
        },
        {
          "name": "stderr",
          "output_type": "stream",
          "text": [
            "100%|██████████| 103/103 [00:01<00:00, 56.74it/s]\n"
          ]
        },
        {
          "name": "stdout",
          "output_type": "stream",
          "text": [
            "\n",
            "Topic modelling - done\n"
          ]
        },
        {
          "name": "stderr",
          "output_type": "stream",
          "text": [
            "100%|██████████| 78/78 [02:57<00:00,  2.28s/it]\n",
            "100%|██████████| 78/78 [00:00<00:00, 118577.64it/s]\n",
            "100%|██████████| 78/78 [00:00<00:00, 105978.53it/s]\n"
          ]
        },
        {
          "name": "stdout",
          "output_type": "stream",
          "text": [
            "\n",
            "Sentiment Analysis - done\n"
          ]
        },
        {
          "name": "stderr",
          "output_type": "stream",
          "text": [
            "100%|██████████| 78/78 [00:01<00:00, 50.50it/s]\n"
          ]
        },
        {
          "name": "stdout",
          "output_type": "stream",
          "text": [
            "\n",
            "Topic modelling - done\n"
          ]
        },
        {
          "name": "stderr",
          "output_type": "stream",
          "text": [
            "100%|██████████| 49/49 [01:51<00:00,  2.27s/it]\n",
            "100%|██████████| 49/49 [00:00<00:00, 88701.29it/s]\n",
            "100%|██████████| 49/49 [00:00<00:00, 85956.04it/s]\n"
          ]
        },
        {
          "name": "stdout",
          "output_type": "stream",
          "text": [
            "\n",
            "Sentiment Analysis - done\n"
          ]
        },
        {
          "name": "stderr",
          "output_type": "stream",
          "text": [
            "100%|██████████| 49/49 [00:01<00:00, 41.97it/s]\n"
          ]
        },
        {
          "name": "stdout",
          "output_type": "stream",
          "text": [
            "\n",
            "Topic modelling - done\n"
          ]
        },
        {
          "name": "stderr",
          "output_type": "stream",
          "text": [
            "100%|██████████| 9/9 [00:20<00:00,  2.25s/it]\n",
            "100%|██████████| 9/9 [00:00<00:00, 18486.16it/s]\n",
            "100%|██████████| 9/9 [00:00<00:00, 17958.49it/s]\n"
          ]
        },
        {
          "name": "stdout",
          "output_type": "stream",
          "text": [
            "\n",
            "Sentiment Analysis - done\n"
          ]
        },
        {
          "name": "stderr",
          "output_type": "stream",
          "text": [
            "100%|██████████| 9/9 [00:00<00:00, 65.13it/s]\n"
          ]
        },
        {
          "name": "stdout",
          "output_type": "stream",
          "text": [
            "\n",
            "Topic modelling - done\n"
          ]
        },
        {
          "name": "stderr",
          "output_type": "stream",
          "text": [
            "100%|██████████| 40/40 [01:31<00:00,  2.28s/it]\n",
            "100%|██████████| 40/40 [00:00<00:00, 24481.56it/s]\n",
            "100%|██████████| 40/40 [00:00<00:00, 53980.75it/s]\n"
          ]
        },
        {
          "name": "stdout",
          "output_type": "stream",
          "text": [
            "\n",
            "Sentiment Analysis - done\n"
          ]
        },
        {
          "name": "stderr",
          "output_type": "stream",
          "text": [
            "100%|██████████| 40/40 [00:00<00:00, 47.59it/s]\n"
          ]
        },
        {
          "name": "stdout",
          "output_type": "stream",
          "text": [
            "\n",
            "Topic modelling - done\n"
          ]
        },
        {
          "name": "stderr",
          "output_type": "stream",
          "text": [
            "100%|██████████| 88/88 [03:25<00:00,  2.33s/it]\n",
            "100%|██████████| 88/88 [00:00<00:00, 118300.88it/s]\n",
            "100%|██████████| 88/88 [00:00<00:00, 128650.66it/s]\n"
          ]
        },
        {
          "name": "stdout",
          "output_type": "stream",
          "text": [
            "\n",
            "Sentiment Analysis - done\n"
          ]
        },
        {
          "name": "stderr",
          "output_type": "stream",
          "text": [
            "100%|██████████| 88/88 [00:01<00:00, 51.25it/s]\n"
          ]
        },
        {
          "name": "stdout",
          "output_type": "stream",
          "text": [
            "\n",
            "Topic modelling - done\n"
          ]
        },
        {
          "name": "stderr",
          "output_type": "stream",
          "text": [
            "100%|██████████| 56/56 [02:03<00:00,  2.21s/it]\n",
            "100%|██████████| 56/56 [00:00<00:00, 37804.77it/s]\n",
            "100%|██████████| 56/56 [00:00<00:00, 87773.18it/s]\n"
          ]
        },
        {
          "name": "stdout",
          "output_type": "stream",
          "text": [
            "\n",
            "Sentiment Analysis - done\n"
          ]
        },
        {
          "name": "stderr",
          "output_type": "stream",
          "text": [
            "100%|██████████| 56/56 [00:01<00:00, 44.11it/s]\n"
          ]
        },
        {
          "name": "stdout",
          "output_type": "stream",
          "text": [
            "\n",
            "Topic modelling - done\n"
          ]
        },
        {
          "name": "stderr",
          "output_type": "stream",
          "text": [
            "100%|██████████| 52/52 [01:58<00:00,  2.28s/it]\n",
            "100%|██████████| 52/52 [00:00<00:00, 70560.92it/s]\n",
            "100%|██████████| 52/52 [00:00<00:00, 64527.75it/s]\n"
          ]
        },
        {
          "name": "stdout",
          "output_type": "stream",
          "text": [
            "\n",
            "Sentiment Analysis - done\n"
          ]
        },
        {
          "name": "stderr",
          "output_type": "stream",
          "text": [
            "100%|██████████| 52/52 [00:00<00:00, 61.37it/s]\n"
          ]
        },
        {
          "name": "stdout",
          "output_type": "stream",
          "text": [
            "\n",
            "Topic modelling - done\n"
          ]
        },
        {
          "name": "stderr",
          "output_type": "stream",
          "text": [
            "100%|██████████| 24/24 [00:54<00:00,  2.26s/it]\n",
            "100%|██████████| 24/24 [00:00<00:00, 46929.28it/s]\n",
            "100%|██████████| 24/24 [00:00<00:00, 50737.55it/s]\n"
          ]
        },
        {
          "name": "stdout",
          "output_type": "stream",
          "text": [
            "\n",
            "Sentiment Analysis - done\n"
          ]
        },
        {
          "name": "stderr",
          "output_type": "stream",
          "text": [
            "100%|██████████| 24/24 [00:00<00:00, 53.24it/s]\n"
          ]
        },
        {
          "name": "stdout",
          "output_type": "stream",
          "text": [
            "\n",
            "Topic modelling - done\n"
          ]
        },
        {
          "name": "stderr",
          "output_type": "stream",
          "text": [
            "100%|██████████| 23/23 [00:52<00:00,  2.29s/it]\n",
            "100%|██████████| 23/23 [00:00<00:00, 25253.66it/s]\n",
            "100%|██████████| 23/23 [00:00<00:00, 49572.97it/s]\n"
          ]
        },
        {
          "name": "stdout",
          "output_type": "stream",
          "text": [
            "\n",
            "Sentiment Analysis - done\n"
          ]
        },
        {
          "name": "stderr",
          "output_type": "stream",
          "text": [
            "100%|██████████| 23/23 [00:00<00:00, 64.99it/s]\n"
          ]
        },
        {
          "name": "stdout",
          "output_type": "stream",
          "text": [
            "\n",
            "Topic modelling - done\n"
          ]
        },
        {
          "name": "stderr",
          "output_type": "stream",
          "text": [
            "100%|██████████| 23/23 [00:53<00:00,  2.31s/it]\n",
            "100%|██████████| 23/23 [00:00<00:00, 41155.71it/s]\n",
            "100%|██████████| 23/23 [00:00<00:00, 45633.39it/s]\n"
          ]
        },
        {
          "name": "stdout",
          "output_type": "stream",
          "text": [
            "\n",
            "Sentiment Analysis - done\n"
          ]
        },
        {
          "name": "stderr",
          "output_type": "stream",
          "text": [
            "100%|██████████| 23/23 [00:00<00:00, 72.88it/s]\n"
          ]
        },
        {
          "name": "stdout",
          "output_type": "stream",
          "text": [
            "\n",
            "Topic modelling - done\n"
          ]
        },
        {
          "name": "stderr",
          "output_type": "stream",
          "text": [
            "100%|██████████| 221/221 [08:18<00:00,  2.26s/it]\n",
            "100%|██████████| 221/221 [00:00<00:00, 190180.79it/s]\n",
            "100%|██████████| 221/221 [00:00<00:00, 241014.35it/s]\n"
          ]
        },
        {
          "name": "stdout",
          "output_type": "stream",
          "text": [
            "\n",
            "Sentiment Analysis - done\n"
          ]
        },
        {
          "name": "stderr",
          "output_type": "stream",
          "text": [
            "100%|██████████| 221/221 [00:04<00:00, 48.93it/s]\n"
          ]
        },
        {
          "name": "stdout",
          "output_type": "stream",
          "text": [
            "\n",
            "Topic modelling - done\n"
          ]
        },
        {
          "name": "stderr",
          "output_type": "stream",
          "text": [
            "100%|██████████| 26/26 [00:58<00:00,  2.25s/it]\n",
            "100%|██████████| 26/26 [00:00<00:00, 52504.53it/s]\n",
            "100%|██████████| 26/26 [00:00<00:00, 50887.50it/s]\n"
          ]
        },
        {
          "name": "stdout",
          "output_type": "stream",
          "text": [
            "\n",
            "Sentiment Analysis - done\n"
          ]
        },
        {
          "name": "stderr",
          "output_type": "stream",
          "text": [
            "100%|██████████| 26/26 [00:00<00:00, 59.88it/s]\n"
          ]
        },
        {
          "name": "stdout",
          "output_type": "stream",
          "text": [
            "\n",
            "Topic modelling - done\n"
          ]
        },
        {
          "name": "stderr",
          "output_type": "stream",
          "text": [
            "100%|██████████| 34/34 [01:17<00:00,  2.29s/it]\n",
            "100%|██████████| 34/34 [00:00<00:00, 52217.63it/s]\n",
            "100%|██████████| 34/34 [00:00<00:00, 59123.69it/s]\n"
          ]
        },
        {
          "name": "stdout",
          "output_type": "stream",
          "text": [
            "\n",
            "Sentiment Analysis - done\n"
          ]
        },
        {
          "name": "stderr",
          "output_type": "stream",
          "text": [
            "100%|██████████| 34/34 [00:00<00:00, 54.56it/s]\n"
          ]
        },
        {
          "name": "stdout",
          "output_type": "stream",
          "text": [
            "\n",
            "Topic modelling - done\n"
          ]
        },
        {
          "name": "stderr",
          "output_type": "stream",
          "text": [
            "100%|██████████| 133/133 [04:58<00:00,  2.24s/it]\n",
            "100%|██████████| 133/133 [00:00<00:00, 139251.73it/s]\n",
            "100%|██████████| 133/133 [00:00<00:00, 179485.98it/s]\n"
          ]
        },
        {
          "name": "stdout",
          "output_type": "stream",
          "text": [
            "\n",
            "Sentiment Analysis - done\n"
          ]
        },
        {
          "name": "stderr",
          "output_type": "stream",
          "text": [
            "100%|██████████| 133/133 [00:01<00:00, 68.22it/s]\n"
          ]
        },
        {
          "name": "stdout",
          "output_type": "stream",
          "text": [
            "\n",
            "Topic modelling - done\n"
          ]
        },
        {
          "name": "stderr",
          "output_type": "stream",
          "text": [
            "100%|██████████| 309/309 [11:38<00:00,  2.26s/it]\n",
            "100%|██████████| 309/309 [00:00<00:00, 218041.71it/s]\n",
            "100%|██████████| 309/309 [00:00<00:00, 232140.41it/s]\n"
          ]
        },
        {
          "name": "stdout",
          "output_type": "stream",
          "text": [
            "\n",
            "Sentiment Analysis - done\n"
          ]
        },
        {
          "name": "stderr",
          "output_type": "stream",
          "text": [
            "100%|██████████| 309/309 [00:05<00:00, 53.14it/s]\n"
          ]
        },
        {
          "name": "stdout",
          "output_type": "stream",
          "text": [
            "\n",
            "Topic modelling - done\n"
          ]
        },
        {
          "name": "stderr",
          "output_type": "stream",
          "text": [
            "100%|██████████| 37/37 [01:23<00:00,  2.25s/it]\n",
            "100%|██████████| 37/37 [00:00<00:00, 72248.25it/s]\n",
            "100%|██████████| 37/37 [00:00<00:00, 78736.30it/s]\n"
          ]
        },
        {
          "name": "stdout",
          "output_type": "stream",
          "text": [
            "\n",
            "Sentiment Analysis - done\n"
          ]
        },
        {
          "name": "stderr",
          "output_type": "stream",
          "text": [
            "100%|██████████| 37/37 [00:00<00:00, 57.91it/s]\n"
          ]
        },
        {
          "name": "stdout",
          "output_type": "stream",
          "text": [
            "\n",
            "Topic modelling - done\n"
          ]
        },
        {
          "name": "stderr",
          "output_type": "stream",
          "text": [
            "100%|██████████| 87/87 [03:18<00:00,  2.29s/it]\n",
            "100%|██████████| 87/87 [00:00<00:00, 121190.45it/s]\n",
            "100%|██████████| 87/87 [00:00<00:00, 179844.48it/s]\n"
          ]
        },
        {
          "name": "stdout",
          "output_type": "stream",
          "text": [
            "\n",
            "Sentiment Analysis - done\n"
          ]
        },
        {
          "name": "stderr",
          "output_type": "stream",
          "text": [
            "100%|██████████| 87/87 [00:01<00:00, 56.92it/s]\n"
          ]
        },
        {
          "name": "stdout",
          "output_type": "stream",
          "text": [
            "\n",
            "Topic modelling - done\n"
          ]
        },
        {
          "name": "stderr",
          "output_type": "stream",
          "text": [
            "100%|██████████| 22/22 [00:50<00:00,  2.27s/it]\n",
            "100%|██████████| 22/22 [00:00<00:00, 43815.14it/s]\n",
            "100%|██████████| 22/22 [00:00<00:00, 52879.48it/s]\n"
          ]
        },
        {
          "name": "stdout",
          "output_type": "stream",
          "text": [
            "\n",
            "Sentiment Analysis - done\n"
          ]
        },
        {
          "name": "stderr",
          "output_type": "stream",
          "text": [
            "100%|██████████| 22/22 [00:00<00:00, 53.79it/s]\n"
          ]
        },
        {
          "name": "stdout",
          "output_type": "stream",
          "text": [
            "\n",
            "Topic modelling - done\n"
          ]
        },
        {
          "name": "stderr",
          "output_type": "stream",
          "text": [
            "100%|██████████| 43/43 [01:37<00:00,  2.26s/it]\n",
            "100%|██████████| 43/43 [00:00<00:00, 88279.53it/s]\n",
            "100%|██████████| 43/43 [00:00<00:00, 104857.60it/s]\n"
          ]
        },
        {
          "name": "stdout",
          "output_type": "stream",
          "text": [
            "\n",
            "Sentiment Analysis - done\n"
          ]
        },
        {
          "name": "stderr",
          "output_type": "stream",
          "text": [
            "100%|██████████| 43/43 [00:00<00:00, 47.48it/s]\n"
          ]
        },
        {
          "name": "stdout",
          "output_type": "stream",
          "text": [
            "\n",
            "Topic modelling - done\n"
          ]
        },
        {
          "name": "stderr",
          "output_type": "stream",
          "text": [
            "100%|██████████| 38/38 [01:25<00:00,  2.25s/it]\n",
            "100%|██████████| 38/38 [00:00<00:00, 74827.96it/s]\n",
            "100%|██████████| 38/38 [00:00<00:00, 118765.69it/s]\n"
          ]
        },
        {
          "name": "stdout",
          "output_type": "stream",
          "text": [
            "\n",
            "Sentiment Analysis - done\n"
          ]
        },
        {
          "name": "stderr",
          "output_type": "stream",
          "text": [
            "100%|██████████| 38/38 [00:00<00:00, 51.86it/s]\n"
          ]
        },
        {
          "name": "stdout",
          "output_type": "stream",
          "text": [
            "\n",
            "Topic modelling - done\n"
          ]
        },
        {
          "name": "stderr",
          "output_type": "stream",
          "text": [
            "100%|██████████| 61/61 [02:19<00:00,  2.29s/it]\n",
            "100%|██████████| 61/61 [00:00<00:00, 95183.24it/s]\n",
            "100%|██████████| 61/61 [00:00<00:00, 87024.67it/s]\n"
          ]
        },
        {
          "name": "stdout",
          "output_type": "stream",
          "text": [
            "\n",
            "Sentiment Analysis - done\n"
          ]
        },
        {
          "name": "stderr",
          "output_type": "stream",
          "text": [
            "100%|██████████| 61/61 [00:01<00:00, 42.56it/s]\n"
          ]
        },
        {
          "name": "stdout",
          "output_type": "stream",
          "text": [
            "\n",
            "Topic modelling - done\n"
          ]
        },
        {
          "name": "stderr",
          "output_type": "stream",
          "text": [
            "100%|██████████| 77/77 [02:55<00:00,  2.29s/it]\n",
            "100%|██████████| 77/77 [00:00<00:00, 125178.84it/s]\n",
            "100%|██████████| 77/77 [00:00<00:00, 104315.70it/s]\n"
          ]
        },
        {
          "name": "stdout",
          "output_type": "stream",
          "text": [
            "\n",
            "Sentiment Analysis - done\n"
          ]
        },
        {
          "name": "stderr",
          "output_type": "stream",
          "text": [
            "100%|██████████| 77/77 [00:01<00:00, 56.97it/s]\n"
          ]
        },
        {
          "name": "stdout",
          "output_type": "stream",
          "text": [
            "\n",
            "Topic modelling - done\n"
          ]
        },
        {
          "name": "stderr",
          "output_type": "stream",
          "text": [
            "100%|██████████| 31/31 [01:07<00:00,  2.19s/it]\n",
            "100%|██████████| 31/31 [00:00<00:00, 28333.72it/s]\n",
            "100%|██████████| 31/31 [00:00<00:00, 47908.41it/s]\n"
          ]
        },
        {
          "name": "stdout",
          "output_type": "stream",
          "text": [
            "\n",
            "Sentiment Analysis - done\n"
          ]
        },
        {
          "name": "stderr",
          "output_type": "stream",
          "text": [
            "100%|██████████| 31/31 [00:00<00:00, 60.70it/s]\n"
          ]
        },
        {
          "name": "stdout",
          "output_type": "stream",
          "text": [
            "\n",
            "Topic modelling - done\n"
          ]
        },
        {
          "name": "stderr",
          "output_type": "stream",
          "text": [
            "100%|██████████| 10/10 [00:22<00:00,  2.25s/it]\n",
            "100%|██████████| 10/10 [00:00<00:00, 14947.63it/s]\n",
            "100%|██████████| 10/10 [00:00<00:00, 20620.96it/s]\n"
          ]
        },
        {
          "name": "stdout",
          "output_type": "stream",
          "text": [
            "\n",
            "Sentiment Analysis - done\n"
          ]
        },
        {
          "name": "stderr",
          "output_type": "stream",
          "text": [
            "100%|██████████| 10/10 [00:00<00:00, 40.84it/s]\n"
          ]
        },
        {
          "name": "stdout",
          "output_type": "stream",
          "text": [
            "\n",
            "Topic modelling - done\n"
          ]
        },
        {
          "name": "stderr",
          "output_type": "stream",
          "text": [
            "100%|██████████| 116/116 [04:19<00:00,  2.24s/it]\n",
            "100%|██████████| 116/116 [00:00<00:00, 192460.15it/s]\n",
            "100%|██████████| 116/116 [00:00<00:00, 174511.93it/s]\n"
          ]
        },
        {
          "name": "stdout",
          "output_type": "stream",
          "text": [
            "\n",
            "Sentiment Analysis - done\n"
          ]
        },
        {
          "name": "stderr",
          "output_type": "stream",
          "text": [
            "100%|██████████| 116/116 [00:02<00:00, 48.75it/s]\n"
          ]
        },
        {
          "name": "stdout",
          "output_type": "stream",
          "text": [
            "\n",
            "Topic modelling - done\n"
          ]
        },
        {
          "name": "stderr",
          "output_type": "stream",
          "text": [
            "100%|██████████| 13/13 [00:28<00:00,  2.18s/it]\n",
            "100%|██████████| 13/13 [00:00<00:00, 26151.54it/s]\n",
            "100%|██████████| 13/13 [00:00<00:00, 28880.27it/s]\n"
          ]
        },
        {
          "name": "stdout",
          "output_type": "stream",
          "text": [
            "\n",
            "Sentiment Analysis - done\n"
          ]
        },
        {
          "name": "stderr",
          "output_type": "stream",
          "text": [
            "100%|██████████| 13/13 [00:00<00:00, 66.69it/s]\n"
          ]
        },
        {
          "name": "stdout",
          "output_type": "stream",
          "text": [
            "\n",
            "Topic modelling - done\n"
          ]
        },
        {
          "name": "stderr",
          "output_type": "stream",
          "text": [
            "100%|██████████| 28/28 [01:01<00:00,  2.18s/it]\n",
            "100%|██████████| 28/28 [00:00<00:00, 51172.34it/s]\n",
            "100%|██████████| 28/28 [00:00<00:00, 49932.19it/s]\n"
          ]
        },
        {
          "name": "stdout",
          "output_type": "stream",
          "text": [
            "\n",
            "Sentiment Analysis - done\n"
          ]
        },
        {
          "name": "stderr",
          "output_type": "stream",
          "text": [
            "100%|██████████| 28/28 [00:00<00:00, 62.18it/s]\n"
          ]
        },
        {
          "name": "stdout",
          "output_type": "stream",
          "text": [
            "\n",
            "Topic modelling - done\n"
          ]
        },
        {
          "name": "stderr",
          "output_type": "stream",
          "text": [
            "100%|██████████| 14/14 [00:31<00:00,  2.24s/it]\n",
            "100%|██████████| 14/14 [00:00<00:00, 33007.45it/s]\n",
            "100%|██████████| 14/14 [00:00<00:00, 33325.91it/s]\n"
          ]
        },
        {
          "name": "stdout",
          "output_type": "stream",
          "text": [
            "\n",
            "Sentiment Analysis - done\n"
          ]
        },
        {
          "name": "stderr",
          "output_type": "stream",
          "text": [
            "100%|██████████| 14/14 [00:00<00:00, 67.25it/s]\n"
          ]
        },
        {
          "name": "stdout",
          "output_type": "stream",
          "text": [
            "\n",
            "Topic modelling - done\n"
          ]
        },
        {
          "name": "stderr",
          "output_type": "stream",
          "text": [
            "100%|██████████| 27/27 [01:01<00:00,  2.26s/it]\n",
            "100%|██████████| 27/27 [00:00<00:00, 45997.65it/s]\n",
            "100%|██████████| 27/27 [00:00<00:00, 51639.86it/s]\n"
          ]
        },
        {
          "name": "stdout",
          "output_type": "stream",
          "text": [
            "\n",
            "Sentiment Analysis - done\n"
          ]
        },
        {
          "name": "stderr",
          "output_type": "stream",
          "text": [
            "100%|██████████| 27/27 [00:00<00:00, 84.74it/s]\n"
          ]
        },
        {
          "name": "stdout",
          "output_type": "stream",
          "text": [
            "\n",
            "Topic modelling - done\n"
          ]
        },
        {
          "name": "stderr",
          "output_type": "stream",
          "text": [
            "100%|██████████| 26/26 [00:59<00:00,  2.27s/it]\n",
            "100%|██████████| 26/26 [00:00<00:00, 53066.62it/s]\n",
            "100%|██████████| 26/26 [00:00<00:00, 52128.06it/s]\n"
          ]
        },
        {
          "name": "stdout",
          "output_type": "stream",
          "text": [
            "\n",
            "Sentiment Analysis - done\n"
          ]
        },
        {
          "name": "stderr",
          "output_type": "stream",
          "text": [
            "100%|██████████| 26/26 [00:00<00:00, 66.65it/s]\n"
          ]
        },
        {
          "name": "stdout",
          "output_type": "stream",
          "text": [
            "\n",
            "Topic modelling - done\n"
          ]
        },
        {
          "name": "stderr",
          "output_type": "stream",
          "text": [
            "100%|██████████| 27/27 [01:01<00:00,  2.28s/it]\n",
            "100%|██████████| 27/27 [00:00<00:00, 53167.23it/s]\n",
            "100%|██████████| 27/27 [00:00<00:00, 52235.34it/s]\n"
          ]
        },
        {
          "name": "stdout",
          "output_type": "stream",
          "text": [
            "\n",
            "Sentiment Analysis - done\n"
          ]
        },
        {
          "name": "stderr",
          "output_type": "stream",
          "text": [
            "100%|██████████| 27/27 [00:00<00:00, 72.53it/s]\n"
          ]
        },
        {
          "name": "stdout",
          "output_type": "stream",
          "text": [
            "\n",
            "Topic modelling - done\n"
          ]
        },
        {
          "name": "stderr",
          "output_type": "stream",
          "text": [
            "100%|██████████| 20/20 [00:43<00:00,  2.20s/it]\n",
            "100%|██████████| 20/20 [00:00<00:00, 40563.87it/s]\n",
            "100%|██████████| 20/20 [00:00<00:00, 29016.29it/s]\n"
          ]
        },
        {
          "name": "stdout",
          "output_type": "stream",
          "text": [
            "\n",
            "Sentiment Analysis - done\n"
          ]
        },
        {
          "name": "stderr",
          "output_type": "stream",
          "text": [
            "100%|██████████| 20/20 [00:00<00:00, 46.88it/s]"
          ]
        },
        {
          "name": "stdout",
          "output_type": "stream",
          "text": [
            "\n",
            "Topic modelling - done\n"
          ]
        },
        {
          "name": "stderr",
          "output_type": "stream",
          "text": [
            "\n"
          ]
        }
      ],
      "source": [
        "for i in lst[333:]: # Change here to get other condos\n",
        "  df = run(i)\n",
        "  result = run_analysis(df)\n",
        "  score.append(get_final_score(result))    "
      ]
    },
    {
      "cell_type": "code",
      "execution_count": 10,
      "metadata": {
        "colab": {
          "base_uri": "https://localhost:8080/"
        },
        "id": "QyrMYKl3h_2V",
        "outputId": "e471f402-790e-4dac-cdaf-cf49aea055c3"
      },
      "outputs": [
        {
          "data": {
            "text/plain": [
              "[['Hana',\n",
              "  0.5703454559499567,\n",
              "  0.21846764534711838,\n",
              "  0.24948330057991874,\n",
              "  -0.19208357930183412,\n",
              "  0.9996840953826904],\n",
              " ['Central Green Condominium',\n",
              "  0.9083023200864377,\n",
              "  0.0008020401000976562,\n",
              "  0.6286466916402181,\n",
              "  -0.1853913187980652,\n",
              "  0.33354200919469196],\n",
              " ['The Tre Ver',\n",
              "  0.8570329897543963,\n",
              "  0.9996740818023682,\n",
              "  0.5128095626831055,\n",
              "  0.34082186222076416,\n",
              "  0.9973796308040619],\n",
              " ['The Scotts Tower',\n",
              "  0.842204049939201,\n",
              "  0.9935818463563919,\n",
              "  0.6559763926726121,\n",
              "  0.45461467653512955,\n",
              "  0.3332928617795308],\n",
              " ['Aquarius By The Park',\n",
              "  0.7017645942313331,\n",
              "  0.7143296599388123,\n",
              "  0.6554868206745241,\n",
              "  0.6975050889528714,\n",
              "  0.9971651633580526],\n",
              " ['Hillview Green',\n",
              "  0.7302576502164205,\n",
              "  0.04329690337181091,\n",
              "  0.3684542274900845,\n",
              "  0.4385836805616106,\n",
              "  0.40962353348731995],\n",
              " ['Mayfair Gardens',\n",
              "  0.5308237820863724,\n",
              "  0,\n",
              "  0.3503763973712921,\n",
              "  -0.9633444249629974,\n",
              "  0.9988440871238708],\n",
              " ['Vacanza @ East',\n",
              "  0.5742236351966858,\n",
              "  -0.3491699516773224,\n",
              "  0.33049147533920575,\n",
              "  0.3116208344697952,\n",
              "  0.9996849298477173],\n",
              " ['Botanique At Bartley',\n",
              "  0.9965737938880921,\n",
              "  0,\n",
              "  0.355832040309906,\n",
              "  -0.9633444249629974,\n",
              "  0],\n",
              " ['The Lakeshore',\n",
              "  0.6735440996976999,\n",
              "  0.3777051493525505,\n",
              "  0.6635782681405544,\n",
              "  0.5053134560585022,\n",
              "  -0.33146796623865765],\n",
              " ['Mirage Tower',\n",
              "  0.5335136334101359,\n",
              "  -0.005097001791000366,\n",
              "  0.3303864569891067,\n",
              "  0.15320252520697458,\n",
              "  0.9996862411499023],\n",
              " ['The Tate Residences',\n",
              "  0.7754287242889404,\n",
              "  0,\n",
              "  0.4398331940174103,\n",
              "  -0.30899983644485474,\n",
              "  0],\n",
              " ['The Calrose',\n",
              "  0.9992078185081482,\n",
              "  0.9942856431007385,\n",
              "  0.34413619339466095,\n",
              "  -0.48214633762836456,\n",
              "  0.8690367043018341],\n",
              " ['Double Bay Residences',\n",
              "  0.5559537852251971,\n",
              "  0.9978502988815308,\n",
              "  0.4635555376024807,\n",
              "  0.4591887593269348,\n",
              "  0.9996846914291382],\n",
              " ['Edelweiss Park Condominium',\n",
              "  0.5609521740361264,\n",
              "  -0.8404683470726013,\n",
              "  0.24072836946558068,\n",
              "  0.011357434093952179,\n",
              "  0.9995864033699036],\n",
              " ['Sims Urban Oasis',\n",
              "  0.97033212184906,\n",
              "  0,\n",
              "  0.2135036051273346,\n",
              "  -0.9633444249629974,\n",
              "  0],\n",
              " ['Sophia Residence',\n",
              "  0.49937257170677185,\n",
              "  0,\n",
              "  0.33382003837161595,\n",
              "  -0.9751018484433492,\n",
              "  0.9996862411499023],\n",
              " ['Orchid Park Condominium',\n",
              "  0.9203961881307455,\n",
              "  -0.7288687229156494,\n",
              "  0.47339239412424516,\n",
              "  0.34325974186261493,\n",
              "  0.9996870756149292],\n",
              " ['Bartley Ridge',\n",
              "  0.9936165362596512,\n",
              "  0,\n",
              "  0.29220678589560767,\n",
              "  -0.9633444249629974,\n",
              "  0],\n",
              " ['Eastvale',\n",
              "  0.9980170428752899,\n",
              "  0,\n",
              "  0.25058895349502563,\n",
              "  -0.9633444249629974,\n",
              "  0],\n",
              " ['Daintree Residence',\n",
              "  0.9980170428752899,\n",
              "  0,\n",
              "  0.25058895349502563,\n",
              "  -0.3259715437889099,\n",
              "  0],\n",
              " ['The Cascadia',\n",
              "  0.7777157425880432,\n",
              "  0,\n",
              "  0.9996647834777832,\n",
              "  -0.9633444249629974,\n",
              "  0],\n",
              " ['Pebble Bay',\n",
              "  0.9991794347763061,\n",
              "  0,\n",
              "  0.2753588333725929,\n",
              "  -0.9633444249629974,\n",
              "  0],\n",
              " ['The Oceanfront @ Sentosa Cove',\n",
              "  0.9980170428752899,\n",
              "  0,\n",
              "  0.25058895349502563,\n",
              "  -0.9633444249629974,\n",
              "  0],\n",
              " ['The Lakefront Residences',\n",
              "  0.9993621468544006,\n",
              "  0,\n",
              "  0.2753588333725929,\n",
              "  -0.9633444249629974,\n",
              "  0],\n",
              " ['Northoaks',\n",
              "  0.9986409544944763,\n",
              "  0,\n",
              "  0.536380830563997,\n",
              "  0.21349530220031737,\n",
              "  0.3335941433906555],\n",
              " ['Regency Park',\n",
              "  0.7613723499434335,\n",
              "  -0.33143970370292664,\n",
              "  0.5693999095396562,\n",
              "  0.21192071437835694,\n",
              "  -0.0009107887744903564],\n",
              " ['Dahlia Park Condominium',\n",
              "  0.6637124949031405,\n",
              "  0.9990492463111877,\n",
              "  0.5113551504909992,\n",
              "  -0.30900639295578003,\n",
              "  0],\n",
              " ['Nassim Regency',\n",
              "  0.5471188908531552,\n",
              "  0.33317063252131146,\n",
              "  0.5906767229239146,\n",
              "  -0.9633444249629974,\n",
              "  0],\n",
              " ['Symphony Suites',\n",
              "  0.7389591017434763,\n",
              "  -0.861224889755249,\n",
              "  0.4728182346321816,\n",
              "  0.6348202716220509,\n",
              "  0.9996846914291382],\n",
              " ['The Vision',\n",
              "  0.8588874595505851,\n",
              "  0,\n",
              "  0.038040330012639366,\n",
              "  0.017942115664482117,\n",
              "  0],\n",
              " ['Robin Residences',\n",
              "  0.3200421432654063,\n",
              "  -0.9987215399742126,\n",
              "  0.2277169589485441,\n",
              "  -0.30904102325439453,\n",
              "  0.0005461275577545166],\n",
              " ['Emerald Garden',\n",
              "  0.9992643594741821,\n",
              "  0,\n",
              "  0.2753588333725929,\n",
              "  -0.9633444249629974,\n",
              "  0],\n",
              " ['Simei Green Condominium',\n",
              "  0.9978167840412685,\n",
              "  0,\n",
              "  0.2922069051048972,\n",
              "  -0.309601624806722,\n",
              "  0],\n",
              " ['Hilltops',\n",
              "  0.8912988752126694,\n",
              "  0.9996684491634369,\n",
              "  0.613180022239685,\n",
              "  0.018161579966545105,\n",
              "  0],\n",
              " ['eCO',\n",
              "  0.7069200726202977,\n",
              "  0.530933877355174,\n",
              "  0.33171689102792334,\n",
              "  0.3999125626352098,\n",
              "  0.25075231607143694],\n",
              " ['Paterson Residence',\n",
              "  0.9996801614761353,\n",
              "  0.9996719360351562,\n",
              "  0.6405535971417147,\n",
              "  -0.30900539954503375,\n",
              "  0.9996860027313232],\n",
              " ['Caribbean At Keppel Bay',\n",
              "  0.9958638747533163,\n",
              "  0.9996459484100342,\n",
              "  0.1430768519639969,\n",
              "  0.01697768270969391,\n",
              "  -0.10358640551567078],\n",
              " ['The Terrace',\n",
              "  0.900395436419381,\n",
              "  0.8291446566581726,\n",
              "  0.40061230384386504,\n",
              "  -0.9633444249629974,\n",
              "  0],\n",
              " ['Queens Peak',\n",
              "  0.6696845625722131,\n",
              "  0.1999250286155277,\n",
              "  0.3801267600059509,\n",
              "  0.3319891757435269,\n",
              "  0.9843584820628166],\n",
              " ['Casafina',\n",
              "  0.9703954798834664,\n",
              "  0.9996795654296875,\n",
              "  0.4955460652709007,\n",
              "  -0.30988041559855145,\n",
              "  0],\n",
              " ['The Seafront On Meyer',\n",
              "  0.8578111263031655,\n",
              "  -0.1049724987574986,\n",
              "  0.18479746828476587,\n",
              "  0.6070671260356904,\n",
              "  0.00018168489138285318],\n",
              " ['Kovan Melody',\n",
              "  0.6000771045684814,\n",
              "  0,\n",
              "  0.17219103234154837,\n",
              "  -0.9633444249629974,\n",
              "  0],\n",
              " ['Dover Parkview',\n",
              "  0.8543657819430034,\n",
              "  0.21450725197792053,\n",
              "  0.7582952365642641,\n",
              "  0.5435860982308021,\n",
              "  0.4512021115847996],\n",
              " ['Richmond Park',\n",
              "  0.9653667330741882,\n",
              "  0,\n",
              "  0.2753588333725929,\n",
              "  -0.9633444249629974,\n",
              "  0],\n",
              " ['Pine Grove',\n",
              "  0.47109329217189067,\n",
              "  0,\n",
              "  0.4407094073295593,\n",
              "  0.2138222336769104,\n",
              "  0.9996852576732635],\n",
              " ['Kovan Regency',\n",
              "  0.9980170428752899,\n",
              "  0,\n",
              "  0.25058895349502563,\n",
              "  -0.9633444249629974,\n",
              "  0],\n",
              " ['The Tessarina',\n",
              "  0.5551797681384616,\n",
              "  0.9996659159660339,\n",
              "  0.28615214503728426,\n",
              "  0.018167689442634583,\n",
              "  0.9996781349182129],\n",
              " ['Orchard Scotts',\n",
              "  0.9986454182200961,\n",
              "  -0.9983211755752563,\n",
              "  0.19692917346954344,\n",
              "  0.0973154143853621,\n",
              "  -0.9981220364570618],\n",
              " ['Marina Bay Suites',\n",
              "  0.6538970569769541,\n",
              "  0.3330491781234741,\n",
              "  0.8077066721338214,\n",
              "  0.43656231675829205,\n",
              "  0],\n",
              " ['Thomson View Condominium',\n",
              "  0.6761406389149752,\n",
              "  0.6884048581123352,\n",
              "  0.594233684539795,\n",
              "  0.27453609875270296,\n",
              "  0.3165638248125712],\n",
              " ['Fifteen Robin',\n",
              "  0.9980170428752899,\n",
              "  0.9979557991027832,\n",
              "  0.29090220819820056,\n",
              "  -0.9633444249629974,\n",
              "  0],\n",
              " ['TRE Residences',\n",
              "  0.7140889586063853,\n",
              "  0.5507520682671491,\n",
              "  0.4089085819820563,\n",
              "  -0.05034534136454264,\n",
              "  0.06917046958749945],\n",
              " ['CityVista Residences',\n",
              "  0.7769036906607011,\n",
              "  0.8288571075959639,\n",
              "  0.5221491779970087,\n",
              "  0.3748000050202394,\n",
              "  0.33300405740737915],\n",
              " ['Tanjong Ria Condominium',\n",
              "  0.7443784194834092,\n",
              "  0.4325792223215103,\n",
              "  0.45995796137842637,\n",
              "  0.5634421838654412,\n",
              "  0.6537487268447876],\n",
              " ['The Meyerise',\n",
              "  0.7478175474838777,\n",
              "  0.9996852874755859,\n",
              "  0.7094047963619232,\n",
              "  0.15299069029944284,\n",
              "  0.25866682082414627],\n",
              " ['Thomson Euro-asia',\n",
              "  0.6033294916152954,\n",
              "  0.5010017156600952,\n",
              "  0.4995326101779938,\n",
              "  0.017465025186538696,\n",
              "  0],\n",
              " ['The Quartz',\n",
              "  0.6638867775599162,\n",
              "  0.9991796612739563,\n",
              "  0.40409305493036907,\n",
              "  0.1467942340033395,\n",
              "  0.003559112548828125],\n",
              " ['Yong An Park',\n",
              "  0.5140440938649354,\n",
              "  0.498479496549677,\n",
              "  0.5432438769123771,\n",
              "  0.48356231848398845,\n",
              "  -0.33913817670610213],\n",
              " ['Nathan Suites',\n",
              "  0,\n",
              "  0.9980061650276184,\n",
              "  0.5544685787624783,\n",
              "  0.018169865012168884,\n",
              "  0],\n",
              " ['The Suites At Central',\n",
              "  0.999017093862806,\n",
              "  0,\n",
              "  0.22145897150039673,\n",
              "  -0.9633444249629974,\n",
              "  0],\n",
              " ['Cityscape @ Farrer Park',\n",
              "  0.6110611081123352,\n",
              "  0.9996792078018188,\n",
              "  0.38504335513481724,\n",
              "  -0.18563045263290406,\n",
              "  -0.9968145489692688],\n",
              " ['A Treasure Trove',\n",
              "  0.8791627079248429,\n",
              "  -0.9967536330223083,\n",
              "  0.5827382364693809,\n",
              "  0.8931862130397703,\n",
              "  0.9615774552027384],\n",
              " ['Ballota Park Condominium',\n",
              "  0.7234120087491142,\n",
              "  0,\n",
              "  0.6283678639502752,\n",
              "  0.24950019270181656,\n",
              "  0.7119706954274859],\n",
              " ['Marina Bay Residences',\n",
              "  0.99828622341156,\n",
              "  -0.995413601398468,\n",
              "  0.2753588333725929,\n",
              "  -0.9633444249629974,\n",
              "  0],\n",
              " ['Hillview Regency',\n",
              "  0.9989504558699471,\n",
              "  0,\n",
              "  0.22145897150039673,\n",
              "  -0.9633444249629974,\n",
              "  0],\n",
              " ['Queens',\n",
              "  0.7438519954681396,\n",
              "  -0.9519579112529755,\n",
              "  0.013271475831667582,\n",
              "  0.01816655695438385,\n",
              "  0],\n",
              " ['Laguna 88',\n",
              "  0.47250617936600087,\n",
              "  0.9996451437473297,\n",
              "  0.43544879670326525,\n",
              "  0.022099226713180542,\n",
              "  -0.3234612676832411],\n",
              " ['The Marq On Paterson Hill',\n",
              "  0.42671277693339754,\n",
              "  0.9893410205841064,\n",
              "  0.3466270208358765,\n",
              "  -0.30900639295578003,\n",
              "  0.9950480163097382],\n",
              " ['Riversound Residence',\n",
              "  0.796763933130673,\n",
              "  0.6356849778782238,\n",
              "  0.33203595379988354,\n",
              "  0.34103402826521134,\n",
              "  0.19960098266601561],\n",
              " ['Dunearn Road',\n",
              "  0.29209184274077415,\n",
              "  0.4322187049048288,\n",
              "  0.22008249163627625,\n",
              "  0.1679051568110784,\n",
              "  0.9032735228538513],\n",
              " ['Parc Centros',\n",
              "  0.3466123474108708,\n",
              "  0,\n",
              "  0.7296450912952424,\n",
              "  0.26707037538290024,\n",
              "  0],\n",
              " ['Ardmore Residence',\n",
              "  0.23620246465389544,\n",
              "  -0.4365268627802531,\n",
              "  0.1243115309625864,\n",
              "  0.2614104151725769,\n",
              "  -0.4161458828232505],\n",
              " [\"Cote D'Azur\",\n",
              "  0.9980170428752899,\n",
              "  0,\n",
              "  0.1438825981957572,\n",
              "  -0.9633444249629974,\n",
              "  0],\n",
              " ['Parc Oasis',\n",
              "  0.6383892978940692,\n",
              "  0,\n",
              "  0.2961058411104926,\n",
              "  -0.011581063270568848,\n",
              "  0.22782331705093384],\n",
              " ['Amber Gardens',\n",
              "  0.6006445414141605,\n",
              "  0.022220574892484225,\n",
              "  0.3055360183423879,\n",
              "  0.34273708679459314,\n",
              "  0.4345407038927078],\n",
              " ['The Inflora',\n",
              "  0.9054993361234664,\n",
              "  -0.9987215399742126,\n",
              "  0.47059492932425606,\n",
              "  0.000947222113609314,\n",
              "  0.9996858239173889],\n",
              " ['Faber Crest',\n",
              "  0.8621469656626384,\n",
              "  0.49776454269886017,\n",
              "  0.6622299336372538,\n",
              "  0.34532250960667926,\n",
              "  0.9996858239173889],\n",
              " ['Hume Park I',\n",
              "  0.3216920892397563,\n",
              "  0.9996845722198486,\n",
              "  0.5568533837795258,\n",
              "  0.11330980724758571,\n",
              "  0.1668001413345337],\n",
              " ['Castle Green',\n",
              "  0.8393866036619458,\n",
              "  0,\n",
              "  0.6209053939039056,\n",
              "  0.01812504231929779,\n",
              "  0],\n",
              " ['Sol Acres',\n",
              "  0.9919200837612152,\n",
              "  0.9951896667480469,\n",
              "  0.5430734356244405,\n",
              "  -0.9633444249629974,\n",
              "  0.9996854066848755],\n",
              " ['Tanglin Hill Condominium',\n",
              "  0.8826559174805879,\n",
              "  0.6817295092802781,\n",
              "  0.723152401692727,\n",
              "  0.7329136967658997,\n",
              "  0.5973762631416321],\n",
              " ['Clydesview',\n",
              "  0.5104914456605911,\n",
              "  0.9988183677196503,\n",
              "  0.2928722956601311,\n",
              "  -0.5630220532417297,\n",
              "  0],\n",
              " ['Martin Place Residences',\n",
              "  0.9995049333572388,\n",
              "  0,\n",
              "  0.5737577941682603,\n",
              "  0.31333474318186444,\n",
              "  0.9996858835220337],\n",
              " ['8 @ Mount Sophia',\n",
              "  0.6152394241180973,\n",
              "  0.694385839998722,\n",
              "  0.3985456183552742,\n",
              "  0.19988077878952026,\n",
              "  0.9985604782899221],\n",
              " ['Grange Residences',\n",
              "  0.5216641606024977,\n",
              "  0.547220636421526,\n",
              "  0.421280301567437,\n",
              "  0.34445469909244114,\n",
              "  0.4133932976161732],\n",
              " ['Residences @ Evelyn',\n",
              "  0.8846235513687134,\n",
              "  0.5060447752475739,\n",
              "  0.5998710910479228,\n",
              "  0.016390115022659302,\n",
              "  0],\n",
              " ['The Gardens At Bishan',\n",
              "  0.5733426101505756,\n",
              "  -0.276321449063041,\n",
              "  0.4794780787299661,\n",
              "  0.2663224276743437,\n",
              "  -0.08277083105511135],\n",
              " ['Cliveden At Grange',\n",
              "  0.7993463039398193,\n",
              "  0.9996758302052816,\n",
              "  0.46738906304041544,\n",
              "  -0.30900639295578003,\n",
              "  0],\n",
              " ['Reflections At Keppel Bay',\n",
              "  0.610406219959259,\n",
              "  0.1768820881843567,\n",
              "  0.5785688757896423,\n",
              "  -0.48327478766441345,\n",
              "  0.9996849298477173],\n",
              " ['Southaven II',\n",
              "  0.5806404841797692,\n",
              "  0.9520811140537262,\n",
              "  0.4069649962817921,\n",
              "  -0.13659489154815674,\n",
              "  0.9996873140335083],\n",
              " ['Waterfront Key',\n",
              "  0.7615069229647798,\n",
              "  0.5959078431129455,\n",
              "  0.42584415728395636,\n",
              "  0.012804935375849405,\n",
              "  0.9578627943992615],\n",
              " ['Springdale Condominium',\n",
              "  0.5816972893728337,\n",
              "  0.5990316450595856,\n",
              "  0.5019669562578202,\n",
              "  0.551610509554545,\n",
              "  0.6801825421197074],\n",
              " ['The Gale',\n",
              "  0.5958335359891256,\n",
              "  0.9949523657560349,\n",
              "  0.16278704216605738,\n",
              "  0.017507106065750122,\n",
              "  0],\n",
              " ['Waterview',\n",
              "  0.9980170428752899,\n",
              "  0,\n",
              "  0.25058895349502563,\n",
              "  -0.9633444249629974,\n",
              "  0],\n",
              " ['Palm Isles',\n",
              "  0.5954426050186157,\n",
              "  0.4262808561325073,\n",
              "  0.47116212257698403,\n",
              "  0.2579426094889641,\n",
              "  0.9429061710834503],\n",
              " ['Woodgrove Condominium',\n",
              "  0.3951367537180583,\n",
              "  0,\n",
              "  0.3338219854566786,\n",
              "  -0.3098226586977641,\n",
              "  0],\n",
              " ['Corals At Keppel Bay',\n",
              "  0.6014022946357727,\n",
              "  0,\n",
              "  0.2658701252054285,\n",
              "  0.01816059648990631,\n",
              "  0.9921453595161438],\n",
              " ['The Wharf Residence',\n",
              "  0.998071293036143,\n",
              "  0,\n",
              "  0.4993029832839966,\n",
              "  -0.9633444249629974,\n",
              "  0],\n",
              " ['Hillcrest Arcadia',\n",
              "  0.729817237172808,\n",
              "  -0.8378852605819702,\n",
              "  0.2733561396598816,\n",
              "  -0.5851247072219848,\n",
              "  -0.9996532201766968],\n",
              " ['Eastpoint Green',\n",
              "  0.7614393770694733,\n",
              "  0,\n",
              "  0.400407600402832,\n",
              "  -0.39036358892917633,\n",
              "  0],\n",
              " ['Avila Gardens',\n",
              "  0.7761149009068807,\n",
              "  0.9996589422225952,\n",
              "  0.34160441160202026,\n",
              "  -0.48214633762836456,\n",
              "  0.3365885416666667],\n",
              " ['Goldenhill Park Condominium',\n",
              "  0.9899882872899374,\n",
              "  0,\n",
              "  0.4993029832839966,\n",
              "  -0.13659191131591797,\n",
              "  0.9996852874755859]]"
            ]
          },
          "execution_count": 10,
          "metadata": {},
          "output_type": "execute_result"
        }
      ],
      "source": [
        "lstResult = []\n",
        "for x in range (len(score)):\n",
        "  temp = []\n",
        "  temp.append(lst[x])\n",
        "  if (score[x] == [0]):\n",
        "    temp.extend([0, 0, 0, 0, 0])\n",
        "  else:\n",
        "    temp.extend(score[x])\n",
        "  lstResult.append(temp)\n",
        "lstResult"
      ]
    },
    {
      "cell_type": "code",
      "execution_count": 11,
      "metadata": {
        "id": "nZ6Q4od2iB35"
      },
      "outputs": [],
      "source": [
        "review = pd.DataFrame(lstResult)\n",
        "review.columns = ['Condominium Name', 'Location', 'Facilities', 'Financial Value', 'Service and Management', 'Environment']\n",
        "review.to_csv(\"review_condo_333.csv\") # get csv to download"
      ]
    },
    {
      "attachments": {},
      "cell_type": "markdown",
      "metadata": {},
      "source": [
        "# Rating EDA"
      ]
    },
    {
      "cell_type": "code",
      "execution_count": 9,
      "metadata": {},
      "outputs": [],
      "source": [
        "import pandas as pd\n",
        "import seaborn as sns\n",
        "import matplotlib.pyplot as plt\n",
        "review_final = pd.read_csv(\"Data/Reviews/review_final.csv\", index_col=0)"
      ]
    },
    {
      "cell_type": "code",
      "execution_count": 5,
      "metadata": {},
      "outputs": [
        {
          "data": {
            "text/plain": [
              "Index(['Condominium Name', 'Location', 'Facilities', 'Financial Value',\n",
              "       'Service and Management', 'Environment'],\n",
              "      dtype='object')"
            ]
          },
          "execution_count": 5,
          "metadata": {},
          "output_type": "execute_result"
        }
      ],
      "source": [
        "review_final.columns"
      ]
    },
    {
      "cell_type": "code",
      "execution_count": 10,
      "metadata": {},
      "outputs": [
        {
          "data": {
            "text/plain": [
              "<AxesSubplot: >"
            ]
          },
          "execution_count": 10,
          "metadata": {},
          "output_type": "execute_result"
        },
        {
          "data": {
            "image/png": "[encoded data removed]",
            "text/plain": [
              "<Figure size 2000x1000 with 1 Axes>"
            ]
          },
          "metadata": {},
          "output_type": "display_data"
        }
      ],
      "source": [
        "plt.figure(figsize=(20,10))\n",
        "sns.boxplot(review_final[['Location', 'Facilities', 'Financial Value',\n",
        "       'Service and Management', 'Environment']])"
      ]
    }
  ],
  "metadata": {
    "colab": {
      "provenance": []
    },
    "kernelspec": {
      "display_name": "Python 3",
      "name": "python3"
    },
    "language_info": {
      "codemirror_mode": {
        "name": "ipython",
        "version": 3
      },
      "file_extension": ".py",
      "mimetype": "text/x-python",
      "name": "python",
      "nbconvert_exporter": "python",
      "pygments_lexer": "ipython3",
      "version": "3.9.16"
    },
    "widgets": {
      "application/vnd.jupyter.widget-state+json": {
        "012fc913018f4d2c9209870a629758d9": {
          "model_module": "@jupyter-widgets/controls",
          "model_module_version": "1.5.0",
          "model_name": "DescriptionStyleModel",
          "state": {
            "_model_module": "@jupyter-widgets/controls",
            "_model_module_version": "1.5.0",
            "_model_name": "DescriptionStyleModel",
            "_view_count": null,
            "_view_module": "@jupyter-widgets/base",
            "_view_module_version": "1.2.0",
            "_view_name": "StyleView",
            "description_width": ""
          }
        },
        "01fa21c4aa844b688f6b01b9113d2020": {
          "model_module": "@jupyter-widgets/controls",
          "model_module_version": "1.5.0",
          "model_name": "ProgressStyleModel",
          "state": {
            "_model_module": "@jupyter-widgets/controls",
            "_model_module_version": "1.5.0",
            "_model_name": "ProgressStyleModel",
            "_view_count": null,
            "_view_module": "@jupyter-widgets/base",
            "_view_module_version": "1.2.0",
            "_view_name": "StyleView",
            "bar_color": null,
            "description_width": ""
          }
        },
        "05cc6cb5098943aaaf2898b072ab71ad": {
          "model_module": "@jupyter-widgets/base",
          "model_module_version": "1.2.0",
          "model_name": "LayoutModel",
          "state": {
            "_model_module": "@jupyter-widgets/base",
            "_model_module_version": "1.2.0",
            "_model_name": "LayoutModel",
            "_view_count": null,
            "_view_module": "@jupyter-widgets/base",
            "_view_module_version": "1.2.0",
            "_view_name": "LayoutView",
            "align_content": null,
            "align_items": null,
            "align_self": null,
            "border": null,
            "bottom": null,
            "display": null,
            "flex": null,
            "flex_flow": null,
            "grid_area": null,
            "grid_auto_columns": null,
            "grid_auto_flow": null,
            "grid_auto_rows": null,
            "grid_column": null,
            "grid_gap": null,
            "grid_row": null,
            "grid_template_areas": null,
            "grid_template_columns": null,
            "grid_template_rows": null,
            "height": null,
            "justify_content": null,
            "justify_items": null,
            "left": null,
            "margin": null,
            "max_height": null,
            "max_width": null,
            "min_height": null,
            "min_width": null,
            "object_fit": null,
            "object_position": null,
            "order": null,
            "overflow": null,
            "overflow_x": null,
            "overflow_y": null,
            "padding": null,
            "right": null,
            "top": null,
            "visibility": null,
            "width": null
          }
        },
        "0b5bec45f4ce4e829f0425022744e3ea": {
          "model_module": "@jupyter-widgets/controls",
          "model_module_version": "1.5.0",
          "model_name": "HTMLModel",
          "state": {
            "_dom_classes": [],
            "_model_module": "@jupyter-widgets/controls",
            "_model_module_version": "1.5.0",
            "_model_name": "HTMLModel",
            "_view_count": null,
            "_view_module": "@jupyter-widgets/controls",
            "_view_module_version": "1.5.0",
            "_view_name": "HTMLView",
            "description": "",
            "description_tooltip": null,
            "layout": "IPY_MODEL_8edba3e4e0e6463daac9fc5f530f5fa6",
            "placeholder": "​",
            "style": "IPY_MODEL_7e0e088f26994dddab18c2277b816bba",
            "value": "Downloading (…)solve/main/vocab.txt: 100%"
          }
        },
        "105302fa3f004058a35e5a182d984b61": {
          "model_module": "@jupyter-widgets/base",
          "model_module_version": "1.2.0",
          "model_name": "LayoutModel",
          "state": {
            "_model_module": "@jupyter-widgets/base",
            "_model_module_version": "1.2.0",
            "_model_name": "LayoutModel",
            "_view_count": null,
            "_view_module": "@jupyter-widgets/base",
            "_view_module_version": "1.2.0",
            "_view_name": "LayoutView",
            "align_content": null,
            "align_items": null,
            "align_self": null,
            "border": null,
            "bottom": null,
            "display": null,
            "flex": null,
            "flex_flow": null,
            "grid_area": null,
            "grid_auto_columns": null,
            "grid_auto_flow": null,
            "grid_auto_rows": null,
            "grid_column": null,
            "grid_gap": null,
            "grid_row": null,
            "grid_template_areas": null,
            "grid_template_columns": null,
            "grid_template_rows": null,
            "height": null,
            "justify_content": null,
            "justify_items": null,
            "left": null,
            "margin": null,
            "max_height": null,
            "max_width": null,
            "min_height": null,
            "min_width": null,
            "object_fit": null,
            "object_position": null,
            "order": null,
            "overflow": null,
            "overflow_x": null,
            "overflow_y": null,
            "padding": null,
            "right": null,
            "top": null,
            "visibility": null,
            "width": null
          }
        },
        "1210a2d5966d478bb1c084217a20ee1e": {
          "model_module": "@jupyter-widgets/controls",
          "model_module_version": "1.5.0",
          "model_name": "HTMLModel",
          "state": {
            "_dom_classes": [],
            "_model_module": "@jupyter-widgets/controls",
            "_model_module_version": "1.5.0",
            "_model_name": "HTMLModel",
            "_view_count": null,
            "_view_module": "@jupyter-widgets/controls",
            "_view_module_version": "1.5.0",
            "_view_name": "HTMLView",
            "description": "",
            "description_tooltip": null,
            "layout": "IPY_MODEL_277edd0df1d54740aaff96d7edc54561",
            "placeholder": "​",
            "style": "IPY_MODEL_359cd848eaff41738dcc289e0bf968e6",
            "value": "Downloading pytorch_model.bin: 100%"
          }
        },
        "199c4c71066e402e8fb04fbe51d2374b": {
          "model_module": "@jupyter-widgets/controls",
          "model_module_version": "1.5.0",
          "model_name": "HBoxModel",
          "state": {
            "_dom_classes": [],
            "_model_module": "@jupyter-widgets/controls",
            "_model_module_version": "1.5.0",
            "_model_name": "HBoxModel",
            "_view_count": null,
            "_view_module": "@jupyter-widgets/controls",
            "_view_module_version": "1.5.0",
            "_view_name": "HBoxView",
            "box_style": "",
            "children": [
              "IPY_MODEL_0b5bec45f4ce4e829f0425022744e3ea",
              "IPY_MODEL_60abc08cb6ff45f19f0ef20743b142d7",
              "IPY_MODEL_f9ad2cf5c5a24d85b65f3b6e57224635"
            ],
            "layout": "IPY_MODEL_a4e4fa7265bb4fe5b41990e80fa9f48b"
          }
        },
        "1b370927e4e74d72bd28cd45960367d5": {
          "model_module": "@jupyter-widgets/base",
          "model_module_version": "1.2.0",
          "model_name": "LayoutModel",
          "state": {
            "_model_module": "@jupyter-widgets/base",
            "_model_module_version": "1.2.0",
            "_model_name": "LayoutModel",
            "_view_count": null,
            "_view_module": "@jupyter-widgets/base",
            "_view_module_version": "1.2.0",
            "_view_name": "LayoutView",
            "align_content": null,
            "align_items": null,
            "align_self": null,
            "border": null,
            "bottom": null,
            "display": null,
            "flex": null,
            "flex_flow": null,
            "grid_area": null,
            "grid_auto_columns": null,
            "grid_auto_flow": null,
            "grid_auto_rows": null,
            "grid_column": null,
            "grid_gap": null,
            "grid_row": null,
            "grid_template_areas": null,
            "grid_template_columns": null,
            "grid_template_rows": null,
            "height": null,
            "justify_content": null,
            "justify_items": null,
            "left": null,
            "margin": null,
            "max_height": null,
            "max_width": null,
            "min_height": null,
            "min_width": null,
            "object_fit": null,
            "object_position": null,
            "order": null,
            "overflow": null,
            "overflow_x": null,
            "overflow_y": null,
            "padding": null,
            "right": null,
            "top": null,
            "visibility": null,
            "width": null
          }
        },
        "2217d2390cf94c77891b0fd9758bc6ed": {
          "model_module": "@jupyter-widgets/controls",
          "model_module_version": "1.5.0",
          "model_name": "DescriptionStyleModel",
          "state": {
            "_model_module": "@jupyter-widgets/controls",
            "_model_module_version": "1.5.0",
            "_model_name": "DescriptionStyleModel",
            "_view_count": null,
            "_view_module": "@jupyter-widgets/base",
            "_view_module_version": "1.2.0",
            "_view_name": "StyleView",
            "description_width": ""
          }
        },
        "277edd0df1d54740aaff96d7edc54561": {
          "model_module": "@jupyter-widgets/base",
          "model_module_version": "1.2.0",
          "model_name": "LayoutModel",
          "state": {
            "_model_module": "@jupyter-widgets/base",
            "_model_module_version": "1.2.0",
            "_model_name": "LayoutModel",
            "_view_count": null,
            "_view_module": "@jupyter-widgets/base",
            "_view_module_version": "1.2.0",
            "_view_name": "LayoutView",
            "align_content": null,
            "align_items": null,
            "align_self": null,
            "border": null,
            "bottom": null,
            "display": null,
            "flex": null,
            "flex_flow": null,
            "grid_area": null,
            "grid_auto_columns": null,
            "grid_auto_flow": null,
            "grid_auto_rows": null,
            "grid_column": null,
            "grid_gap": null,
            "grid_row": null,
            "grid_template_areas": null,
            "grid_template_columns": null,
            "grid_template_rows": null,
            "height": null,
            "justify_content": null,
            "justify_items": null,
            "left": null,
            "margin": null,
            "max_height": null,
            "max_width": null,
            "min_height": null,
            "min_width": null,
            "object_fit": null,
            "object_position": null,
            "order": null,
            "overflow": null,
            "overflow_x": null,
            "overflow_y": null,
            "padding": null,
            "right": null,
            "top": null,
            "visibility": null,
            "width": null
          }
        },
        "278951a8d1d344829e1123c1ce98511b": {
          "model_module": "@jupyter-widgets/base",
          "model_module_version": "1.2.0",
          "model_name": "LayoutModel",
          "state": {
            "_model_module": "@jupyter-widgets/base",
            "_model_module_version": "1.2.0",
            "_model_name": "LayoutModel",
            "_view_count": null,
            "_view_module": "@jupyter-widgets/base",
            "_view_module_version": "1.2.0",
            "_view_name": "LayoutView",
            "align_content": null,
            "align_items": null,
            "align_self": null,
            "border": null,
            "bottom": null,
            "display": null,
            "flex": null,
            "flex_flow": null,
            "grid_area": null,
            "grid_auto_columns": null,
            "grid_auto_flow": null,
            "grid_auto_rows": null,
            "grid_column": null,
            "grid_gap": null,
            "grid_row": null,
            "grid_template_areas": null,
            "grid_template_columns": null,
            "grid_template_rows": null,
            "height": null,
            "justify_content": null,
            "justify_items": null,
            "left": null,
            "margin": null,
            "max_height": null,
            "max_width": null,
            "min_height": null,
            "min_width": null,
            "object_fit": null,
            "object_position": null,
            "order": null,
            "overflow": null,
            "overflow_x": null,
            "overflow_y": null,
            "padding": null,
            "right": null,
            "top": null,
            "visibility": null,
            "width": null
          }
        },
        "2ae15bc2cc9b4d148e743fbae2dde2d1": {
          "model_module": "@jupyter-widgets/base",
          "model_module_version": "1.2.0",
          "model_name": "LayoutModel",
          "state": {
            "_model_module": "@jupyter-widgets/base",
            "_model_module_version": "1.2.0",
            "_model_name": "LayoutModel",
            "_view_count": null,
            "_view_module": "@jupyter-widgets/base",
            "_view_module_version": "1.2.0",
            "_view_name": "LayoutView",
            "align_content": null,
            "align_items": null,
            "align_self": null,
            "border": null,
            "bottom": null,
            "display": null,
            "flex": null,
            "flex_flow": null,
            "grid_area": null,
            "grid_auto_columns": null,
            "grid_auto_flow": null,
            "grid_auto_rows": null,
            "grid_column": null,
            "grid_gap": null,
            "grid_row": null,
            "grid_template_areas": null,
            "grid_template_columns": null,
            "grid_template_rows": null,
            "height": null,
            "justify_content": null,
            "justify_items": null,
            "left": null,
            "margin": null,
            "max_height": null,
            "max_width": null,
            "min_height": null,
            "min_width": null,
            "object_fit": null,
            "object_position": null,
            "order": null,
            "overflow": null,
            "overflow_x": null,
            "overflow_y": null,
            "padding": null,
            "right": null,
            "top": null,
            "visibility": null,
            "width": null
          }
        },
        "2c5335be2dc14a138d83e44708b67dad": {
          "model_module": "@jupyter-widgets/controls",
          "model_module_version": "1.5.0",
          "model_name": "HTMLModel",
          "state": {
            "_dom_classes": [],
            "_model_module": "@jupyter-widgets/controls",
            "_model_module_version": "1.5.0",
            "_model_name": "HTMLModel",
            "_view_count": null,
            "_view_module": "@jupyter-widgets/controls",
            "_view_module_version": "1.5.0",
            "_view_name": "HTMLView",
            "description": "",
            "description_tooltip": null,
            "layout": "IPY_MODEL_73f9510e1ac645a4816168815df0124d",
            "placeholder": "​",
            "style": "IPY_MODEL_012fc913018f4d2c9209870a629758d9",
            "value": " 466k/466k [00:00&lt;00:00, 5.86MB/s]"
          }
        },
        "2e9173d47737488f87906a8d5bd1e378": {
          "model_module": "@jupyter-widgets/controls",
          "model_module_version": "1.5.0",
          "model_name": "ProgressStyleModel",
          "state": {
            "_model_module": "@jupyter-widgets/controls",
            "_model_module_version": "1.5.0",
            "_model_name": "ProgressStyleModel",
            "_view_count": null,
            "_view_module": "@jupyter-widgets/base",
            "_view_module_version": "1.2.0",
            "_view_name": "StyleView",
            "bar_color": null,
            "description_width": ""
          }
        },
        "2eb67faeb34c4ee6b1e378fda1bebbe5": {
          "model_module": "@jupyter-widgets/controls",
          "model_module_version": "1.5.0",
          "model_name": "DescriptionStyleModel",
          "state": {
            "_model_module": "@jupyter-widgets/controls",
            "_model_module_version": "1.5.0",
            "_model_name": "DescriptionStyleModel",
            "_view_count": null,
            "_view_module": "@jupyter-widgets/base",
            "_view_module_version": "1.2.0",
            "_view_name": "StyleView",
            "description_width": ""
          }
        },
        "3569f3cde0194d5c8dcaf2707d64fb15": {
          "model_module": "@jupyter-widgets/base",
          "model_module_version": "1.2.0",
          "model_name": "LayoutModel",
          "state": {
            "_model_module": "@jupyter-widgets/base",
            "_model_module_version": "1.2.0",
            "_model_name": "LayoutModel",
            "_view_count": null,
            "_view_module": "@jupyter-widgets/base",
            "_view_module_version": "1.2.0",
            "_view_name": "LayoutView",
            "align_content": null,
            "align_items": null,
            "align_self": null,
            "border": null,
            "bottom": null,
            "display": null,
            "flex": null,
            "flex_flow": null,
            "grid_area": null,
            "grid_auto_columns": null,
            "grid_auto_flow": null,
            "grid_auto_rows": null,
            "grid_column": null,
            "grid_gap": null,
            "grid_row": null,
            "grid_template_areas": null,
            "grid_template_columns": null,
            "grid_template_rows": null,
            "height": null,
            "justify_content": null,
            "justify_items": null,
            "left": null,
            "margin": null,
            "max_height": null,
            "max_width": null,
            "min_height": null,
            "min_width": null,
            "object_fit": null,
            "object_position": null,
            "order": null,
            "overflow": null,
            "overflow_x": null,
            "overflow_y": null,
            "padding": null,
            "right": null,
            "top": null,
            "visibility": null,
            "width": null
          }
        },
        "359cd848eaff41738dcc289e0bf968e6": {
          "model_module": "@jupyter-widgets/controls",
          "model_module_version": "1.5.0",
          "model_name": "DescriptionStyleModel",
          "state": {
            "_model_module": "@jupyter-widgets/controls",
            "_model_module_version": "1.5.0",
            "_model_name": "DescriptionStyleModel",
            "_view_count": null,
            "_view_module": "@jupyter-widgets/base",
            "_view_module_version": "1.2.0",
            "_view_name": "StyleView",
            "description_width": ""
          }
        },
        "3e19d1941bcd4ec5b518b2ae9a563aa2": {
          "model_module": "@jupyter-widgets/controls",
          "model_module_version": "1.5.0",
          "model_name": "HTMLModel",
          "state": {
            "_dom_classes": [],
            "_model_module": "@jupyter-widgets/controls",
            "_model_module_version": "1.5.0",
            "_model_name": "HTMLModel",
            "_view_count": null,
            "_view_module": "@jupyter-widgets/controls",
            "_view_module_version": "1.5.0",
            "_view_name": "HTMLView",
            "description": "",
            "description_tooltip": null,
            "layout": "IPY_MODEL_5d886d11369f42948dc9740541af1630",
            "placeholder": "​",
            "style": "IPY_MODEL_88e7b087bd0f4536ae990e5f5faad7d0",
            "value": "Downloading (…)okenizer_config.json: 100%"
          }
        },
        "3e55c6bd293343aba233a0d4e7202c33": {
          "model_module": "@jupyter-widgets/controls",
          "model_module_version": "1.5.0",
          "model_name": "FloatProgressModel",
          "state": {
            "_dom_classes": [],
            "_model_module": "@jupyter-widgets/controls",
            "_model_module_version": "1.5.0",
            "_model_name": "FloatProgressModel",
            "_view_count": null,
            "_view_module": "@jupyter-widgets/controls",
            "_view_module_version": "1.5.0",
            "_view_name": "ProgressView",
            "bar_style": "success",
            "description": "",
            "description_tooltip": null,
            "layout": "IPY_MODEL_9a545f802f894a29b28e66665af6b21f",
            "max": 466062,
            "min": 0,
            "orientation": "horizontal",
            "style": "IPY_MODEL_6dc5c7a5cb4945bb857bcf5a47e0fa1d",
            "value": 466062
          }
        },
        "3e7773694b8345e0b603e42d0cae8fa1": {
          "model_module": "@jupyter-widgets/controls",
          "model_module_version": "1.5.0",
          "model_name": "FloatProgressModel",
          "state": {
            "_dom_classes": [],
            "_model_module": "@jupyter-widgets/controls",
            "_model_module_version": "1.5.0",
            "_model_name": "FloatProgressModel",
            "_view_count": null,
            "_view_module": "@jupyter-widgets/controls",
            "_view_module_version": "1.5.0",
            "_view_name": "ProgressView",
            "bar_style": "success",
            "description": "",
            "description_tooltip": null,
            "layout": "IPY_MODEL_3569f3cde0194d5c8dcaf2707d64fb15",
            "max": 28,
            "min": 0,
            "orientation": "horizontal",
            "style": "IPY_MODEL_b01923d3ac0e4eb0bac5f9d654bff326",
            "value": 28
          }
        },
        "4de38b5f50f6475ca001af2cebd1b914": {
          "model_module": "@jupyter-widgets/base",
          "model_module_version": "1.2.0",
          "model_name": "LayoutModel",
          "state": {
            "_model_module": "@jupyter-widgets/base",
            "_model_module_version": "1.2.0",
            "_model_name": "LayoutModel",
            "_view_count": null,
            "_view_module": "@jupyter-widgets/base",
            "_view_module_version": "1.2.0",
            "_view_name": "LayoutView",
            "align_content": null,
            "align_items": null,
            "align_self": null,
            "border": null,
            "bottom": null,
            "display": null,
            "flex": null,
            "flex_flow": null,
            "grid_area": null,
            "grid_auto_columns": null,
            "grid_auto_flow": null,
            "grid_auto_rows": null,
            "grid_column": null,
            "grid_gap": null,
            "grid_row": null,
            "grid_template_areas": null,
            "grid_template_columns": null,
            "grid_template_rows": null,
            "height": null,
            "justify_content": null,
            "justify_items": null,
            "left": null,
            "margin": null,
            "max_height": null,
            "max_width": null,
            "min_height": null,
            "min_width": null,
            "object_fit": null,
            "object_position": null,
            "order": null,
            "overflow": null,
            "overflow_x": null,
            "overflow_y": null,
            "padding": null,
            "right": null,
            "top": null,
            "visibility": null,
            "width": null
          }
        },
        "52bd19db086d48f9b9ae4071bb3e5c74": {
          "model_module": "@jupyter-widgets/controls",
          "model_module_version": "1.5.0",
          "model_name": "ProgressStyleModel",
          "state": {
            "_model_module": "@jupyter-widgets/controls",
            "_model_module_version": "1.5.0",
            "_model_name": "ProgressStyleModel",
            "_view_count": null,
            "_view_module": "@jupyter-widgets/base",
            "_view_module_version": "1.2.0",
            "_view_name": "StyleView",
            "bar_color": null,
            "description_width": ""
          }
        },
        "52d3abb30c5b4fa3943ead9dc7643a3e": {
          "model_module": "@jupyter-widgets/controls",
          "model_module_version": "1.5.0",
          "model_name": "HBoxModel",
          "state": {
            "_dom_classes": [],
            "_model_module": "@jupyter-widgets/controls",
            "_model_module_version": "1.5.0",
            "_model_name": "HBoxModel",
            "_view_count": null,
            "_view_module": "@jupyter-widgets/controls",
            "_view_module_version": "1.5.0",
            "_view_name": "HBoxView",
            "box_style": "",
            "children": [
              "IPY_MODEL_edcd156362e14628915641e51e5a2045",
              "IPY_MODEL_d257a3a5ea5b4506aa65b5f9a9efb701",
              "IPY_MODEL_796c194dd76346448be7944217f53b3a"
            ],
            "layout": "IPY_MODEL_c21fb0bfecd34750abfe394ab89fba8d"
          }
        },
        "5740347b2f7b478bbd9b0377593c9a5d": {
          "model_module": "@jupyter-widgets/base",
          "model_module_version": "1.2.0",
          "model_name": "LayoutModel",
          "state": {
            "_model_module": "@jupyter-widgets/base",
            "_model_module_version": "1.2.0",
            "_model_name": "LayoutModel",
            "_view_count": null,
            "_view_module": "@jupyter-widgets/base",
            "_view_module_version": "1.2.0",
            "_view_name": "LayoutView",
            "align_content": null,
            "align_items": null,
            "align_self": null,
            "border": null,
            "bottom": null,
            "display": null,
            "flex": null,
            "flex_flow": null,
            "grid_area": null,
            "grid_auto_columns": null,
            "grid_auto_flow": null,
            "grid_auto_rows": null,
            "grid_column": null,
            "grid_gap": null,
            "grid_row": null,
            "grid_template_areas": null,
            "grid_template_columns": null,
            "grid_template_rows": null,
            "height": null,
            "justify_content": null,
            "justify_items": null,
            "left": null,
            "margin": null,
            "max_height": null,
            "max_width": null,
            "min_height": null,
            "min_width": null,
            "object_fit": null,
            "object_position": null,
            "order": null,
            "overflow": null,
            "overflow_x": null,
            "overflow_y": null,
            "padding": null,
            "right": null,
            "top": null,
            "visibility": null,
            "width": null
          }
        },
        "599dd7a682c5413090d47ea03bbd068c": {
          "model_module": "@jupyter-widgets/base",
          "model_module_version": "1.2.0",
          "model_name": "LayoutModel",
          "state": {
            "_model_module": "@jupyter-widgets/base",
            "_model_module_version": "1.2.0",
            "_model_name": "LayoutModel",
            "_view_count": null,
            "_view_module": "@jupyter-widgets/base",
            "_view_module_version": "1.2.0",
            "_view_name": "LayoutView",
            "align_content": null,
            "align_items": null,
            "align_self": null,
            "border": null,
            "bottom": null,
            "display": null,
            "flex": null,
            "flex_flow": null,
            "grid_area": null,
            "grid_auto_columns": null,
            "grid_auto_flow": null,
            "grid_auto_rows": null,
            "grid_column": null,
            "grid_gap": null,
            "grid_row": null,
            "grid_template_areas": null,
            "grid_template_columns": null,
            "grid_template_rows": null,
            "height": null,
            "justify_content": null,
            "justify_items": null,
            "left": null,
            "margin": null,
            "max_height": null,
            "max_width": null,
            "min_height": null,
            "min_width": null,
            "object_fit": null,
            "object_position": null,
            "order": null,
            "overflow": null,
            "overflow_x": null,
            "overflow_y": null,
            "padding": null,
            "right": null,
            "top": null,
            "visibility": null,
            "width": null
          }
        },
        "5d886d11369f42948dc9740541af1630": {
          "model_module": "@jupyter-widgets/base",
          "model_module_version": "1.2.0",
          "model_name": "LayoutModel",
          "state": {
            "_model_module": "@jupyter-widgets/base",
            "_model_module_version": "1.2.0",
            "_model_name": "LayoutModel",
            "_view_count": null,
            "_view_module": "@jupyter-widgets/base",
            "_view_module_version": "1.2.0",
            "_view_name": "LayoutView",
            "align_content": null,
            "align_items": null,
            "align_self": null,
            "border": null,
            "bottom": null,
            "display": null,
            "flex": null,
            "flex_flow": null,
            "grid_area": null,
            "grid_auto_columns": null,
            "grid_auto_flow": null,
            "grid_auto_rows": null,
            "grid_column": null,
            "grid_gap": null,
            "grid_row": null,
            "grid_template_areas": null,
            "grid_template_columns": null,
            "grid_template_rows": null,
            "height": null,
            "justify_content": null,
            "justify_items": null,
            "left": null,
            "margin": null,
            "max_height": null,
            "max_width": null,
            "min_height": null,
            "min_width": null,
            "object_fit": null,
            "object_position": null,
            "order": null,
            "overflow": null,
            "overflow_x": null,
            "overflow_y": null,
            "padding": null,
            "right": null,
            "top": null,
            "visibility": null,
            "width": null
          }
        },
        "60abc08cb6ff45f19f0ef20743b142d7": {
          "model_module": "@jupyter-widgets/controls",
          "model_module_version": "1.5.0",
          "model_name": "FloatProgressModel",
          "state": {
            "_dom_classes": [],
            "_model_module": "@jupyter-widgets/controls",
            "_model_module_version": "1.5.0",
            "_model_name": "FloatProgressModel",
            "_view_count": null,
            "_view_module": "@jupyter-widgets/controls",
            "_view_module_version": "1.5.0",
            "_view_name": "ProgressView",
            "bar_style": "success",
            "description": "",
            "description_tooltip": null,
            "layout": "IPY_MODEL_5740347b2f7b478bbd9b0377593c9a5d",
            "max": 231508,
            "min": 0,
            "orientation": "horizontal",
            "style": "IPY_MODEL_01fa21c4aa844b688f6b01b9113d2020",
            "value": 231508
          }
        },
        "6281b3d1c7234510a025578006d42f38": {
          "model_module": "@jupyter-widgets/controls",
          "model_module_version": "1.5.0",
          "model_name": "ProgressStyleModel",
          "state": {
            "_model_module": "@jupyter-widgets/controls",
            "_model_module_version": "1.5.0",
            "_model_name": "ProgressStyleModel",
            "_view_count": null,
            "_view_module": "@jupyter-widgets/base",
            "_view_module_version": "1.2.0",
            "_view_name": "StyleView",
            "bar_color": null,
            "description_width": ""
          }
        },
        "6612ead3a926431b87131d76c709c528": {
          "model_module": "@jupyter-widgets/controls",
          "model_module_version": "1.5.0",
          "model_name": "FloatProgressModel",
          "state": {
            "_dom_classes": [],
            "_model_module": "@jupyter-widgets/controls",
            "_model_module_version": "1.5.0",
            "_model_name": "FloatProgressModel",
            "_view_count": null,
            "_view_module": "@jupyter-widgets/controls",
            "_view_module_version": "1.5.0",
            "_view_name": "ProgressView",
            "bar_style": "success",
            "description": "",
            "description_tooltip": null,
            "layout": "IPY_MODEL_ab43e40503c847399ca493c15c315b72",
            "max": 790,
            "min": 0,
            "orientation": "horizontal",
            "style": "IPY_MODEL_52bd19db086d48f9b9ae4071bb3e5c74",
            "value": 790
          }
        },
        "670bfaae4902416ca5a069c8d0494590": {
          "model_module": "@jupyter-widgets/base",
          "model_module_version": "1.2.0",
          "model_name": "LayoutModel",
          "state": {
            "_model_module": "@jupyter-widgets/base",
            "_model_module_version": "1.2.0",
            "_model_name": "LayoutModel",
            "_view_count": null,
            "_view_module": "@jupyter-widgets/base",
            "_view_module_version": "1.2.0",
            "_view_name": "LayoutView",
            "align_content": null,
            "align_items": null,
            "align_self": null,
            "border": null,
            "bottom": null,
            "display": null,
            "flex": null,
            "flex_flow": null,
            "grid_area": null,
            "grid_auto_columns": null,
            "grid_auto_flow": null,
            "grid_auto_rows": null,
            "grid_column": null,
            "grid_gap": null,
            "grid_row": null,
            "grid_template_areas": null,
            "grid_template_columns": null,
            "grid_template_rows": null,
            "height": null,
            "justify_content": null,
            "justify_items": null,
            "left": null,
            "margin": null,
            "max_height": null,
            "max_width": null,
            "min_height": null,
            "min_width": null,
            "object_fit": null,
            "object_position": null,
            "order": null,
            "overflow": null,
            "overflow_x": null,
            "overflow_y": null,
            "padding": null,
            "right": null,
            "top": null,
            "visibility": null,
            "width": null
          }
        },
        "6dc5c7a5cb4945bb857bcf5a47e0fa1d": {
          "model_module": "@jupyter-widgets/controls",
          "model_module_version": "1.5.0",
          "model_name": "ProgressStyleModel",
          "state": {
            "_model_module": "@jupyter-widgets/controls",
            "_model_module_version": "1.5.0",
            "_model_name": "ProgressStyleModel",
            "_view_count": null,
            "_view_module": "@jupyter-widgets/base",
            "_view_module_version": "1.2.0",
            "_view_name": "StyleView",
            "bar_color": null,
            "description_width": ""
          }
        },
        "70e87283ad79436287c0e51cd7347168": {
          "model_module": "@jupyter-widgets/base",
          "model_module_version": "1.2.0",
          "model_name": "LayoutModel",
          "state": {
            "_model_module": "@jupyter-widgets/base",
            "_model_module_version": "1.2.0",
            "_model_name": "LayoutModel",
            "_view_count": null,
            "_view_module": "@jupyter-widgets/base",
            "_view_module_version": "1.2.0",
            "_view_name": "LayoutView",
            "align_content": null,
            "align_items": null,
            "align_self": null,
            "border": null,
            "bottom": null,
            "display": null,
            "flex": null,
            "flex_flow": null,
            "grid_area": null,
            "grid_auto_columns": null,
            "grid_auto_flow": null,
            "grid_auto_rows": null,
            "grid_column": null,
            "grid_gap": null,
            "grid_row": null,
            "grid_template_areas": null,
            "grid_template_columns": null,
            "grid_template_rows": null,
            "height": null,
            "justify_content": null,
            "justify_items": null,
            "left": null,
            "margin": null,
            "max_height": null,
            "max_width": null,
            "min_height": null,
            "min_width": null,
            "object_fit": null,
            "object_position": null,
            "order": null,
            "overflow": null,
            "overflow_x": null,
            "overflow_y": null,
            "padding": null,
            "right": null,
            "top": null,
            "visibility": null,
            "width": null
          }
        },
        "723c68b915ac4d679eb550159302bb70": {
          "model_module": "@jupyter-widgets/base",
          "model_module_version": "1.2.0",
          "model_name": "LayoutModel",
          "state": {
            "_model_module": "@jupyter-widgets/base",
            "_model_module_version": "1.2.0",
            "_model_name": "LayoutModel",
            "_view_count": null,
            "_view_module": "@jupyter-widgets/base",
            "_view_module_version": "1.2.0",
            "_view_name": "LayoutView",
            "align_content": null,
            "align_items": null,
            "align_self": null,
            "border": null,
            "bottom": null,
            "display": null,
            "flex": null,
            "flex_flow": null,
            "grid_area": null,
            "grid_auto_columns": null,
            "grid_auto_flow": null,
            "grid_auto_rows": null,
            "grid_column": null,
            "grid_gap": null,
            "grid_row": null,
            "grid_template_areas": null,
            "grid_template_columns": null,
            "grid_template_rows": null,
            "height": null,
            "justify_content": null,
            "justify_items": null,
            "left": null,
            "margin": null,
            "max_height": null,
            "max_width": null,
            "min_height": null,
            "min_width": null,
            "object_fit": null,
            "object_position": null,
            "order": null,
            "overflow": null,
            "overflow_x": null,
            "overflow_y": null,
            "padding": null,
            "right": null,
            "top": null,
            "visibility": null,
            "width": null
          }
        },
        "73f9510e1ac645a4816168815df0124d": {
          "model_module": "@jupyter-widgets/base",
          "model_module_version": "1.2.0",
          "model_name": "LayoutModel",
          "state": {
            "_model_module": "@jupyter-widgets/base",
            "_model_module_version": "1.2.0",
            "_model_name": "LayoutModel",
            "_view_count": null,
            "_view_module": "@jupyter-widgets/base",
            "_view_module_version": "1.2.0",
            "_view_name": "LayoutView",
            "align_content": null,
            "align_items": null,
            "align_self": null,
            "border": null,
            "bottom": null,
            "display": null,
            "flex": null,
            "flex_flow": null,
            "grid_area": null,
            "grid_auto_columns": null,
            "grid_auto_flow": null,
            "grid_auto_rows": null,
            "grid_column": null,
            "grid_gap": null,
            "grid_row": null,
            "grid_template_areas": null,
            "grid_template_columns": null,
            "grid_template_rows": null,
            "height": null,
            "justify_content": null,
            "justify_items": null,
            "left": null,
            "margin": null,
            "max_height": null,
            "max_width": null,
            "min_height": null,
            "min_width": null,
            "object_fit": null,
            "object_position": null,
            "order": null,
            "overflow": null,
            "overflow_x": null,
            "overflow_y": null,
            "padding": null,
            "right": null,
            "top": null,
            "visibility": null,
            "width": null
          }
        },
        "796c194dd76346448be7944217f53b3a": {
          "model_module": "@jupyter-widgets/controls",
          "model_module_version": "1.5.0",
          "model_name": "HTMLModel",
          "state": {
            "_dom_classes": [],
            "_model_module": "@jupyter-widgets/controls",
            "_model_module_version": "1.5.0",
            "_model_name": "HTMLModel",
            "_view_count": null,
            "_view_module": "@jupyter-widgets/controls",
            "_view_module_version": "1.5.0",
            "_view_name": "HTMLView",
            "description": "",
            "description_tooltip": null,
            "layout": "IPY_MODEL_b1043b31300a45fea20d0da1cc974ac7",
            "placeholder": "​",
            "style": "IPY_MODEL_c9a6f37d19e84fe087314987ccc73afb",
            "value": " 570/570 [00:00&lt;00:00, 7.94kB/s]"
          }
        },
        "7c3d884e320b457bb098b326980499c7": {
          "model_module": "@jupyter-widgets/controls",
          "model_module_version": "1.5.0",
          "model_name": "HTMLModel",
          "state": {
            "_dom_classes": [],
            "_model_module": "@jupyter-widgets/controls",
            "_model_module_version": "1.5.0",
            "_model_name": "HTMLModel",
            "_view_count": null,
            "_view_module": "@jupyter-widgets/controls",
            "_view_module_version": "1.5.0",
            "_view_name": "HTMLView",
            "description": "",
            "description_tooltip": null,
            "layout": "IPY_MODEL_1b370927e4e74d72bd28cd45960367d5",
            "placeholder": "​",
            "style": "IPY_MODEL_96b0d7faf6054802ac34fa13c1b0c247",
            "value": " 28.0/28.0 [00:00&lt;00:00, 594B/s]"
          }
        },
        "7e0e088f26994dddab18c2277b816bba": {
          "model_module": "@jupyter-widgets/controls",
          "model_module_version": "1.5.0",
          "model_name": "DescriptionStyleModel",
          "state": {
            "_model_module": "@jupyter-widgets/controls",
            "_model_module_version": "1.5.0",
            "_model_name": "DescriptionStyleModel",
            "_view_count": null,
            "_view_module": "@jupyter-widgets/base",
            "_view_module_version": "1.2.0",
            "_view_name": "StyleView",
            "description_width": ""
          }
        },
        "8216a0d8f16f42e0aa8eef227e9c9b18": {
          "model_module": "@jupyter-widgets/controls",
          "model_module_version": "1.5.0",
          "model_name": "HBoxModel",
          "state": {
            "_dom_classes": [],
            "_model_module": "@jupyter-widgets/controls",
            "_model_module_version": "1.5.0",
            "_model_name": "HBoxModel",
            "_view_count": null,
            "_view_module": "@jupyter-widgets/controls",
            "_view_module_version": "1.5.0",
            "_view_name": "HBoxView",
            "box_style": "",
            "children": [
              "IPY_MODEL_1210a2d5966d478bb1c084217a20ee1e",
              "IPY_MODEL_96be08db28ba48b29a20f07dbfc785c8",
              "IPY_MODEL_9b59966acee541959d9fb23657a75e40"
            ],
            "layout": "IPY_MODEL_4de38b5f50f6475ca001af2cebd1b914"
          }
        },
        "86c24165251b400483123ba73ee28dff": {
          "model_module": "@jupyter-widgets/controls",
          "model_module_version": "1.5.0",
          "model_name": "DescriptionStyleModel",
          "state": {
            "_model_module": "@jupyter-widgets/controls",
            "_model_module_version": "1.5.0",
            "_model_name": "DescriptionStyleModel",
            "_view_count": null,
            "_view_module": "@jupyter-widgets/base",
            "_view_module_version": "1.2.0",
            "_view_name": "StyleView",
            "description_width": ""
          }
        },
        "88e7b087bd0f4536ae990e5f5faad7d0": {
          "model_module": "@jupyter-widgets/controls",
          "model_module_version": "1.5.0",
          "model_name": "DescriptionStyleModel",
          "state": {
            "_model_module": "@jupyter-widgets/controls",
            "_model_module_version": "1.5.0",
            "_model_name": "DescriptionStyleModel",
            "_view_count": null,
            "_view_module": "@jupyter-widgets/base",
            "_view_module_version": "1.2.0",
            "_view_name": "StyleView",
            "description_width": ""
          }
        },
        "8a1d8947a85544b59c3563bd01877c24": {
          "model_module": "@jupyter-widgets/controls",
          "model_module_version": "1.5.0",
          "model_name": "DescriptionStyleModel",
          "state": {
            "_model_module": "@jupyter-widgets/controls",
            "_model_module_version": "1.5.0",
            "_model_name": "DescriptionStyleModel",
            "_view_count": null,
            "_view_module": "@jupyter-widgets/base",
            "_view_module_version": "1.2.0",
            "_view_name": "StyleView",
            "description_width": ""
          }
        },
        "8edba3e4e0e6463daac9fc5f530f5fa6": {
          "model_module": "@jupyter-widgets/base",
          "model_module_version": "1.2.0",
          "model_name": "LayoutModel",
          "state": {
            "_model_module": "@jupyter-widgets/base",
            "_model_module_version": "1.2.0",
            "_model_name": "LayoutModel",
            "_view_count": null,
            "_view_module": "@jupyter-widgets/base",
            "_view_module_version": "1.2.0",
            "_view_name": "LayoutView",
            "align_content": null,
            "align_items": null,
            "align_self": null,
            "border": null,
            "bottom": null,
            "display": null,
            "flex": null,
            "flex_flow": null,
            "grid_area": null,
            "grid_auto_columns": null,
            "grid_auto_flow": null,
            "grid_auto_rows": null,
            "grid_column": null,
            "grid_gap": null,
            "grid_row": null,
            "grid_template_areas": null,
            "grid_template_columns": null,
            "grid_template_rows": null,
            "height": null,
            "justify_content": null,
            "justify_items": null,
            "left": null,
            "margin": null,
            "max_height": null,
            "max_width": null,
            "min_height": null,
            "min_width": null,
            "object_fit": null,
            "object_position": null,
            "order": null,
            "overflow": null,
            "overflow_x": null,
            "overflow_y": null,
            "padding": null,
            "right": null,
            "top": null,
            "visibility": null,
            "width": null
          }
        },
        "96b0d7faf6054802ac34fa13c1b0c247": {
          "model_module": "@jupyter-widgets/controls",
          "model_module_version": "1.5.0",
          "model_name": "DescriptionStyleModel",
          "state": {
            "_model_module": "@jupyter-widgets/controls",
            "_model_module_version": "1.5.0",
            "_model_name": "DescriptionStyleModel",
            "_view_count": null,
            "_view_module": "@jupyter-widgets/base",
            "_view_module_version": "1.2.0",
            "_view_name": "StyleView",
            "description_width": ""
          }
        },
        "96be08db28ba48b29a20f07dbfc785c8": {
          "model_module": "@jupyter-widgets/controls",
          "model_module_version": "1.5.0",
          "model_name": "FloatProgressModel",
          "state": {
            "_dom_classes": [],
            "_model_module": "@jupyter-widgets/controls",
            "_model_module_version": "1.5.0",
            "_model_name": "FloatProgressModel",
            "_view_count": null,
            "_view_module": "@jupyter-widgets/controls",
            "_view_module_version": "1.5.0",
            "_view_name": "ProgressView",
            "bar_style": "success",
            "description": "",
            "description_tooltip": null,
            "layout": "IPY_MODEL_599dd7a682c5413090d47ea03bbd068c",
            "max": 438006125,
            "min": 0,
            "orientation": "horizontal",
            "style": "IPY_MODEL_2e9173d47737488f87906a8d5bd1e378",
            "value": 438006125
          }
        },
        "9a545f802f894a29b28e66665af6b21f": {
          "model_module": "@jupyter-widgets/base",
          "model_module_version": "1.2.0",
          "model_name": "LayoutModel",
          "state": {
            "_model_module": "@jupyter-widgets/base",
            "_model_module_version": "1.2.0",
            "_model_name": "LayoutModel",
            "_view_count": null,
            "_view_module": "@jupyter-widgets/base",
            "_view_module_version": "1.2.0",
            "_view_name": "LayoutView",
            "align_content": null,
            "align_items": null,
            "align_self": null,
            "border": null,
            "bottom": null,
            "display": null,
            "flex": null,
            "flex_flow": null,
            "grid_area": null,
            "grid_auto_columns": null,
            "grid_auto_flow": null,
            "grid_auto_rows": null,
            "grid_column": null,
            "grid_gap": null,
            "grid_row": null,
            "grid_template_areas": null,
            "grid_template_columns": null,
            "grid_template_rows": null,
            "height": null,
            "justify_content": null,
            "justify_items": null,
            "left": null,
            "margin": null,
            "max_height": null,
            "max_width": null,
            "min_height": null,
            "min_width": null,
            "object_fit": null,
            "object_position": null,
            "order": null,
            "overflow": null,
            "overflow_x": null,
            "overflow_y": null,
            "padding": null,
            "right": null,
            "top": null,
            "visibility": null,
            "width": null
          }
        },
        "9b59966acee541959d9fb23657a75e40": {
          "model_module": "@jupyter-widgets/controls",
          "model_module_version": "1.5.0",
          "model_name": "HTMLModel",
          "state": {
            "_dom_classes": [],
            "_model_module": "@jupyter-widgets/controls",
            "_model_module_version": "1.5.0",
            "_model_name": "HTMLModel",
            "_view_count": null,
            "_view_module": "@jupyter-widgets/controls",
            "_view_module_version": "1.5.0",
            "_view_name": "HTMLView",
            "description": "",
            "description_tooltip": null,
            "layout": "IPY_MODEL_e379f065bb9b49938d8b680f54a1877a",
            "placeholder": "​",
            "style": "IPY_MODEL_c4f68594a82b45edb1655681a0f13e6f",
            "value": " 438M/438M [00:20&lt;00:00, 23.2MB/s]"
          }
        },
        "a0de3a22ca6b46f6be415e5b3b0bd060": {
          "model_module": "@jupyter-widgets/controls",
          "model_module_version": "1.5.0",
          "model_name": "HTMLModel",
          "state": {
            "_dom_classes": [],
            "_model_module": "@jupyter-widgets/controls",
            "_model_module_version": "1.5.0",
            "_model_name": "HTMLModel",
            "_view_count": null,
            "_view_module": "@jupyter-widgets/controls",
            "_view_module_version": "1.5.0",
            "_view_name": "HTMLView",
            "description": "",
            "description_tooltip": null,
            "layout": "IPY_MODEL_278951a8d1d344829e1123c1ce98511b",
            "placeholder": "​",
            "style": "IPY_MODEL_2eb67faeb34c4ee6b1e378fda1bebbe5",
            "value": " 790/790 [00:00&lt;00:00, 11.6kB/s]"
          }
        },
        "a28f84953e61493aa2e4f3985b192aa7": {
          "model_module": "@jupyter-widgets/base",
          "model_module_version": "1.2.0",
          "model_name": "LayoutModel",
          "state": {
            "_model_module": "@jupyter-widgets/base",
            "_model_module_version": "1.2.0",
            "_model_name": "LayoutModel",
            "_view_count": null,
            "_view_module": "@jupyter-widgets/base",
            "_view_module_version": "1.2.0",
            "_view_name": "LayoutView",
            "align_content": null,
            "align_items": null,
            "align_self": null,
            "border": null,
            "bottom": null,
            "display": null,
            "flex": null,
            "flex_flow": null,
            "grid_area": null,
            "grid_auto_columns": null,
            "grid_auto_flow": null,
            "grid_auto_rows": null,
            "grid_column": null,
            "grid_gap": null,
            "grid_row": null,
            "grid_template_areas": null,
            "grid_template_columns": null,
            "grid_template_rows": null,
            "height": null,
            "justify_content": null,
            "justify_items": null,
            "left": null,
            "margin": null,
            "max_height": null,
            "max_width": null,
            "min_height": null,
            "min_width": null,
            "object_fit": null,
            "object_position": null,
            "order": null,
            "overflow": null,
            "overflow_x": null,
            "overflow_y": null,
            "padding": null,
            "right": null,
            "top": null,
            "visibility": null,
            "width": null
          }
        },
        "a4e4fa7265bb4fe5b41990e80fa9f48b": {
          "model_module": "@jupyter-widgets/base",
          "model_module_version": "1.2.0",
          "model_name": "LayoutModel",
          "state": {
            "_model_module": "@jupyter-widgets/base",
            "_model_module_version": "1.2.0",
            "_model_name": "LayoutModel",
            "_view_count": null,
            "_view_module": "@jupyter-widgets/base",
            "_view_module_version": "1.2.0",
            "_view_name": "LayoutView",
            "align_content": null,
            "align_items": null,
            "align_self": null,
            "border": null,
            "bottom": null,
            "display": null,
            "flex": null,
            "flex_flow": null,
            "grid_area": null,
            "grid_auto_columns": null,
            "grid_auto_flow": null,
            "grid_auto_rows": null,
            "grid_column": null,
            "grid_gap": null,
            "grid_row": null,
            "grid_template_areas": null,
            "grid_template_columns": null,
            "grid_template_rows": null,
            "height": null,
            "justify_content": null,
            "justify_items": null,
            "left": null,
            "margin": null,
            "max_height": null,
            "max_width": null,
            "min_height": null,
            "min_width": null,
            "object_fit": null,
            "object_position": null,
            "order": null,
            "overflow": null,
            "overflow_x": null,
            "overflow_y": null,
            "padding": null,
            "right": null,
            "top": null,
            "visibility": null,
            "width": null
          }
        },
        "ab43e40503c847399ca493c15c315b72": {
          "model_module": "@jupyter-widgets/base",
          "model_module_version": "1.2.0",
          "model_name": "LayoutModel",
          "state": {
            "_model_module": "@jupyter-widgets/base",
            "_model_module_version": "1.2.0",
            "_model_name": "LayoutModel",
            "_view_count": null,
            "_view_module": "@jupyter-widgets/base",
            "_view_module_version": "1.2.0",
            "_view_name": "LayoutView",
            "align_content": null,
            "align_items": null,
            "align_self": null,
            "border": null,
            "bottom": null,
            "display": null,
            "flex": null,
            "flex_flow": null,
            "grid_area": null,
            "grid_auto_columns": null,
            "grid_auto_flow": null,
            "grid_auto_rows": null,
            "grid_column": null,
            "grid_gap": null,
            "grid_row": null,
            "grid_template_areas": null,
            "grid_template_columns": null,
            "grid_template_rows": null,
            "height": null,
            "justify_content": null,
            "justify_items": null,
            "left": null,
            "margin": null,
            "max_height": null,
            "max_width": null,
            "min_height": null,
            "min_width": null,
            "object_fit": null,
            "object_position": null,
            "order": null,
            "overflow": null,
            "overflow_x": null,
            "overflow_y": null,
            "padding": null,
            "right": null,
            "top": null,
            "visibility": null,
            "width": null
          }
        },
        "af0cfe25e6d74fb4b811ea207e326a72": {
          "model_module": "@jupyter-widgets/controls",
          "model_module_version": "1.5.0",
          "model_name": "HTMLModel",
          "state": {
            "_dom_classes": [],
            "_model_module": "@jupyter-widgets/controls",
            "_model_module_version": "1.5.0",
            "_model_name": "HTMLModel",
            "_view_count": null,
            "_view_module": "@jupyter-widgets/controls",
            "_view_module_version": "1.5.0",
            "_view_name": "HTMLView",
            "description": "",
            "description_tooltip": null,
            "layout": "IPY_MODEL_05cc6cb5098943aaaf2898b072ab71ad",
            "placeholder": "​",
            "style": "IPY_MODEL_86c24165251b400483123ba73ee28dff",
            "value": "Downloading (…)/main/tokenizer.json: 100%"
          }
        },
        "b01923d3ac0e4eb0bac5f9d654bff326": {
          "model_module": "@jupyter-widgets/controls",
          "model_module_version": "1.5.0",
          "model_name": "ProgressStyleModel",
          "state": {
            "_model_module": "@jupyter-widgets/controls",
            "_model_module_version": "1.5.0",
            "_model_name": "ProgressStyleModel",
            "_view_count": null,
            "_view_module": "@jupyter-widgets/base",
            "_view_module_version": "1.2.0",
            "_view_name": "StyleView",
            "bar_color": null,
            "description_width": ""
          }
        },
        "b1043b31300a45fea20d0da1cc974ac7": {
          "model_module": "@jupyter-widgets/base",
          "model_module_version": "1.2.0",
          "model_name": "LayoutModel",
          "state": {
            "_model_module": "@jupyter-widgets/base",
            "_model_module_version": "1.2.0",
            "_model_name": "LayoutModel",
            "_view_count": null,
            "_view_module": "@jupyter-widgets/base",
            "_view_module_version": "1.2.0",
            "_view_name": "LayoutView",
            "align_content": null,
            "align_items": null,
            "align_self": null,
            "border": null,
            "bottom": null,
            "display": null,
            "flex": null,
            "flex_flow": null,
            "grid_area": null,
            "grid_auto_columns": null,
            "grid_auto_flow": null,
            "grid_auto_rows": null,
            "grid_column": null,
            "grid_gap": null,
            "grid_row": null,
            "grid_template_areas": null,
            "grid_template_columns": null,
            "grid_template_rows": null,
            "height": null,
            "justify_content": null,
            "justify_items": null,
            "left": null,
            "margin": null,
            "max_height": null,
            "max_width": null,
            "min_height": null,
            "min_width": null,
            "object_fit": null,
            "object_position": null,
            "order": null,
            "overflow": null,
            "overflow_x": null,
            "overflow_y": null,
            "padding": null,
            "right": null,
            "top": null,
            "visibility": null,
            "width": null
          }
        },
        "c21fb0bfecd34750abfe394ab89fba8d": {
          "model_module": "@jupyter-widgets/base",
          "model_module_version": "1.2.0",
          "model_name": "LayoutModel",
          "state": {
            "_model_module": "@jupyter-widgets/base",
            "_model_module_version": "1.2.0",
            "_model_name": "LayoutModel",
            "_view_count": null,
            "_view_module": "@jupyter-widgets/base",
            "_view_module_version": "1.2.0",
            "_view_name": "LayoutView",
            "align_content": null,
            "align_items": null,
            "align_self": null,
            "border": null,
            "bottom": null,
            "display": null,
            "flex": null,
            "flex_flow": null,
            "grid_area": null,
            "grid_auto_columns": null,
            "grid_auto_flow": null,
            "grid_auto_rows": null,
            "grid_column": null,
            "grid_gap": null,
            "grid_row": null,
            "grid_template_areas": null,
            "grid_template_columns": null,
            "grid_template_rows": null,
            "height": null,
            "justify_content": null,
            "justify_items": null,
            "left": null,
            "margin": null,
            "max_height": null,
            "max_width": null,
            "min_height": null,
            "min_width": null,
            "object_fit": null,
            "object_position": null,
            "order": null,
            "overflow": null,
            "overflow_x": null,
            "overflow_y": null,
            "padding": null,
            "right": null,
            "top": null,
            "visibility": null,
            "width": null
          }
        },
        "c4f68594a82b45edb1655681a0f13e6f": {
          "model_module": "@jupyter-widgets/controls",
          "model_module_version": "1.5.0",
          "model_name": "DescriptionStyleModel",
          "state": {
            "_model_module": "@jupyter-widgets/controls",
            "_model_module_version": "1.5.0",
            "_model_name": "DescriptionStyleModel",
            "_view_count": null,
            "_view_module": "@jupyter-widgets/base",
            "_view_module_version": "1.2.0",
            "_view_name": "StyleView",
            "description_width": ""
          }
        },
        "c9a6f37d19e84fe087314987ccc73afb": {
          "model_module": "@jupyter-widgets/controls",
          "model_module_version": "1.5.0",
          "model_name": "DescriptionStyleModel",
          "state": {
            "_model_module": "@jupyter-widgets/controls",
            "_model_module_version": "1.5.0",
            "_model_name": "DescriptionStyleModel",
            "_view_count": null,
            "_view_module": "@jupyter-widgets/base",
            "_view_module_version": "1.2.0",
            "_view_name": "StyleView",
            "description_width": ""
          }
        },
        "cb97a1c49cd544b6b024d078d602c891": {
          "model_module": "@jupyter-widgets/controls",
          "model_module_version": "1.5.0",
          "model_name": "DescriptionStyleModel",
          "state": {
            "_model_module": "@jupyter-widgets/controls",
            "_model_module_version": "1.5.0",
            "_model_name": "DescriptionStyleModel",
            "_view_count": null,
            "_view_module": "@jupyter-widgets/base",
            "_view_module_version": "1.2.0",
            "_view_name": "StyleView",
            "description_width": ""
          }
        },
        "d257a3a5ea5b4506aa65b5f9a9efb701": {
          "model_module": "@jupyter-widgets/controls",
          "model_module_version": "1.5.0",
          "model_name": "FloatProgressModel",
          "state": {
            "_dom_classes": [],
            "_model_module": "@jupyter-widgets/controls",
            "_model_module_version": "1.5.0",
            "_model_name": "FloatProgressModel",
            "_view_count": null,
            "_view_module": "@jupyter-widgets/controls",
            "_view_module_version": "1.5.0",
            "_view_name": "ProgressView",
            "bar_style": "success",
            "description": "",
            "description_tooltip": null,
            "layout": "IPY_MODEL_a28f84953e61493aa2e4f3985b192aa7",
            "max": 570,
            "min": 0,
            "orientation": "horizontal",
            "style": "IPY_MODEL_6281b3d1c7234510a025578006d42f38",
            "value": 570
          }
        },
        "d3edf87746e44365ab47acbfc4e447b4": {
          "model_module": "@jupyter-widgets/base",
          "model_module_version": "1.2.0",
          "model_name": "LayoutModel",
          "state": {
            "_model_module": "@jupyter-widgets/base",
            "_model_module_version": "1.2.0",
            "_model_name": "LayoutModel",
            "_view_count": null,
            "_view_module": "@jupyter-widgets/base",
            "_view_module_version": "1.2.0",
            "_view_name": "LayoutView",
            "align_content": null,
            "align_items": null,
            "align_self": null,
            "border": null,
            "bottom": null,
            "display": null,
            "flex": null,
            "flex_flow": null,
            "grid_area": null,
            "grid_auto_columns": null,
            "grid_auto_flow": null,
            "grid_auto_rows": null,
            "grid_column": null,
            "grid_gap": null,
            "grid_row": null,
            "grid_template_areas": null,
            "grid_template_columns": null,
            "grid_template_rows": null,
            "height": null,
            "justify_content": null,
            "justify_items": null,
            "left": null,
            "margin": null,
            "max_height": null,
            "max_width": null,
            "min_height": null,
            "min_width": null,
            "object_fit": null,
            "object_position": null,
            "order": null,
            "overflow": null,
            "overflow_x": null,
            "overflow_y": null,
            "padding": null,
            "right": null,
            "top": null,
            "visibility": null,
            "width": null
          }
        },
        "d78a2e3ba9f74ad0813a23684cb20709": {
          "model_module": "@jupyter-widgets/controls",
          "model_module_version": "1.5.0",
          "model_name": "HBoxModel",
          "state": {
            "_dom_classes": [],
            "_model_module": "@jupyter-widgets/controls",
            "_model_module_version": "1.5.0",
            "_model_name": "HBoxModel",
            "_view_count": null,
            "_view_module": "@jupyter-widgets/controls",
            "_view_module_version": "1.5.0",
            "_view_name": "HBoxView",
            "box_style": "",
            "children": [
              "IPY_MODEL_af0cfe25e6d74fb4b811ea207e326a72",
              "IPY_MODEL_3e55c6bd293343aba233a0d4e7202c33",
              "IPY_MODEL_2c5335be2dc14a138d83e44708b67dad"
            ],
            "layout": "IPY_MODEL_723c68b915ac4d679eb550159302bb70"
          }
        },
        "e379f065bb9b49938d8b680f54a1877a": {
          "model_module": "@jupyter-widgets/base",
          "model_module_version": "1.2.0",
          "model_name": "LayoutModel",
          "state": {
            "_model_module": "@jupyter-widgets/base",
            "_model_module_version": "1.2.0",
            "_model_name": "LayoutModel",
            "_view_count": null,
            "_view_module": "@jupyter-widgets/base",
            "_view_module_version": "1.2.0",
            "_view_name": "LayoutView",
            "align_content": null,
            "align_items": null,
            "align_self": null,
            "border": null,
            "bottom": null,
            "display": null,
            "flex": null,
            "flex_flow": null,
            "grid_area": null,
            "grid_auto_columns": null,
            "grid_auto_flow": null,
            "grid_auto_rows": null,
            "grid_column": null,
            "grid_gap": null,
            "grid_row": null,
            "grid_template_areas": null,
            "grid_template_columns": null,
            "grid_template_rows": null,
            "height": null,
            "justify_content": null,
            "justify_items": null,
            "left": null,
            "margin": null,
            "max_height": null,
            "max_width": null,
            "min_height": null,
            "min_width": null,
            "object_fit": null,
            "object_position": null,
            "order": null,
            "overflow": null,
            "overflow_x": null,
            "overflow_y": null,
            "padding": null,
            "right": null,
            "top": null,
            "visibility": null,
            "width": null
          }
        },
        "edcd156362e14628915641e51e5a2045": {
          "model_module": "@jupyter-widgets/controls",
          "model_module_version": "1.5.0",
          "model_name": "HTMLModel",
          "state": {
            "_dom_classes": [],
            "_model_module": "@jupyter-widgets/controls",
            "_model_module_version": "1.5.0",
            "_model_name": "HTMLModel",
            "_view_count": null,
            "_view_module": "@jupyter-widgets/controls",
            "_view_module_version": "1.5.0",
            "_view_name": "HTMLView",
            "description": "",
            "description_tooltip": null,
            "layout": "IPY_MODEL_670bfaae4902416ca5a069c8d0494590",
            "placeholder": "​",
            "style": "IPY_MODEL_8a1d8947a85544b59c3563bd01877c24",
            "value": "Downloading (…)lve/main/config.json: 100%"
          }
        },
        "ef313a5754cc484aaa6a2339904917f6": {
          "model_module": "@jupyter-widgets/controls",
          "model_module_version": "1.5.0",
          "model_name": "HBoxModel",
          "state": {
            "_dom_classes": [],
            "_model_module": "@jupyter-widgets/controls",
            "_model_module_version": "1.5.0",
            "_model_name": "HBoxModel",
            "_view_count": null,
            "_view_module": "@jupyter-widgets/controls",
            "_view_module_version": "1.5.0",
            "_view_name": "HBoxView",
            "box_style": "",
            "children": [
              "IPY_MODEL_3e19d1941bcd4ec5b518b2ae9a563aa2",
              "IPY_MODEL_3e7773694b8345e0b603e42d0cae8fa1",
              "IPY_MODEL_7c3d884e320b457bb098b326980499c7"
            ],
            "layout": "IPY_MODEL_105302fa3f004058a35e5a182d984b61"
          }
        },
        "f9102314b1e9417598a39f3187b404bc": {
          "model_module": "@jupyter-widgets/controls",
          "model_module_version": "1.5.0",
          "model_name": "HTMLModel",
          "state": {
            "_dom_classes": [],
            "_model_module": "@jupyter-widgets/controls",
            "_model_module_version": "1.5.0",
            "_model_name": "HTMLModel",
            "_view_count": null,
            "_view_module": "@jupyter-widgets/controls",
            "_view_module_version": "1.5.0",
            "_view_name": "HTMLView",
            "description": "",
            "description_tooltip": null,
            "layout": "IPY_MODEL_d3edf87746e44365ab47acbfc4e447b4",
            "placeholder": "​",
            "style": "IPY_MODEL_2217d2390cf94c77891b0fd9758bc6ed",
            "value": "Downloading (…)lve/main/config.json: 100%"
          }
        },
        "f9ad2cf5c5a24d85b65f3b6e57224635": {
          "model_module": "@jupyter-widgets/controls",
          "model_module_version": "1.5.0",
          "model_name": "HTMLModel",
          "state": {
            "_dom_classes": [],
            "_model_module": "@jupyter-widgets/controls",
            "_model_module_version": "1.5.0",
            "_model_name": "HTMLModel",
            "_view_count": null,
            "_view_module": "@jupyter-widgets/controls",
            "_view_module_version": "1.5.0",
            "_view_name": "HTMLView",
            "description": "",
            "description_tooltip": null,
            "layout": "IPY_MODEL_70e87283ad79436287c0e51cd7347168",
            "placeholder": "​",
            "style": "IPY_MODEL_cb97a1c49cd544b6b024d078d602c891",
            "value": " 232k/232k [00:00&lt;00:00, 3.79MB/s]"
          }
        },
        "fd77607ff65a473da226431d755efa8b": {
          "model_module": "@jupyter-widgets/controls",
          "model_module_version": "1.5.0",
          "model_name": "HBoxModel",
          "state": {
            "_dom_classes": [],
            "_model_module": "@jupyter-widgets/controls",
            "_model_module_version": "1.5.0",
            "_model_name": "HBoxModel",
            "_view_count": null,
            "_view_module": "@jupyter-widgets/controls",
            "_view_module_version": "1.5.0",
            "_view_name": "HBoxView",
            "box_style": "",
            "children": [
              "IPY_MODEL_f9102314b1e9417598a39f3187b404bc",
              "IPY_MODEL_6612ead3a926431b87131d76c709c528",
              "IPY_MODEL_a0de3a22ca6b46f6be415e5b3b0bd060"
            ],
            "layout": "IPY_MODEL_2ae15bc2cc9b4d148e743fbae2dde2d1"
          }
        }
      }
    }
  },
  "nbformat": 4,
  "nbformat_minor": 0
}
